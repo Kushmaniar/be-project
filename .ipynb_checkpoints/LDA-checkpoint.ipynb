{
 "cells": [
  {
   "cell_type": "markdown",
   "metadata": {
    "id": "su5EdrtOBYav"
   },
   "source": [
    "##Pipeline\n"
   ]
  },
  {
   "cell_type": "code",
   "execution_count": 1,
   "metadata": {
    "colab": {
     "base_uri": "https://localhost:8080/"
    },
    "executionInfo": {
     "elapsed": 638,
     "status": "ok",
     "timestamp": 1689792269389,
     "user": {
      "displayName": "Urmi Dedhia",
      "userId": "04029137391343867476"
     },
     "user_tz": -330
    },
    "id": "TV5oG4aJ_41G",
    "outputId": "0c71da8e-077a-4183-ddcd-62b4650014d3"
   },
   "outputs": [
    {
     "ename": "ModuleNotFoundError",
     "evalue": "No module named 'spacy'",
     "output_type": "error",
     "traceback": [
      "\u001b[1;31m---------------------------------------------------------------------------\u001b[0m",
      "\u001b[1;31mModuleNotFoundError\u001b[0m                       Traceback (most recent call last)",
      "Cell \u001b[1;32mIn[1], line 3\u001b[0m\n\u001b[0;32m      1\u001b[0m \u001b[38;5;28;01mimport\u001b[39;00m \u001b[38;5;21;01mpandas\u001b[39;00m \u001b[38;5;28;01mas\u001b[39;00m \u001b[38;5;21;01mpd\u001b[39;00m\n\u001b[0;32m      2\u001b[0m \u001b[38;5;28;01mimport\u001b[39;00m \u001b[38;5;21;01mnumpy\u001b[39;00m \u001b[38;5;28;01mas\u001b[39;00m \u001b[38;5;21;01mnp\u001b[39;00m\n\u001b[1;32m----> 3\u001b[0m \u001b[38;5;28;01mimport\u001b[39;00m \u001b[38;5;21;01mspacy\u001b[39;00m\n\u001b[0;32m      4\u001b[0m \u001b[38;5;28;01mimport\u001b[39;00m \u001b[38;5;21;01mre\u001b[39;00m\n\u001b[0;32m      5\u001b[0m \u001b[38;5;28;01mfrom\u001b[39;00m \u001b[38;5;21;01mscipy\u001b[39;00m\u001b[38;5;21;01m.\u001b[39;00m\u001b[38;5;21;01mspatial\u001b[39;00m \u001b[38;5;28;01mimport\u001b[39;00m distance\n",
      "\u001b[1;31mModuleNotFoundError\u001b[0m: No module named 'spacy'"
     ]
    }
   ],
   "source": [
    "import pandas as pd\n",
    "import numpy as np\n",
    "import spacy\n",
    "import re\n",
    "from scipy.spatial import distance\n",
    "import math\n",
    "import pickle\n",
    "import string\n",
    "import pandas as pd\n",
    "import numpy as np\n",
    "from nltk.corpus import stopwords\n",
    "from nltk.tokenize import word_tokenize, sent_tokenize\n",
    "import nltk\n",
    "import string\n",
    "nltk.download('punkt')\n",
    "nltk.download('stopwords')\n",
    "from pprint import pprint\n",
    "nltk.download('wordnet')\n",
    "# from readability import Readability\n",
    "#"
   ]
  },
  {
   "cell_type": "code",
   "execution_count": 2,
   "metadata": {
    "colab": {
     "base_uri": "https://localhost:8080/"
    },
    "executionInfo": {
     "elapsed": 85167,
     "status": "ok",
     "timestamp": 1689791400070,
     "user": {
      "displayName": "Urmi Dedhia",
      "userId": "04029137391343867476"
     },
     "user_tz": -330
    },
    "id": "HpaBGvmxmCnV",
    "outputId": "c3343be4-c2f9-4382-95db-814131049d71"
   },
   "outputs": [
    {
     "name": "stdout",
     "output_type": "stream",
     "text": [
      "Collecting readability\n",
      "  Downloading readability-0.3.1.tar.gz (34 kB)\n",
      "  Preparing metadata (setup.py) ... \u001b[?25l\u001b[?25hdone\n",
      "Building wheels for collected packages: readability\n",
      "  Building wheel for readability (setup.py) ... \u001b[?25l\u001b[?25hdone\n",
      "  Created wheel for readability: filename=readability-0.3.1-py3-none-any.whl size=35460 sha256=2c7d64dc58236022f16d6d9a5a5088c533782a4b53dc05fa621bc49d8fc251ec\n",
      "  Stored in directory: /root/.cache/pip/wheels/05/07/4d/2e3a0aaba1713619a403e1a3c56e88a6fc12d753872b98771c\n",
      "Successfully built readability\n",
      "Installing collected packages: readability\n",
      "Successfully installed readability-0.3.1\n",
      "Requirement already satisfied: spacy in /usr/local/lib/python3.10/dist-packages (3.5.4)\n",
      "Requirement already satisfied: spacy-legacy<3.1.0,>=3.0.11 in /usr/local/lib/python3.10/dist-packages (from spacy) (3.0.12)\n",
      "Requirement already satisfied: spacy-loggers<2.0.0,>=1.0.0 in /usr/local/lib/python3.10/dist-packages (from spacy) (1.0.4)\n",
      "Requirement already satisfied: murmurhash<1.1.0,>=0.28.0 in /usr/local/lib/python3.10/dist-packages (from spacy) (1.0.9)\n",
      "Requirement already satisfied: cymem<2.1.0,>=2.0.2 in /usr/local/lib/python3.10/dist-packages (from spacy) (2.0.7)\n",
      "Requirement already satisfied: preshed<3.1.0,>=3.0.2 in /usr/local/lib/python3.10/dist-packages (from spacy) (3.0.8)\n",
      "Requirement already satisfied: thinc<8.2.0,>=8.1.8 in /usr/local/lib/python3.10/dist-packages (from spacy) (8.1.10)\n",
      "Requirement already satisfied: wasabi<1.2.0,>=0.9.1 in /usr/local/lib/python3.10/dist-packages (from spacy) (1.1.2)\n",
      "Requirement already satisfied: srsly<3.0.0,>=2.4.3 in /usr/local/lib/python3.10/dist-packages (from spacy) (2.4.6)\n",
      "Requirement already satisfied: catalogue<2.1.0,>=2.0.6 in /usr/local/lib/python3.10/dist-packages (from spacy) (2.0.8)\n",
      "Requirement already satisfied: typer<0.10.0,>=0.3.0 in /usr/local/lib/python3.10/dist-packages (from spacy) (0.9.0)\n",
      "Requirement already satisfied: pathy>=0.10.0 in /usr/local/lib/python3.10/dist-packages (from spacy) (0.10.2)\n",
      "Requirement already satisfied: smart-open<7.0.0,>=5.2.1 in /usr/local/lib/python3.10/dist-packages (from spacy) (6.3.0)\n",
      "Requirement already satisfied: tqdm<5.0.0,>=4.38.0 in /usr/local/lib/python3.10/dist-packages (from spacy) (4.65.0)\n",
      "Requirement already satisfied: numpy>=1.15.0 in /usr/local/lib/python3.10/dist-packages (from spacy) (1.22.4)\n",
      "Requirement already satisfied: requests<3.0.0,>=2.13.0 in /usr/local/lib/python3.10/dist-packages (from spacy) (2.27.1)\n",
      "Requirement already satisfied: pydantic!=1.8,!=1.8.1,<1.11.0,>=1.7.4 in /usr/local/lib/python3.10/dist-packages (from spacy) (1.10.11)\n",
      "Requirement already satisfied: jinja2 in /usr/local/lib/python3.10/dist-packages (from spacy) (3.1.2)\n",
      "Requirement already satisfied: setuptools in /usr/local/lib/python3.10/dist-packages (from spacy) (67.7.2)\n",
      "Requirement already satisfied: packaging>=20.0 in /usr/local/lib/python3.10/dist-packages (from spacy) (23.1)\n",
      "Requirement already satisfied: langcodes<4.0.0,>=3.2.0 in /usr/local/lib/python3.10/dist-packages (from spacy) (3.3.0)\n",
      "Requirement already satisfied: typing-extensions>=4.2.0 in /usr/local/lib/python3.10/dist-packages (from pydantic!=1.8,!=1.8.1,<1.11.0,>=1.7.4->spacy) (4.7.1)\n",
      "Requirement already satisfied: urllib3<1.27,>=1.21.1 in /usr/local/lib/python3.10/dist-packages (from requests<3.0.0,>=2.13.0->spacy) (1.26.16)\n",
      "Requirement already satisfied: certifi>=2017.4.17 in /usr/local/lib/python3.10/dist-packages (from requests<3.0.0,>=2.13.0->spacy) (2023.5.7)\n",
      "Requirement already satisfied: charset-normalizer~=2.0.0 in /usr/local/lib/python3.10/dist-packages (from requests<3.0.0,>=2.13.0->spacy) (2.0.12)\n",
      "Requirement already satisfied: idna<4,>=2.5 in /usr/local/lib/python3.10/dist-packages (from requests<3.0.0,>=2.13.0->spacy) (3.4)\n",
      "Requirement already satisfied: blis<0.8.0,>=0.7.8 in /usr/local/lib/python3.10/dist-packages (from thinc<8.2.0,>=8.1.8->spacy) (0.7.9)\n",
      "Requirement already satisfied: confection<1.0.0,>=0.0.1 in /usr/local/lib/python3.10/dist-packages (from thinc<8.2.0,>=8.1.8->spacy) (0.1.0)\n",
      "Requirement already satisfied: click<9.0.0,>=7.1.1 in /usr/local/lib/python3.10/dist-packages (from typer<0.10.0,>=0.3.0->spacy) (8.1.4)\n",
      "Requirement already satisfied: MarkupSafe>=2.0 in /usr/local/lib/python3.10/dist-packages (from jinja2->spacy) (2.1.3)\n",
      "2023-07-19 18:28:48.019835: W tensorflow/compiler/tf2tensorrt/utils/py_utils.cc:38] TF-TRT Warning: Could not find TensorRT\n",
      "Collecting en-core-web-md==3.5.0\n",
      "  Downloading https://github.com/explosion/spacy-models/releases/download/en_core_web_md-3.5.0/en_core_web_md-3.5.0-py3-none-any.whl (42.8 MB)\n",
      "\u001b[2K     \u001b[90m━━━━━━━━━━━━━━━━━━━━━━━━━━━━━━━━━━━━━━━━\u001b[0m \u001b[32m42.8/42.8 MB\u001b[0m \u001b[31m16.1 MB/s\u001b[0m eta \u001b[36m0:00:00\u001b[0m\n",
      "\u001b[?25hRequirement already satisfied: spacy<3.6.0,>=3.5.0 in /usr/local/lib/python3.10/dist-packages (from en-core-web-md==3.5.0) (3.5.4)\n",
      "Requirement already satisfied: spacy-legacy<3.1.0,>=3.0.11 in /usr/local/lib/python3.10/dist-packages (from spacy<3.6.0,>=3.5.0->en-core-web-md==3.5.0) (3.0.12)\n",
      "Requirement already satisfied: spacy-loggers<2.0.0,>=1.0.0 in /usr/local/lib/python3.10/dist-packages (from spacy<3.6.0,>=3.5.0->en-core-web-md==3.5.0) (1.0.4)\n",
      "Requirement already satisfied: murmurhash<1.1.0,>=0.28.0 in /usr/local/lib/python3.10/dist-packages (from spacy<3.6.0,>=3.5.0->en-core-web-md==3.5.0) (1.0.9)\n",
      "Requirement already satisfied: cymem<2.1.0,>=2.0.2 in /usr/local/lib/python3.10/dist-packages (from spacy<3.6.0,>=3.5.0->en-core-web-md==3.5.0) (2.0.7)\n",
      "Requirement already satisfied: preshed<3.1.0,>=3.0.2 in /usr/local/lib/python3.10/dist-packages (from spacy<3.6.0,>=3.5.0->en-core-web-md==3.5.0) (3.0.8)\n",
      "Requirement already satisfied: thinc<8.2.0,>=8.1.8 in /usr/local/lib/python3.10/dist-packages (from spacy<3.6.0,>=3.5.0->en-core-web-md==3.5.0) (8.1.10)\n",
      "Requirement already satisfied: wasabi<1.2.0,>=0.9.1 in /usr/local/lib/python3.10/dist-packages (from spacy<3.6.0,>=3.5.0->en-core-web-md==3.5.0) (1.1.2)\n",
      "Requirement already satisfied: srsly<3.0.0,>=2.4.3 in /usr/local/lib/python3.10/dist-packages (from spacy<3.6.0,>=3.5.0->en-core-web-md==3.5.0) (2.4.6)\n",
      "Requirement already satisfied: catalogue<2.1.0,>=2.0.6 in /usr/local/lib/python3.10/dist-packages (from spacy<3.6.0,>=3.5.0->en-core-web-md==3.5.0) (2.0.8)\n",
      "Requirement already satisfied: typer<0.10.0,>=0.3.0 in /usr/local/lib/python3.10/dist-packages (from spacy<3.6.0,>=3.5.0->en-core-web-md==3.5.0) (0.9.0)\n",
      "Requirement already satisfied: pathy>=0.10.0 in /usr/local/lib/python3.10/dist-packages (from spacy<3.6.0,>=3.5.0->en-core-web-md==3.5.0) (0.10.2)\n",
      "Requirement already satisfied: smart-open<7.0.0,>=5.2.1 in /usr/local/lib/python3.10/dist-packages (from spacy<3.6.0,>=3.5.0->en-core-web-md==3.5.0) (6.3.0)\n",
      "Requirement already satisfied: tqdm<5.0.0,>=4.38.0 in /usr/local/lib/python3.10/dist-packages (from spacy<3.6.0,>=3.5.0->en-core-web-md==3.5.0) (4.65.0)\n",
      "Requirement already satisfied: numpy>=1.15.0 in /usr/local/lib/python3.10/dist-packages (from spacy<3.6.0,>=3.5.0->en-core-web-md==3.5.0) (1.22.4)\n",
      "Requirement already satisfied: requests<3.0.0,>=2.13.0 in /usr/local/lib/python3.10/dist-packages (from spacy<3.6.0,>=3.5.0->en-core-web-md==3.5.0) (2.27.1)\n",
      "Requirement already satisfied: pydantic!=1.8,!=1.8.1,<1.11.0,>=1.7.4 in /usr/local/lib/python3.10/dist-packages (from spacy<3.6.0,>=3.5.0->en-core-web-md==3.5.0) (1.10.11)\n",
      "Requirement already satisfied: jinja2 in /usr/local/lib/python3.10/dist-packages (from spacy<3.6.0,>=3.5.0->en-core-web-md==3.5.0) (3.1.2)\n",
      "Requirement already satisfied: setuptools in /usr/local/lib/python3.10/dist-packages (from spacy<3.6.0,>=3.5.0->en-core-web-md==3.5.0) (67.7.2)\n",
      "Requirement already satisfied: packaging>=20.0 in /usr/local/lib/python3.10/dist-packages (from spacy<3.6.0,>=3.5.0->en-core-web-md==3.5.0) (23.1)\n",
      "Requirement already satisfied: langcodes<4.0.0,>=3.2.0 in /usr/local/lib/python3.10/dist-packages (from spacy<3.6.0,>=3.5.0->en-core-web-md==3.5.0) (3.3.0)\n",
      "Requirement already satisfied: typing-extensions>=4.2.0 in /usr/local/lib/python3.10/dist-packages (from pydantic!=1.8,!=1.8.1,<1.11.0,>=1.7.4->spacy<3.6.0,>=3.5.0->en-core-web-md==3.5.0) (4.7.1)\n",
      "Requirement already satisfied: urllib3<1.27,>=1.21.1 in /usr/local/lib/python3.10/dist-packages (from requests<3.0.0,>=2.13.0->spacy<3.6.0,>=3.5.0->en-core-web-md==3.5.0) (1.26.16)\n",
      "Requirement already satisfied: certifi>=2017.4.17 in /usr/local/lib/python3.10/dist-packages (from requests<3.0.0,>=2.13.0->spacy<3.6.0,>=3.5.0->en-core-web-md==3.5.0) (2023.5.7)\n",
      "Requirement already satisfied: charset-normalizer~=2.0.0 in /usr/local/lib/python3.10/dist-packages (from requests<3.0.0,>=2.13.0->spacy<3.6.0,>=3.5.0->en-core-web-md==3.5.0) (2.0.12)\n",
      "Requirement already satisfied: idna<4,>=2.5 in /usr/local/lib/python3.10/dist-packages (from requests<3.0.0,>=2.13.0->spacy<3.6.0,>=3.5.0->en-core-web-md==3.5.0) (3.4)\n",
      "Requirement already satisfied: blis<0.8.0,>=0.7.8 in /usr/local/lib/python3.10/dist-packages (from thinc<8.2.0,>=8.1.8->spacy<3.6.0,>=3.5.0->en-core-web-md==3.5.0) (0.7.9)\n",
      "Requirement already satisfied: confection<1.0.0,>=0.0.1 in /usr/local/lib/python3.10/dist-packages (from thinc<8.2.0,>=8.1.8->spacy<3.6.0,>=3.5.0->en-core-web-md==3.5.0) (0.1.0)\n",
      "Requirement already satisfied: click<9.0.0,>=7.1.1 in /usr/local/lib/python3.10/dist-packages (from typer<0.10.0,>=0.3.0->spacy<3.6.0,>=3.5.0->en-core-web-md==3.5.0) (8.1.4)\n",
      "Requirement already satisfied: MarkupSafe>=2.0 in /usr/local/lib/python3.10/dist-packages (from jinja2->spacy<3.6.0,>=3.5.0->en-core-web-md==3.5.0) (2.1.3)\n",
      "Installing collected packages: en-core-web-md\n",
      "Successfully installed en-core-web-md-3.5.0\n",
      "\u001b[38;5;2m✔ Download and installation successful\u001b[0m\n",
      "You can now load the package via spacy.load('en_core_web_md')\n",
      "2023-07-19 18:29:04.893646: W tensorflow/compiler/tf2tensorrt/utils/py_utils.cc:38] TF-TRT Warning: Could not find TensorRT\n",
      "Collecting nl-core-news-lg==3.5.0\n",
      "  Downloading https://github.com/explosion/spacy-models/releases/download/nl_core_news_lg-3.5.0/nl_core_news_lg-3.5.0-py3-none-any.whl (568.1 MB)\n",
      "\u001b[2K     \u001b[90m━━━━━━━━━━━━━━━━━━━━━━━━━━━━━━━━━━━━━━━\u001b[0m \u001b[32m568.1/568.1 MB\u001b[0m \u001b[31m2.8 MB/s\u001b[0m eta \u001b[36m0:00:00\u001b[0m\n",
      "\u001b[?25hRequirement already satisfied: spacy<3.6.0,>=3.5.0 in /usr/local/lib/python3.10/dist-packages (from nl-core-news-lg==3.5.0) (3.5.4)\n",
      "Requirement already satisfied: spacy-legacy<3.1.0,>=3.0.11 in /usr/local/lib/python3.10/dist-packages (from spacy<3.6.0,>=3.5.0->nl-core-news-lg==3.5.0) (3.0.12)\n",
      "Requirement already satisfied: spacy-loggers<2.0.0,>=1.0.0 in /usr/local/lib/python3.10/dist-packages (from spacy<3.6.0,>=3.5.0->nl-core-news-lg==3.5.0) (1.0.4)\n",
      "Requirement already satisfied: murmurhash<1.1.0,>=0.28.0 in /usr/local/lib/python3.10/dist-packages (from spacy<3.6.0,>=3.5.0->nl-core-news-lg==3.5.0) (1.0.9)\n",
      "Requirement already satisfied: cymem<2.1.0,>=2.0.2 in /usr/local/lib/python3.10/dist-packages (from spacy<3.6.0,>=3.5.0->nl-core-news-lg==3.5.0) (2.0.7)\n",
      "Requirement already satisfied: preshed<3.1.0,>=3.0.2 in /usr/local/lib/python3.10/dist-packages (from spacy<3.6.0,>=3.5.0->nl-core-news-lg==3.5.0) (3.0.8)\n",
      "Requirement already satisfied: thinc<8.2.0,>=8.1.8 in /usr/local/lib/python3.10/dist-packages (from spacy<3.6.0,>=3.5.0->nl-core-news-lg==3.5.0) (8.1.10)\n",
      "Requirement already satisfied: wasabi<1.2.0,>=0.9.1 in /usr/local/lib/python3.10/dist-packages (from spacy<3.6.0,>=3.5.0->nl-core-news-lg==3.5.0) (1.1.2)\n",
      "Requirement already satisfied: srsly<3.0.0,>=2.4.3 in /usr/local/lib/python3.10/dist-packages (from spacy<3.6.0,>=3.5.0->nl-core-news-lg==3.5.0) (2.4.6)\n",
      "Requirement already satisfied: catalogue<2.1.0,>=2.0.6 in /usr/local/lib/python3.10/dist-packages (from spacy<3.6.0,>=3.5.0->nl-core-news-lg==3.5.0) (2.0.8)\n",
      "Requirement already satisfied: typer<0.10.0,>=0.3.0 in /usr/local/lib/python3.10/dist-packages (from spacy<3.6.0,>=3.5.0->nl-core-news-lg==3.5.0) (0.9.0)\n",
      "Requirement already satisfied: pathy>=0.10.0 in /usr/local/lib/python3.10/dist-packages (from spacy<3.6.0,>=3.5.0->nl-core-news-lg==3.5.0) (0.10.2)\n",
      "Requirement already satisfied: smart-open<7.0.0,>=5.2.1 in /usr/local/lib/python3.10/dist-packages (from spacy<3.6.0,>=3.5.0->nl-core-news-lg==3.5.0) (6.3.0)\n",
      "Requirement already satisfied: tqdm<5.0.0,>=4.38.0 in /usr/local/lib/python3.10/dist-packages (from spacy<3.6.0,>=3.5.0->nl-core-news-lg==3.5.0) (4.65.0)\n",
      "Requirement already satisfied: numpy>=1.15.0 in /usr/local/lib/python3.10/dist-packages (from spacy<3.6.0,>=3.5.0->nl-core-news-lg==3.5.0) (1.22.4)\n",
      "Requirement already satisfied: requests<3.0.0,>=2.13.0 in /usr/local/lib/python3.10/dist-packages (from spacy<3.6.0,>=3.5.0->nl-core-news-lg==3.5.0) (2.27.1)\n",
      "Requirement already satisfied: pydantic!=1.8,!=1.8.1,<1.11.0,>=1.7.4 in /usr/local/lib/python3.10/dist-packages (from spacy<3.6.0,>=3.5.0->nl-core-news-lg==3.5.0) (1.10.11)\n",
      "Requirement already satisfied: jinja2 in /usr/local/lib/python3.10/dist-packages (from spacy<3.6.0,>=3.5.0->nl-core-news-lg==3.5.0) (3.1.2)\n",
      "Requirement already satisfied: setuptools in /usr/local/lib/python3.10/dist-packages (from spacy<3.6.0,>=3.5.0->nl-core-news-lg==3.5.0) (67.7.2)\n",
      "Requirement already satisfied: packaging>=20.0 in /usr/local/lib/python3.10/dist-packages (from spacy<3.6.0,>=3.5.0->nl-core-news-lg==3.5.0) (23.1)\n",
      "Requirement already satisfied: langcodes<4.0.0,>=3.2.0 in /usr/local/lib/python3.10/dist-packages (from spacy<3.6.0,>=3.5.0->nl-core-news-lg==3.5.0) (3.3.0)\n",
      "Requirement already satisfied: typing-extensions>=4.2.0 in /usr/local/lib/python3.10/dist-packages (from pydantic!=1.8,!=1.8.1,<1.11.0,>=1.7.4->spacy<3.6.0,>=3.5.0->nl-core-news-lg==3.5.0) (4.7.1)\n",
      "Requirement already satisfied: urllib3<1.27,>=1.21.1 in /usr/local/lib/python3.10/dist-packages (from requests<3.0.0,>=2.13.0->spacy<3.6.0,>=3.5.0->nl-core-news-lg==3.5.0) (1.26.16)\n",
      "Requirement already satisfied: certifi>=2017.4.17 in /usr/local/lib/python3.10/dist-packages (from requests<3.0.0,>=2.13.0->spacy<3.6.0,>=3.5.0->nl-core-news-lg==3.5.0) (2023.5.7)\n",
      "Requirement already satisfied: charset-normalizer~=2.0.0 in /usr/local/lib/python3.10/dist-packages (from requests<3.0.0,>=2.13.0->spacy<3.6.0,>=3.5.0->nl-core-news-lg==3.5.0) (2.0.12)\n",
      "Requirement already satisfied: idna<4,>=2.5 in /usr/local/lib/python3.10/dist-packages (from requests<3.0.0,>=2.13.0->spacy<3.6.0,>=3.5.0->nl-core-news-lg==3.5.0) (3.4)\n",
      "Requirement already satisfied: blis<0.8.0,>=0.7.8 in /usr/local/lib/python3.10/dist-packages (from thinc<8.2.0,>=8.1.8->spacy<3.6.0,>=3.5.0->nl-core-news-lg==3.5.0) (0.7.9)\n",
      "Requirement already satisfied: confection<1.0.0,>=0.0.1 in /usr/local/lib/python3.10/dist-packages (from thinc<8.2.0,>=8.1.8->spacy<3.6.0,>=3.5.0->nl-core-news-lg==3.5.0) (0.1.0)\n",
      "Requirement already satisfied: click<9.0.0,>=7.1.1 in /usr/local/lib/python3.10/dist-packages (from typer<0.10.0,>=0.3.0->spacy<3.6.0,>=3.5.0->nl-core-news-lg==3.5.0) (8.1.4)\n",
      "Requirement already satisfied: MarkupSafe>=2.0 in /usr/local/lib/python3.10/dist-packages (from jinja2->spacy<3.6.0,>=3.5.0->nl-core-news-lg==3.5.0) (2.1.3)\n",
      "Installing collected packages: nl-core-news-lg\n",
      "Successfully installed nl-core-news-lg-3.5.0\n",
      "\u001b[38;5;2m✔ Download and installation successful\u001b[0m\n",
      "You can now load the package via spacy.load('nl_core_news_lg')\n",
      "Collecting spacy-transformers\n",
      "  Downloading spacy_transformers-1.2.5-cp310-cp310-manylinux_2_17_x86_64.manylinux2014_x86_64.whl (190 kB)\n",
      "\u001b[2K     \u001b[90m━━━━━━━━━━━━━━━━━━━━━━━━━━━━━━━━━━━━━━━\u001b[0m \u001b[32m190.8/190.8 kB\u001b[0m \u001b[31m3.7 MB/s\u001b[0m eta \u001b[36m0:00:00\u001b[0m\n",
      "\u001b[?25hRequirement already satisfied: spacy<4.0.0,>=3.5.0 in /usr/local/lib/python3.10/dist-packages (from spacy-transformers) (3.5.4)\n",
      "Requirement already satisfied: numpy>=1.15.0 in /usr/local/lib/python3.10/dist-packages (from spacy-transformers) (1.22.4)\n",
      "Collecting transformers<4.31.0,>=3.4.0 (from spacy-transformers)\n",
      "  Downloading transformers-4.30.2-py3-none-any.whl (7.2 MB)\n",
      "\u001b[2K     \u001b[90m━━━━━━━━━━━━━━━━━━━━━━━━━━━━━━━━━━━━━━━━\u001b[0m \u001b[32m7.2/7.2 MB\u001b[0m \u001b[31m62.5 MB/s\u001b[0m eta \u001b[36m0:00:00\u001b[0m\n",
      "\u001b[?25hRequirement already satisfied: torch>=1.8.0 in /usr/local/lib/python3.10/dist-packages (from spacy-transformers) (2.0.1+cu118)\n",
      "Requirement already satisfied: srsly<3.0.0,>=2.4.0 in /usr/local/lib/python3.10/dist-packages (from spacy-transformers) (2.4.6)\n",
      "Collecting spacy-alignments<1.0.0,>=0.7.2 (from spacy-transformers)\n",
      "  Downloading spacy_alignments-0.9.0-cp310-cp310-manylinux_2_17_x86_64.manylinux2014_x86_64.whl (1.2 MB)\n",
      "\u001b[2K     \u001b[90m━━━━━━━━━━━━━━━━━━━━━━━━━━━━━━━━━━━━━━━━\u001b[0m \u001b[32m1.2/1.2 MB\u001b[0m \u001b[31m46.3 MB/s\u001b[0m eta \u001b[36m0:00:00\u001b[0m\n",
      "\u001b[?25hRequirement already satisfied: spacy-legacy<3.1.0,>=3.0.11 in /usr/local/lib/python3.10/dist-packages (from spacy<4.0.0,>=3.5.0->spacy-transformers) (3.0.12)\n",
      "Requirement already satisfied: spacy-loggers<2.0.0,>=1.0.0 in /usr/local/lib/python3.10/dist-packages (from spacy<4.0.0,>=3.5.0->spacy-transformers) (1.0.4)\n",
      "Requirement already satisfied: murmurhash<1.1.0,>=0.28.0 in /usr/local/lib/python3.10/dist-packages (from spacy<4.0.0,>=3.5.0->spacy-transformers) (1.0.9)\n",
      "Requirement already satisfied: cymem<2.1.0,>=2.0.2 in /usr/local/lib/python3.10/dist-packages (from spacy<4.0.0,>=3.5.0->spacy-transformers) (2.0.7)\n",
      "Requirement already satisfied: preshed<3.1.0,>=3.0.2 in /usr/local/lib/python3.10/dist-packages (from spacy<4.0.0,>=3.5.0->spacy-transformers) (3.0.8)\n",
      "Requirement already satisfied: thinc<8.2.0,>=8.1.8 in /usr/local/lib/python3.10/dist-packages (from spacy<4.0.0,>=3.5.0->spacy-transformers) (8.1.10)\n",
      "Requirement already satisfied: wasabi<1.2.0,>=0.9.1 in /usr/local/lib/python3.10/dist-packages (from spacy<4.0.0,>=3.5.0->spacy-transformers) (1.1.2)\n",
      "Requirement already satisfied: catalogue<2.1.0,>=2.0.6 in /usr/local/lib/python3.10/dist-packages (from spacy<4.0.0,>=3.5.0->spacy-transformers) (2.0.8)\n",
      "Requirement already satisfied: typer<0.10.0,>=0.3.0 in /usr/local/lib/python3.10/dist-packages (from spacy<4.0.0,>=3.5.0->spacy-transformers) (0.9.0)\n",
      "Requirement already satisfied: pathy>=0.10.0 in /usr/local/lib/python3.10/dist-packages (from spacy<4.0.0,>=3.5.0->spacy-transformers) (0.10.2)\n",
      "Requirement already satisfied: smart-open<7.0.0,>=5.2.1 in /usr/local/lib/python3.10/dist-packages (from spacy<4.0.0,>=3.5.0->spacy-transformers) (6.3.0)\n",
      "Requirement already satisfied: tqdm<5.0.0,>=4.38.0 in /usr/local/lib/python3.10/dist-packages (from spacy<4.0.0,>=3.5.0->spacy-transformers) (4.65.0)\n",
      "Requirement already satisfied: requests<3.0.0,>=2.13.0 in /usr/local/lib/python3.10/dist-packages (from spacy<4.0.0,>=3.5.0->spacy-transformers) (2.27.1)\n",
      "Requirement already satisfied: pydantic!=1.8,!=1.8.1,<1.11.0,>=1.7.4 in /usr/local/lib/python3.10/dist-packages (from spacy<4.0.0,>=3.5.0->spacy-transformers) (1.10.11)\n",
      "Requirement already satisfied: jinja2 in /usr/local/lib/python3.10/dist-packages (from spacy<4.0.0,>=3.5.0->spacy-transformers) (3.1.2)\n",
      "Requirement already satisfied: setuptools in /usr/local/lib/python3.10/dist-packages (from spacy<4.0.0,>=3.5.0->spacy-transformers) (67.7.2)\n",
      "Requirement already satisfied: packaging>=20.0 in /usr/local/lib/python3.10/dist-packages (from spacy<4.0.0,>=3.5.0->spacy-transformers) (23.1)\n",
      "Requirement already satisfied: langcodes<4.0.0,>=3.2.0 in /usr/local/lib/python3.10/dist-packages (from spacy<4.0.0,>=3.5.0->spacy-transformers) (3.3.0)\n",
      "Requirement already satisfied: filelock in /usr/local/lib/python3.10/dist-packages (from torch>=1.8.0->spacy-transformers) (3.12.2)\n",
      "Requirement already satisfied: typing-extensions in /usr/local/lib/python3.10/dist-packages (from torch>=1.8.0->spacy-transformers) (4.7.1)\n",
      "Requirement already satisfied: sympy in /usr/local/lib/python3.10/dist-packages (from torch>=1.8.0->spacy-transformers) (1.11.1)\n",
      "Requirement already satisfied: networkx in /usr/local/lib/python3.10/dist-packages (from torch>=1.8.0->spacy-transformers) (3.1)\n",
      "Requirement already satisfied: triton==2.0.0 in /usr/local/lib/python3.10/dist-packages (from torch>=1.8.0->spacy-transformers) (2.0.0)\n",
      "Requirement already satisfied: cmake in /usr/local/lib/python3.10/dist-packages (from triton==2.0.0->torch>=1.8.0->spacy-transformers) (3.25.2)\n",
      "Requirement already satisfied: lit in /usr/local/lib/python3.10/dist-packages (from triton==2.0.0->torch>=1.8.0->spacy-transformers) (16.0.6)\n",
      "Collecting huggingface-hub<1.0,>=0.14.1 (from transformers<4.31.0,>=3.4.0->spacy-transformers)\n",
      "  Downloading huggingface_hub-0.16.4-py3-none-any.whl (268 kB)\n",
      "\u001b[2K     \u001b[90m━━━━━━━━━━━━━━━━━━━━━━━━━━━━━━━━━━━━━━\u001b[0m \u001b[32m268.8/268.8 kB\u001b[0m \u001b[31m26.7 MB/s\u001b[0m eta \u001b[36m0:00:00\u001b[0m\n",
      "\u001b[?25hRequirement already satisfied: pyyaml>=5.1 in /usr/local/lib/python3.10/dist-packages (from transformers<4.31.0,>=3.4.0->spacy-transformers) (6.0)\n",
      "Requirement already satisfied: regex!=2019.12.17 in /usr/local/lib/python3.10/dist-packages (from transformers<4.31.0,>=3.4.0->spacy-transformers) (2022.10.31)\n",
      "Collecting tokenizers!=0.11.3,<0.14,>=0.11.1 (from transformers<4.31.0,>=3.4.0->spacy-transformers)\n",
      "  Downloading tokenizers-0.13.3-cp310-cp310-manylinux_2_17_x86_64.manylinux2014_x86_64.whl (7.8 MB)\n",
      "\u001b[2K     \u001b[90m━━━━━━━━━━━━━━━━━━━━━━━━━━━━━━━━━━━━━━━━\u001b[0m \u001b[32m7.8/7.8 MB\u001b[0m \u001b[31m102.1 MB/s\u001b[0m eta \u001b[36m0:00:00\u001b[0m\n",
      "\u001b[?25hCollecting safetensors>=0.3.1 (from transformers<4.31.0,>=3.4.0->spacy-transformers)\n",
      "  Downloading safetensors-0.3.1-cp310-cp310-manylinux_2_17_x86_64.manylinux2014_x86_64.whl (1.3 MB)\n",
      "\u001b[2K     \u001b[90m━━━━━━━━━━━━━━━━━━━━━━━━━━━━━━━━━━━━━━━━\u001b[0m \u001b[32m1.3/1.3 MB\u001b[0m \u001b[31m71.3 MB/s\u001b[0m eta \u001b[36m0:00:00\u001b[0m\n",
      "\u001b[?25hRequirement already satisfied: fsspec in /usr/local/lib/python3.10/dist-packages (from huggingface-hub<1.0,>=0.14.1->transformers<4.31.0,>=3.4.0->spacy-transformers) (2023.6.0)\n",
      "Requirement already satisfied: urllib3<1.27,>=1.21.1 in /usr/local/lib/python3.10/dist-packages (from requests<3.0.0,>=2.13.0->spacy<4.0.0,>=3.5.0->spacy-transformers) (1.26.16)\n",
      "Requirement already satisfied: certifi>=2017.4.17 in /usr/local/lib/python3.10/dist-packages (from requests<3.0.0,>=2.13.0->spacy<4.0.0,>=3.5.0->spacy-transformers) (2023.5.7)\n",
      "Requirement already satisfied: charset-normalizer~=2.0.0 in /usr/local/lib/python3.10/dist-packages (from requests<3.0.0,>=2.13.0->spacy<4.0.0,>=3.5.0->spacy-transformers) (2.0.12)\n",
      "Requirement already satisfied: idna<4,>=2.5 in /usr/local/lib/python3.10/dist-packages (from requests<3.0.0,>=2.13.0->spacy<4.0.0,>=3.5.0->spacy-transformers) (3.4)\n",
      "Requirement already satisfied: blis<0.8.0,>=0.7.8 in /usr/local/lib/python3.10/dist-packages (from thinc<8.2.0,>=8.1.8->spacy<4.0.0,>=3.5.0->spacy-transformers) (0.7.9)\n",
      "Requirement already satisfied: confection<1.0.0,>=0.0.1 in /usr/local/lib/python3.10/dist-packages (from thinc<8.2.0,>=8.1.8->spacy<4.0.0,>=3.5.0->spacy-transformers) (0.1.0)\n",
      "Requirement already satisfied: click<9.0.0,>=7.1.1 in /usr/local/lib/python3.10/dist-packages (from typer<0.10.0,>=0.3.0->spacy<4.0.0,>=3.5.0->spacy-transformers) (8.1.4)\n",
      "Requirement already satisfied: MarkupSafe>=2.0 in /usr/local/lib/python3.10/dist-packages (from jinja2->spacy<4.0.0,>=3.5.0->spacy-transformers) (2.1.3)\n",
      "Requirement already satisfied: mpmath>=0.19 in /usr/local/lib/python3.10/dist-packages (from sympy->torch>=1.8.0->spacy-transformers) (1.3.0)\n",
      "Installing collected packages: tokenizers, safetensors, spacy-alignments, huggingface-hub, transformers, spacy-transformers\n",
      "Successfully installed huggingface-hub-0.16.4 safetensors-0.3.1 spacy-alignments-0.9.0 spacy-transformers-1.2.5 tokenizers-0.13.3 transformers-4.30.2\n",
      "Collecting lexicalrichness\n",
      "  Downloading lexicalrichness-0.5.0.tar.gz (96 kB)\n",
      "\u001b[2K     \u001b[90m━━━━━━━━━━━━━━━━━━━━━━━━━━━━━━━━━━━━━━━━\u001b[0m \u001b[32m96.5/96.5 kB\u001b[0m \u001b[31m2.2 MB/s\u001b[0m eta \u001b[36m0:00:00\u001b[0m\n",
      "\u001b[?25h  Preparing metadata (setup.py) ... \u001b[?25l\u001b[?25hdone\n",
      "Requirement already satisfied: scipy>=1.0.0 in /usr/local/lib/python3.10/dist-packages (from lexicalrichness) (1.10.1)\n",
      "Requirement already satisfied: textblob>=0.15.3 in /usr/local/lib/python3.10/dist-packages (from lexicalrichness) (0.17.1)\n",
      "Requirement already satisfied: pandas in /usr/local/lib/python3.10/dist-packages (from lexicalrichness) (1.5.3)\n",
      "Requirement already satisfied: matplotlib in /usr/local/lib/python3.10/dist-packages (from lexicalrichness) (3.7.1)\n",
      "Requirement already satisfied: numpy<1.27.0,>=1.19.5 in /usr/local/lib/python3.10/dist-packages (from scipy>=1.0.0->lexicalrichness) (1.22.4)\n",
      "Requirement already satisfied: nltk>=3.1 in /usr/local/lib/python3.10/dist-packages (from textblob>=0.15.3->lexicalrichness) (3.8.1)\n",
      "Requirement already satisfied: contourpy>=1.0.1 in /usr/local/lib/python3.10/dist-packages (from matplotlib->lexicalrichness) (1.1.0)\n",
      "Requirement already satisfied: cycler>=0.10 in /usr/local/lib/python3.10/dist-packages (from matplotlib->lexicalrichness) (0.11.0)\n",
      "Requirement already satisfied: fonttools>=4.22.0 in /usr/local/lib/python3.10/dist-packages (from matplotlib->lexicalrichness) (4.41.0)\n",
      "Requirement already satisfied: kiwisolver>=1.0.1 in /usr/local/lib/python3.10/dist-packages (from matplotlib->lexicalrichness) (1.4.4)\n",
      "Requirement already satisfied: packaging>=20.0 in /usr/local/lib/python3.10/dist-packages (from matplotlib->lexicalrichness) (23.1)\n",
      "Requirement already satisfied: pillow>=6.2.0 in /usr/local/lib/python3.10/dist-packages (from matplotlib->lexicalrichness) (8.4.0)\n",
      "Requirement already satisfied: pyparsing>=2.3.1 in /usr/local/lib/python3.10/dist-packages (from matplotlib->lexicalrichness) (3.1.0)\n",
      "Requirement already satisfied: python-dateutil>=2.7 in /usr/local/lib/python3.10/dist-packages (from matplotlib->lexicalrichness) (2.8.2)\n",
      "Requirement already satisfied: pytz>=2020.1 in /usr/local/lib/python3.10/dist-packages (from pandas->lexicalrichness) (2022.7.1)\n",
      "Requirement already satisfied: click in /usr/local/lib/python3.10/dist-packages (from nltk>=3.1->textblob>=0.15.3->lexicalrichness) (8.1.4)\n",
      "Requirement already satisfied: joblib in /usr/local/lib/python3.10/dist-packages (from nltk>=3.1->textblob>=0.15.3->lexicalrichness) (1.3.1)\n",
      "Requirement already satisfied: regex>=2021.8.3 in /usr/local/lib/python3.10/dist-packages (from nltk>=3.1->textblob>=0.15.3->lexicalrichness) (2022.10.31)\n",
      "Requirement already satisfied: tqdm in /usr/local/lib/python3.10/dist-packages (from nltk>=3.1->textblob>=0.15.3->lexicalrichness) (4.65.0)\n",
      "Requirement already satisfied: six>=1.5 in /usr/local/lib/python3.10/dist-packages (from python-dateutil>=2.7->matplotlib->lexicalrichness) (1.16.0)\n",
      "Building wheels for collected packages: lexicalrichness\n",
      "  Building wheel for lexicalrichness (setup.py) ... \u001b[?25l\u001b[?25hdone\n",
      "  Created wheel for lexicalrichness: filename=lexicalrichness-0.5.0-py3-none-any.whl size=15517 sha256=b19b8afb92d4dfadb0b8be8b23c3b361d58082a86a461b15801a517bc05eb109\n",
      "  Stored in directory: /root/.cache/pip/wheels/42/68/59/1edd70c2b91dc172fa208eb34799e90bc6c093bfbb862ff017\n",
      "Successfully built lexicalrichness\n",
      "Installing collected packages: lexicalrichness\n",
      "Successfully installed lexicalrichness-0.5.0\n"
     ]
    }
   ],
   "source": [
    "#********Lexical Features********\n",
    "# syllable count\n",
    "\n",
    "def syllable_count(word):\n",
    "    word = word.lower()\n",
    "    count = 0\n",
    "    vowels = \"aeiouy\"\n",
    "    if word[0] in vowels:\n",
    "        count += 1\n",
    "    for index in range(1, len(word)):\n",
    "        if word[index] in vowels and word[index - 1] not in vowels:\n",
    "            count += 1\n",
    "            if word[index]=='e':\n",
    "                count -= 1\n",
    "    if count == 0:\n",
    "        count += 1\n",
    "    return count\n",
    "\n",
    "def avg_syllable_count(text):\n",
    "    tokens = sent_tokenize(text)\n",
    "    l1 = [word for token in tokens for word in token.split()]\n",
    "    print(tokens)\n",
    "    print(l1)\n",
    "    # print([syllable_count(word) for word in l1])\n",
    "    return np.average([syllable_count(word) for word in l1])\n",
    "\n",
    "\n",
    "#avg word length\n",
    "\n",
    "def avg_wordlength(text):\n",
    "    string1 = text.translate(string.punctuation)\n",
    "    # print(string1)\n",
    "    tokens = word_tokenize(string1, language='english')\n",
    "    # print(tokens)\n",
    "    st = [\",\", \".\", \"'\", \"!\", '\"', \"#\", \"$\", \"%\", \"&\", \"(\", \")\", \"*\", \"+\", \"-\", \".\", \"/\", \":\", \";\", \"<\", \"=\", '>', \"?\",\n",
    "          \"@\", \"[\", \"\\\\\", \"]\", \"^\", \"_\", '`', \"{\", \"|\", \"}\", '~', '\\t', '\\n']\n",
    "    stop = stopwords.words('english') + st\n",
    "    words = [word for word in tokens if word not in stop]\n",
    "    return np.average([len(word) for word in words])\n",
    "\n",
    "\n",
    "#avg sentence length by number of words\n",
    "\n",
    "def avg_sentlengthbyword(text):\n",
    "    tokens = sent_tokenize(text)\n",
    "    return np.average([len(token.split()) for token in tokens])\n",
    "\n",
    "\n",
    "def count_functionalwords(text):\n",
    "    functional_words = \"\"\"a between in nor some upon\n",
    "    about both including nothing somebody us\n",
    "    above but inside of someone used\n",
    "    after by into off something via\n",
    "    all can is on such we\n",
    "    although cos it once than what\n",
    "    am do its one that whatever\n",
    "    among down latter onto the when\n",
    "    an each less opposite their where\n",
    "    and either like or them whether\n",
    "    another enough little our these which\n",
    "    any every lots outside they while\n",
    "    anybody everybody many over this who\n",
    "    anyone everyone me own those whoever\n",
    "    anything everything more past though whom\n",
    "    are few most per through whose\n",
    "    around following much plenty till will\n",
    "    as for must plus to with\n",
    "    at from my regarding toward within\n",
    "    be have near same towards without\n",
    "    because he need several under worth\n",
    "    before her neither she unless would\n",
    "    behind him no should unlike yes\n",
    "    below i nobody since until you\n",
    "    beside if none so up your\n",
    "    \"\"\"\n",
    "\n",
    "    functional_words = functional_words.split()\n",
    "    tokens = sent_tokenize(text)\n",
    "    wo_punc = [text.translate(str.maketrans ('', '', string.punctuation)) for text in tokens]\n",
    "    l1 = [word for token in wo_punc for word in token.split()]\n",
    "    count = 0\n",
    "\n",
    "    for i in l1:\n",
    "        if i in functional_words:\n",
    "            count += 1\n",
    "\n",
    "    return count / len(l1)\n",
    "\n",
    "\n",
    "#punc count\n",
    "\n",
    "def punctuation_count_ratio(text):\n",
    "    st = [\",\", \".\", \"'\", \"!\", '\"', \";\", \"?\", \":\", \";\"]\n",
    "    count = 0\n",
    "    for i in text:\n",
    "        if (i in st):\n",
    "            count = count + 1\n",
    "    text = text.replace(\" \", \"\")\n",
    "    # print(text)\n",
    "    return float(count) / float(len(text))\n",
    "\n",
    "\n",
    "#********Readability score********\n",
    "!pip install readability\n",
    "\n",
    "import readability\n",
    "#https://github.com/burrsettles/readability/blob/master/readability.py\n",
    "\n",
    "\n",
    "#*******Semantic spread*******\n",
    "\n",
    "!pip install spacy\n",
    "!python -m spacy download en_core_web_md\n",
    "!python -m spacy download nl_core_news_lg\n",
    "!pip install spacy-transformers\n",
    "nlp = spacy.load(\"en_core_web_md\")\n",
    "# nlp_trf = spacy.load(\"en_core_web_trf\")\n",
    "nlp_nl = spacy.load(\"nl_core_news_lg\")\n",
    "\n",
    "\n",
    "def remove_newlines(text):\n",
    "    cleaned_text = re.sub(r'\\n', '', text)\n",
    "    return cleaned_text\n",
    "\n",
    "\n",
    "def calculate_semantic_spread(paragraph, lang):\n",
    "    doc = nlp(paragraph) if lang==\"en\" else nlp_nl(paragraph)\n",
    "    sentences = [sent.text for sent in doc.sents]\n",
    "    # print(sentences)\n",
    "    spreads = []\n",
    "    for sentence in sentences:\n",
    "        sentence_doc = nlp(sentence) if lang==\"en\" else nlp_nl(sentence)\n",
    "        # print(sentence_doc)\n",
    "        vectors = [token.vector for token in sentence_doc]\n",
    "        # print(vectors)\n",
    "        similarities = distance.pdist(vectors, metric=\"cosine\")\n",
    "        # print(similarities)\n",
    "        spread = np.nanstd(similarities)\n",
    "        spreads.append(spread)\n",
    "    return np.nanmean(spreads)\n",
    "\n",
    "def pos_calculate_semantic_spread(text, lang):\n",
    "  doc = nlp(text) if lang==\"en\" else nlp_nl(text)\n",
    "  sentences = [sent.text for sent in doc.sents]\n",
    "  # print(sentences)\n",
    "  len_tokens = len([tok.text for tok in doc if not tok.is_punct])\n",
    "\n",
    "  spreads = []\n",
    "  noun_count = 0\n",
    "  verb_count = 0\n",
    "  adj_count = 0\n",
    "  adv_count = 0\n",
    "  # print(len_tokens)\n",
    "  if len_tokens <= 1:\n",
    "        return 0.0\n",
    "\n",
    "  for sentence in sentences:\n",
    "    sentence_doc = nlp(sentence) if lang==\"en\" else nlp_nl(sentence)\n",
    "    # doc = nlp(text) if lang==\"en\" else nlp_nl(text)\n",
    "    for token in sentence_doc:\n",
    "        if token.pos_ == \"NOUN\":\n",
    "            noun_count += 1\n",
    "        elif token.pos_ == \"VERB\":\n",
    "            verb_count += 1\n",
    "        elif token.pos_ == \"ADJ\":\n",
    "            adj_count += 1\n",
    "        elif token.pos_ == \"ADV\":\n",
    "            adv_count += 1\n",
    "        # print(token, token.similarity(doc))\n",
    "        # total_similarity += token.similarity(doc)\n",
    "\n",
    "  # print(noun_count, verb_count, adj_count, adv_count)\n",
    "  noun_ratio = noun_count / len_tokens\n",
    "  verb_ratio = verb_count / len_tokens\n",
    "  adj_ratio = adj_count / len_tokens\n",
    "  adv_ratio = adv_count / len_tokens\n",
    "\n",
    "  semantic_spread = (noun_ratio + verb_ratio + adj_ratio + adv_ratio) / 4\n",
    "  # average_similarity = total_similarity / token_count\n",
    "\n",
    "  return semantic_spread\n",
    "\n",
    "\n",
    "#*******Lexical diversity*********\n",
    "!pip install lexicalrichness\n",
    "from lexicalrichness import LexicalRichness"
   ]
  },
  {
   "cell_type": "code",
   "execution_count": 3,
   "metadata": {
    "executionInfo": {
     "elapsed": 22,
     "status": "ok",
     "timestamp": 1689791400071,
     "user": {
      "displayName": "Urmi Dedhia",
      "userId": "04029137391343867476"
     },
     "user_tz": -330
    },
    "id": "3L7CQwI44awa"
   },
   "outputs": [],
   "source": [
    "def style_score(text):\n",
    "  #lexical features\n",
    "  avg_syllable_count0 = avg_syllable_count(text)\n",
    "  avg_wordlength0 = avg_wordlength(text)\n",
    "  avg_sentlengthbyword0 = avg_sentlengthbyword(text)\n",
    "  count_functionalwords0 = count_functionalwords(text)\n",
    "  punctuation_count_ratio0 = punctuation_count_ratio(text)\n",
    "\n",
    "  #readability scores\n",
    "  results = readability.getmeasures(text, lang='en')\n",
    "  fleschreadingease = results['readability grades']['FleschReadingEase']\n",
    "  kincaid = results['readability grades']['Kincaid']\n",
    "  gunningfogindex = results['readability grades']['GunningFogIndex']\n",
    "  dalechallindex = results['readability grades']['DaleChallIndex']\n",
    "\n",
    "  #Vocab richness\n",
    "  lex = LexicalRichness(text)\n",
    "  yulek = lex.yulek\n",
    "  herdan = lex.Herdan\n",
    "  maas = lex.Maas\n",
    "  msttr = lex.msttr(segment_window=50)\n",
    "  mattr = lex.mattr(window_size=50)\n",
    "  simpsond = lex.simpsond\n",
    "\n",
    "  #Semantic spread\n",
    "  sem_spread = calculate_semantic_spread(text, 'en')\n",
    "  pos_sem_spread = pos_calculate_semantic_spread(text, 'en')\n",
    "\n",
    "  vector = [avg_syllable_count0, avg_wordlength0, avg_sentlengthbyword0, count_functionalwords0, punctuation_count_ratio0,\n",
    "\n",
    "            fleschreadingease, kincaid, gunningfogindex, dalechallindex,\n",
    "\n",
    "            yulek, herdan, maas, msttr, mattr, simpsond,\n",
    "\n",
    "            sem_spread, pos_sem_spread\n",
    "            ]\n",
    "\n",
    "  style_dict = {}\n",
    "  count = 0\n",
    "  for metric in ['avg_syllable_count', 'avg_wordlength', 'avg_sentlengthbyword', 'count_functionalwords', 'punctuation_count_ratio', 'fleschreadingease', 'kincaid', 'gunningfogindex', 'dalechallindex', 'yulek', 'herdan', 'maas', 'msttr', 'mattr', 'simpsond','sem_spread', 'pos_sem_spread']:\n",
    "    style_dict[metric] = vector[count]\n",
    "    count+=1\n",
    "\n",
    "  return vector, style_dict"
   ]
  },
  {
   "cell_type": "markdown",
   "metadata": {
    "id": "C01RWnZfEmCS"
   },
   "source": [
    "##Text data"
   ]
  },
  {
   "cell_type": "code",
   "execution_count": 64,
   "metadata": {
    "executionInfo": {
     "elapsed": 659,
     "status": "ok",
     "timestamp": 1689792930447,
     "user": {
      "displayName": "Urmi Dedhia",
      "userId": "04029137391343867476"
     },
     "user_tz": -330
    },
    "id": "gOID3wf8gaEK"
   },
   "outputs": [],
   "source": [
    "DG_nl_text = '''\n",
    "I.\n",
    "Het atelier was vol rijken geur van rozen, en zoodra de lichte zomerwind in de boomen van den tuin trilde, kwam er door de opene deur een zware adem van seringen, eene fijnere aroom van den roze-bloeienden meidoorn binnen.\n",
    "\n",
    "Uit den hoek van een Perzischen divan, waarop hij naar gewoonte ontelbare cigaretten lag te rooken, kon Lord Henry Wotton juist den glans zien der honig-zoete en honigkleurige bloesems van gouden regens; de trillende takken schenen nauwlijks dien last van vlammend mooi te kunnen dragen. Fantastische schaduwen van vogels in vlucht schoten over de lange tussore-zijden gordijnen, die voor het groote raam hingen; zij deden er iets van een Japansch effect; zij herinnerden aan de anemieke schilders van Tokio, die, trots eene zoo noodzakelijke onbewegelijke kunst als de hunne, idee van snelheid en beweging trachteden te beelden. Het doffe gegons der bijen, die schuurden door het hooge ongemaaide gras of, met eentonig geduld, cirkelden om de stoffig gouden horens van den strengelenden kamperfoelie, scheen de stilte nog zwaarder te maken. Het vage gebruis van Londen was als de bastoon van een ver orgel.\n",
    "\n",
    "In het midden van de kamer, geklampt op een ezel, stond, ten voeten uit, het portret van een jongen man van bizondere schoonheid; op eenigen afstand zat de schilder zelve; Basil Hallward, wiens plotselinge verdwijning eenige jaren geleden zoo eene algemeene nieuwsgierigheid verwekte en aanleiding gaf tot menig vreemd vermoeden …\n",
    "\n",
    "Nu de schilder naar de gracieuze gedaante keek, die hij zoo knap in zijne kunst had weêrspiegeld, kwam er een lach van genot over zijn gelaat; lang bleef die daar glanzen.\n",
    "\n",
    "Maar plotseling hief hij zich op, en, de oogen dicht, drukte hij met de vingers op dier leden, als zocht hij een vreemden droom, waaruit hij ontwaking vreesde, in zijn brein vast te houden.\n",
    "\n",
    "—Het is je mooiste werk, Basil. Het beste wat je ooit gedaan hebt, zei Lord Henry slapjes. Je moet dat het volgende jaar bepaald naar den Grosvenor zenden. De Academy is te groot en te algemeen. Wanneer ik daar ook kwam, waren er òf zooveel menschen, dat ik de schilderijen niet zien kon,—en dat was vervelend,—òf zooveel schilderijen, dat ik de menschen niet kon zien, en dat was nog vervelender. Heusch, de Grosvenor is de eenige plaats.\n",
    "\n",
    "—Ik denk niet, dat ik dit ergens naar toe zal zenden, antwoordde Basil, terwijl hij zijn hoofd met dat vreemde gebaar achterover wierp, waarom zijne vrienden in Oxford gewoon waren hem uit te lachen. Neen, ik zend het nergens naar toe.\n",
    "\n",
    "Lord Henry trok zijne wenkbrauwen op en keek hem verbaasd aan door de dunne blauwe kransjes van rook, die grilligjes van zijn opiumcigarette opkrulden.\n",
    "\n",
    "—Nergens naar toe? Beste jongen, waarom? Heb je daar een reden voor? Wat zijn jullie schilders toch malle kerels. Je doet alles ter wereld om naam te maken; zoodra je naam hèbt, verlang je niets liever dan hem te verliezen. Het is mal van je, want er is maar één ding in de wereld slechter dan bepraat te worden; dat is: niet bepraat te worden. Zoo een portret zoû je stellen boven alle jonge schilders in Engeland en het zoû de oude jaloersch maken, als oude menschen nog zoo een emotie konden ondervinden.\n",
    "\n",
    "—Ik weet, dat je het dwaas van me zal vinden, antwoordde Basil; maar, waarlijk, ik kan het niet expozeeren; ik heb er te veel van mij in gelegd.\n",
    "\n",
    "Lord Henry strekte zich op den divan uit en lachte.\n",
    "\n",
    "—Ja ik wist wel, dat je zoû lachen, maar het is toch zoo …\n",
    "\n",
    "—Te veel van jou! Waarlijk Basil, ik wist niet, dat je zoo ijdel was, en ik kan heusch geen gelijkenis zien tusschen jou, met je ruw gezicht, vol rimpels, en je zwart haar, en dezen Adonis, die er uit ziet of hij uit ivoor en rozeblâren gemaakt is. Beste Basil! hij is een jonge god! en jij—nu je ziet er intelligent uit en zoo al meer, maar schoonheid, heusche schoonheid eindigt waar een intelligente expressie begint. Intellect is in zichzelve een soort van overdrijving en verstoort de harmonie van elk gezicht; zoodra iemand gaat zitten om te denken, wordt hij een en al neus of voorhoofd of iets ander leelijks. Kijk naar alle mannen, die beroemd zijn in geleerdheid; hoe verschrikkelijk leelijk zijn ze; natuurlijk niet in de kerk, maar in de kerk denken ze niet. Een bisschop zegt, als hij tachtig is, nog precies wat hij moest zeggen toen hij achttien was en, als een natuurlijk gevolg, ziet hij er altijd even stralend uit. Jouw geheimzinnige jonge vriend, dien je mij nog nooit genoemd hebt, maar wiens portret me bepaald betoovert, denkt nooit; daar ben ik zeker van. Hij is een mooie jongen zonder hersens, die hier altijd in den winter moest zijn, als we weinig bloemen hebben om naar te kijken, of in den zomer, als we ons verstand wat willen afkoelen. Vlei jezelven maar niet; Basil, je lijkt niet het minst op hem!\n",
    "\n",
    "—Je begrijpt me niet, Harry, antwoordde de schilder. Natuurlijk lijk ik niet op hem, ik weet dat heel goed; en ik zoû niet gaarne op hem willen lijken. Je gelooft me niet? Ik zeg je de waarheid. Er rust een noodlot op alle fyzieke en intellectueele distinctie, het zelfde noodlot, dat op vorsten schijnt te rusten. Men moet niet verschillen van zijn evenmenschen. Leelijken en dommen zijn het best af in de wereld. Zij zitten op hun gemak en kijken naar de pret. Weten zij niets van succes, zij kennen ook geen teleurstelling. Zij leven zooals wij allen moesten leven, ongestoord en onverschillig en zonder onrust. Zij brengen nooit ellende over anderen en krijgen die ook nooit van anderen. Jij, door je rang en rijkdom, Harry; ik, door mijn hersens en kunst, wat die dan ook waard zijn; Dorian Gray, door zijn mooi gezicht, we moeten allen lijden door wat de goden ons geven, verschrikkelijk lijden.\n",
    "\n",
    "—Dorian Gray? Heet hij zoo? vroeg Lord Henry.\n",
    "\n",
    "—Ja, zoo heet hij. Ik was niet van plan het je te vertellen.\n",
    "\n",
    "—Waarom niet?\n",
    "\n",
    "—O, ik weet het niet. Als ik veel van iemand hoû, zeg ik nooit zijn naam. Het is of ik dan iets van hem weggeef. Ik heb me aangewend van mysterie te houden. Het schijnt het eenige wat het moderne leven interessant of bizonder maakt. Het gewoonste wordt mooi als je het maar verbergt. Als ik uit de stad ga, geef ik nooit mijn adres op; als ik dat deed, zoû ik nooit pleizier hebben. Het is zeker een gekke gewoonte, maar het geeft iets romantisch' aan je leven. Ik geloof, dat je me erg dwaas vindt.\n",
    "\n",
    "—O neen, antwoordde Lord Henry, volstrekt niet, waarde Basil. Je schijnt te vergeten, dat ik getrouwd ben, en de eenige bekoring van het huwelijk is, dat het een leven van voor-den-gek-houden noodig maakt voor beide partijen. Ik weet nooit waar mijn vrouw is, en mijn vrouw weet nooit wat ik doe. Als we elkaâr ontmoeten—we ontmoeten elkaâr nu en dan op een diner of bij den Hertog—dan vertellen we elkaâr de onzinnigste histories met de ernstigste gezichten. Mijn vrouw kan dat heel goed, bepaald veel beter dan ik; zij vergist zich nooit in haar datums, en ik altijd; maar als zij dat ontdekt, maakt zij er nooit een scène van; soms woû ik wel dat ze dit deed, maar ze lacht me alleen uit.\n",
    "\n",
    "—Ik hoû er niet van zooals je over je huwelijksleven praat, zei Basil Hallward, en hij ging naar de tuindeur. Ik geloof, dat je heusch een goed man bent, maar dat je je bar schaamt over je eigen deugden. Je bent een bizondere kerel: je zegt nooit iets goeds en je doet nooit iets kwaads. Je scepticisme is maar een poze.\n",
    "\n",
    "—Natuurlijk te zijn is ook een poze, en de vervelendste, die ik ken, lachte Lord Henry.\n",
    "\n",
    "Zij gingen den tuin in en lieten zich behagelijk op een rieten bank neêr, in de schaduw van een hoogen laurierboom. Het zonlicht slipte over de gepolijste bladeren. In het gras trilden witte madelieven. Na eene pooze haalde Lord Henry zijn horloge uit.\n",
    "\n",
    "—Ik denk, dat ik gaan moet, Basil, zei hij zacht, en voor ik wegga, woû ik nu wel, dat je mij antwoordde op de vraag, die ik je zoo even deed.\n",
    "\n",
    "—Wat dan? vroeg de schilder, turende naar den grond.\n",
    "\n",
    "—Dat weet je heel goed.\n",
    "\n",
    "—Neen, werkelijk niet, Harry.\n",
    "\n",
    "—Nu, dan zal ik ze nog eens herhalen. Ik woû dat je nu zei, waarom je het portret van Dorian Gray niet wilt expozeeren. Ik wil de werkelijke reden weten.\n",
    "\n",
    "—Die heb ik je al gezegd.\n",
    "\n",
    "—Neen, dat heb je niet. Je zei: omdat er te veel van jou in was. Nu, dàt is kinderachtig.\n",
    "\n",
    "—Harry, zeide Basil Hallward, hem recht in de oogen ziende; een portret, dat met gevoel is geschilderd, is een beeld van den artist, niet van hem, die er voor gezeten heeft. Het model is louter toeval en bij-omstandigheid. Dàt wordt hier geopenbaard door den schilder, maar de schilder openbaart zichzelven op het doek. De reden, dat ik dit portret niet wil ten toon stellen is: dat ik bang ben het geheim van mijn eigen ziel er in te toonen.\n",
    "\n",
    "Lord Henry lachte.\n",
    "\n",
    "—En wat is dat geheim?\n",
    "\n",
    "—Ik zal het je zeggen, zei Hallward, maar iets van verlegenheid gleed over zijn gelaat.\n",
    "\n",
    "—Ik ben een en al verwachting, Basil!\n",
    "\n",
    "—Och, het is in een paar woorden gezegd, Harry, en ik denk, dat je het niet eens begrijpen zal. Misschien, geloof je het ook niet.\n",
    "\n",
    "Lord Henry glimlachte, en, zich buigende, plukte hij een roodbladig madeliefje uit het gras, en keek er naar.\n",
    "\n",
    "—Ik ben overtuigd, dat ik het begrijpen zal, sprak hij, en hij bleef aandachtig het goud-en wit-stralige zonnetje in zijne hand bezien; en wat gelooven aangaat, ik kan alles gelooven, als het maar heel ongelooflijk is.\n",
    "\n",
    "De wind schudde wat bloesems van de boomen af, en de zware seringentakken, vol trossen van sterretjes wiegelden heen en weêr in de zwoele lucht. Een sprinkhaan tjirpte bij den muur, en als een blauwe draad vloog eene lange, dunne libel voorbij op bruinig gazen vleugels. Lord Henry meende Basil Hallwards hart te hooren kloppen; hij was nieuwsgierig wat er komen zoû.\n",
    "\n",
    "—Het is eenvoudig dit, zei de schilder na een oogenblik. Twee maanden geleden ging ik naar een receptie bij Lady Brandon. Je weet, wij arme artisten moeten ons van tijd tot tijd in gezelschap vertoonen om het publiek te herinneren, dat wij geen wilden zijn. Met een rok en een witte das, heb jij eens gezegd, kan iedereen, zelfs een aannemer, zich de reputatie maken een man van de wereld te zijn.\n",
    "\n",
    "Nu, toen ik tien minuten binnen was, en gepraat had met dikke, opgekleede douairières en vervelende Academisten voelde ik in eens, dat iemand naar mij keek. Ik draaide mij half om en zag Dorian Gray, voor de eerste maal. Toen onze oogen elkaâr ontmoetten, voelde ik, dat ik bleek werd. Een curieus gevoel van angst kwam over me. Ik wist, dat ik stond tegenover iemand, wiens persoonlijkheid alleen al zóó een charme was, dat, als ik mij niet tegen ze verzette, mijn geheele natuur, mijn ziel, mijn kunst zelfs zich in ze zoû oplossen. Ik wilde geen invloed van buiten op mijn leven. Je weet, Harry, hoe onafhankelijk ik van natuur ben. Ik ben altijd mijn eigen baas geweest; ten minste: tot ik Dorian Gray ontmoette. Toen—maar ik weet niet hoe het je uit te leggen. Iets zei mij, dat ik stond op de grens van een geweldige crizis in mijn leven. Ik had een vreemd voorgevoel, dat het Noodlot bizondere genietingen en bizonder verdriet voor mij klaar hield. Ik werd bang en woû de kamer uitgaan. Het was niet mijn geweten, dat mij hiertoe dwong, het was een soort lafheid. Het was een onwillekeurige aandrang om te vluchten.\n",
    "\n",
    "—Geweten en lafheid is heusch precies het zelfde, Basil. Geweten is maar de naam, die de firma in den handel aanneemt. Dat is het eenige verschil.\n",
    "\n",
    "—Daar geloof ik niets van, Harry, en jij ook niet. In ieder geval, wat er mij ook toe dwong—misschien een soort trots, want ik was vroeger heel trotsch—dit is zeker: ik probeerde de deur uit te gaan. Maar ik bonsde natuurlijk juist tegen Lady Brandon aan:\n",
    "\n",
    "—U is toch niet van plan nu al weg te gaan, Mr. Hallward? riep zij.\n",
    "\n",
    "—Je kent haar schelle stem.\n",
    "\n",
    "—Ja, ze is in alles een pauw, behalve in schoonheid, zei Lord Henry, terwijl hij het madeliefje met zijne lange, zenuwachtige vingers aan stukken trok.\n",
    "\n",
    "—Ik kon niet van haar afkomen. Zij prezenteerde me aan koninklijke personen, en be-Starde en be-Kousenbande menschen en oude dames met reusachtige tiara's en kakatoe-neuzen. Ze sprak over me als over een intiemen vriend. Ik had haar maar eens ontmoet, maar ze had het er op gezet me te lanceeren. Ik geloof, dat er toen juist een schilderij van mij nog al succes had gehad; er was tenminste over geschreven in couranten van een penny; je weet, het negentiend'eeuwsche boek van onsterfelijkheid. Op eens kwam ik vlak bij den jongen. Wij stonden naast elkaâr en raakten elkaâr bijna aan. Wij keken elkaâr in de oogen. Het was roekeloos van me, maar ik vroeg Lady Brandon mij aan hem voor te stellen; misschien was het toch niet gewaagd, het was eenvoudig onvermijdelijk; wij zouden met elkaâr gesproken hebben, ook zonder presentatie, ben ik zeker van. Dorian vertelde mij dat later; voelde ook, dat wij voorbestemd waren elkaâr te kennen.\n",
    "\n",
    "—En hoe beschreef Lady Brandon dat jonge wonder-mensch? Ik weet, dat zij gaarne van al haar gasten een vlug doopceel licht. Ik herinner me, dat ze me bracht naar een woesten, ouden meneer met een rood gezicht en heelemaal behangen met plaques en lintjes en siste toen, met een tragisch gefluister, dat volmaakt hoorbaar voor de geheele zaal moet geweest zijn, de verwonderlijkste détails in het oor. Ik ging er van door: ik hoû er van zelve mijn menschen uit te vinden, maar Lady Brandon behandelt haar gasten als een afslager zijn waren behandelt. Zij pluist ze of heelemaal uit, of vertelt alles van ze, behalve dàt wat men juist van ze zoû willen weten.\n",
    "\n",
    "—Arme Lady Brandon. Je bent hard voor haar, Harry, zei Hallward lusteloos.\n",
    "\n",
    "—Mijn beste jongen, ze probeert een salon te houden en houdt alleen een restauratie: hoe kan ik haar bewonderen? Maar zeg nu, wat zei ze van Mr. Dorian Gray?\n",
    "\n",
    "—O, zoo iets van: lieve jongen; zijn arme beste moeder en ik waren onafscheidelijk; ik ben heelemaal vergeten wat hij uitvoert; ik ben bang, dat hij niets doet. O ja, hij speelt piano, of is het viool, beste Mr. Gray? Wij moesten allebei lachen, en werden dadelijk vrienden.\n",
    "\n",
    "—Lachen is volstrekt geen kwaad begin voor vriendschap en het is zeker het beste einde er voor, zei de jonge lord, terwijl hij een andere madelief plukte, Hallward schudde het hoofd.\n",
    "\n",
    "—Je weet niet wat vriendschap is, Harry, of wat vijandschap is. Je houdt van iedereen, ik meen je houdt van niemand.\n",
    "\n",
    "—Wat ben je verschrikkelijk onrechtvaardig, zei Lord Henry. Hij zette zijn hoed achterover en keek naar de wolkjes, die als uiteengerafelde strengen glanzend witte zijde dreven door het gewelfde turkoois van de zomerlucht.—Ja, verschrikkelijk onrechtvaardig. Ik maak een groot verschil tusschen menschen: ik kies mijn vrienden voor hun mooie gezichten, mijn kennissen voor hun goede karakters en mijn vijanden voor hun goede hersenen. Men kan niet te moeielijk zijn in de keuze van zijn vijanden. Ik heb er geen een, die dom is; zij zijn allen mannen van ontwikkeling en bijgevolg apprecieeren ze me allemaal. Is dat heel ijdel van me? Ik geloof wel, dat het dàt nog al is …\n",
    "\n",
    "—Dat geloof ik ook Harry, maar, naar je verdeeling, schijn ik dus maar een kennis te zijn.\n",
    "\n",
    "—Mijn beste oude jongen, je bent veel meer dan een kennis.\n",
    "\n",
    "—En minder dan een vriend; een soort broêr, denk ik.\n",
    "\n",
    "—O broêrs, ik geef niets om broêrs; mijn oudste broêr wil niet dood gaan, en mijn jongere broêrs doen niet anders.\n",
    "\n",
    "—Harry! riep Hallward met een frons uit.\n",
    "\n",
    "—Mijn beste jongen, ik spreek niet heelemaal in ernst, maar ik kan het niet helpen, dat ik een hekel heb aan mijn familie. Ik denk, dat het komt omdat we niemand uit kunnen staan, die onze zelfde fouten heeft. Ik voel volkomen sympathie voor de woede van de Engelsche demokraten tegen wat ze de ondeugden van de hoogere klassen noemen. Het volk voelt, dat dronkenschap, stomheid en onzedelijkheid hun eigen privaat bezit behooren te zijn en dat, als iemand van ons zich vergooit, hij zich op hun terrein waagt. Toen die arme Southwark voor het Hof van Echtscheiding kwam, waren zij prachtig verontwaardigd, en toch geloof ik, dat geen tien percent van het proletariaat netjes leeft.\n",
    "\n",
    "—Ik ben het in geen woord met je eens, Harry, en buitendien jijzelf ook niet.\n",
    "\n",
    "Lord Henry streek over zijn bruine puntbaardje en tikte aan de punt van zijn verlakte laars met zijn ebbenhouten stokje met kwasten.\n",
    "\n",
    "—Wat ben je door en door Engelsch, Basil! Het is de tweede maal, dat je die opmerking maakt. Als je een idee meêdeelt aan een goed Engelschman, en dat is al een onvoorzichtig ding!—dan komt het niet bij hem op te overwegen of het idee goed of kwaad is. Het eenige, waaraan hij hecht, is, of je het zelf gelooft. Nu, de waarde van een idee heeft niets ter wereld te maken met de oprechtheid van hem, die het verkondigt. Hoe minder hij het meent, des te meer kans heb je, dat de opinie van eenige waarde is, want in dat geval hebben noch zijn behoeften, noch zijn wenschen of vooroordeelen er eenigen invloed op gehad. Daarbij, ik heb in het geheel geen plan politiek, sociologie of metafyzica met jou te bepraten. Ik hoû meer van menschen dan van principes, en ik hoû het meest van alles van menschen zonder principes. Vertel nog het een en ander van Mr. Dorian Gray. Zie je hem dikwijls?\n",
    "\n",
    "—Iederen dag. Ik zoû niet gelukkig kunnen zijn, als ik hem niet iederen dag zag. Hij is mij een behoefte geworden.\n",
    "\n",
    "—Hoe vreemd! Ik dacht, dat jij nooit om iets anders dan om je kunst zoû geven.\n",
    "\n",
    "—Hij is nu geheel mijn kunst voor mij, zei de schilder met ernst. Ik denk wel eens, Harry, dat er maar twee oogenblikken zijn van eenig gewicht voor de wereldgeschiedenis. Ten eerste: de geboorte van een nieuwe kunstmanier; ten tweede: de geboorte van een nieuwe persoonlijkheid voor de kunst. Wat de uitvinding van schilderen in olieverf was voor de Venetianen, was het gelaat van Antinous voor latere Grieksche beeldhouwkunst, en zal het gezicht van Dorian Gray ook eens voor mij zijn. Het is niet alleen, dat ik naar hem schilder, teeken of schets. Natuurlijk heb ik dat alles gedaan. Maar hij is mij meer dan een model. Ik zeg niet, dat ik ontevreden ben met wat ik van hem gemaakt heb, of dat zijn mooi niet door kunst kan worden uitgedrukt. Er is niets, dat kunst niet kan teruggeven, en ik weet, dat mijn werk, sinds ik Dorian Gray ontmoette, knap is, het beste, dat ik ooit doen zal. Maar ik ben benieuwd of je me begrijpen zal? Zijn persoonlijkheid heeft mij een geheel nieuwe manier ingegeven. Ik zie de dingen anders, ik denk anders over die dingen. Ik kan nu het leven herscheppen op een manier, die mij vroeger verborgen was. Een droom van lijnen in dagen van gedachten, wie heeft dat ook weêr gezegd? Ik weet niet meer, maar dàt is het wat Dorian Gray voor mij is. Niets dan het uiterlijke bijzijn van dien jongen—want voor mij is hij nog een jongen, hoewel hij toch over de twintig is—niets dan zijn uiterlijke bijzijn—oh! begrijp je wat dat in zich heeft? Zonder te weten, opent hij mij een nieuwe school, een school, waarin heel de passie van den romantieken geest, en heel de volmaaktheid van den Griekschen geest is. Harmonie van ziel en lichaam—hoeveel is dat niet! Wij, in onze dwaasheid hebben ze van elkaâr gescheiden en hebben een realisme uitgevonden, dat vulgair en een idealisme, dat hol is.—Harry, als je weten kon wat Dorian Gray voor mij is! Herinner je je dat landschap van me, waar Agnew zooveel voor bood, maar waar ik niet van woû scheiden? Het is een van mijn beste werken. En waarom? Omdat, terwijl ik het schilderde, Dorian Gray naast mij zat. Een subtiele invloed ging van hem over op mij, en, voor het eerst in mijn leven, zag ik in het eenvoudige boomlandschap dàt, wat ik altijd zocht, en altijd miste.\n",
    "\n",
    "—Basil, dat alles is bepaald interessant. Ik moet dien Dorian Gray eens zien.\n",
    "\n",
    "Hallward stond op, liep den tuin op en neêr. Na een korte poos kwam hij terug.\n",
    "\n",
    "—Harry, zeide hij. Dorian Gray is niets dan een motief in mijn kunst. Jij zoû niets in hem zien. Ik zie alles in hem. Hij is nooit meer in mijn werk, dan wanneer zijn wezen niet om mij is. Hij is, zooals ik zei, een suggestie van iets nieuws. Ik vind hem terug in de rondingen van zekere lijnen, in de lieflijkheid en fijnheid van zekere kleuren. Dat is alles.\n",
    "\n",
    "—Maar waarom wil je dan zijn portret niet expozeeren? vroeg Lord\n",
    "Henry.\n",
    "—Omdat, zonder het te willen, ik er iets in heb gelegd van deze curieuze artistieke idolatrie, waar ik natuurlijk met hem nooit over gesproken heb. Hij weet daar niets van. Hij zal er ook nooit iets van weten. Maar de wereld mocht het eens raden, en ik wil mijn ziel niet bloot geven aan hun domme nieuwsgierige oogen. Mijn hart zal nooit onder hun microscoop komen. Daar is te veel van mijzelven in dat doek, Harry,—te veel van mijzelven!\n",
    "\n",
    "—Dichters zijn niet zoo teêrgevoelig als jij. Zij weten best hun passies te gebruiken om naam te maken. Een gebroken hart geeft tegenwoordig telkens nieuwe uitgaven.\n",
    "\n",
    "—Ik haat ze daarom! riep Hallward uit. Een artist moet mooie dingen scheppen, maar er niets van zijn eigen leven in leggen. We leven in een eeuw waarin kunst als een soort autobiografie beschouwd wordt. Wij hebben het abstracte idee van schoonheid verloren. Eens zal ik de wereld toonen wat dat is, en daarom zal de wereld ook nooit mijn portret van Dorian Gray zien.\n",
    "\n",
    "—Ik geloof, dat je ongelijk hebt, Basil, maar ik wil niet met je kibbelen. Intellectueel verloren is iedereen, die redeneert. Zeg eens, is Dorian Gray erg op jou gesteld?\n",
    "\n",
    "De schilder dacht even na.\n",
    "\n",
    "—Hij houdt van me, zei hij toen; ik weet, dat hij van mij houdt. Natuurlijk vlei ik hem vreeselijk. Ik vind er een vreemd genoegen in hem dingen te zeggen, waarvan ik later spijt heb. Over het algemeen, is hij heel aardig tegen me, en kunnen we heel gezellig over allerlei dingen zitten praten in mijn atelier. Maar nu en dan is hij erg onnadenkend en schijnt hij er pleizier in te hebben mij pijn te doen. En Harry, dan voel ik, dat ik mijn heele ziel gegeven heb aan iemand, die ze beschouwt als een bloem, om in zijn knoopsgat te steken.\n",
    "\n",
    "—Misschien zal het jou nog eerder gaan vervelen dan hem, Basil, murmelde Lord Henry. Het is treurig, maar genie duurt ongetwijfeld altijd langer dan schoonheid; daarom jagen we allemaal zoo naar overbeschaving. In onzen strijd voor het bestaan zoeken we naar iets, dat stand houdt, en daarom vullen we onze hersens op met nonsens en met feiten, in de dwaze hoop dàn te zullen blijven staan. Een man, die van alles op de hoogte is, dat is het moderne ideaal. En de hersens van zoo een man zijn een vreeselijke chaos; het is er net als in een galanteriewinkel; niets dan stoffige prullen, geprijsd boven de eigenlijke waarde … O ja, hij zal jou het eerste gaan vervelen. Op een goeden dag zal je je vriend aanzien en hem niet goed van lijn of leelijk van kleur vinden, of iets dergelijks. Je zal het hem in je binnenste erg verwijten, en heusch vinden, dat hij je slecht behandeld heeft. Den volgenden keer, dat hij bij je komt, ben je koud en onverschillig. Het zal jammer zijn, want het zal jou ook heelemaal veranderen. Wat je mij vertelde is een roman; je zoû kunnen zeggen: een roman van kunst en het nadeel van elken roman is, dat het jezelven zoo geheel en al onromantisch achterlaat.\n",
    "\n",
    "—Harry, spreek zoo niet. Zoolang ik leef zal de persoon van Dorian Gray mij domineeren. Jij kan niet voelen, wat ik voel. Je bent te veranderlijk.\n",
    "\n",
    "—Wel, mijn beste Basil, daarom juist kan ik dat voelen. Die getrouw zijn, kennen alleen den trivialen kant van de liefde, de ontrouwen alleen kennen de liefdedrama's.\n",
    "\n",
    "En Lord Henry streek een lucifer af op zijn kleine zilveren doos, en begon eene cigarette te rooken met een zelfbewust en zeer tevreden gezicht, als had hij de wereld in één woord samengevat. Er was een geritsel van trirpende spreeuwen in de groen verlakte bladeren van den klimop, en blauwe wolkschimmen schaduwden elkaâr na over het gras, als zwaluwen. Hoe heerlijk was het in den tuin … En wat waren de emoties van anderen toch aangenaam! veel aangenamer dan hunne gedachten, vond Lord Henry. Je eigen ziel, en de passies van je vrienden—dàt waren de bekoringen van het leven. Hij stelde zich met een stil genot de vervelende lunch voor, die hij was misgeloopen door zoo lang bij Basil Hallward gebleven te zijn. Was hij naar zijne tante gegaan, hij zoû daar zeker Lord Goodbody hebben ontmoet, en het geheele gesprek zoû geloopen hebben over armen eten geven en over de noodzakelijkheid van modelslaapplaatsen. Iedereen zoû geredeneerd hebben over de belangrijkheid van deugden, die in zijn leven niet waren. De rijke zoû uitgevaren over de spilzucht, de luiaard welbespraakt geworden zijn over het goede van arbeidzaamheid. Het was zalig dat alles misgeloopen te hebben. Terwijl hij aan zijne tante dacht, schemerde iets door hem heen. Hij wendde zich tot Hallward en zei:\n",
    "\n",
    "—Mijn beste kerel, ik herinner me daar juist iets.\n",
    "\n",
    "—Wat dan, Harry?\n",
    "\n",
    "—Waar ik den naam van Dorian Gray hoorde.\n",
    "\n",
    "—Waar was dat? vroeg Hallward met een lichten frons.\n",
    "\n",
    "—Kijk toch zoo boos niet, Basil. Het was bij mijn tante Lady Agatha. Ze zei me, dat ze een voorbeeldig jongmensch gevonden had, die haar in East End zoû helpen, en dat hij Dorian Gray heette. Ik moet bekennen, dat ze me nooit gezegd heeft hoe hij er uitzag. Vrouwen kunnen daar trouwens niet over oordeelen, tenminste, brave vrouwen niet. Ze zei, dat hij zeer ernstig was, en een prachtig karakter had. Ik stelde me dadelijk voor; een wezen met een bril op, sluik haar, veel sproeten en ontzettend groote voeten. Ik woû, dat ik geweten had, dat hij een vriend van jou was.\n",
    "\n",
    "—Ik ben heel blij, dat je dat niet wist, Harry.\n",
    "\n",
    "—Waarom?\n",
    "\n",
    "—Ik wil niet, dat je hem ontmoet.\n",
    "\n",
    "—Wil je niet, dat ik hem ontmoet?\n",
    "\n",
    "—Neen.\n",
    "\n",
    "—Mr. Dorian Gray is in het atelier, meneer! zei de knecht, die in den tuin kwam.\n",
    "\n",
    "—Nu moet je me wel aan hem voorstellen! schaterde Lord Henry.\n",
    "\n",
    "De schilder wendde zich tot den knecht, die in de zon stond te knipoogen:\n",
    "\n",
    "—Vraag Mr. Gray even te wachten, Parker, ik kom dadelijk.\n",
    "\n",
    "De knecht boog en ging het pad terug.\n",
    "\n",
    "Toen keek Basil naar Lord Henry.\n",
    "\n",
    "—Dorian Gray is mijn beste vriend, hernam hij. Hij is een eenvoudig naïef kind. Je tante had gelijk, toen zij zooveel goeds van hem zei. Bederf hem niet. Probeer niet hem te influenceeren. Je invloed zoû slecht zijn. De wereld is ruim, en interessante menschen zijn er genoeg te vinden. Ontneem mij niet de eenige persoon, die aan mijn kunst alle bekoring geeft, die ze bezit: mijn leven als artist hangt van hem af. Denk er om Harry; ik, ik … reken … op … je …\n",
    "\n",
    "Hij sprak zeer langzaam en de woorden schenen tegen zijn wil uit hem gewrongen te worden.\n",
    "\n",
    "—Wat een nonsens zeg je toch! zei Lord Henry, glimlachend, en\n",
    "Hallward bij den arm nemend, drong hij hem bijna het huis binnen.\n",
    "'''"
   ]
  },
  {
   "cell_type": "code",
   "execution_count": 65,
   "metadata": {
    "executionInfo": {
     "elapsed": 1028,
     "status": "ok",
     "timestamp": 1689793725587,
     "user": {
      "displayName": "Urmi Dedhia",
      "userId": "04029137391343867476"
     },
     "user_tz": -330
    },
    "id": "FfcEGsixjR-M"
   },
   "outputs": [],
   "source": [
    "DG_nl_en_text = '''\n",
    "'I.\\n'\n",
    " 'The studio was full of rich scent of roses, and as soon as the light summer '\n",
    " 'wind vibrated in the trees of the garden, a heavy breath of lilacs came '\n",
    " 'through the open door, a finer aroma of the pink-flowering hawthorn.\\n'\n",
    " '\\n'\n",
    " 'From the corner of a Persischen divan, on which he was smoke as usual '\n",
    " 'cigarettes, Lord Henry Wotton was able to see the shine of Honig-sweet and '\n",
    " 'honey-colored blossoms of golden rains;The trembling branches seemed to be '\n",
    " 'able to carry it nicely nicely nicely.Fantastic shadows of birds in flight '\n",
    " 'shot over the long tussore-sides curtains that hung in front of the large '\n",
    " 'window;They did something of a Japanese effect;They reminded of the anemic '\n",
    " 'painters of Tokyo, who, proudly a necessary unobstructed art as theirs, '\n",
    " 'tries to imagine the idea of speed and movement.The dull gons of the bees, '\n",
    " 'which sanded through the high unaware grass or, with monotonous patience, '\n",
    " 'circled around the dusty golden horns of the striking honeysuckle, seemed to '\n",
    " 'make the silence even heavier.The vague tan of London was like the bastone '\n",
    " 'of a distant organ.\\n'\n",
    " '\\n'\n",
    " 'In the middle of the room, clamped on a donkey, stood, the portrait of a '\n",
    " \"boy's man of particular beauty;The painter himself was at some \"\n",
    " 'distance;Basil Hallward, whose sudden disappearance a few years ago such a '\n",
    " 'general curiosity gave rise to many strange suspicions ...\\n'\n",
    " '\\n'\n",
    " 'Now that the painter looked at the graceful form, whom he had so clever in '\n",
    " 'his art, there was a smile of pleasure about his face;For a long time it '\n",
    " 'kept shining there.\\n'\n",
    " '\\n'\n",
    " 'But suddenly he raised himself, and, the eyes closed, he pressed his fingers '\n",
    " 'on animal, as if he sought a stranger dream, from which he feared awakening, '\n",
    " 'to hold in his brain.\\n'\n",
    " '\\n'\n",
    " \"- It is your best work, Basil.The best you've ever done, said Lord Henry \"\n",
    " 'Slapjes.You have to send that to the Grosvenor the following year.The '\n",
    " 'Academy is too big and too general.When I came there, there were either so '\n",
    " 'many people that I could not see the paintings, - and that was annoying, '\n",
    " '—Apt so many paintings that I could not see the people, and that was even '\n",
    " 'more annoying.Heusch, the Grosvenor is the only place.\\n'\n",
    " '\\n'\n",
    " '\"I don\\'t think I will send this somewhere, Basil answered, threw his head '\n",
    " 'back with that strange gesture, why his friends in Oxford were just laughing '\n",
    " \"at him.No, I don't send it anywhere.\\n\"\n",
    " '\\n'\n",
    " 'Lord Henry attracted his eyebrows and looked at him in surprise by the thin '\n",
    " 'blue wreaths of smoke, which curled erratics of his opium cigarette.\\n'\n",
    " '\\n'\n",
    " '—Mn not to?Dear boy, why?Do you have a reason for that?What are your '\n",
    " 'painters crazy guys.You do everything in the world to make a name for '\n",
    " 'himself;As soon as your name fails, you want nothing more than to lose '\n",
    " \"him.It's all of you, because there is only one thing in the world worse than \"\n",
    " 'to be talked;That is: not being talked.Such a portrait you couple above all '\n",
    " 'the young painters in England and making the old jaloersch, if old people '\n",
    " 'could still experience an emotion like that.\\n'\n",
    " '\\n'\n",
    " \"- I know that you will find it fool of me, Basil replied;But, truly, I can't \"\n",
    " 'exhibit it;I put too much of me in it.\\n'\n",
    " '\\n'\n",
    " 'Lord Henry stretched out on the divan and laughed.\\n'\n",
    " '\\n'\n",
    " '\"Yes, I knew that you smile, but it\\'s like that ...',\n",
    " '—There of you!Truly Basil, I did not know that you were so vain, and I can '\n",
    " 'not see a similarity between you, with your rough face, full of wrinkles, '\n",
    " 'and your black hair, and these adonis, who looks like he is made of ivory '\n",
    " 'and roseblâren.Dear Basil!He is a young God!And you - now you look '\n",
    " 'intelligent and so much, but beauty, real beauty ends where an intelligent '\n",
    " 'expression starts.Intellect is a kind of exaggeration in itself and disrupts '\n",
    " 'the harmony of every face;As soon as someone sits down to think, he becomes '\n",
    " 'all nose or forehead or something else.Look at all men who are famous in '\n",
    " 'learning;How terribly ugly they are;Of course not in the church, but in the '\n",
    " \"church they don't think.A bishop says, if he is eighty, exactly what he had \"\n",
    " 'to say when he was eighteen and, as a natural consequence, he always looks '\n",
    " 'bright.Your mysterious young friend, you must never have called me, but '\n",
    " \"whose portrait certainly encountered me, never thinks;I'm sure about that.He \"\n",
    " 'is a beautiful boy without a brain, who always had to be here in winter, if '\n",
    " 'we have few flowers to look at, or in the summer, if we want to cool our '\n",
    " \"minds.Flei Jeselven but not;Basil, you don't look the least like him!\\n\"\n",
    " '\\n'\n",
    " '\"You don\\'t understand me, Harry, the painter answered.Of course I don\\'t '\n",
    " 'look like him, I know that very well;And I would not like to look like '\n",
    " 'him.You do not believe me?I tell you the truth.There is a fate on all fyic '\n",
    " 'and intellectual distinction, the same fate, which seems to rest on '\n",
    " 'princes.One should not differ from his Evenmenschen.Ugly and dumbles are '\n",
    " 'best in the world.They are at ease and look at the fun.They know nothing '\n",
    " 'about success, they also know no disappointment.They live as we all had to '\n",
    " 'live, undisturbed and indifferent and without unrest.They never bring misery '\n",
    " 'about others and never get it from others.You, through your rank and wealth, '\n",
    " 'Harry;I, because of my brain and art, whatever they are worth;Dorian Gray, '\n",
    " 'because of his beautiful face, we must all suffer from what the gods give '\n",
    " 'us, to suffer terribly.\\n'\n",
    " '\\n'\n",
    " '—Dorian Gray?Is his name like that?asked Lord Henry.\\n'\n",
    " '\\n'\n",
    " '\"Yes, it\\'s called.I didn\\'t intend to tell you.\\n'\n",
    " '\\n'\n",
    " '-Why not?\\n'\n",
    " '\\n'\n",
    " '\"I don\\'t know.If I have a lot of someone, I never say his name.It is as if '\n",
    " 'I then give something away from him.I used mystery to love.It seems that the '\n",
    " 'only one makes modern life interesting or special.The most common will be '\n",
    " 'nice if you hide it.When I go out of the city, I never give up my address;If '\n",
    " 'I did that, I never have a pleasure.It is certainly a crazy habit, but it '\n",
    " \"gives something romantic 'to your life.I believe that you find me very \"\n",
    " 'foolish.\\n'\n",
    " '\\n'\n",
    " '\"No, Lord Henry replied, not at all, value basil.You seem to forget that I '\n",
    " 'am married, and the only charm of marriage is that it makes a life of '\n",
    " 'pre-madness needed for both parties.I never know where my wife is, and my '\n",
    " 'wife never knows what I am doing.When we meet each other - we now and then '\n",
    " 'meet each other on a dinner or at the Duke - then we tell each other the '\n",
    " 'most absurd history with the most serious faces.My wife can do that very '\n",
    " 'well, certainly much better than me;She never mistaken herself in her dates, '\n",
    " 'and I always;But if she discovers that, she never makes a scene of '\n",
    " 'it;Sometimes I do that she did this, but she laughs me alone.\\n'\n",
    " '\\n'\n",
    " '\"I don\\'t do it as you talk about your wedding life, Basil Hallward said, '\n",
    " 'and he went to the garden door.I believe that you are a good man, but that '\n",
    " 'you are ashamed of your bar about your own virtues.You are a special guy: '\n",
    " 'you never say anything good and you never do anything angry.Your skepticism '\n",
    " 'is just a poze.\\n'\n",
    " '\\n'\n",
    " '\"Natural is also a poze, and the most annoying thing I know laughed Lord '\n",
    " 'Henry.\\n'\n",
    " '\\n'\n",
    " 'They went into the garden and let themselves be comfortable on a wicker '\n",
    " 'bank, in the shadow of a high laurel tree.The sunlight slipped over the '\n",
    " 'polished leaves.White daisives vibrated in the grass.After a pooze, Lord '\n",
    " 'Henry took out his watch.\\n'\n",
    " '\\n'\n",
    " '- I think I have to go, Basil, he said softly, and before I leave, I now '\n",
    " 'woû, that you answered me to the question that I did so for a moment.\\n'\n",
    " '\\n'\n",
    " '-What then?the painter asked, to the ground.',\n",
    " '- You know that very well.\\n'\n",
    " '\\n'\n",
    " '- No, really not, Harry.\\n'\n",
    " '\\n'\n",
    " '\"Now, I\\'ll repeat them again.I woû that you said now, why you don\\'t want '\n",
    " 'to exhibit the portrait of Dorian Gray.I want to know the real reason.\\n'\n",
    " '\\n'\n",
    " '\"I already told you.\\n'\n",
    " '\\n'\n",
    " '\"No, you don\\'t have that.You said: because there was too much of you.Now, '\n",
    " 'that is childish.\\n'\n",
    " '\\n'\n",
    " '—Harry, said Basil Hallward, seeing him looking straight into the eyes;A '\n",
    " 'portrait, which is painted with feeling, is a picture of the artist, not '\n",
    " 'from him, who sat for it.The model is purely coincidence and '\n",
    " 'by-condition.That is revealed here by the painter, but the painter reveals '\n",
    " 'himself on the canvas.The reason that I do not want to show this portrait '\n",
    " 'is: that I am afraid of showing the secret of my own soul in it.\\n'\n",
    " '\\n'\n",
    " 'Lord Henry laughed.\\n'\n",
    " '\\n'\n",
    " '—And what is that secret?\\n'\n",
    " '\\n'\n",
    " '\"I will tell you, Hallward said, but something of embarrassment slipped over '\n",
    " 'his face.\\n'\n",
    " '\\n'\n",
    " '- I am all expectations, Basil!',\n",
    " '\"It is said in a few words, Harry, and I think you won\\'t even understand '\n",
    " \"it.Maybe you don't believe it either.\\n\"\n",
    " '\\n'\n",
    " 'Lord Henry smiled, and, bending, he picked a red -leaf daisy from the grass, '\n",
    " 'and looked at it.\\n'\n",
    " '\\n'\n",
    " '-I am convinced that I will understand, he said, and he remained carefully '\n",
    " 'viewed the gold and white-rough sunshine in his hand;And I believe that I '\n",
    " 'can believe everything, as long as it is very incredible.\\n'\n",
    " '\\n'\n",
    " 'The wind shook some blossoms from the trees, and the heavy lilac branches, '\n",
    " 'full of bunches of asterisks cradling and orphaned in the sultry air.A '\n",
    " 'grasshopper tjirpte by the wall, and like a blue wire, a long, thin '\n",
    " 'dragonfly flew by brown mesh wings.Lord Henry believed to hear Basil '\n",
    " 'Hallwards Hart beating;He was curious what is coming.\\n'\n",
    " '\\n'\n",
    " '- This is simple, the painter said after a moment.Two months ago I went to a '\n",
    " 'reception at Lady Brandon.You know, we poor artists have to show ourselves '\n",
    " 'in company from time to time to remember the public that we did not want to '\n",
    " 'be.With a skirt and a white tie, you once said, everyone, even a contractor, '\n",
    " 'can make the reputation a man of the world.\\n'\n",
    " '\\n'\n",
    " 'Now, when I was in for ten minutes, and talked with thick, defeated '\n",
    " 'douairières and annoying academists, I once felt that someone was looking at '\n",
    " 'me.I turned halfway and saw Dorian Gray for the first time.When our eyes met '\n",
    " 'each other, I felt that I became pale.A curious sense of fear came over me.I '\n",
    " 'knew that I stood opposite someone, whose personality alone was a charm, '\n",
    " 'that if I did not oppose them, my whole nature, my soul, my art even solve '\n",
    " \"themselves in them.I didn't want an influence from outside on my life.You \"\n",
    " 'know, Harry, how independent I am of nature.I have always been my own '\n",
    " \"boss;At least: until I met Dorian Gray.Then - but I don't know how to \"\n",
    " 'explain it.Something told me that I stood on the border of a great crizis in '\n",
    " 'my life.I had a strange premonition that fate kept special enjoyments and '\n",
    " 'particular sadness ready for me.I got scared and going out of the room.It '\n",
    " 'was not my conscience that forced me to do this, it was a kind of '\n",
    " 'cowardice.It was an involuntary urge to flee.\\n'\n",
    " '\\n'\n",
    " '- Court and cowardice are exactly the same, basil.Conscience is just the '\n",
    " 'name that the company assumes on the market.That is the only difference.\\n'\n",
    " '\\n'\n",
    " '\"I don\\'t believe anything about Harry, and you don\\'t.In any case, whatever '\n",
    " 'forced me - a kind of pride, because I used to be very proud - this is sure: '\n",
    " 'I tried to go out.But of course I pounded against Lady Brandon:\\n'\n",
    " '\\n'\n",
    " '\"You don\\'t intend to leave now, Mr.Hallward?she cried.\\n'\n",
    " '\\n'\n",
    " '\"You know her shell voice.',\n",
    " '\"Yes, she\\'s a peacock in everything except in beauty, Lord Henry said, '\n",
    " 'pulling the daisy with his long, nervous fingers to pieces.\\n'\n",
    " '\\n'\n",
    " '\"I couldn\\'t get rid of her.She praised me for royal persons, and be-Starde '\n",
    " \"and Be-stocking people and old ladies with giant tiara's and \"\n",
    " 'cakatoe-neuzen.She spoke about me as about an intimate friend.I had just met '\n",
    " 'her, but she had put it on to launch me.I believe that a painting from mine '\n",
    " 'had already been successful at the time;At least it was written about a '\n",
    " 'penny;You know, the nineteen -century book of immortality.Once I came close '\n",
    " 'to the boy.We stood next to each other and almost touched each other.We '\n",
    " 'looked each other in the eyes.It was reckless of me, but I asked Lady '\n",
    " 'Brandon to introduce him to him;Perhaps it was not daring, it was simply '\n",
    " 'inevitable;We would have spoken with each other, even without a '\n",
    " 'presentation, I am sure.Dorian told me that later;Also felt that we were '\n",
    " 'destined each other.\\n'\n",
    " '\\n'\n",
    " '—And how did Lady Brandon described that young wonder-people?I know that she '\n",
    " 'would like to get a quick baptismal of all her guests.I remember that she '\n",
    " 'brought me to a wastel, old gentleman with a red face and completely hung '\n",
    " 'with plaques and ribbons and hiss then, with a tragic whisper, which must '\n",
    " 'have been perfectly audible for the whole room, the most surprising détails '\n",
    " 'in the ear.I went through: I how to find my people out of it, but Lady '\n",
    " 'Brandon treats her guests treated as a turner.She plasts them either at all, '\n",
    " 'or tells them everything from them, except what they want to know about '\n",
    " 'them.\\n'\n",
    " '\\n'\n",
    " '\"Lady Brandon.You are hard for her, Harry, Hallward said listless.\\n'\n",
    " '\\n'\n",
    " '‘My dear boy, she tries to hold a salon and only holds a restoration: how '\n",
    " 'can I admire her?But say now, what she said of Mr.Dorian Gray?\\n'\n",
    " '\\n'\n",
    " '—O, something like: dear boy;His poor best mother and I were inseparable;I '\n",
    " \"have forgotten what he is doing;I'm afraid he doesn't do anything.Oh yes, he \"\n",
    " 'plays the piano, or is the violin, dear Mr.Gray?We both had to laugh, and '\n",
    " 'immediately became friends.\\n'\n",
    " '\\n'\n",
    " '- Lachen is completely no harm start for friendship and it is certainly the '\n",
    " 'best end to it, the young Lord said, picking another Madelief, Hallward '\n",
    " 'shook his head.\\n'\n",
    " '\\n'\n",
    " '\"You don\\'t know what friendship is, Harry, or what enmity is.You love '\n",
    " \"everyone, I think you don't love anyone.\\n\"\n",
    " '\\n'\n",
    " '\"What are you terribly unjust, said Lord Henry.He put his hat back and '\n",
    " 'looked at the clouds, who drove shiny white silk like diverse strands '\n",
    " 'through the vaulted turquoise of the summer air. Yes, terribly unjust.I make '\n",
    " 'a big difference between people: I choose my friends for their beautiful '\n",
    " 'faces, my acquaintances for their good characters and my enemies for their '\n",
    " \"good brains.One cannot be too difficult in the choice of his enemies.I don't \"\n",
    " 'have one that is stupid;They are all men of development and therefore they '\n",
    " 'all appreciate me.Is that very vain from me?I do believe that it is already '\n",
    " '...\\n'\n",
    " '\\n'\n",
    " '\"I also believe Harry, but, at your division, I seem to be an acquaintance.\\n'\n",
    " '\\n'\n",
    " '‘My dear old boy, you are much more than an acquaintance.',\n",
    " '—And less than a friend;A kind of Broêr, I think.\\n'\n",
    " '\\n'\n",
    " \"—O Broêrs, I don't care about Broêrs;My oldest Broêr does not want to die, \"\n",
    " 'and my younger Broêrs do no different.\\n'\n",
    " '\\n'\n",
    " '—Harry!Hallward exclaimed with a frown.\\n'\n",
    " '\\n'\n",
    " '‘I dear boy, I am not very serious in seriousness, but I cannot help that I '\n",
    " \"hate my family.I think it is because we can't stand anyone who has our same \"\n",
    " 'mistakes.I feel complete sympathy for the anger of the English Demokrates '\n",
    " 'against what they call the vices of the higher classes.The people feel that '\n",
    " 'drunkenness, stupidity and immorality should be their own private property '\n",
    " 'and that, if someone of us plays himself, he ventures on their terrain.When '\n",
    " 'that poor Southwark came in front of the Hof of Divorce, they were '\n",
    " 'beautifully indignant, and yet I believe that no ten percent of the '\n",
    " 'proletariat lives neatly.\\n'\n",
    " '\\n'\n",
    " '\"I don\\'t agree with you in a word, Harry, and not you either.\\n'\n",
    " '\\n'\n",
    " 'Lord Henry stroked his brown pointed beard and tapped at the tip of his '\n",
    " 'lacquered boot with his ebony baton with brushes.\\n'\n",
    " '\\n'\n",
    " '\"What are you thoroughly English, Basil!It is the second time that you make '\n",
    " 'that comment.If you share an idea for a good Englishman, and that is already '\n",
    " \"a careless thing! - then it doesn't come to him whether the idea is good or \"\n",
    " 'angry.The only thing that he attaches to, is whether you believe it '\n",
    " 'yourself.Now, the value of an idea has nothing to do with the sincerity of '\n",
    " 'him, who proclaims it.The less he believes it, the more chance you have that '\n",
    " 'the opinion is of any value, because in that case neither his needs, nor his '\n",
    " 'wishes or prejudices have had some influence on it.In addition, I have no '\n",
    " 'plan at all to talk to you about politics, sociology or metaphyzica.I have '\n",
    " 'more of people than principles, and I have the most of all of people without '\n",
    " 'principles.Tell a few things from Mr.Dorian Gray.Do you often see him?\\n'\n",
    " '\\n'\n",
    " \"—Isen day.I can't be happy if I didn't see him every day.He has become a \"\n",
    " 'need for me.\\n'\n",
    " '\\n'\n",
    " '\"How strange!I thought you never care about anything other than about your '\n",
    " 'art.\\n'\n",
    " '\\n'\n",
    " '- He is now completely my art for me, the painter said with seriousness.I '\n",
    " 'sometimes think, Harry, that there are only two eyes of any weight for world '\n",
    " 'history.First: the birth of a new art way;Second: the birth of a new '\n",
    " 'personality for art.What the invention of painting in oil paint was for the '\n",
    " 'Venetians, was the face of Antinous for later Greek sculpture, and the face '\n",
    " 'of Dorian Gray will also be for me.It is not alone that I paint, sign or '\n",
    " 'sketch to him.Of course I did all that.But he is more than a model.I am not '\n",
    " 'saying that I am dissatisfied with what I made of him, or that his beautiful '\n",
    " 'cannot be expressed by art.There is nothing that cannot give back art, and I '\n",
    " 'know that my work, since I met Dorian Gray, is handsome, the best I will '\n",
    " 'ever do.But I am curious if you will understand me?His personality has given '\n",
    " 'me a whole new way.I see things differently, I think differently about those '\n",
    " 'things.I can now recreate life in a way that used to be hidden me.A dream of '\n",
    " \"lines in days of thoughts, who also said that?I don't know anymore, but that \"\n",
    " 'is what Dorian Gray is for me.Nothing but the external presence of that boy '\n",
    " '- for me, he is still a boy, although he is about twenty - not bike than his '\n",
    " 'outer presence - oh!Do you understand what that has in it?Without knowing, '\n",
    " 'he opens me a new school, a school, in which the whole passion of the '\n",
    " 'romantics spirit, and the whole of the Greek Spirit is.Harmony of soul and '\n",
    " 'body - how much is that not!We, in our foolishness they have separated from '\n",
    " 'each other and invented a realism, that vulgar and an idealism that is '\n",
    " 'hollow. - Harry, if you could know what Dorian Gray is for me!Do you '\n",
    " 'remember that landscape of mine, for which Agnew offered so much, but where '\n",
    " \"I don't separate from Woû?It is one of my best works.And why?Because while I \"\n",
    " 'painted it, Dorian Gray sat next to me.A subtle influence of him switched to '\n",
    " 'me, and, for the first time in my life, I saw that in the simple tree '\n",
    " 'landscape, which I always searched, and always missed.\\n'\n",
    " '\\n'\n",
    " '—Basil, that everything is certainly interesting.I should see Dorian Gray.\\n'\n",
    " '\\n'\n",
    " 'Hallward stood up, walked up the garden and ceêr.After a short while he came '\n",
    " 'back.',\n",
    " '\"Harry, he said.Dorian Gray is nothing but a motif in my art.You see nothing '\n",
    " 'in him.I see everything in him.He is never more in my work than when his '\n",
    " 'being is not because of me.He is, as I said, a suggestion of something new.I '\n",
    " 'find him in the curves of certain lines, in the sweetness and fineness of '\n",
    " \"certain colors.That's all.\\n\"\n",
    " '\\n'\n",
    " '\"But why don\\'t you want to exhibit his portrait?early lord\\n'\n",
    " 'Henry.\\n'\n",
    " '\"Because, without wanting it, I have put something in it from this curious '\n",
    " \"artistic idolatrie, which I have of course never talked about.He doesn't \"\n",
    " 'know anything about that.He will never know anything about it either.But the '\n",
    " \"world was allowed to guess, and I don't want to expose my soul to their \"\n",
    " 'stupid curious eyes.My heart will never come under their microscope.There is '\n",
    " 'too much of me in that canvas, Harry, - much of me!\\n'\n",
    " '\\n'\n",
    " '\"Diders are not as sensitive to you.They know how to use their passions to '\n",
    " 'make a name for themselves.A broken heart nowadays gives new expenses.\\n'\n",
    " '\\n'\n",
    " '\"I hate them!Hallward exclaimed.An artist has to create beautiful things, '\n",
    " \"but don't put anything in his own life.We live in a century in which art is \"\n",
    " 'considered a kind of autobiography.We have lost the abstract idea of '\n",
    " 'beauty.Once I will show the world what that is, and that is why the world '\n",
    " 'will never see my portrait of Dorian Gray.\\n'\n",
    " '\\n'\n",
    " \"- I believe that you are wrong, Basil, but I don't want to bicker with \"\n",
    " 'you.Intellectually lost is everyone who reasons.Say, is Dorian Gray very '\n",
    " 'fond of you?\\n'\n",
    " '\\n'\n",
    " 'The painter thought for a moment.\\n'\n",
    " '\\n'\n",
    " '- He loves me, he said then;I know he loves me.Of course I flew him '\n",
    " 'terribly.I find a strange pleasure to say things in him, of which I will '\n",
    " 'regret later.In general, he is very nice to me, and we can very pleasantly '\n",
    " 'talk about all kinds of things in my studio.But now and then he is very '\n",
    " 'thoughtless and seems to be a pleasure in hurting me.And Harry, then I feel '\n",
    " 'that I have given my whole soul to someone who regards them as a flower to '\n",
    " 'put in his buttonhole.\\n'\n",
    " '\\n'\n",
    " '\"Mass it will get bored to you rather than him, Basil, Lord Henry '\n",
    " 'murmured.It is sad, but Genie will undoubtedly always take longer than '\n",
    " 'beauty;That is why we all hunt over civilization.In our struggle for '\n",
    " 'existence we look for something that holds, and that is why we fill our '\n",
    " 'brains with nonsense and with facts, in the foolish hope to stay.A man who '\n",
    " 'is aware of everything, that is the modern ideal.And the brain of such a man '\n",
    " 'are a terrible chaos;It is just like in a gallant shop shop;Nothing but '\n",
    " 'dusty trash, priced above the actual value ... Oh yes, he will get bored '\n",
    " \"first.On a good day you will see your friend and don't find him in line or \"\n",
    " 'ugly color, or something like that.You will really blame him in your '\n",
    " 'interior, and real that he has treated you badly.The next time that he comes '\n",
    " 'to you, you are cold and indifferent.It will be a shame, because it will '\n",
    " 'change you completely.What you told me is a novel;You can say: a novel of '\n",
    " 'art and the disadvantage of the novel is that it leaves Jeselven so '\n",
    " 'completely unromantically.\\n'\n",
    " '\\n'\n",
    " '\"Harry, don\\'t speak like that.As long as I live, the person of Dorian Gray '\n",
    " \"will dominate me.You can't feel what I feel.You are too changeable.\\n\"\n",
    " '\\n'\n",
    " \"- Well, my best basil, that's why I can feel that.Being faithful, only know \"\n",
    " 'the trivials side of love, the free -up only know the love dramas.\\n'\n",
    " '\\n'\n",
    " 'And Lord Henry gave a match on his small silver box, and started smoking a '\n",
    " 'cigarette with a self -conscious and very satisfied face, as if he had '\n",
    " 'summarized the world in one word.There was a rustle of trircling starlings '\n",
    " 'in the green covered leaves of the ivy, and blue cloud shimmers shadow each '\n",
    " 'other over the grass, like swallows.How wonderful it was in the garden ... '\n",
    " 'and what were the emotions of others pleasant!Lord Henry thought much more '\n",
    " 'pleasant than their thoughts.Your own soul, and the passions of your friends '\n",
    " '- were the charms of life.With a quiet pleasure, he introduced himself to '\n",
    " 'the annoying lunch, which he had been wrong by staying with Basil Hallward '\n",
    " 'for so long.He had gone to his aunt, he certainly met Lord Goodbody, and '\n",
    " 'have walked the whole conversation about the poor and giving food and about '\n",
    " 'the necessity of model sleeping places.Everyone has argued about the '\n",
    " 'importance of virtues that were not in his life.De Rijke Zû Zun about the '\n",
    " 'pivotalness, the sloth have become eloquent about the good of workability.It '\n",
    " 'was great that everything was missing.While he thought of his aunt, '\n",
    " 'something was shocked by him.He turned to Hallward and said:\\n'\n",
    " '\\n'\n",
    " '‘My dear guy, I remember something there.',\n",
    " '\"What then, Harry?\\n'\n",
    " '\\n'\n",
    " '- where I heard the name of Dorian Gray.\\n'\n",
    " '\\n'\n",
    " '- Where was that?Early Hallward with a light frown.\\n'\n",
    " '\\n'\n",
    " '\"Not so angry, Basil.It was with my aunt Lady Agatha.She told me that she '\n",
    " 'had found an exemplary young people who help her in East End Zû, and that '\n",
    " 'his name was Dorian Gray.I must confess that she never told me what he '\n",
    " 'looked like.Women cannot judge there, at least, good women.She said he was '\n",
    " 'very serious and had a beautiful character.I immediately introduced myself;A '\n",
    " 'creature with glasses on, straight hair, lots of freckles and incredibly '\n",
    " 'large feet.I Woû, that I had known that he was a friend of yours.\\n'\n",
    " '\\n'\n",
    " '\"I am very happy that you didn\\'t know that, Harry.\\n'\n",
    " '\\n'\n",
    " '-Why?\\n'\n",
    " '\\n'\n",
    " '\"I don\\'t want you to meet him.\\n'\n",
    " '\\n'\n",
    " '\"Do you not want to meet him?\\n'\n",
    " '\\n'\n",
    " '-No.\\n'\n",
    " '\\n'\n",
    " 'Mr.Dorian Gray is in the studio, sir!said the servant who came in the '\n",
    " 'garden.\\n'\n",
    " '\\n'\n",
    " '- Now you have to introduce me to him!Lord Henry lagged.\\n'\n",
    " '\\n'\n",
    " 'The painter turned to the servant, who was winking in the sun:\\n'\n",
    " '\\n'\n",
    " '- Question Mr.Gray waiting, Parker, I will come immediately.\\n'\n",
    " '\\n'\n",
    " 'The servant bowed and went back the path.\\n'\n",
    " '\\n'\n",
    " 'Then Basil looked at Lord Henry.\\n'\n",
    " '\\n'\n",
    " '—Dorian Gray is my best friend, he resumed.He is a simple naive child.Your '\n",
    " \"aunt was right when she said so much good for him.Don't spoil him.Don't try \"\n",
    " 'to influence him.Your influence is bad.The world is spacious, and there are '\n",
    " 'plenty to find interesting people.Do not deprive me the only person who '\n",
    " 'gives my art all the charm that she possesses: my life as an artist depends '\n",
    " 'on him.Think about Harry;Me, me ... count ... on ... you ...\\n'\n",
    " '\\n'\n",
    " 'He spoke very slowly and the words seemed to be won against his will.\\n'\n",
    " '\\n'\n",
    " '\"What a nonsense do you say!said Lord Henry, smiling, and\\n'\n",
    " 'Hallward near the arm, he almost penetrated him into the house.'\n",
    "'''"
   ]
  },
  {
   "cell_type": "code",
   "execution_count": 4,
   "metadata": {
    "executionInfo": {
     "elapsed": 21,
     "status": "ok",
     "timestamp": 1689791400072,
     "user": {
      "displayName": "Urmi Dedhia",
      "userId": "04029137391343867476"
     },
     "user_tz": -330
    },
    "id": "0hzIYhW4CwMp"
   },
   "outputs": [],
   "source": [
    "#it starts with us\n",
    "colleen = '''\n",
    "I wanted the day to go by faster, so I decided to help out in the kitchen at Bib's even though I prepared for the night with a full staff. Now I smell like garlic. This is the third time I've tried scrubbing the smell off, to no avail. But if I don't leave now, I'll be late meeting her.\n",
    "\n",
    "We're taking it slow, so I'm picking her up at her work rather than her apartment. I have no idea where she lives now, or if she still lives in the apartment building I showed up at almost two years ago when she needed help. For whatever reason, where we live is something that hasn't come up in our conversations. She probably doesn't even know I sold my house and moved into the city earlier this year. I'm curious how far apart we live from each other now.\n",
    "\n",
    "\"I smell cologne,\" Darin says after he passes me. He stops walking toward the freezer and turns to give me a once-over. \"Why are you wearing cologne? Why are you dressed up?\"\n",
    "\n",
    "I sniff my hands. \"I don't smell like garlic?\"\n",
    "\n",
    "\"No, you smell like you're going out. Are you leaving?\"\n",
    "\n",
    "\"I am leaving. I'll be back around closing time, though. I think I might stay the night here and see if I can catch whoever is vandalizing the restaurants.\" There were several days of a quiet stretch between incidents, but we got hit for a fourth time last night. It wasn't too costly, though. This time they just scattered the trash everywhere again. That's a lot easier to clean up than repainting has been. That may be because Brad keeps bringing Theo to help. I should probably give Theo a heads-up that the more he complains about a chore, the more likely he's going to be made to do that chore.\n",
    "\n",
    "I plan to confront whoever is doing the damage tonight and see if I can't figure out their motive and talk them down before I get the police involved. I'm confident most things can be handled with a simple, honest conversation rather than a dramatic intervention, but I have no idea who I'm dealing with.\n",
    "\n",
    "Darin leans in and quietly says, \"Who you going out with? Lily?\"\n",
    "\n",
    "I dry my hands on a towel and nod once.\n",
    "\n",
    "Darin smiles and walks away. I like that my friends like Lily. They brought her up a couple of times after our poker night, but I think they could tell it bothered me. I didn't like discussing Lily when she wasn't a part of my life.\n",
    "\n",
    "But now it looks like there's a possibility she's back in the picture. Maybe. This might be why I'm so nervous: because I know what a huge risk Lily is taking by going out with me tonight. If things progress with us, that could impact her life in negative ways. Which might be why I started to feel the immense pressure two hours ago of making sure this date is worth it for her.\n",
    "\n",
    "But I smell like I'm terrified of vampires, so it's already not going my way.\n",
    "\n",
    "I pull into the parking lot at five minutes to six. Lily must have been waiting for me, because she exits her store and locks the door behind her before I’m even out of my car. As soon as I lay eyes on her, I get even more nervous. She looks incredible. She’s wearing a black jumpsuit and heels. She pulls on her jacket and meets me in the middle of the parking lot.\n",
    "'''"
   ]
  },
  {
   "cell_type": "code",
   "execution_count": 5,
   "metadata": {
    "executionInfo": {
     "elapsed": 18,
     "status": "ok",
     "timestamp": 1689791400072,
     "user": {
      "displayName": "Urmi Dedhia",
      "userId": "04029137391343867476"
     },
     "user_tz": -330
    },
    "id": "Wi3Ijl8wEpxn"
   },
   "outputs": [],
   "source": [
    "#the tale of two cities\n",
    "charles = '''\n",
    "It was the best of times, it was the worst of times, it was the age of wisdom, it was the age of foolishness, it was the epoch of belief, it was the epoch of incredulity, it was the season of Light, it was the season of Darkness, it was the spring of hope, it was the winter of despair, we had everything before us, we had nothing before us, we were all going direct to Heaven, we were all going direct the other way—in short, the period was so far like the present period, that some of its noisiest authorities insisted on its being received, for good or for evil, in the superlative degree of comparison only.\n",
    "\n",
    "There were a king with a large jaw and a queen with a plain face, on the throne of England; there were a king with a large jaw and a queen with a fair face, on the throne of France. In both countries it was clearer than crystal to the lords of the State preserves of loaves and fishes, that things in general were settled for ever.\n",
    "\n",
    "It was the year of Our Lord one thousand seven hundred and seventy-five. Spiritual revelations were conceded to England at that favoured period, as at this. Mrs Southcott had recently attained her five-and-twentieth blessed birthday, of whom a prophetic private in the Life Guards had heralded the sublime appearance by announcing that arrangements were made for the swallowing up of London and Westminster. Even the Cock-lane ghost had been laid only a round dozen of years, after rapping out its messages, as the spirits of this very year last past (supernaturally deficient in originality) rapped out theirs. Mere messages in the earthly order of events had lately come to the English Crown and People, from a congress of British subjects in America: which, strange to relate, have proved more important to the human race than any communications yet received through any of the chickens of the Cock-lane brood.\n",
    "\n",
    "France, less favoured on the whole as to matters spiritual than her sister of the shield and trident, rolled with exceeding smoothness down hill, making paper money and spending it. Under the guidance of her Christian pastors, she entertained herself, besides, with such humane achievements as sentencing a youth to have his hands cut off, his tongue torn out with pincers, and his body burned alive, because he had not kneeled down in the rain to do honour to a dirty procession of monks which passed within his view, at a distance of some fifty or sixty yards. It is likely enough that, rooted in the woods of France and Norway, there were growing trees, when that sufferer was put to death, already marked by the Woodman, Fate, to come down and be sawn into boards, to make a certain movable framework with a sack and a knife in it, terrible in history. It is likely enough that in the rough outhouses of some tillers of the heavy lands adjacent to Paris, there were sheltered from the weather that very day, rude carts, bespattered with rustic mire, snuffed about by pigs, and roosted in by poultry, which the Farmer, Death, had already set apart to be his tumbrils of the Revolution. But, that Woodman and that Farmer, though they work unceasingly, work silently, and no one heard them as they went about with muffled tread: the rather, forasmuch as to entertain any suspicion that they were awake, was to be atheistical and traitorous.\n",
    "'''"
   ]
  },
  {
   "cell_type": "code",
   "execution_count": 6,
   "metadata": {
    "executionInfo": {
     "elapsed": 19,
     "status": "ok",
     "timestamp": 1689791400074,
     "user": {
      "displayName": "Urmi Dedhia",
      "userId": "04029137391343867476"
     },
     "user_tz": -330
    },
    "id": "KIvDvQPKEuYA"
   },
   "outputs": [],
   "source": [
    "charles2 = '''\n",
    "A large cask of wine had been dropped and broken, in the street. The accident had happened in getting it out of a cart; the cask had tumbled out with a run, the hoops had burst, and it lay on the stones just outside the door of the wine-shop, shattered like a walnut-shell.\n",
    "\n",
    "All the people within reach had suspended their business, or their idleness, to run to the spot and drink the wine. The rough, irregular stones of the street, pointing every way, and designed, one might have thought, expressly to lame all living creatures that approached them, had dammed it into little pools; these were surrounded, each by its own jostling group or crowd, according to its size. Some men kneeled down, made scoops of their two hands joined, and sipped, or tried to help women, who bent over their shoulders, to sip, before the wine had all run out between their fingers. Others, men and women, dipped in the puddles with little mugs of mutilated earthen ware, or even with handkerchiefs from women's heads, which were squeezed dry into infants' mouths; others made small mud-embankments, to stem the wine as it ran; others, directed by lookers-on up at high windows, darted here and there, to cut off little streams of wine that started away in new directions; others, devoted, themselves to the sodden and lee-dyed pieces of the cask, licking, and even champing the moister wine-rotted fragments with eager relish. There was no drainage to carry off the wine, and not only did it all get taken up, but so much mud got taken up along with it, that there might have been a scavenger in the street, if anybody acquainted with it could have believed in such a miraculous presence.\n",
    "\n",
    "A shrill sound of laughter and of amused voices—voices of men, women, and children—resounded in the street while this winegame lasted. There was little roughness in the sport, and much playfulness. There was a special companionship in it, an observable inclination on the part of every one to join some other one, which led, especially among the luckier or lighter-hearted, to frolicsome embraces, drinking of healths, shaking of hands, and even joining of hands and dancing, a dozen together. When the wine was gone, and the places where it had been most abundant were raked into a gridiron-pattern by fingers, these demonstrations ceased, as suddenly as they had broken out. The man who had left his saw sticking in the firewood he was cutting, set it in motion again; the woman who had left on a door-step the little pot of hot ashes, at which she had been trying to soften the pain in her own starved fingers and toes, or in those of her child, returned to it; men with bare arms, matted locks, and cadaverous faces, who had emerged into the winter light from cellars, moved away to descend again; and a gloom gathered on the scene that appeared more natural to it than sunshine.\n",
    "\n",
    "The wine was red wine, and had stained the ground of the narrow street in the suburb of Saint Antoine, in Paris, where it was spilled. It had stained many hands, too, and many faces, and many naked feet, and many wooden shoes. The hands of the man who sawed the wood, left red marks on the billets; and the forehead of the woman who nursed her baby, was stained with the stain of the old rag she wound about her head again.\n",
    "'''"
   ]
  },
  {
   "cell_type": "code",
   "execution_count": 7,
   "metadata": {
    "executionInfo": {
     "elapsed": 20,
     "status": "ok",
     "timestamp": 1689791400075,
     "user": {
      "displayName": "Urmi Dedhia",
      "userId": "04029137391343867476"
     },
     "user_tz": -330
    },
    "id": "FOIlAHwrQrz7"
   },
   "outputs": [],
   "source": [
    "DC_text = '''\n",
    "THE PERSONAL HISTORY AND EXPERIENCE OF DAVID COPPERFIELD THE YOUNGER\n",
    "CHAPTER 1. I AM BORN\n",
    "Whether I shall turn out to be the hero of my own life, or whether that station will be held by anybody else, these pages must show. To begin my life with the beginning of my life, I record that I was born (as I have been informed and believe) on a Friday, at twelve o’clock at night. It was remarked that the clock began to strike, and I began to cry, simultaneously.\n",
    "\n",
    "In consideration of the day and hour of my birth, it was declared by the nurse, and by some sage women in the neighbourhood who had taken a lively interest in me several months before there was any possibility of our becoming personally acquainted, first, that I was destined to be unlucky in life; and secondly, that I was privileged to see ghosts and spirits; both these gifts inevitably attaching, as they believed, to all unlucky infants of either gender, born towards the small hours on a Friday night.\n",
    "\n",
    "I need say nothing here, on the first head, because nothing can show better than my history whether that prediction was verified or falsified by the result. On the second branch of the question, I will only remark, that unless I ran through that part of my inheritance while I was still a baby, I have not come into it yet. But I do not at all complain of having been kept out of this property; and if anybody else should be in the present enjoyment of it, he is heartily welcome to keep it.\n",
    "'''"
   ]
  },
  {
   "cell_type": "code",
   "execution_count": 8,
   "metadata": {
    "executionInfo": {
     "elapsed": 19,
     "status": "ok",
     "timestamp": 1689791400076,
     "user": {
      "displayName": "Urmi Dedhia",
      "userId": "04029137391343867476"
     },
     "user_tz": -330
    },
    "id": "KRVsKpRRQr3f"
   },
   "outputs": [],
   "source": [
    "DG_text = '''\n",
    "CHAPTER I.\n",
    "The studio was filled with the rich odour of roses, and when the light summer wind stirred amidst the trees of the garden, there came through the open door the heavy scent of the lilac, or the more delicate perfume of the pink-flowering thorn.\n",
    "\n",
    "From the corner of the divan of Persian saddle-bags on which he was lying, smoking, as was his custom, innumerable cigarettes, Lord Henry Wotton could just catch the gleam of the honey-sweet and honey-coloured blossoms of a laburnum, whose tremulous branches seemed hardly able to bear the burden of a beauty so flamelike as theirs; and now and then the fantastic shadows of birds in flight flitted across the long tussore-silk curtains that were stretched in front of the huge window, producing a kind of momentary Japanese effect, and making him think of those pallid, jade-faced painters of Tokyo who, through the medium of an art that is necessarily immobile, seek to convey the sense of swiftness and motion. The sullen murmur of the bees shouldering their way through the long unmown grass, or circling with monotonous insistence round the dusty gilt horns of the straggling woodbine, seemed to make the stillness more oppressive. The dim roar of London was like the bourdon note of a distant organ.\n",
    "\n",
    "In the centre of the room, clamped to an upright easel, stood the full-length portrait of a young man of extraordinary personal beauty, and in front of it, some little distance away, was sitting the artist himself, Basil Hallward, whose sudden disappearance some years ago caused, at the time, such public excitement and gave rise to so many strange conjectures.\n",
    "\n",
    "As the painter looked at the gracious and comely form he had so skilfully mirrored in his art, a smile of pleasure passed across his face, and seemed about to linger there. But he suddenly started up, and closing his eyes, placed his fingers upon the lids, as though he sought to imprison within his brain some curious dream from which he feared he might awake.\n",
    "\n",
    "“It is your best work, Basil, the best thing you have ever done,” said Lord Henry languidly. “You must certainly send it next year to the Grosvenor. The Academy is too large and too vulgar. Whenever I have gone there, there have been either so many people that I have not been able to see the pictures, which was dreadful, or so many pictures that I have not been able to see the people, which was worse. The Grosvenor is really the only place.”\n",
    "\n",
    "“I don’t think I shall send it anywhere,” he answered, tossing his head back in that odd way that used to make his friends laugh at him at Oxford. “No, I won’t send it anywhere.”\n",
    "\n",
    "Lord Henry elevated his eyebrows and looked at him in amazement through the thin blue wreaths of smoke that curled up in such fanciful whorls from his heavy, opium-tainted cigarette. “Not send it anywhere? My dear fellow, why? Have you any reason? What odd chaps you painters are! You do anything in the world to gain a reputation. As soon as you have one, you seem to want to throw it away. It is silly of you, for there is only one thing in the world worse than being talked about, and that is not being talked about. A portrait like this would set you far above all the young men in England, and make the old men quite jealous, if old men are ever capable of any emotion.”\n",
    "\n",
    "“I know you will laugh at me,” he replied, “but I really can’t exhibit it. I have put too much of myself into it.”\n",
    "\n",
    "Lord Henry stretched himself out on the divan and laughed.\n",
    "\n",
    "“Yes, I knew you would; but it is quite true, all the same.”\n",
    "\n",
    "“Too much of yourself in it! Upon my word, Basil, I didn’t know you were so vain; and I really can’t see any resemblance between you, with your rugged strong face and your coal-black hair, and this young Adonis, who looks as if he was made out of ivory and rose-leaves. Why, my dear Basil, he is a Narcissus, and you—well, of course you have an intellectual expression and all that. But beauty, real beauty, ends where an intellectual expression begins. Intellect is in itself a mode of exaggeration, and destroys the harmony of any face. The moment one sits down to think, one becomes all nose, or all forehead, or something horrid. Look at the successful men in any of the learned professions. How perfectly hideous they are! Except, of course, in the Church. But then in the Church they don’t think. A bishop keeps on saying at the age of eighty what he was told to say when he was a boy of eighteen, and as a natural consequence he always looks absolutely delightful. Your mysterious young friend, whose name you have never told me, but whose picture really fascinates me, never thinks. I feel quite sure of that. He is some brainless beautiful creature who should be always here in winter when we have no flowers to look at, and always here in summer when we want something to chill our intelligence. Don’t flatter yourself, Basil: you are not in the least like him.”\n",
    "\n",
    "“You don’t understand me, Harry,” answered the artist. “Of course I am not like him. I know that perfectly well. Indeed, I should be sorry to look like him. You shrug your shoulders? I am telling you the truth. There is a fatality about all physical and intellectual distinction, the sort of fatality that seems to dog through history the faltering steps of kings. It is better not to be different from one’s fellows. The ugly and the stupid have the best of it in this world. They can sit at their ease and gape at the play. If they know nothing of victory, they are at least spared the knowledge of defeat. They live as we all should live—undisturbed, indifferent, and without disquiet. They neither bring ruin upon others, nor ever receive it from alien hands. Your rank and wealth, Harry; my brains, such as they are—my art, whatever it may be worth; Dorian Gray’s good looks—we shall all suffer for what the gods have given us, suffer terribly.”\n",
    "\n",
    "“Dorian Gray? Is that his name?” asked Lord Henry, walking across the studio towards Basil Hallward.\n",
    "\n",
    "“Yes, that is his name. I didn’t intend to tell it to you.”\n",
    "\n",
    "“But why not?”\n",
    "\n",
    "“Oh, I can’t explain. When I like people immensely, I never tell their names to any one. It is like surrendering a part of them. I have grown to love secrecy. It seems to be the one thing that can make modern life mysterious or marvellous to us. The commonest thing is delightful if one only hides it. When I leave town now I never tell my people where I am going. If I did, I would lose all my pleasure. It is a silly habit, I dare say, but somehow it seems to bring a great deal of romance into one’s life. I suppose you think me awfully foolish about it?”\n",
    "\n",
    "“Not at all,” answered Lord Henry, “not at all, my dear Basil. You seem to forget that I am married, and the one charm of marriage is that it makes a life of deception absolutely necessary for both parties. I never know where my wife is, and my wife never knows what I am doing. When we meet—we do meet occasionally, when we dine out together, or go down to the Duke’s—we tell each other the most absurd stories with the most serious faces. My wife is very good at it—much better, in fact, than I am. She never gets confused over her dates, and I always do. But when she does find me out, she makes no row at all. I sometimes wish she would; but she merely laughs at me.”\n",
    "\n",
    "“I hate the way you talk about your married life, Harry,” said Basil Hallward, strolling towards the door that led into the garden. “I believe that you are really a very good husband, but that you are thoroughly ashamed of your own virtues. You are an extraordinary fellow. You never say a moral thing, and you never do a wrong thing. Your cynicism is simply a pose.”\n",
    "\n",
    "“Being natural is simply a pose, and the most irritating pose I know,” cried Lord Henry, laughing; and the two young men went out into the garden together and ensconced themselves on a long bamboo seat that stood in the shade of a tall laurel bush. The sunlight slipped over the polished leaves. In the grass, white daisies were tremulous.\n",
    "\n",
    "After a pause, Lord Henry pulled out his watch. “I am afraid I must be going, Basil,” he murmured, “and before I go, I insist on your answering a question I put to you some time ago.”\n",
    "\n",
    "“What is that?” said the painter, keeping his eyes fixed on the ground.\n",
    "\n",
    "“You know quite well.”\n",
    "\n",
    "“I do not, Harry.”\n",
    "\n",
    "“Well, I will tell you what it is. I want you to explain to me why you won’t exhibit Dorian Gray’s picture. I want the real reason.”\n",
    "\n",
    "“I told you the real reason.”\n",
    "\n",
    "“No, you did not. You said it was because there was too much of yourself in it. Now, that is childish.”\n",
    "\n",
    "“Harry,” said Basil Hallward, looking him straight in the face, “every portrait that is painted with feeling is a portrait of the artist, not of the sitter. The sitter is merely the accident, the occasion. It is not he who is revealed by the painter; it is rather the painter who, on the coloured canvas, reveals himself. The reason I will not exhibit this picture is that I am afraid that I have shown in it the secret of my own soul.”\n",
    "\n",
    "Lord Henry laughed. “And what is that?” he asked.\n",
    "\n",
    "“I will tell you,” said Hallward; but an expression of perplexity came over his face.\n",
    "\n",
    "“I am all expectation, Basil,” continued his companion, glancing at him.\n",
    "\n",
    "“Oh, there is really very little to tell, Harry,” answered the painter; “and I am afraid you will hardly understand it. Perhaps you will hardly believe it.”\n",
    "\n",
    "Lord Henry smiled, and leaning down, plucked a pink-petalled daisy from the grass and examined it. “I am quite sure I shall understand it,” he replied, gazing intently at the little golden, white-feathered disk, “and as for believing things, I can believe anything, provided that it is quite incredible.”\n",
    "\n",
    "The wind shook some blossoms from the trees, and the heavy lilac-blooms, with their clustering stars, moved to and fro in the languid air. A grasshopper began to chirrup by the wall, and like a blue thread a long thin dragon-fly floated past on its brown gauze wings. Lord Henry felt as if he could hear Basil Hallward’s heart beating, and wondered what was coming.\n",
    "\n",
    "“The story is simply this,” said the painter after some time. “Two months ago I went to a crush at Lady Brandon’s. You know we poor artists have to show ourselves in society from time to time, just to remind the public that we are not savages. With an evening coat and a white tie, as you told me once, anybody, even a stock-broker, can gain a reputation for being civilized. Well, after I had been in the room about ten minutes, talking to huge overdressed dowagers and tedious academicians, I suddenly became conscious that some one was looking at me. I turned half-way round and saw Dorian Gray for the first time. When our eyes met, I felt that I was growing pale. A curious sensation of terror came over me. I knew that I had come face to face with some one whose mere personality was so fascinating that, if I allowed it to do so, it would absorb my whole nature, my whole soul, my very art itself. I did not want any external influence in my life. You know yourself, Harry, how independent I am by nature. I have always been my own master; had at least always been so, till I met Dorian Gray. Then—but I don’t know how to explain it to you. Something seemed to tell me that I was on the verge of a terrible crisis in my life. I had a strange feeling that fate had in store for me exquisite joys and exquisite sorrows. I grew afraid and turned to quit the room. It was not conscience that made me do so: it was a sort of cowardice. I take no credit to myself for trying to escape.”\n",
    "\n",
    "“Conscience and cowardice are really the same things, Basil. Conscience is the trade-name of the firm. That is all.”\n",
    "\n",
    "“I don’t believe that, Harry, and I don’t believe you do either. However, whatever was my motive—and it may have been pride, for I used to be very proud—I certainly struggled to the door. There, of course, I stumbled against Lady Brandon. ‘You are not going to run away so soon, Mr. Hallward?’ she screamed out. You know her curiously shrill voice?”\n",
    "\n",
    "“Yes; she is a peacock in everything but beauty,” said Lord Henry, pulling the daisy to bits with his long nervous fingers.\n",
    "\n",
    "“I could not get rid of her. She brought me up to royalties, and people with stars and garters, and elderly ladies with gigantic tiaras and parrot noses. She spoke of me as her dearest friend. I had only met her once before, but she took it into her head to lionize me. I believe some picture of mine had made a great success at the time, at least had been chattered about in the penny newspapers, which is the nineteenth-century standard of immortality. Suddenly I found myself face to face with the young man whose personality had so strangely stirred me. We were quite close, almost touching. Our eyes met again. It was reckless of me, but I asked Lady Brandon to introduce me to him. Perhaps it was not so reckless, after all. It was simply inevitable. We would have spoken to each other without any introduction. I am sure of that. Dorian told me so afterwards. He, too, felt that we were destined to know each other.”\n",
    "\n",
    "“And how did Lady Brandon describe this wonderful young man?” asked his companion. “I know she goes in for giving a rapid précis of all her guests. I remember her bringing me up to a truculent and red-faced old gentleman covered all over with orders and ribbons, and hissing into my ear, in a tragic whisper which must have been perfectly audible to everybody in the room, the most astounding details. I simply fled. I like to find out people for myself. But Lady Brandon treats her guests exactly as an auctioneer treats his goods. She either explains them entirely away, or tells one everything about them except what one wants to know.”\n",
    "\n",
    "“Poor Lady Brandon! You are hard on her, Harry!” said Hallward listlessly.\n",
    "\n",
    "“My dear fellow, she tried to found a salon, and only succeeded in opening a restaurant. How could I admire her? But tell me, what did she say about Mr. Dorian Gray?”\n",
    "\n",
    "“Oh, something like, ‘Charming boy—poor dear mother and I absolutely inseparable. Quite forget what he does—afraid he—doesn’t do anything—oh, yes, plays the piano—or is it the violin, dear Mr. Gray?’ Neither of us could help laughing, and we became friends at once.”\n",
    "\n",
    "“Laughter is not at all a bad beginning for a friendship, and it is far the best ending for one,” said the young lord, plucking another daisy.\n",
    "\n",
    "Hallward shook his head. “You don’t understand what friendship is, Harry,” he murmured—“or what enmity is, for that matter. You like every one; that is to say, you are indifferent to every one.”\n",
    "\n",
    "“How horribly unjust of you!” cried Lord Henry, tilting his hat back and looking up at the little clouds that, like ravelled skeins of glossy white silk, were drifting across the hollowed turquoise of the summer sky. “Yes; horribly unjust of you. I make a great difference between people. I choose my friends for their good looks, my acquaintances for their good characters, and my enemies for their good intellects. A man cannot be too careful in the choice of his enemies. I have not got one who is a fool. They are all men of some intellectual power, and consequently they all appreciate me. Is that very vain of me? I think it is rather vain.”\n",
    "\n",
    "“I should think it was, Harry. But according to your category I must be merely an acquaintance.”\n",
    "\n",
    "“My dear old Basil, you are much more than an acquaintance.”\n",
    "\n",
    "“And much less than a friend. A sort of brother, I suppose?”\n",
    "\n",
    "“Oh, brothers! I don’t care for brothers. My elder brother won’t die, and my younger brothers seem never to do anything else.”\n",
    "\n",
    "“Harry!” exclaimed Hallward, frowning.\n",
    "\n",
    "“My dear fellow, I am not quite serious. But I can’t help detesting my relations. I suppose it comes from the fact that none of us can stand other people having the same faults as ourselves. I quite sympathize with the rage of the English democracy against what they call the vices of the upper orders. The masses feel that drunkenness, stupidity, and immorality should be their own special property, and that if any one of us makes an ass of himself, he is poaching on their preserves. When poor Southwark got into the divorce court, their indignation was quite magnificent. And yet I don’t suppose that ten per cent of the proletariat live correctly.”\n",
    "\n",
    "“I don’t agree with a single word that you have said, and, what is more, Harry, I feel sure you don’t either.”\n",
    "\n",
    "Lord Henry stroked his pointed brown beard and tapped the toe of his patent-leather boot with a tasselled ebony cane. “How English you are Basil! That is the second time you have made that observation. If one puts forward an idea to a true Englishman—always a rash thing to do—he never dreams of considering whether the idea is right or wrong. The only thing he considers of any importance is whether one believes it oneself. Now, the value of an idea has nothing whatsoever to do with the sincerity of the man who expresses it. Indeed, the probabilities are that the more insincere the man is, the more purely intellectual will the idea be, as in that case it will not be coloured by either his wants, his desires, or his prejudices. However, I don’t propose to discuss politics, sociology, or metaphysics with you. I like persons better than principles, and I like persons with no principles better than anything else in the world. Tell me more about Mr. Dorian Gray. How often do you see him?”\n",
    "\n",
    "“Every day. I couldn’t be happy if I didn’t see him every day. He is absolutely necessary to me.”\n",
    "\n",
    "“How extraordinary! I thought you would never care for anything but your art.”\n",
    "\n",
    "“He is all my art to me now,” said the painter gravely. “I sometimes think, Harry, that there are only two eras of any importance in the world’s history. The first is the appearance of a new medium for art, and the second is the appearance of a new personality for art also. What the invention of oil-painting was to the Venetians, the face of Antinous was to late Greek sculpture, and the face of Dorian Gray will some day be to me. It is not merely that I paint from him, draw from him, sketch from him. Of course, I have done all that. But he is much more to me than a model or a sitter. I won’t tell you that I am dissatisfied with what I have done of him, or that his beauty is such that art cannot express it. There is nothing that art cannot express, and I know that the work I have done, since I met Dorian Gray, is good work, is the best work of my life. But in some curious way—I wonder will you understand me?—his personality has suggested to me an entirely new manner in art, an entirely new mode of style. I see things differently, I think of them differently. I can now recreate life in a way that was hidden from me before. ‘A dream of form in days of thought’—who is it who says that? I forget; but it is what Dorian Gray has been to me. The merely visible presence of this lad—for he seems to me little more than a lad, though he is really over twenty—his merely visible presence—ah! I wonder can you realize all that that means? Unconsciously he defines for me the lines of a fresh school, a school that is to have in it all the passion of the romantic spirit, all the perfection of the spirit that is Greek. The harmony of soul and body—how much that is! We in our madness have separated the two, and have invented a realism that is vulgar, an ideality that is void. Harry! if you only knew what Dorian Gray is to me! You remember that landscape of mine, for which Agnew offered me such a huge price but which I would not part with? It is one of the best things I have ever done. And why is it so? Because, while I was painting it, Dorian Gray sat beside me. Some subtle influence passed from him to me, and for the first time in my life I saw in the plain woodland the wonder I had always looked for and always missed.”\n",
    "\n",
    "“Basil, this is extraordinary! I must see Dorian Gray.”\n",
    "\n",
    "Hallward got up from the seat and walked up and down the garden. After some time he came back. “Harry,” he said, “Dorian Gray is to me simply a motive in art. You might see nothing in him. I see everything in him. He is never more present in my work than when no image of him is there. He is a suggestion, as I have said, of a new manner. I find him in the curves of certain lines, in the loveliness and subtleties of certain colours. That is all.”\n",
    "\n",
    "“Then why won’t you exhibit his portrait?” asked Lord Henry.\n",
    "\n",
    "“Because, without intending it, I have put into it some expression of all this curious artistic idolatry, of which, of course, I have never cared to speak to him. He knows nothing about it. He shall never know anything about it. But the world might guess it, and I will not bare my soul to their shallow prying eyes. My heart shall never be put under their microscope. There is too much of myself in the thing, Harry—too much of myself!”\n",
    "\n",
    "“Poets are not so scrupulous as you are. They know how useful passion is for publication. Nowadays a broken heart will run to many editions.”\n",
    "\n",
    "“I hate them for it,” cried Hallward. “An artist should create beautiful things, but should put nothing of his own life into them. We live in an age when men treat art as if it were meant to be a form of autobiography. We have lost the abstract sense of beauty. Some day I will show the world what it is; and for that reason the world shall never see my portrait of Dorian Gray.”\n",
    "\n",
    "“I think you are wrong, Basil, but I won’t argue with you. It is only the intellectually lost who ever argue. Tell me, is Dorian Gray very fond of you?”\n",
    "\n",
    "The painter considered for a few moments. “He likes me,” he answered after a pause; “I know he likes me. Of course I flatter him dreadfully. I find a strange pleasure in saying things to him that I know I shall be sorry for having said. As a rule, he is charming to me, and we sit in the studio and talk of a thousand things. Now and then, however, he is horribly thoughtless, and seems to take a real delight in giving me pain. Then I feel, Harry, that I have given away my whole soul to some one who treats it as if it were a flower to put in his coat, a bit of decoration to charm his vanity, an ornament for a summer’s day.”\n",
    "\n",
    "“Days in summer, Basil, are apt to linger,” murmured Lord Henry. “Perhaps you will tire sooner than he will. It is a sad thing to think of, but there is no doubt that genius lasts longer than beauty. That accounts for the fact that we all take such pains to over-educate ourselves. In the wild struggle for existence, we want to have something that endures, and so we fill our minds with rubbish and facts, in the silly hope of keeping our place. The thoroughly well-informed man—that is the modern ideal. And the mind of the thoroughly well-informed man is a dreadful thing. It is like a bric-à-brac shop, all monsters and dust, with everything priced above its proper value. I think you will tire first, all the same. Some day you will look at your friend, and he will seem to you to be a little out of drawing, or you won’t like his tone of colour, or something. You will bitterly reproach him in your own heart, and seriously think that he has behaved very badly to you. The next time he calls, you will be perfectly cold and indifferent. It will be a great pity, for it will alter you. What you have told me is quite a romance, a romance of art one might call it, and the worst of having a romance of any kind is that it leaves one so unromantic.”\n",
    "\n",
    "“Harry, don’t talk like that. As long as I live, the personality of Dorian Gray will dominate me. You can’t feel what I feel. You change too often.”\n",
    "\n",
    "“Ah, my dear Basil, that is exactly why I can feel it. Those who are faithful know only the trivial side of love: it is the faithless who know love’s tragedies.” And Lord Henry struck a light on a dainty silver case and began to smoke a cigarette with a self-conscious and satisfied air, as if he had summed up the world in a phrase. There was a rustle of chirruping sparrows in the green lacquer leaves of the ivy, and the blue cloud-shadows chased themselves across the grass like swallows. How pleasant it was in the garden! And how delightful other people’s emotions were!—much more delightful than their ideas, it seemed to him. One’s own soul, and the passions of one’s friends—those were the fascinating things in life. He pictured to himself with silent amusement the tedious luncheon that he had missed by staying so long with Basil Hallward. Had he gone to his aunt’s, he would have been sure to have met Lord Goodbody there, and the whole conversation would have been about the feeding of the poor and the necessity for model lodging-houses. Each class would have preached the importance of those virtues, for whose exercise there was no necessity in their own lives. The rich would have spoken on the value of thrift, and the idle grown eloquent over the dignity of labour. It was charming to have escaped all that! As he thought of his aunt, an idea seemed to strike him. He turned to Hallward and said, “My dear fellow, I have just remembered.”\n",
    "\n",
    "“Remembered what, Harry?”\n",
    "\n",
    "“Where I heard the name of Dorian Gray.”\n",
    "\n",
    "“Where was it?” asked Hallward, with a slight frown.\n",
    "\n",
    "“Don’t look so angry, Basil. It was at my aunt, Lady Agatha’s. She told me she had discovered a wonderful young man who was going to help her in the East End, and that his name was Dorian Gray. I am bound to state that she never told me he was good-looking. Women have no appreciation of good looks; at least, good women have not. She said that he was very earnest and had a beautiful nature. I at once pictured to myself a creature with spectacles and lank hair, horribly freckled, and tramping about on huge feet. I wish I had known it was your friend.”\n",
    "\n",
    "“I am very glad you didn’t, Harry.”\n",
    "\n",
    "“Why?”\n",
    "\n",
    "“I don’t want you to meet him.”\n",
    "\n",
    "“You don’t want me to meet him?”\n",
    "\n",
    "“No.”\n",
    "\n",
    "“Mr. Dorian Gray is in the studio, sir,” said the butler, coming into the garden.\n",
    "\n",
    "“You must introduce me now,” cried Lord Henry, laughing.\n",
    "\n",
    "The painter turned to his servant, who stood blinking in the sunlight. “Ask Mr. Gray to wait, Parker: I shall be in in a few moments.” The man bowed and went up the walk.\n",
    "\n",
    "Then he looked at Lord Henry. “Dorian Gray is my dearest friend,” he said. “He has a simple and a beautiful nature. Your aunt was quite right in what she said of him. Don’t spoil him. Don’t try to influence him. Your influence would be bad. The world is wide, and has many marvellous people in it. Don’t take away from me the one person who gives to my art whatever charm it possesses: my life as an artist depends on him. Mind, Harry, I trust you.” He spoke very slowly, and the words seemed wrung out of him almost against his will.\n",
    "\n",
    "“What nonsense you talk!” said Lord Henry, smiling, and taking Hallward by the arm, he almost led him into the house.\n",
    "'''"
   ]
  },
  {
   "cell_type": "code",
   "execution_count": 25,
   "metadata": {
    "executionInfo": {
     "elapsed": 442,
     "status": "ok",
     "timestamp": 1689791744471,
     "user": {
      "displayName": "Urmi Dedhia",
      "userId": "04029137391343867476"
     },
     "user_tz": -330
    },
    "id": "GY1P7MhWb5aS"
   },
   "outputs": [],
   "source": [
    "DG_text2 = '''\n",
    "CHAPTER V.\n",
    "“Mother, Mother, I am so happy!” whispered the girl, burying her face in the lap of the faded, tired-looking woman who, with back turned to the shrill intrusive light, was sitting in the one arm-chair that their dingy sitting-room contained. “I am so happy!” she repeated, “and you must be happy, too!”\n",
    "\n",
    "Mrs. Vane winced and put her thin, bismuth-whitened hands on her daughter’s head. “Happy!” she echoed, “I am only happy, Sibyl, when I see you act. You must not think of anything but your acting. Mr. Isaacs has been very good to us, and we owe him money.”\n",
    "\n",
    "The girl looked up and pouted. “Money, Mother?” she cried, “what does money matter? Love is more than money.”\n",
    "\n",
    "“Mr. Isaacs has advanced us fifty pounds to pay off our debts and to get a proper outfit for James. You must not forget that, Sibyl. Fifty pounds is a very large sum. Mr. Isaacs has been most considerate.”\n",
    "\n",
    "“He is not a gentleman, Mother, and I hate the way he talks to me,” said the girl, rising to her feet and going over to the window.\n",
    "\n",
    "“I don’t know how we could manage without him,” answered the elder woman querulously.\n",
    "\n",
    "Sibyl Vane tossed her head and laughed. “We don’t want him any more, Mother. Prince Charming rules life for us now.” Then she paused. A rose shook in her blood and shadowed her cheeks. Quick breath parted the petals of her lips. They trembled. Some southern wind of passion swept over her and stirred the dainty folds of her dress. “I love him,” she said simply.\n",
    "\n",
    "“Foolish child! foolish child!” was the parrot-phrase flung in answer. The waving of crooked, false-jewelled fingers gave grotesqueness to the words.\n",
    "\n",
    "The girl laughed again. The joy of a caged bird was in her voice. Her eyes caught the melody and echoed it in radiance, then closed for a moment, as though to hide their secret. When they opened, the mist of a dream had passed across them.\n",
    "\n",
    "Thin-lipped wisdom spoke at her from the worn chair, hinted at prudence, quoted from that book of cowardice whose author apes the name of common sense. She did not listen. She was free in her prison of passion. Her prince, Prince Charming, was with her. She had called on memory to remake him. She had sent her soul to search for him, and it had brought him back. His kiss burned again upon her mouth. Her eyelids were warm with his breath.\n",
    "\n",
    "Then wisdom altered its method and spoke of espial and discovery. This young man might be rich. If so, marriage should be thought of. Against the shell of her ear broke the waves of worldly cunning. The arrows of craft shot by her. She saw the thin lips moving, and smiled.\n",
    "\n",
    "Suddenly she felt the need to speak. The wordy silence troubled her. “Mother, Mother,” she cried, “why does he love me so much? I know why I love him. I love him because he is like what love himself should be. But what does he see in me? I am not worthy of him. And yet—why, I cannot tell—though I feel so much beneath him, I don’t feel humble. I feel proud, terribly proud. Mother, did you love my father as I love Prince Charming?”\n",
    "\n",
    "The elder woman grew pale beneath the coarse powder that daubed her cheeks, and her dry lips twitched with a spasm of pain. Sybil rushed to her, flung her arms round her neck, and kissed her. “Forgive me, Mother. I know it pains you to talk about our father. But it only pains you because you loved him so much. Don’t look so sad. I am as happy to-day as you were twenty years ago. Ah! let me be happy for ever!”\n",
    "\n",
    "“My child, you are far too young to think of falling in love. Besides, what do you know of this young man? You don’t even know his name. The whole thing is most inconvenient, and really, when James is going away to Australia, and I have so much to think of, I must say that you should have shown more consideration. However, as I said before, if he is rich ...”\n",
    "\n",
    "“Ah! Mother, Mother, let me be happy!”\n",
    "\n",
    "Mrs. Vane glanced at her, and with one of those false theatrical gestures that so often become a mode of second nature to a stage-player, clasped her in her arms. At this moment, the door opened and a young lad with rough brown hair came into the room. He was thick-set of figure, and his hands and feet were large and somewhat clumsy in movement. He was not so finely bred as his sister. One would hardly have guessed the close relationship that existed between them. Mrs. Vane fixed her eyes on him and intensified her smile. She mentally elevated her son to the dignity of an audience. She felt sure that the tableau was interesting.\n",
    "\n",
    "“You might keep some of your kisses for me, Sibyl, I think,” said the lad with a good-natured grumble.\n",
    "\n",
    "“Ah! but you don’t like being kissed, Jim,” she cried. “You are a dreadful old bear.” And she ran across the room and hugged him.\n",
    "\n",
    "James Vane looked into his sister’s face with tenderness. “I want you to come out with me for a walk, Sibyl. I don’t suppose I shall ever see this horrid London again. I am sure I don’t want to.”\n",
    "\n",
    "“My son, don’t say such dreadful things,” murmured Mrs. Vane, taking up a tawdry theatrical dress, with a sigh, and beginning to patch it. She felt a little disappointed that he had not joined the group. It would have increased the theatrical picturesqueness of the situation.\n",
    "\n",
    "“Why not, Mother? I mean it.”\n",
    "\n",
    "“You pain me, my son. I trust you will return from Australia in a position of affluence. I believe there is no society of any kind in the Colonies—nothing that I would call society—so when you have made your fortune, you must come back and assert yourself in London.”\n",
    "\n",
    "“Society!” muttered the lad. “I don’t want to know anything about that. I should like to make some money to take you and Sibyl off the stage. I hate it.”\n",
    "\n",
    "“Oh, Jim!” said Sibyl, laughing, “how unkind of you! But are you really going for a walk with me? That will be nice! I was afraid you were going to say good-bye to some of your friends—to Tom Hardy, who gave you that hideous pipe, or Ned Langton, who makes fun of you for smoking it. It is very sweet of you to let me have your last afternoon. Where shall we go? Let us go to the park.”\n",
    "\n",
    "“I am too shabby,” he answered, frowning. “Only swell people go to the park.”\n",
    "\n",
    "“Nonsense, Jim,” she whispered, stroking the sleeve of his coat.\n",
    "\n",
    "He hesitated for a moment. “Very well,” he said at last, “but don’t be too long dressing.” She danced out of the door. One could hear her singing as she ran upstairs. Her little feet pattered overhead.\n",
    "\n",
    "He walked up and down the room two or three times. Then he turned to the still figure in the chair. “Mother, are my things ready?” he asked.\n",
    "\n",
    "“Quite ready, James,” she answered, keeping her eyes on her work. For some months past she had felt ill at ease when she was alone with this rough stern son of hers. Her shallow secret nature was troubled when their eyes met. She used to wonder if he suspected anything. The silence, for he made no other observation, became intolerable to her. She began to complain. Women defend themselves by attacking, just as they attack by sudden and strange surrenders. “I hope you will be contented, James, with your sea-faring life,” she said. “You must remember that it is your own choice. You might have entered a solicitor’s office. Solicitors are a very respectable class, and in the country often dine with the best families.”\n",
    "\n",
    "“I hate offices, and I hate clerks,” he replied. “But you are quite right. I have chosen my own life. All I say is, watch over Sibyl. Don’t let her come to any harm. Mother, you must watch over her.”\n",
    "\n",
    "“James, you really talk very strangely. Of course I watch over Sibyl.”\n",
    "\n",
    "“I hear a gentleman comes every night to the theatre and goes behind to talk to her. Is that right? What about that?”\n",
    "\n",
    "“You are speaking about things you don’t understand, James. In the profession we are accustomed to receive a great deal of most gratifying attention. I myself used to receive many bouquets at one time. That was when acting was really understood. As for Sibyl, I do not know at present whether her attachment is serious or not. But there is no doubt that the young man in question is a perfect gentleman. He is always most polite to me. Besides, he has the appearance of being rich, and the flowers he sends are lovely.”\n",
    "\n",
    "“You don’t know his name, though,” said the lad harshly.\n",
    "\n",
    "“No,” answered his mother with a placid expression in her face. “He has not yet revealed his real name. I think it is quite romantic of him. He is probably a member of the aristocracy.”\n",
    "\n",
    "James Vane bit his lip. “Watch over Sibyl, Mother,” he cried, “watch over her.”\n",
    "\n",
    "“My son, you distress me very much. Sibyl is always under my special care. Of course, if this gentleman is wealthy, there is no reason why she should not contract an alliance with him. I trust he is one of the aristocracy. He has all the appearance of it, I must say. It might be a most brilliant marriage for Sibyl. They would make a charming couple. His good looks are really quite remarkable; everybody notices them.”\n",
    "\n",
    "The lad muttered something to himself and drummed on the window-pane with his coarse fingers. He had just turned round to say something when the door opened and Sibyl ran in.\n",
    "\n",
    "“How serious you both are!” she cried. “What is the matter?”\n",
    "\n",
    "“Nothing,” he answered. “I suppose one must be serious sometimes. Good-bye, Mother; I will have my dinner at five o’clock. Everything is packed, except my shirts, so you need not trouble.”\n",
    "\n",
    "“Good-bye, my son,” she answered with a bow of strained stateliness.\n",
    "\n",
    "She was extremely annoyed at the tone he had adopted with her, and there was something in his look that had made her feel afraid.\n",
    "\n",
    "“Kiss me, Mother,” said the girl. Her flowerlike lips touched the withered cheek and warmed its frost.\n",
    "\n",
    "“My child! my child!” cried Mrs. Vane, looking up to the ceiling in search of an imaginary gallery.\n",
    "\n",
    "“Come, Sibyl,” said her brother impatiently. He hated his mother’s affectations.\n",
    "\n",
    "They went out into the flickering, wind-blown sunlight and strolled down the dreary Euston Road. The passersby glanced in wonder at the sullen heavy youth who, in coarse, ill-fitting clothes, was in the company of such a graceful, refined-looking girl. He was like a common gardener walking with a rose.\n",
    "\n",
    "Jim frowned from time to time when he caught the inquisitive glance of some stranger. He had that dislike of being stared at, which comes on geniuses late in life and never leaves the commonplace. Sibyl, however, was quite unconscious of the effect she was producing. Her love was trembling in laughter on her lips. She was thinking of Prince Charming, and, that she might think of him all the more, she did not talk of him, but prattled on about the ship in which Jim was going to sail, about the gold he was certain to find, about the wonderful heiress whose life he was to save from the wicked, red-shirted bushrangers. For he was not to remain a sailor, or a supercargo, or whatever he was going to be. Oh, no! A sailor’s existence was dreadful. Fancy being cooped up in a horrid ship, with the hoarse, hump-backed waves trying to get in, and a black wind blowing the masts down and tearing the sails into long screaming ribands! He was to leave the vessel at Melbourne, bid a polite good-bye to the captain, and go off at once to the gold-fields. Before a week was over he was to come across a large nugget of pure gold, the largest nugget that had ever been discovered, and bring it down to the coast in a waggon guarded by six mounted policemen. The bushrangers were to attack them three times, and be defeated with immense slaughter. Or, no. He was not to go to the gold-fields at all. They were horrid places, where men got intoxicated, and shot each other in bar-rooms, and used bad language. He was to be a nice sheep-farmer, and one evening, as he was riding home, he was to see the beautiful heiress being carried off by a robber on a black horse, and give chase, and rescue her. Of course, she would fall in love with him, and he with her, and they would get married, and come home, and live in an immense house in London. Yes, there were delightful things in store for him. But he must be very good, and not lose his temper, or spend his money foolishly. She was only a year older than he was, but she knew so much more of life. He must be sure, also, to write to her by every mail, and to say his prayers each night before he went to sleep. God was very good, and would watch over him. She would pray for him, too, and in a few years he would come back quite rich and happy.\n",
    "\n",
    "The lad listened sulkily to her and made no answer. He was heart-sick at leaving home.\n",
    "\n",
    "Yet it was not this alone that made him gloomy and morose. Inexperienced though he was, he had still a strong sense of the danger of Sibyl’s position. This young dandy who was making love to her could mean her no good. He was a gentleman, and he hated him for that, hated him through some curious race-instinct for which he could not account, and which for that reason was all the more dominant within him. He was conscious also of the shallowness and vanity of his mother’s nature, and in that saw infinite peril for Sibyl and Sibyl’s happiness. Children begin by loving their parents; as they grow older they judge them; sometimes they forgive them.\n",
    "\n",
    "His mother! He had something on his mind to ask of her, something that he had brooded on for many months of silence. A chance phrase that he had heard at the theatre, a whispered sneer that had reached his ears one night as he waited at the stage-door, had set loose a train of horrible thoughts. He remembered it as if it had been the lash of a hunting-crop across his face. His brows knit together into a wedge-like furrow, and with a twitch of pain he bit his underlip.\n",
    "\n",
    "“You are not listening to a word I am saying, Jim,” cried Sibyl, “and I am making the most delightful plans for your future. Do say something.”\n",
    "\n",
    "“What do you want me to say?”\n",
    "\n",
    "“Oh! that you will be a good boy and not forget us,” she answered, smiling at him.\n",
    "\n",
    "He shrugged his shoulders. “You are more likely to forget me than I am to forget you, Sibyl.”\n",
    "\n",
    "She flushed. “What do you mean, Jim?” she asked.\n",
    "\n",
    "“You have a new friend, I hear. Who is he? Why have you not told me about him? He means you no good.”\n",
    "\n",
    "“Stop, Jim!” she exclaimed. “You must not say anything against him. I love him.”\n",
    "\n",
    "“Why, you don’t even know his name,” answered the lad. “Who is he? I have a right to know.”\n",
    "\n",
    "“He is called Prince Charming. Don’t you like the name. Oh! you silly boy! you should never forget it. If you only saw him, you would think him the most wonderful person in the world. Some day you will meet him—when you come back from Australia. You will like him so much. Everybody likes him, and I ... love him. I wish you could come to the theatre to-night. He is going to be there, and I am to play Juliet. Oh! how I shall play it! Fancy, Jim, to be in love and play Juliet! To have him sitting there! To play for his delight! I am afraid I may frighten the company, frighten or enthrall them. To be in love is to surpass one’s self. Poor dreadful Mr. Isaacs will be shouting ‘genius’ to his loafers at the bar. He has preached me as a dogma; to-night he will announce me as a revelation. I feel it. And it is all his, his only, Prince Charming, my wonderful lover, my god of graces. But I am poor beside him. Poor? What does that matter? When poverty creeps in at the door, love flies in through the window. Our proverbs want rewriting. They were made in winter, and it is summer now; spring-time for me, I think, a very dance of blossoms in blue skies.”\n",
    "\n",
    "“He is a gentleman,” said the lad sullenly.\n",
    "\n",
    "“A prince!” she cried musically. “What more do you want?”\n",
    "\n",
    "“He wants to enslave you.”\n",
    "\n",
    "“I shudder at the thought of being free.”\n",
    "\n",
    "“I want you to beware of him.”\n",
    "\n",
    "“To see him is to worship him; to know him is to trust him.”\n",
    "\n",
    "“Sibyl, you are mad about him.”\n",
    "\n",
    "She laughed and took his arm. “You dear old Jim, you talk as if you were a hundred. Some day you will be in love yourself. Then you will know what it is. Don’t look so sulky. Surely you should be glad to think that, though you are going away, you leave me happier than I have ever been before. Life has been hard for us both, terribly hard and difficult. But it will be different now. You are going to a new world, and I have found one. Here are two chairs; let us sit down and see the smart people go by.”\n",
    "\n",
    "They took their seats amidst a crowd of watchers. The tulip-beds across the road flamed like throbbing rings of fire. A white dust—tremulous cloud of orris-root it seemed—hung in the panting air. The brightly coloured parasols danced and dipped like monstrous butterflies.\n",
    "\n",
    "She made her brother talk of himself, his hopes, his prospects. He spoke slowly and with effort. They passed words to each other as players at a game pass counters. Sibyl felt oppressed. She could not communicate her joy. A faint smile curving that sullen mouth was all the echo she could win. After some time she became silent. Suddenly she caught a glimpse of golden hair and laughing lips, and in an open carriage with two ladies Dorian Gray drove past.\n",
    "\n",
    "She started to her feet. “There he is!” she cried.\n",
    "\n",
    "“Who?” said Jim Vane.\n",
    "\n",
    "“Prince Charming,” she answered, looking after the victoria.\n",
    "\n",
    "He jumped up and seized her roughly by the arm. “Show him to me. Which is he? Point him out. I must see him!” he exclaimed; but at that moment the Duke of Berwick’s four-in-hand came between, and when it had left the space clear, the carriage had swept out of the park.\n",
    "\n",
    "“He is gone,” murmured Sibyl sadly. “I wish you had seen him.”\n",
    "\n",
    "“I wish I had, for as sure as there is a God in heaven, if he ever does you any wrong, I shall kill him.”\n",
    "\n",
    "She looked at him in horror. He repeated his words. They cut the air like a dagger. The people round began to gape. A lady standing close to her tittered.\n",
    "\n",
    "“Come away, Jim; come away,” she whispered. He followed her doggedly as she passed through the crowd. He felt glad at what he had said.\n",
    "\n",
    "When they reached the Achilles Statue, she turned round. There was pity in her eyes that became laughter on her lips. She shook her head at him. “You are foolish, Jim, utterly foolish; a bad-tempered boy, that is all. How can you say such horrible things? You don’t know what you are talking about. You are simply jealous and unkind. Ah! I wish you would fall in love. Love makes people good, and what you said was wicked.”\n",
    "\n",
    "“I am sixteen,” he answered, “and I know what I am about. Mother is no help to you. She doesn’t understand how to look after you. I wish now that I was not going to Australia at all. I have a great mind to chuck the whole thing up. I would, if my articles hadn’t been signed.”\n",
    "\n",
    "“Oh, don’t be so serious, Jim. You are like one of the heroes of those silly melodramas Mother used to be so fond of acting in. I am not going to quarrel with you. I have seen him, and oh! to see him is perfect happiness. We won’t quarrel. I know you would never harm any one I love, would you?”\n",
    "\n",
    "“Not as long as you love him, I suppose,” was the sullen answer.\n",
    "\n",
    "“I shall love him for ever!” she cried.\n",
    "\n",
    "“And he?”\n",
    "\n",
    "“For ever, too!”\n",
    "\n",
    "“He had better.”\n",
    "\n",
    "She shrank from him. Then she laughed and put her hand on his arm. He was merely a boy.\n",
    "\n",
    "At the Marble Arch they hailed an omnibus, which left them close to their shabby home in the Euston Road. It was after five o’clock, and Sibyl had to lie down for a couple of hours before acting. Jim insisted that she should do so. He said that he would sooner part with her when their mother was not present. She would be sure to make a scene, and he detested scenes of every kind.\n",
    "\n",
    "In Sybil’s own room they parted. There was jealousy in the lad’s heart, and a fierce murderous hatred of the stranger who, as it seemed to him, had come between them. Yet, when her arms were flung round his neck, and her fingers strayed through his hair, he softened and kissed her with real affection. There were tears in his eyes as he went downstairs.\n",
    "\n",
    "His mother was waiting for him below. She grumbled at his unpunctuality, as he entered. He made no answer, but sat down to his meagre meal. The flies buzzed round the table and crawled over the stained cloth. Through the rumble of omnibuses, and the clatter of street-cabs, he could hear the droning voice devouring each minute that was left to him.\n",
    "\n",
    "After some time, he thrust away his plate and put his head in his hands. He felt that he had a right to know. It should have been told to him before, if it was as he suspected. Leaden with fear, his mother watched him. Words dropped mechanically from her lips. A tattered lace handkerchief twitched in her fingers. When the clock struck six, he got up and went to the door. Then he turned back and looked at her. Their eyes met. In hers he saw a wild appeal for mercy. It enraged him.\n",
    "\n",
    "“Mother, I have something to ask you,” he said. Her eyes wandered vaguely about the room. She made no answer. “Tell me the truth. I have a right to know. Were you married to my father?”\n",
    "\n",
    "She heaved a deep sigh. It was a sigh of relief. The terrible moment, the moment that night and day, for weeks and months, she had dreaded, had come at last, and yet she felt no terror. Indeed, in some measure it was a disappointment to her. The vulgar directness of the question called for a direct answer. The situation had not been gradually led up to. It was crude. It reminded her of a bad rehearsal.\n",
    "\n",
    "“No,” she answered, wondering at the harsh simplicity of life.\n",
    "\n",
    "“My father was a scoundrel then!” cried the lad, clenching his fists.\n",
    "\n",
    "She shook her head. “I knew he was not free. We loved each other very much. If he had lived, he would have made provision for us. Don’t speak against him, my son. He was your father, and a gentleman. Indeed, he was highly connected.”\n",
    "\n",
    "An oath broke from his lips. “I don’t care for myself,” he exclaimed, “but don’t let Sibyl.... It is a gentleman, isn’t it, who is in love with her, or says he is? Highly connected, too, I suppose.”\n",
    "\n",
    "For a moment a hideous sense of humiliation came over the woman. Her head drooped. She wiped her eyes with shaking hands. “Sibyl has a mother,” she murmured; “I had none.”\n",
    "\n",
    "The lad was touched. He went towards her, and stooping down, he kissed her. “I am sorry if I have pained you by asking about my father,” he said, “but I could not help it. I must go now. Good-bye. Don’t forget that you will have only one child now to look after, and believe me that if this man wrongs my sister, I will find out who he is, track him down, and kill him like a dog. I swear it.”\n",
    "\n",
    "The exaggerated folly of the threat, the passionate gesture that accompanied it, the mad melodramatic words, made life seem more vivid to her. She was familiar with the atmosphere. She breathed more freely, and for the first time for many months she really admired her son. She would have liked to have continued the scene on the same emotional scale, but he cut her short. Trunks had to be carried down and mufflers looked for. The lodging-house drudge bustled in and out. There was the bargaining with the cabman. The moment was lost in vulgar details. It was with a renewed feeling of disappointment that she waved the tattered lace handkerchief from the window, as her son drove away. She was conscious that a great opportunity had been wasted. She consoled herself by telling Sibyl how desolate she felt her life would be, now that she had only one child to look after. She remembered the phrase. It had pleased her. Of the threat she said nothing. It was vividly and dramatically expressed. She felt that they would all laugh at it some day.\n",
    "'''"
   ]
  },
  {
   "cell_type": "code",
   "execution_count": 9,
   "metadata": {
    "executionInfo": {
     "elapsed": 18,
     "status": "ok",
     "timestamp": 1689791400077,
     "user": {
      "displayName": "Urmi Dedhia",
      "userId": "04029137391343867476"
     },
     "user_tz": -330
    },
    "id": "yqx-Bx8vEzKl"
   },
   "outputs": [],
   "source": [
    "news = '''\n",
    "After receding for two days, the Yamuna water level in Delhi is predicted to rise again in Old Delhi Yamuna Bridge on Monday night. Delhi cabinet minister Atishi has urged people to stay in relief camps as “the Central Water Commission estimates that it can reach 206.1 metres overnight”.\n",
    "\n",
    "People from low-lying areas relocate to a safer place with their belongings after the Yamuna river inundated the nearby areas during monsoon season at Mayur Vihar in New Delhi on Monday.(PTI)\n",
    "People from low-lying areas relocate to a safer place with their belongings after the Yamuna river inundated the nearby areas during monsoon season at Mayur Vihar in New Delhi on Monday.(PTI)\n",
    "She, however, said there is no danger for the people of Delhi from this.\n",
    "\n",
    "Due to heavy rains in some areas of Haryana on Sunday, the water level of Yamuna rose slightly, she said.\n",
    "\n",
    "According to the Central Water Commission, the Yamuna water level at 2pm stood at 205.87 metres, which was higher than the danger mark of 205.33 metres.\n",
    "\n",
    "The CWC website predicted that the Yamuna water level will rise to 205.83 metres at 7pm, while it would be 206.1 metres at 9pm.\n",
    "\n",
    "\"But all the people living in relief camps are requested not to go back to their homes just yet. Go back to your homes only after the water level goes below the danger mark,\" Atishi tweeted in Hindi.\n",
    "\n",
    "The Yamuna water level in Delhi at 12 noon rose to 205.80 metres from 205.58 metres at 9am. The water level was 205.52 metres on Sunday night.\n",
    "\n",
    "The water level of Yamuna, which breached the previous record of 207.49 metres last week and crossed 208 metres on July 12.\n",
    "\n",
    "The river has been in spate for the last one week, swelling to 207.71 metres on Wednesday, breaching its all-time record of 207.49 metres set in 1978, inundating several key areas in Delhi, after submerging the flood plains.\n",
    "\n",
    "East Delhi, northeast Delhi largely impacted by floods: Bharadwaj\n",
    "All Delhi government departments have been instructed to constantly monitor the situation in the aftermath of flooding in the national capital, health minister Saurabh Bharadwaj said on Monday.\n",
    "\n",
    "Interacting with reporters during his visit to a Delhi government hospital, he also said cases of conjunctivitis and skin allergy are mostly being reported from relief camps set up in the wake of flooding in various parts of Delhi.\n",
    "\n",
    "Bharadwaj said east Delhi and northeast Delhi have largely been impacted due to the floods.\n",
    "\n",
    "The meteorological department has forecast rain in Himachal Pradesh till July 22.\n",
    "\n",
    "In the wake of the orange alert for heavy rain, the state government has extended the vacation of winter closing schools by a day. These include schools of Kinnaur and Pangi and Bharmour region of Chamba district. Schools in these areas have been closed since July 11.\n",
    "\n",
    "Heavy rain, cloudbursts and landslides have claimed 37 lives and caused widespread damage across the state since July 8 with Kullu and Mandi districts bearing the brunt. Twelve people are still missing.\n",
    "\n",
    "Nearly 400 sheep died due to extreme cold in the high-altitude Pin Valley, while 1,200 sheep were rescued in Lahaul and Spiti district that received snow.\n",
    "\n",
    "Additional deputy commissioner, Lahaul-Spiti, Rahul Jain said that 12 Gaddi (nomadic) shepherds, stranded due to heavy rain and snowfall from Spiti’s Pin Valley towards Bhawa Pass, had been rescued. As many as 1,200 stranded sheep and goats were taken to safer places. When the administration’s team inspected the spot, it found 400 sheep dead and 50 missing.\n",
    "\n",
    "Barring a Gaddi stuck at Chandratal, all members of the nomadic community have been rescued.\n",
    "\n",
    "On July 14, a rescue team with the help of local people provided fodder, medicines and ration to donkeys stranded at Kunzum Top and Chandratal. On the other hand, the second team went to rescue the shepherds of Rupi village in Kinnaur district, who were stranded in the Sangam Valley of Pin.\n",
    "\n",
    "\n",
    "'''"
   ]
  },
  {
   "cell_type": "markdown",
   "metadata": {
    "id": "LkaLNkLTIfIP"
   },
   "source": [
    "##Vector formation"
   ]
  },
  {
   "cell_type": "code",
   "execution_count": 10,
   "metadata": {
    "colab": {
     "base_uri": "https://localhost:8080/"
    },
    "executionInfo": {
     "elapsed": 1788,
     "status": "ok",
     "timestamp": 1689791401848,
     "user": {
      "displayName": "Urmi Dedhia",
      "userId": "04029137391343867476"
     },
     "user_tz": -330
    },
    "id": "1TWTyAiLxpvk",
    "outputId": "a8bb0820-9afd-439f-8ca2-b29cfd35023e"
   },
   "outputs": [
    {
     "name": "stdout",
     "output_type": "stream",
     "text": [
      "[\"\\nI wanted the day to go by faster, so I decided to help out in the kitchen at Bib's even though I prepared for the night with a full staff.\", 'Now I smell like garlic.', \"This is the third time I've tried scrubbing the smell off, to no avail.\", \"But if I don't leave now, I'll be late meeting her.\", \"We're taking it slow, so I'm picking her up at her work rather than her apartment.\", 'I have no idea where she lives now, or if she still lives in the apartment building I showed up at almost two years ago when she needed help.', \"For whatever reason, where we live is something that hasn't come up in our conversations.\", \"She probably doesn't even know I sold my house and moved into the city earlier this year.\", \"I'm curious how far apart we live from each other now.\", '\"I smell cologne,\" Darin says after he passes me.', 'He stops walking toward the freezer and turns to give me a once-over.', '\"Why are you wearing cologne?', 'Why are you dressed up?\"', 'I sniff my hands.', '\"I don\\'t smell like garlic?\"', '\"No, you smell like you\\'re going out.', 'Are you leaving?\"', '\"I am leaving.', \"I'll be back around closing time, though.\", 'I think I might stay the night here and see if I can catch whoever is vandalizing the restaurants.\"', 'There were several days of a quiet stretch between incidents, but we got hit for a fourth time last night.', \"It wasn't too costly, though.\", 'This time they just scattered the trash everywhere again.', \"That's a lot easier to clean up than repainting has been.\", 'That may be because Brad keeps bringing Theo to help.', \"I should probably give Theo a heads-up that the more he complains about a chore, the more likely he's going to be made to do that chore.\", \"I plan to confront whoever is doing the damage tonight and see if I can't figure out their motive and talk them down before I get the police involved.\", \"I'm confident most things can be handled with a simple, honest conversation rather than a dramatic intervention, but I have no idea who I'm dealing with.\", 'Darin leans in and quietly says, \"Who you going out with?', 'Lily?\"', 'I dry my hands on a towel and nod once.', 'Darin smiles and walks away.', 'I like that my friends like Lily.', 'They brought her up a couple of times after our poker night, but I think they could tell it bothered me.', \"I didn't like discussing Lily when she wasn't a part of my life.\", \"But now it looks like there's a possibility she's back in the picture.\", 'Maybe.', \"This might be why I'm so nervous: because I know what a huge risk Lily is taking by going out with me tonight.\", 'If things progress with us, that could impact her life in negative ways.', 'Which might be why I started to feel the immense pressure two hours ago of making sure this date is worth it for her.', \"But I smell like I'm terrified of vampires, so it's already not going my way.\", 'I pull into the parking lot at five minutes to six.', 'Lily must have been waiting for me, because she exits her store and locks the door behind her before I’m even out of my car.', 'As soon as I lay eyes on her, I get even more nervous.', 'She looks incredible.', 'She’s wearing a black jumpsuit and heels.', 'She pulls on her jacket and meets me in the middle of the parking lot.']\n",
      "['I', 'wanted', 'the', 'day', 'to', 'go', 'by', 'faster,', 'so', 'I', 'decided', 'to', 'help', 'out', 'in', 'the', 'kitchen', 'at', \"Bib's\", 'even', 'though', 'I', 'prepared', 'for', 'the', 'night', 'with', 'a', 'full', 'staff.', 'Now', 'I', 'smell', 'like', 'garlic.', 'This', 'is', 'the', 'third', 'time', \"I've\", 'tried', 'scrubbing', 'the', 'smell', 'off,', 'to', 'no', 'avail.', 'But', 'if', 'I', \"don't\", 'leave', 'now,', \"I'll\", 'be', 'late', 'meeting', 'her.', \"We're\", 'taking', 'it', 'slow,', 'so', \"I'm\", 'picking', 'her', 'up', 'at', 'her', 'work', 'rather', 'than', 'her', 'apartment.', 'I', 'have', 'no', 'idea', 'where', 'she', 'lives', 'now,', 'or', 'if', 'she', 'still', 'lives', 'in', 'the', 'apartment', 'building', 'I', 'showed', 'up', 'at', 'almost', 'two', 'years', 'ago', 'when', 'she', 'needed', 'help.', 'For', 'whatever', 'reason,', 'where', 'we', 'live', 'is', 'something', 'that', \"hasn't\", 'come', 'up', 'in', 'our', 'conversations.', 'She', 'probably', \"doesn't\", 'even', 'know', 'I', 'sold', 'my', 'house', 'and', 'moved', 'into', 'the', 'city', 'earlier', 'this', 'year.', \"I'm\", 'curious', 'how', 'far', 'apart', 'we', 'live', 'from', 'each', 'other', 'now.', '\"I', 'smell', 'cologne,\"', 'Darin', 'says', 'after', 'he', 'passes', 'me.', 'He', 'stops', 'walking', 'toward', 'the', 'freezer', 'and', 'turns', 'to', 'give', 'me', 'a', 'once-over.', '\"Why', 'are', 'you', 'wearing', 'cologne?', 'Why', 'are', 'you', 'dressed', 'up?\"', 'I', 'sniff', 'my', 'hands.', '\"I', \"don't\", 'smell', 'like', 'garlic?\"', '\"No,', 'you', 'smell', 'like', \"you're\", 'going', 'out.', 'Are', 'you', 'leaving?\"', '\"I', 'am', 'leaving.', \"I'll\", 'be', 'back', 'around', 'closing', 'time,', 'though.', 'I', 'think', 'I', 'might', 'stay', 'the', 'night', 'here', 'and', 'see', 'if', 'I', 'can', 'catch', 'whoever', 'is', 'vandalizing', 'the', 'restaurants.\"', 'There', 'were', 'several', 'days', 'of', 'a', 'quiet', 'stretch', 'between', 'incidents,', 'but', 'we', 'got', 'hit', 'for', 'a', 'fourth', 'time', 'last', 'night.', 'It', \"wasn't\", 'too', 'costly,', 'though.', 'This', 'time', 'they', 'just', 'scattered', 'the', 'trash', 'everywhere', 'again.', \"That's\", 'a', 'lot', 'easier', 'to', 'clean', 'up', 'than', 'repainting', 'has', 'been.', 'That', 'may', 'be', 'because', 'Brad', 'keeps', 'bringing', 'Theo', 'to', 'help.', 'I', 'should', 'probably', 'give', 'Theo', 'a', 'heads-up', 'that', 'the', 'more', 'he', 'complains', 'about', 'a', 'chore,', 'the', 'more', 'likely', \"he's\", 'going', 'to', 'be', 'made', 'to', 'do', 'that', 'chore.', 'I', 'plan', 'to', 'confront', 'whoever', 'is', 'doing', 'the', 'damage', 'tonight', 'and', 'see', 'if', 'I', \"can't\", 'figure', 'out', 'their', 'motive', 'and', 'talk', 'them', 'down', 'before', 'I', 'get', 'the', 'police', 'involved.', \"I'm\", 'confident', 'most', 'things', 'can', 'be', 'handled', 'with', 'a', 'simple,', 'honest', 'conversation', 'rather', 'than', 'a', 'dramatic', 'intervention,', 'but', 'I', 'have', 'no', 'idea', 'who', \"I'm\", 'dealing', 'with.', 'Darin', 'leans', 'in', 'and', 'quietly', 'says,', '\"Who', 'you', 'going', 'out', 'with?', 'Lily?\"', 'I', 'dry', 'my', 'hands', 'on', 'a', 'towel', 'and', 'nod', 'once.', 'Darin', 'smiles', 'and', 'walks', 'away.', 'I', 'like', 'that', 'my', 'friends', 'like', 'Lily.', 'They', 'brought', 'her', 'up', 'a', 'couple', 'of', 'times', 'after', 'our', 'poker', 'night,', 'but', 'I', 'think', 'they', 'could', 'tell', 'it', 'bothered', 'me.', 'I', \"didn't\", 'like', 'discussing', 'Lily', 'when', 'she', \"wasn't\", 'a', 'part', 'of', 'my', 'life.', 'But', 'now', 'it', 'looks', 'like', \"there's\", 'a', 'possibility', \"she's\", 'back', 'in', 'the', 'picture.', 'Maybe.', 'This', 'might', 'be', 'why', \"I'm\", 'so', 'nervous:', 'because', 'I', 'know', 'what', 'a', 'huge', 'risk', 'Lily', 'is', 'taking', 'by', 'going', 'out', 'with', 'me', 'tonight.', 'If', 'things', 'progress', 'with', 'us,', 'that', 'could', 'impact', 'her', 'life', 'in', 'negative', 'ways.', 'Which', 'might', 'be', 'why', 'I', 'started', 'to', 'feel', 'the', 'immense', 'pressure', 'two', 'hours', 'ago', 'of', 'making', 'sure', 'this', 'date', 'is', 'worth', 'it', 'for', 'her.', 'But', 'I', 'smell', 'like', \"I'm\", 'terrified', 'of', 'vampires,', 'so', \"it's\", 'already', 'not', 'going', 'my', 'way.', 'I', 'pull', 'into', 'the', 'parking', 'lot', 'at', 'five', 'minutes', 'to', 'six.', 'Lily', 'must', 'have', 'been', 'waiting', 'for', 'me,', 'because', 'she', 'exits', 'her', 'store', 'and', 'locks', 'the', 'door', 'behind', 'her', 'before', 'I’m', 'even', 'out', 'of', 'my', 'car.', 'As', 'soon', 'as', 'I', 'lay', 'eyes', 'on', 'her,', 'I', 'get', 'even', 'more', 'nervous.', 'She', 'looks', 'incredible.', 'She’s', 'wearing', 'a', 'black', 'jumpsuit', 'and', 'heels.', 'She', 'pulls', 'on', 'her', 'jacket', 'and', 'meets', 'me', 'in', 'the', 'middle', 'of', 'the', 'parking', 'lot.']\n"
     ]
    },
    {
     "name": "stderr",
     "output_type": "stream",
     "text": [
      "/usr/local/lib/python3.10/dist-packages/numpy/lib/nanfunctions.py:1879: RuntimeWarning: Degrees of freedom <= 0 for slice.\n",
      "  var = nanvar(a, axis=axis, dtype=dtype, out=out, ddof=ddof,\n"
     ]
    }
   ],
   "source": [
    "colleen_vector, colleen_dict = style_score(colleen)"
   ]
  },
  {
   "cell_type": "code",
   "execution_count": 11,
   "metadata": {
    "colab": {
     "base_uri": "https://localhost:8080/"
    },
    "executionInfo": {
     "elapsed": 1030,
     "status": "ok",
     "timestamp": 1689791402868,
     "user": {
      "displayName": "Urmi Dedhia",
      "userId": "04029137391343867476"
     },
     "user_tz": -330
    },
    "id": "gg5jaqt2vEZq",
    "outputId": "cde39a31-ea03-4b94-d491-5b866cb76046"
   },
   "outputs": [
    {
     "name": "stdout",
     "output_type": "stream",
     "text": [
      "['\\nAfter receding for two days, the Yamuna water level in Delhi is predicted to rise again in Old Delhi Yamuna Bridge on Monday night.', 'Delhi cabinet minister Atishi has urged people to stay in relief camps as “the Central Water Commission estimates that it can reach 206.1 metres overnight”.', 'People from low-lying areas relocate to a safer place with their belongings after the Yamuna river inundated the nearby areas during monsoon season at Mayur Vihar in New Delhi on Monday.', '(PTI)\\nPeople from low-lying areas relocate to a safer place with their belongings after the Yamuna river inundated the nearby areas during monsoon season at Mayur Vihar in New Delhi on Monday.', '(PTI)\\nShe, however, said there is no danger for the people of Delhi from this.', 'Due to heavy rains in some areas of Haryana on Sunday, the water level of Yamuna rose slightly, she said.', 'According to the Central Water Commission, the Yamuna water level at 2pm stood at 205.87 metres, which was higher than the danger mark of 205.33 metres.', 'The CWC website predicted that the Yamuna water level will rise to 205.83 metres at 7pm, while it would be 206.1 metres at 9pm.', '\"But all the people living in relief camps are requested not to go back to their homes just yet.', 'Go back to your homes only after the water level goes below the danger mark,\" Atishi tweeted in Hindi.', 'The Yamuna water level in Delhi at 12 noon rose to 205.80 metres from 205.58 metres at 9am.', 'The water level was 205.52 metres on Sunday night.', 'The water level of Yamuna, which breached the previous record of 207.49 metres last week and crossed 208 metres on July 12.', 'The river has been in spate for the last one week, swelling to 207.71 metres on Wednesday, breaching its all-time record of 207.49 metres set in 1978, inundating several key areas in Delhi, after submerging the flood plains.', 'East Delhi, northeast Delhi largely impacted by floods: Bharadwaj\\nAll Delhi government departments have been instructed to constantly monitor the situation in the aftermath of flooding in the national capital, health minister Saurabh Bharadwaj said on Monday.', 'Interacting with reporters during his visit to a Delhi government hospital, he also said cases of conjunctivitis and skin allergy are mostly being reported from relief camps set up in the wake of flooding in various parts of Delhi.', 'Bharadwaj said east Delhi and northeast Delhi have largely been impacted due to the floods.', 'The meteorological department has forecast rain in Himachal Pradesh till July 22.', 'In the wake of the orange alert for heavy rain, the state government has extended the vacation of winter closing schools by a day.', 'These include schools of Kinnaur and Pangi and Bharmour region of Chamba district.', 'Schools in these areas have been closed since July 11.', 'Heavy rain, cloudbursts and landslides have claimed 37 lives and caused widespread damage across the state since July 8 with Kullu and Mandi districts bearing the brunt.', 'Twelve people are still missing.', 'Nearly 400 sheep died due to extreme cold in the high-altitude Pin Valley, while 1,200 sheep were rescued in Lahaul and Spiti district that received snow.', 'Additional deputy commissioner, Lahaul-Spiti, Rahul Jain said that 12 Gaddi (nomadic) shepherds, stranded due to heavy rain and snowfall from Spiti’s Pin Valley towards Bhawa Pass, had been rescued.', 'As many as 1,200 stranded sheep and goats were taken to safer places.', 'When the administration’s team inspected the spot, it found 400 sheep dead and 50 missing.', 'Barring a Gaddi stuck at Chandratal, all members of the nomadic community have been rescued.', 'On July 14, a rescue team with the help of local people provided fodder, medicines and ration to donkeys stranded at Kunzum Top and Chandratal.', 'On the other hand, the second team went to rescue the shepherds of Rupi village in Kinnaur district, who were stranded in the Sangam Valley of Pin.']\n",
      "['After', 'receding', 'for', 'two', 'days,', 'the', 'Yamuna', 'water', 'level', 'in', 'Delhi', 'is', 'predicted', 'to', 'rise', 'again', 'in', 'Old', 'Delhi', 'Yamuna', 'Bridge', 'on', 'Monday', 'night.', 'Delhi', 'cabinet', 'minister', 'Atishi', 'has', 'urged', 'people', 'to', 'stay', 'in', 'relief', 'camps', 'as', '“the', 'Central', 'Water', 'Commission', 'estimates', 'that', 'it', 'can', 'reach', '206.1', 'metres', 'overnight”.', 'People', 'from', 'low-lying', 'areas', 'relocate', 'to', 'a', 'safer', 'place', 'with', 'their', 'belongings', 'after', 'the', 'Yamuna', 'river', 'inundated', 'the', 'nearby', 'areas', 'during', 'monsoon', 'season', 'at', 'Mayur', 'Vihar', 'in', 'New', 'Delhi', 'on', 'Monday.', '(PTI)', 'People', 'from', 'low-lying', 'areas', 'relocate', 'to', 'a', 'safer', 'place', 'with', 'their', 'belongings', 'after', 'the', 'Yamuna', 'river', 'inundated', 'the', 'nearby', 'areas', 'during', 'monsoon', 'season', 'at', 'Mayur', 'Vihar', 'in', 'New', 'Delhi', 'on', 'Monday.', '(PTI)', 'She,', 'however,', 'said', 'there', 'is', 'no', 'danger', 'for', 'the', 'people', 'of', 'Delhi', 'from', 'this.', 'Due', 'to', 'heavy', 'rains', 'in', 'some', 'areas', 'of', 'Haryana', 'on', 'Sunday,', 'the', 'water', 'level', 'of', 'Yamuna', 'rose', 'slightly,', 'she', 'said.', 'According', 'to', 'the', 'Central', 'Water', 'Commission,', 'the', 'Yamuna', 'water', 'level', 'at', '2pm', 'stood', 'at', '205.87', 'metres,', 'which', 'was', 'higher', 'than', 'the', 'danger', 'mark', 'of', '205.33', 'metres.', 'The', 'CWC', 'website', 'predicted', 'that', 'the', 'Yamuna', 'water', 'level', 'will', 'rise', 'to', '205.83', 'metres', 'at', '7pm,', 'while', 'it', 'would', 'be', '206.1', 'metres', 'at', '9pm.', '\"But', 'all', 'the', 'people', 'living', 'in', 'relief', 'camps', 'are', 'requested', 'not', 'to', 'go', 'back', 'to', 'their', 'homes', 'just', 'yet.', 'Go', 'back', 'to', 'your', 'homes', 'only', 'after', 'the', 'water', 'level', 'goes', 'below', 'the', 'danger', 'mark,\"', 'Atishi', 'tweeted', 'in', 'Hindi.', 'The', 'Yamuna', 'water', 'level', 'in', 'Delhi', 'at', '12', 'noon', 'rose', 'to', '205.80', 'metres', 'from', '205.58', 'metres', 'at', '9am.', 'The', 'water', 'level', 'was', '205.52', 'metres', 'on', 'Sunday', 'night.', 'The', 'water', 'level', 'of', 'Yamuna,', 'which', 'breached', 'the', 'previous', 'record', 'of', '207.49', 'metres', 'last', 'week', 'and', 'crossed', '208', 'metres', 'on', 'July', '12.', 'The', 'river', 'has', 'been', 'in', 'spate', 'for', 'the', 'last', 'one', 'week,', 'swelling', 'to', '207.71', 'metres', 'on', 'Wednesday,', 'breaching', 'its', 'all-time', 'record', 'of', '207.49', 'metres', 'set', 'in', '1978,', 'inundating', 'several', 'key', 'areas', 'in', 'Delhi,', 'after', 'submerging', 'the', 'flood', 'plains.', 'East', 'Delhi,', 'northeast', 'Delhi', 'largely', 'impacted', 'by', 'floods:', 'Bharadwaj', 'All', 'Delhi', 'government', 'departments', 'have', 'been', 'instructed', 'to', 'constantly', 'monitor', 'the', 'situation', 'in', 'the', 'aftermath', 'of', 'flooding', 'in', 'the', 'national', 'capital,', 'health', 'minister', 'Saurabh', 'Bharadwaj', 'said', 'on', 'Monday.', 'Interacting', 'with', 'reporters', 'during', 'his', 'visit', 'to', 'a', 'Delhi', 'government', 'hospital,', 'he', 'also', 'said', 'cases', 'of', 'conjunctivitis', 'and', 'skin', 'allergy', 'are', 'mostly', 'being', 'reported', 'from', 'relief', 'camps', 'set', 'up', 'in', 'the', 'wake', 'of', 'flooding', 'in', 'various', 'parts', 'of', 'Delhi.', 'Bharadwaj', 'said', 'east', 'Delhi', 'and', 'northeast', 'Delhi', 'have', 'largely', 'been', 'impacted', 'due', 'to', 'the', 'floods.', 'The', 'meteorological', 'department', 'has', 'forecast', 'rain', 'in', 'Himachal', 'Pradesh', 'till', 'July', '22.', 'In', 'the', 'wake', 'of', 'the', 'orange', 'alert', 'for', 'heavy', 'rain,', 'the', 'state', 'government', 'has', 'extended', 'the', 'vacation', 'of', 'winter', 'closing', 'schools', 'by', 'a', 'day.', 'These', 'include', 'schools', 'of', 'Kinnaur', 'and', 'Pangi', 'and', 'Bharmour', 'region', 'of', 'Chamba', 'district.', 'Schools', 'in', 'these', 'areas', 'have', 'been', 'closed', 'since', 'July', '11.', 'Heavy', 'rain,', 'cloudbursts', 'and', 'landslides', 'have', 'claimed', '37', 'lives', 'and', 'caused', 'widespread', 'damage', 'across', 'the', 'state', 'since', 'July', '8', 'with', 'Kullu', 'and', 'Mandi', 'districts', 'bearing', 'the', 'brunt.', 'Twelve', 'people', 'are', 'still', 'missing.', 'Nearly', '400', 'sheep', 'died', 'due', 'to', 'extreme', 'cold', 'in', 'the', 'high-altitude', 'Pin', 'Valley,', 'while', '1,200', 'sheep', 'were', 'rescued', 'in', 'Lahaul', 'and', 'Spiti', 'district', 'that', 'received', 'snow.', 'Additional', 'deputy', 'commissioner,', 'Lahaul-Spiti,', 'Rahul', 'Jain', 'said', 'that', '12', 'Gaddi', '(nomadic)', 'shepherds,', 'stranded', 'due', 'to', 'heavy', 'rain', 'and', 'snowfall', 'from', 'Spiti’s', 'Pin', 'Valley', 'towards', 'Bhawa', 'Pass,', 'had', 'been', 'rescued.', 'As', 'many', 'as', '1,200', 'stranded', 'sheep', 'and', 'goats', 'were', 'taken', 'to', 'safer', 'places.', 'When', 'the', 'administration’s', 'team', 'inspected', 'the', 'spot,', 'it', 'found', '400', 'sheep', 'dead', 'and', '50', 'missing.', 'Barring', 'a', 'Gaddi', 'stuck', 'at', 'Chandratal,', 'all', 'members', 'of', 'the', 'nomadic', 'community', 'have', 'been', 'rescued.', 'On', 'July', '14,', 'a', 'rescue', 'team', 'with', 'the', 'help', 'of', 'local', 'people', 'provided', 'fodder,', 'medicines', 'and', 'ration', 'to', 'donkeys', 'stranded', 'at', 'Kunzum', 'Top', 'and', 'Chandratal.', 'On', 'the', 'other', 'hand,', 'the', 'second', 'team', 'went', 'to', 'rescue', 'the', 'shepherds', 'of', 'Rupi', 'village', 'in', 'Kinnaur', 'district,', 'who', 'were', 'stranded', 'in', 'the', 'Sangam', 'Valley', 'of', 'Pin.']\n"
     ]
    }
   ],
   "source": [
    "news_vector, news_dict = style_score(news)"
   ]
  },
  {
   "cell_type": "code",
   "execution_count": 12,
   "metadata": {
    "colab": {
     "base_uri": "https://localhost:8080/"
    },
    "executionInfo": {
     "elapsed": 1032,
     "status": "ok",
     "timestamp": 1689791403892,
     "user": {
      "displayName": "Urmi Dedhia",
      "userId": "04029137391343867476"
     },
     "user_tz": -330
    },
    "id": "7DI32BIfNWtV",
    "outputId": "2d999bc9-1e6b-44a2-f2c7-34dfbc3ce1aa"
   },
   "outputs": [
    {
     "name": "stdout",
     "output_type": "stream",
     "text": [
      "['\\nIt was the best of times, it was the worst of times, it was the age of wisdom, it was the age of foolishness, it was the epoch of belief, it was the epoch of incredulity, it was the season of Light, it was the season of Darkness, it was the spring of hope, it was the winter of despair, we had everything before us, we had nothing before us, we were all going direct to Heaven, we were all going direct the other way—in short, the period was so far like the present period, that some of its noisiest authorities insisted on its being received, for good or for evil, in the superlative degree of comparison only.', 'There were a king with a large jaw and a queen with a plain face, on the throne of England; there were a king with a large jaw and a queen with a fair face, on the throne of France.', 'In both countries it was clearer than crystal to the lords of the State preserves of loaves and fishes, that things in general were settled for ever.', 'It was the year of Our Lord one thousand seven hundred and seventy-five.', 'Spiritual revelations were conceded to England at that favoured period, as at this.', 'Mrs Southcott had recently attained her five-and-twentieth blessed birthday, of whom a prophetic private in the Life Guards had heralded the sublime appearance by announcing that arrangements were made for the swallowing up of London and Westminster.', 'Even the Cock-lane ghost had been laid only a round dozen of years, after rapping out its messages, as the spirits of this very year last past (supernaturally deficient in originality) rapped out theirs.', 'Mere messages in the earthly order of events had lately come to the English Crown and People, from a congress of British subjects in America: which, strange to relate, have proved more important to the human race than any communications yet received through any of the chickens of the Cock-lane brood.', 'France, less favoured on the whole as to matters spiritual than her sister of the shield and trident, rolled with exceeding smoothness down hill, making paper money and spending it.', 'Under the guidance of her Christian pastors, she entertained herself, besides, with such humane achievements as sentencing a youth to have his hands cut off, his tongue torn out with pincers, and his body burned alive, because he had not kneeled down in the rain to do honour to a dirty procession of monks which passed within his view, at a distance of some fifty or sixty yards.', 'It is likely enough that, rooted in the woods of France and Norway, there were growing trees, when that sufferer was put to death, already marked by the Woodman, Fate, to come down and be sawn into boards, to make a certain movable framework with a sack and a knife in it, terrible in history.', 'It is likely enough that in the rough outhouses of some tillers of the heavy lands adjacent to Paris, there were sheltered from the weather that very day, rude carts, bespattered with rustic mire, snuffed about by pigs, and roosted in by poultry, which the Farmer, Death, had already set apart to be his tumbrils of the Revolution.', 'But, that Woodman and that Farmer, though they work unceasingly, work silently, and no one heard them as they went about with muffled tread: the rather, forasmuch as to entertain any suspicion that they were awake, was to be atheistical and traitorous.']\n",
      "['It', 'was', 'the', 'best', 'of', 'times,', 'it', 'was', 'the', 'worst', 'of', 'times,', 'it', 'was', 'the', 'age', 'of', 'wisdom,', 'it', 'was', 'the', 'age', 'of', 'foolishness,', 'it', 'was', 'the', 'epoch', 'of', 'belief,', 'it', 'was', 'the', 'epoch', 'of', 'incredulity,', 'it', 'was', 'the', 'season', 'of', 'Light,', 'it', 'was', 'the', 'season', 'of', 'Darkness,', 'it', 'was', 'the', 'spring', 'of', 'hope,', 'it', 'was', 'the', 'winter', 'of', 'despair,', 'we', 'had', 'everything', 'before', 'us,', 'we', 'had', 'nothing', 'before', 'us,', 'we', 'were', 'all', 'going', 'direct', 'to', 'Heaven,', 'we', 'were', 'all', 'going', 'direct', 'the', 'other', 'way—in', 'short,', 'the', 'period', 'was', 'so', 'far', 'like', 'the', 'present', 'period,', 'that', 'some', 'of', 'its', 'noisiest', 'authorities', 'insisted', 'on', 'its', 'being', 'received,', 'for', 'good', 'or', 'for', 'evil,', 'in', 'the', 'superlative', 'degree', 'of', 'comparison', 'only.', 'There', 'were', 'a', 'king', 'with', 'a', 'large', 'jaw', 'and', 'a', 'queen', 'with', 'a', 'plain', 'face,', 'on', 'the', 'throne', 'of', 'England;', 'there', 'were', 'a', 'king', 'with', 'a', 'large', 'jaw', 'and', 'a', 'queen', 'with', 'a', 'fair', 'face,', 'on', 'the', 'throne', 'of', 'France.', 'In', 'both', 'countries', 'it', 'was', 'clearer', 'than', 'crystal', 'to', 'the', 'lords', 'of', 'the', 'State', 'preserves', 'of', 'loaves', 'and', 'fishes,', 'that', 'things', 'in', 'general', 'were', 'settled', 'for', 'ever.', 'It', 'was', 'the', 'year', 'of', 'Our', 'Lord', 'one', 'thousand', 'seven', 'hundred', 'and', 'seventy-five.', 'Spiritual', 'revelations', 'were', 'conceded', 'to', 'England', 'at', 'that', 'favoured', 'period,', 'as', 'at', 'this.', 'Mrs', 'Southcott', 'had', 'recently', 'attained', 'her', 'five-and-twentieth', 'blessed', 'birthday,', 'of', 'whom', 'a', 'prophetic', 'private', 'in', 'the', 'Life', 'Guards', 'had', 'heralded', 'the', 'sublime', 'appearance', 'by', 'announcing', 'that', 'arrangements', 'were', 'made', 'for', 'the', 'swallowing', 'up', 'of', 'London', 'and', 'Westminster.', 'Even', 'the', 'Cock-lane', 'ghost', 'had', 'been', 'laid', 'only', 'a', 'round', 'dozen', 'of', 'years,', 'after', 'rapping', 'out', 'its', 'messages,', 'as', 'the', 'spirits', 'of', 'this', 'very', 'year', 'last', 'past', '(supernaturally', 'deficient', 'in', 'originality)', 'rapped', 'out', 'theirs.', 'Mere', 'messages', 'in', 'the', 'earthly', 'order', 'of', 'events', 'had', 'lately', 'come', 'to', 'the', 'English', 'Crown', 'and', 'People,', 'from', 'a', 'congress', 'of', 'British', 'subjects', 'in', 'America:', 'which,', 'strange', 'to', 'relate,', 'have', 'proved', 'more', 'important', 'to', 'the', 'human', 'race', 'than', 'any', 'communications', 'yet', 'received', 'through', 'any', 'of', 'the', 'chickens', 'of', 'the', 'Cock-lane', 'brood.', 'France,', 'less', 'favoured', 'on', 'the', 'whole', 'as', 'to', 'matters', 'spiritual', 'than', 'her', 'sister', 'of', 'the', 'shield', 'and', 'trident,', 'rolled', 'with', 'exceeding', 'smoothness', 'down', 'hill,', 'making', 'paper', 'money', 'and', 'spending', 'it.', 'Under', 'the', 'guidance', 'of', 'her', 'Christian', 'pastors,', 'she', 'entertained', 'herself,', 'besides,', 'with', 'such', 'humane', 'achievements', 'as', 'sentencing', 'a', 'youth', 'to', 'have', 'his', 'hands', 'cut', 'off,', 'his', 'tongue', 'torn', 'out', 'with', 'pincers,', 'and', 'his', 'body', 'burned', 'alive,', 'because', 'he', 'had', 'not', 'kneeled', 'down', 'in', 'the', 'rain', 'to', 'do', 'honour', 'to', 'a', 'dirty', 'procession', 'of', 'monks', 'which', 'passed', 'within', 'his', 'view,', 'at', 'a', 'distance', 'of', 'some', 'fifty', 'or', 'sixty', 'yards.', 'It', 'is', 'likely', 'enough', 'that,', 'rooted', 'in', 'the', 'woods', 'of', 'France', 'and', 'Norway,', 'there', 'were', 'growing', 'trees,', 'when', 'that', 'sufferer', 'was', 'put', 'to', 'death,', 'already', 'marked', 'by', 'the', 'Woodman,', 'Fate,', 'to', 'come', 'down', 'and', 'be', 'sawn', 'into', 'boards,', 'to', 'make', 'a', 'certain', 'movable', 'framework', 'with', 'a', 'sack', 'and', 'a', 'knife', 'in', 'it,', 'terrible', 'in', 'history.', 'It', 'is', 'likely', 'enough', 'that', 'in', 'the', 'rough', 'outhouses', 'of', 'some', 'tillers', 'of', 'the', 'heavy', 'lands', 'adjacent', 'to', 'Paris,', 'there', 'were', 'sheltered', 'from', 'the', 'weather', 'that', 'very', 'day,', 'rude', 'carts,', 'bespattered', 'with', 'rustic', 'mire,', 'snuffed', 'about', 'by', 'pigs,', 'and', 'roosted', 'in', 'by', 'poultry,', 'which', 'the', 'Farmer,', 'Death,', 'had', 'already', 'set', 'apart', 'to', 'be', 'his', 'tumbrils', 'of', 'the', 'Revolution.', 'But,', 'that', 'Woodman', 'and', 'that', 'Farmer,', 'though', 'they', 'work', 'unceasingly,', 'work', 'silently,', 'and', 'no', 'one', 'heard', 'them', 'as', 'they', 'went', 'about', 'with', 'muffled', 'tread:', 'the', 'rather,', 'forasmuch', 'as', 'to', 'entertain', 'any', 'suspicion', 'that', 'they', 'were', 'awake,', 'was', 'to', 'be', 'atheistical', 'and', 'traitorous.']\n"
     ]
    },
    {
     "name": "stderr",
     "output_type": "stream",
     "text": [
      "/usr/local/lib/python3.10/dist-packages/numpy/lib/nanfunctions.py:1879: RuntimeWarning: Degrees of freedom <= 0 for slice.\n",
      "  var = nanvar(a, axis=axis, dtype=dtype, out=out, ddof=ddof,\n"
     ]
    }
   ],
   "source": [
    "charles_vector, charles_dict = style_score(charles)"
   ]
  },
  {
   "cell_type": "code",
   "execution_count": 13,
   "metadata": {
    "colab": {
     "base_uri": "https://localhost:8080/"
    },
    "executionInfo": {
     "elapsed": 957,
     "status": "ok",
     "timestamp": 1689791404840,
     "user": {
      "displayName": "Urmi Dedhia",
      "userId": "04029137391343867476"
     },
     "user_tz": -330
    },
    "id": "yyxe9bsCNWv9",
    "outputId": "2a655771-41e3-49ab-f1f2-6f3420d22f8b"
   },
   "outputs": [
    {
     "name": "stdout",
     "output_type": "stream",
     "text": [
      "['\\nA large cask of wine had been dropped and broken, in the street.', 'The accident had happened in getting it out of a cart; the cask had tumbled out with a run, the hoops had burst, and it lay on the stones just outside the door of the wine-shop, shattered like a walnut-shell.', 'All the people within reach had suspended their business, or their idleness, to run to the spot and drink the wine.', 'The rough, irregular stones of the street, pointing every way, and designed, one might have thought, expressly to lame all living creatures that approached them, had dammed it into little pools; these were surrounded, each by its own jostling group or crowd, according to its size.', 'Some men kneeled down, made scoops of their two hands joined, and sipped, or tried to help women, who bent over their shoulders, to sip, before the wine had all run out between their fingers.', \"Others, men and women, dipped in the puddles with little mugs of mutilated earthen ware, or even with handkerchiefs from women's heads, which were squeezed dry into infants' mouths; others made small mud-embankments, to stem the wine as it ran; others, directed by lookers-on up at high windows, darted here and there, to cut off little streams of wine that started away in new directions; others, devoted, themselves to the sodden and lee-dyed pieces of the cask, licking, and even champing the moister wine-rotted fragments with eager relish.\", 'There was no drainage to carry off the wine, and not only did it all get taken up, but so much mud got taken up along with it, that there might have been a scavenger in the street, if anybody acquainted with it could have believed in such a miraculous presence.', 'A shrill sound of laughter and of amused voices—voices of men, women, and children—resounded in the street while this winegame lasted.', 'There was little roughness in the sport, and much playfulness.', 'There was a special companionship in it, an observable inclination on the part of every one to join some other one, which led, especially among the luckier or lighter-hearted, to frolicsome embraces, drinking of healths, shaking of hands, and even joining of hands and dancing, a dozen together.', 'When the wine was gone, and the places where it had been most abundant were raked into a gridiron-pattern by fingers, these demonstrations ceased, as suddenly as they had broken out.', 'The man who had left his saw sticking in the firewood he was cutting, set it in motion again; the woman who had left on a door-step the little pot of hot ashes, at which she had been trying to soften the pain in her own starved fingers and toes, or in those of her child, returned to it; men with bare arms, matted locks, and cadaverous faces, who had emerged into the winter light from cellars, moved away to descend again; and a gloom gathered on the scene that appeared more natural to it than sunshine.', 'The wine was red wine, and had stained the ground of the narrow street in the suburb of Saint Antoine, in Paris, where it was spilled.', 'It had stained many hands, too, and many faces, and many naked feet, and many wooden shoes.', 'The hands of the man who sawed the wood, left red marks on the billets; and the forehead of the woman who nursed her baby, was stained with the stain of the old rag she wound about her head again.']\n",
      "['A', 'large', 'cask', 'of', 'wine', 'had', 'been', 'dropped', 'and', 'broken,', 'in', 'the', 'street.', 'The', 'accident', 'had', 'happened', 'in', 'getting', 'it', 'out', 'of', 'a', 'cart;', 'the', 'cask', 'had', 'tumbled', 'out', 'with', 'a', 'run,', 'the', 'hoops', 'had', 'burst,', 'and', 'it', 'lay', 'on', 'the', 'stones', 'just', 'outside', 'the', 'door', 'of', 'the', 'wine-shop,', 'shattered', 'like', 'a', 'walnut-shell.', 'All', 'the', 'people', 'within', 'reach', 'had', 'suspended', 'their', 'business,', 'or', 'their', 'idleness,', 'to', 'run', 'to', 'the', 'spot', 'and', 'drink', 'the', 'wine.', 'The', 'rough,', 'irregular', 'stones', 'of', 'the', 'street,', 'pointing', 'every', 'way,', 'and', 'designed,', 'one', 'might', 'have', 'thought,', 'expressly', 'to', 'lame', 'all', 'living', 'creatures', 'that', 'approached', 'them,', 'had', 'dammed', 'it', 'into', 'little', 'pools;', 'these', 'were', 'surrounded,', 'each', 'by', 'its', 'own', 'jostling', 'group', 'or', 'crowd,', 'according', 'to', 'its', 'size.', 'Some', 'men', 'kneeled', 'down,', 'made', 'scoops', 'of', 'their', 'two', 'hands', 'joined,', 'and', 'sipped,', 'or', 'tried', 'to', 'help', 'women,', 'who', 'bent', 'over', 'their', 'shoulders,', 'to', 'sip,', 'before', 'the', 'wine', 'had', 'all', 'run', 'out', 'between', 'their', 'fingers.', 'Others,', 'men', 'and', 'women,', 'dipped', 'in', 'the', 'puddles', 'with', 'little', 'mugs', 'of', 'mutilated', 'earthen', 'ware,', 'or', 'even', 'with', 'handkerchiefs', 'from', \"women's\", 'heads,', 'which', 'were', 'squeezed', 'dry', 'into', \"infants'\", 'mouths;', 'others', 'made', 'small', 'mud-embankments,', 'to', 'stem', 'the', 'wine', 'as', 'it', 'ran;', 'others,', 'directed', 'by', 'lookers-on', 'up', 'at', 'high', 'windows,', 'darted', 'here', 'and', 'there,', 'to', 'cut', 'off', 'little', 'streams', 'of', 'wine', 'that', 'started', 'away', 'in', 'new', 'directions;', 'others,', 'devoted,', 'themselves', 'to', 'the', 'sodden', 'and', 'lee-dyed', 'pieces', 'of', 'the', 'cask,', 'licking,', 'and', 'even', 'champing', 'the', 'moister', 'wine-rotted', 'fragments', 'with', 'eager', 'relish.', 'There', 'was', 'no', 'drainage', 'to', 'carry', 'off', 'the', 'wine,', 'and', 'not', 'only', 'did', 'it', 'all', 'get', 'taken', 'up,', 'but', 'so', 'much', 'mud', 'got', 'taken', 'up', 'along', 'with', 'it,', 'that', 'there', 'might', 'have', 'been', 'a', 'scavenger', 'in', 'the', 'street,', 'if', 'anybody', 'acquainted', 'with', 'it', 'could', 'have', 'believed', 'in', 'such', 'a', 'miraculous', 'presence.', 'A', 'shrill', 'sound', 'of', 'laughter', 'and', 'of', 'amused', 'voices—voices', 'of', 'men,', 'women,', 'and', 'children—resounded', 'in', 'the', 'street', 'while', 'this', 'winegame', 'lasted.', 'There', 'was', 'little', 'roughness', 'in', 'the', 'sport,', 'and', 'much', 'playfulness.', 'There', 'was', 'a', 'special', 'companionship', 'in', 'it,', 'an', 'observable', 'inclination', 'on', 'the', 'part', 'of', 'every', 'one', 'to', 'join', 'some', 'other', 'one,', 'which', 'led,', 'especially', 'among', 'the', 'luckier', 'or', 'lighter-hearted,', 'to', 'frolicsome', 'embraces,', 'drinking', 'of', 'healths,', 'shaking', 'of', 'hands,', 'and', 'even', 'joining', 'of', 'hands', 'and', 'dancing,', 'a', 'dozen', 'together.', 'When', 'the', 'wine', 'was', 'gone,', 'and', 'the', 'places', 'where', 'it', 'had', 'been', 'most', 'abundant', 'were', 'raked', 'into', 'a', 'gridiron-pattern', 'by', 'fingers,', 'these', 'demonstrations', 'ceased,', 'as', 'suddenly', 'as', 'they', 'had', 'broken', 'out.', 'The', 'man', 'who', 'had', 'left', 'his', 'saw', 'sticking', 'in', 'the', 'firewood', 'he', 'was', 'cutting,', 'set', 'it', 'in', 'motion', 'again;', 'the', 'woman', 'who', 'had', 'left', 'on', 'a', 'door-step', 'the', 'little', 'pot', 'of', 'hot', 'ashes,', 'at', 'which', 'she', 'had', 'been', 'trying', 'to', 'soften', 'the', 'pain', 'in', 'her', 'own', 'starved', 'fingers', 'and', 'toes,', 'or', 'in', 'those', 'of', 'her', 'child,', 'returned', 'to', 'it;', 'men', 'with', 'bare', 'arms,', 'matted', 'locks,', 'and', 'cadaverous', 'faces,', 'who', 'had', 'emerged', 'into', 'the', 'winter', 'light', 'from', 'cellars,', 'moved', 'away', 'to', 'descend', 'again;', 'and', 'a', 'gloom', 'gathered', 'on', 'the', 'scene', 'that', 'appeared', 'more', 'natural', 'to', 'it', 'than', 'sunshine.', 'The', 'wine', 'was', 'red', 'wine,', 'and', 'had', 'stained', 'the', 'ground', 'of', 'the', 'narrow', 'street', 'in', 'the', 'suburb', 'of', 'Saint', 'Antoine,', 'in', 'Paris,', 'where', 'it', 'was', 'spilled.', 'It', 'had', 'stained', 'many', 'hands,', 'too,', 'and', 'many', 'faces,', 'and', 'many', 'naked', 'feet,', 'and', 'many', 'wooden', 'shoes.', 'The', 'hands', 'of', 'the', 'man', 'who', 'sawed', 'the', 'wood,', 'left', 'red', 'marks', 'on', 'the', 'billets;', 'and', 'the', 'forehead', 'of', 'the', 'woman', 'who', 'nursed', 'her', 'baby,', 'was', 'stained', 'with', 'the', 'stain', 'of', 'the', 'old', 'rag', 'she', 'wound', 'about', 'her', 'head', 'again.']\n"
     ]
    }
   ],
   "source": [
    "charles2_vector, charles2_dict = style_score(charles2)"
   ]
  },
  {
   "cell_type": "code",
   "execution_count": 14,
   "metadata": {
    "colab": {
     "base_uri": "https://localhost:8080/"
    },
    "executionInfo": {
     "elapsed": 35,
     "status": "ok",
     "timestamp": 1689791404840,
     "user": {
      "displayName": "Urmi Dedhia",
      "userId": "04029137391343867476"
     },
     "user_tz": -330
    },
    "id": "gSIXMuZCRAQF",
    "outputId": "779bbb83-9873-4cbf-b33a-0ace5d383f3d"
   },
   "outputs": [
    {
     "name": "stdout",
     "output_type": "stream",
     "text": [
      "['\\nTHE PERSONAL HISTORY AND EXPERIENCE OF DAVID COPPERFIELD THE YOUNGER\\nCHAPTER 1.', 'I AM BORN\\nWhether I shall turn out to be the hero of my own life, or whether that station will be held by anybody else, these pages must show.', 'To begin my life with the beginning of my life, I record that I was born (as I have been informed and believe) on a Friday, at twelve o’clock at night.', 'It was remarked that the clock began to strike, and I began to cry, simultaneously.', 'In consideration of the day and hour of my birth, it was declared by the nurse, and by some sage women in the neighbourhood who had taken a lively interest in me several months before there was any possibility of our becoming personally acquainted, first, that I was destined to be unlucky in life; and secondly, that I was privileged to see ghosts and spirits; both these gifts inevitably attaching, as they believed, to all unlucky infants of either gender, born towards the small hours on a Friday night.', 'I need say nothing here, on the first head, because nothing can show better than my history whether that prediction was verified or falsified by the result.', 'On the second branch of the question, I will only remark, that unless I ran through that part of my inheritance while I was still a baby, I have not come into it yet.', 'But I do not at all complain of having been kept out of this property; and if anybody else should be in the present enjoyment of it, he is heartily welcome to keep it.']\n",
      "['THE', 'PERSONAL', 'HISTORY', 'AND', 'EXPERIENCE', 'OF', 'DAVID', 'COPPERFIELD', 'THE', 'YOUNGER', 'CHAPTER', '1.', 'I', 'AM', 'BORN', 'Whether', 'I', 'shall', 'turn', 'out', 'to', 'be', 'the', 'hero', 'of', 'my', 'own', 'life,', 'or', 'whether', 'that', 'station', 'will', 'be', 'held', 'by', 'anybody', 'else,', 'these', 'pages', 'must', 'show.', 'To', 'begin', 'my', 'life', 'with', 'the', 'beginning', 'of', 'my', 'life,', 'I', 'record', 'that', 'I', 'was', 'born', '(as', 'I', 'have', 'been', 'informed', 'and', 'believe)', 'on', 'a', 'Friday,', 'at', 'twelve', 'o’clock', 'at', 'night.', 'It', 'was', 'remarked', 'that', 'the', 'clock', 'began', 'to', 'strike,', 'and', 'I', 'began', 'to', 'cry,', 'simultaneously.', 'In', 'consideration', 'of', 'the', 'day', 'and', 'hour', 'of', 'my', 'birth,', 'it', 'was', 'declared', 'by', 'the', 'nurse,', 'and', 'by', 'some', 'sage', 'women', 'in', 'the', 'neighbourhood', 'who', 'had', 'taken', 'a', 'lively', 'interest', 'in', 'me', 'several', 'months', 'before', 'there', 'was', 'any', 'possibility', 'of', 'our', 'becoming', 'personally', 'acquainted,', 'first,', 'that', 'I', 'was', 'destined', 'to', 'be', 'unlucky', 'in', 'life;', 'and', 'secondly,', 'that', 'I', 'was', 'privileged', 'to', 'see', 'ghosts', 'and', 'spirits;', 'both', 'these', 'gifts', 'inevitably', 'attaching,', 'as', 'they', 'believed,', 'to', 'all', 'unlucky', 'infants', 'of', 'either', 'gender,', 'born', 'towards', 'the', 'small', 'hours', 'on', 'a', 'Friday', 'night.', 'I', 'need', 'say', 'nothing', 'here,', 'on', 'the', 'first', 'head,', 'because', 'nothing', 'can', 'show', 'better', 'than', 'my', 'history', 'whether', 'that', 'prediction', 'was', 'verified', 'or', 'falsified', 'by', 'the', 'result.', 'On', 'the', 'second', 'branch', 'of', 'the', 'question,', 'I', 'will', 'only', 'remark,', 'that', 'unless', 'I', 'ran', 'through', 'that', 'part', 'of', 'my', 'inheritance', 'while', 'I', 'was', 'still', 'a', 'baby,', 'I', 'have', 'not', 'come', 'into', 'it', 'yet.', 'But', 'I', 'do', 'not', 'at', 'all', 'complain', 'of', 'having', 'been', 'kept', 'out', 'of', 'this', 'property;', 'and', 'if', 'anybody', 'else', 'should', 'be', 'in', 'the', 'present', 'enjoyment', 'of', 'it,', 'he', 'is', 'heartily', 'welcome', 'to', 'keep', 'it.']\n"
     ]
    }
   ],
   "source": [
    "DC_vector, DC_dict = style_score(DC_text)"
   ]
  },
  {
   "cell_type": "code",
   "execution_count": 15,
   "metadata": {
    "colab": {
     "base_uri": "https://localhost:8080/"
    },
    "executionInfo": {
     "elapsed": 12881,
     "status": "ok",
     "timestamp": 1689791417690,
     "user": {
      "displayName": "Urmi Dedhia",
      "userId": "04029137391343867476"
     },
     "user_tz": -330
    },
    "id": "jpRNh2dERAQH",
    "outputId": "f529239e-2811-4567-948d-37ba15d03823"
   },
   "outputs": [
    {
     "name": "stdout",
     "output_type": "stream",
     "text": [
      "['\\nCHAPTER I.', 'The studio was filled with the rich odour of roses, and when the light summer wind stirred amidst the trees of the garden, there came through the open door the heavy scent of the lilac, or the more delicate perfume of the pink-flowering thorn.', 'From the corner of the divan of Persian saddle-bags on which he was lying, smoking, as was his custom, innumerable cigarettes, Lord Henry Wotton could just catch the gleam of the honey-sweet and honey-coloured blossoms of a laburnum, whose tremulous branches seemed hardly able to bear the burden of a beauty so flamelike as theirs; and now and then the fantastic shadows of birds in flight flitted across the long tussore-silk curtains that were stretched in front of the huge window, producing a kind of momentary Japanese effect, and making him think of those pallid, jade-faced painters of Tokyo who, through the medium of an art that is necessarily immobile, seek to convey the sense of swiftness and motion.', 'The sullen murmur of the bees shouldering their way through the long unmown grass, or circling with monotonous insistence round the dusty gilt horns of the straggling woodbine, seemed to make the stillness more oppressive.', 'The dim roar of London was like the bourdon note of a distant organ.', 'In the centre of the room, clamped to an upright easel, stood the full-length portrait of a young man of extraordinary personal beauty, and in front of it, some little distance away, was sitting the artist himself, Basil Hallward, whose sudden disappearance some years ago caused, at the time, such public excitement and gave rise to so many strange conjectures.', 'As the painter looked at the gracious and comely form he had so skilfully mirrored in his art, a smile of pleasure passed across his face, and seemed about to linger there.', 'But he suddenly started up, and closing his eyes, placed his fingers upon the lids, as though he sought to imprison within his brain some curious dream from which he feared he might awake.', '“It is your best work, Basil, the best thing you have ever done,” said Lord Henry languidly.', '“You must certainly send it next year to the Grosvenor.', 'The Academy is too large and too vulgar.', 'Whenever I have gone there, there have been either so many people that I have not been able to see the pictures, which was dreadful, or so many pictures that I have not been able to see the people, which was worse.', 'The Grosvenor is really the only place.”\\n\\n“I don’t think I shall send it anywhere,” he answered, tossing his head back in that odd way that used to make his friends laugh at him at Oxford.', '“No, I won’t send it anywhere.”\\n\\nLord Henry elevated his eyebrows and looked at him in amazement through the thin blue wreaths of smoke that curled up in such fanciful whorls from his heavy, opium-tainted cigarette.', '“Not send it anywhere?', 'My dear fellow, why?', 'Have you any reason?', 'What odd chaps you painters are!', 'You do anything in the world to gain a reputation.', 'As soon as you have one, you seem to want to throw it away.', 'It is silly of you, for there is only one thing in the world worse than being talked about, and that is not being talked about.', 'A portrait like this would set you far above all the young men in England, and make the old men quite jealous, if old men are ever capable of any emotion.”\\n\\n“I know you will laugh at me,” he replied, “but I really can’t exhibit it.', 'I have put too much of myself into it.”\\n\\nLord Henry stretched himself out on the divan and laughed.', '“Yes, I knew you would; but it is quite true, all the same.”\\n\\n“Too much of yourself in it!', 'Upon my word, Basil, I didn’t know you were so vain; and I really can’t see any resemblance between you, with your rugged strong face and your coal-black hair, and this young Adonis, who looks as if he was made out of ivory and rose-leaves.', 'Why, my dear Basil, he is a Narcissus, and you—well, of course you have an intellectual expression and all that.', 'But beauty, real beauty, ends where an intellectual expression begins.', 'Intellect is in itself a mode of exaggeration, and destroys the harmony of any face.', 'The moment one sits down to think, one becomes all nose, or all forehead, or something horrid.', 'Look at the successful men in any of the learned professions.', 'How perfectly hideous they are!', 'Except, of course, in the Church.', 'But then in the Church they don’t think.', 'A bishop keeps on saying at the age of eighty what he was told to say when he was a boy of eighteen, and as a natural consequence he always looks absolutely delightful.', 'Your mysterious young friend, whose name you have never told me, but whose picture really fascinates me, never thinks.', 'I feel quite sure of that.', 'He is some brainless beautiful creature who should be always here in winter when we have no flowers to look at, and always here in summer when we want something to chill our intelligence.', 'Don’t flatter yourself, Basil: you are not in the least like him.”\\n\\n“You don’t understand me, Harry,” answered the artist.', '“Of course I am not like him.', 'I know that perfectly well.', 'Indeed, I should be sorry to look like him.', 'You shrug your shoulders?', 'I am telling you the truth.', 'There is a fatality about all physical and intellectual distinction, the sort of fatality that seems to dog through history the faltering steps of kings.', 'It is better not to be different from one’s fellows.', 'The ugly and the stupid have the best of it in this world.', 'They can sit at their ease and gape at the play.', 'If they know nothing of victory, they are at least spared the knowledge of defeat.', 'They live as we all should live—undisturbed, indifferent, and without disquiet.', 'They neither bring ruin upon others, nor ever receive it from alien hands.', 'Your rank and wealth, Harry; my brains, such as they are—my art, whatever it may be worth; Dorian Gray’s good looks—we shall all suffer for what the gods have given us, suffer terribly.”\\n\\n“Dorian Gray?', 'Is that his name?” asked Lord Henry, walking across the studio towards Basil Hallward.', '“Yes, that is his name.', 'I didn’t intend to tell it to you.”\\n\\n“But why not?”\\n\\n“Oh, I can’t explain.', 'When I like people immensely, I never tell their names to any one.', 'It is like surrendering a part of them.', 'I have grown to love secrecy.', 'It seems to be the one thing that can make modern life mysterious or marvellous to us.', 'The commonest thing is delightful if one only hides it.', 'When I leave town now I never tell my people where I am going.', 'If I did, I would lose all my pleasure.', 'It is a silly habit, I dare say, but somehow it seems to bring a great deal of romance into one’s life.', 'I suppose you think me awfully foolish about it?”\\n\\n“Not at all,” answered Lord Henry, “not at all, my dear Basil.', 'You seem to forget that I am married, and the one charm of marriage is that it makes a life of deception absolutely necessary for both parties.', 'I never know where my wife is, and my wife never knows what I am doing.', 'When we meet—we do meet occasionally, when we dine out together, or go down to the Duke’s—we tell each other the most absurd stories with the most serious faces.', 'My wife is very good at it—much better, in fact, than I am.', 'She never gets confused over her dates, and I always do.', 'But when she does find me out, she makes no row at all.', 'I sometimes wish she would; but she merely laughs at me.”\\n\\n“I hate the way you talk about your married life, Harry,” said Basil Hallward, strolling towards the door that led into the garden.', '“I believe that you are really a very good husband, but that you are thoroughly ashamed of your own virtues.', 'You are an extraordinary fellow.', 'You never say a moral thing, and you never do a wrong thing.', 'Your cynicism is simply a pose.”\\n\\n“Being natural is simply a pose, and the most irritating pose I know,” cried Lord Henry, laughing; and the two young men went out into the garden together and ensconced themselves on a long bamboo seat that stood in the shade of a tall laurel bush.', 'The sunlight slipped over the polished leaves.', 'In the grass, white daisies were tremulous.', 'After a pause, Lord Henry pulled out his watch.', '“I am afraid I must be going, Basil,” he murmured, “and before I go, I insist on your answering a question I put to you some time ago.”\\n\\n“What is that?” said the painter, keeping his eyes fixed on the ground.', '“You know quite well.”\\n\\n“I do not, Harry.”\\n\\n“Well, I will tell you what it is.', 'I want you to explain to me why you won’t exhibit Dorian Gray’s picture.', 'I want the real reason.”\\n\\n“I told you the real reason.”\\n\\n“No, you did not.', 'You said it was because there was too much of yourself in it.', 'Now, that is childish.”\\n\\n“Harry,” said Basil Hallward, looking him straight in the face, “every portrait that is painted with feeling is a portrait of the artist, not of the sitter.', 'The sitter is merely the accident, the occasion.', 'It is not he who is revealed by the painter; it is rather the painter who, on the coloured canvas, reveals himself.', 'The reason I will not exhibit this picture is that I am afraid that I have shown in it the secret of my own soul.”\\n\\nLord Henry laughed.', '“And what is that?” he asked.', '“I will tell you,” said Hallward; but an expression of perplexity came over his face.', '“I am all expectation, Basil,” continued his companion, glancing at him.', '“Oh, there is really very little to tell, Harry,” answered the painter; “and I am afraid you will hardly understand it.', 'Perhaps you will hardly believe it.”\\n\\nLord Henry smiled, and leaning down, plucked a pink-petalled daisy from the grass and examined it.', '“I am quite sure I shall understand it,” he replied, gazing intently at the little golden, white-feathered disk, “and as for believing things, I can believe anything, provided that it is quite incredible.”\\n\\nThe wind shook some blossoms from the trees, and the heavy lilac-blooms, with their clustering stars, moved to and fro in the languid air.', 'A grasshopper began to chirrup by the wall, and like a blue thread a long thin dragon-fly floated past on its brown gauze wings.', 'Lord Henry felt as if he could hear Basil Hallward’s heart beating, and wondered what was coming.', '“The story is simply this,” said the painter after some time.', '“Two months ago I went to a crush at Lady Brandon’s.', 'You know we poor artists have to show ourselves in society from time to time, just to remind the public that we are not savages.', 'With an evening coat and a white tie, as you told me once, anybody, even a stock-broker, can gain a reputation for being civilized.', 'Well, after I had been in the room about ten minutes, talking to huge overdressed dowagers and tedious academicians, I suddenly became conscious that some one was looking at me.', 'I turned half-way round and saw Dorian Gray for the first time.', 'When our eyes met, I felt that I was growing pale.', 'A curious sensation of terror came over me.', 'I knew that I had come face to face with some one whose mere personality was so fascinating that, if I allowed it to do so, it would absorb my whole nature, my whole soul, my very art itself.', 'I did not want any external influence in my life.', 'You know yourself, Harry, how independent I am by nature.', 'I have always been my own master; had at least always been so, till I met Dorian Gray.', 'Then—but I don’t know how to explain it to you.', 'Something seemed to tell me that I was on the verge of a terrible crisis in my life.', 'I had a strange feeling that fate had in store for me exquisite joys and exquisite sorrows.', 'I grew afraid and turned to quit the room.', 'It was not conscience that made me do so: it was a sort of cowardice.', 'I take no credit to myself for trying to escape.”\\n\\n“Conscience and cowardice are really the same things, Basil.', 'Conscience is the trade-name of the firm.', 'That is all.”\\n\\n“I don’t believe that, Harry, and I don’t believe you do either.', 'However, whatever was my motive—and it may have been pride, for I used to be very proud—I certainly struggled to the door.', 'There, of course, I stumbled against Lady Brandon.', '‘You are not going to run away so soon, Mr. Hallward?’ she screamed out.', 'You know her curiously shrill voice?”\\n\\n“Yes; she is a peacock in everything but beauty,” said Lord Henry, pulling the daisy to bits with his long nervous fingers.', '“I could not get rid of her.', 'She brought me up to royalties, and people with stars and garters, and elderly ladies with gigantic tiaras and parrot noses.', 'She spoke of me as her dearest friend.', 'I had only met her once before, but she took it into her head to lionize me.', 'I believe some picture of mine had made a great success at the time, at least had been chattered about in the penny newspapers, which is the nineteenth-century standard of immortality.', 'Suddenly I found myself face to face with the young man whose personality had so strangely stirred me.', 'We were quite close, almost touching.', 'Our eyes met again.', 'It was reckless of me, but I asked Lady Brandon to introduce me to him.', 'Perhaps it was not so reckless, after all.', 'It was simply inevitable.', 'We would have spoken to each other without any introduction.', 'I am sure of that.', 'Dorian told me so afterwards.', 'He, too, felt that we were destined to know each other.”\\n\\n“And how did Lady Brandon describe this wonderful young man?” asked his companion.', '“I know she goes in for giving a rapid précis of all her guests.', 'I remember her bringing me up to a truculent and red-faced old gentleman covered all over with orders and ribbons, and hissing into my ear, in a tragic whisper which must have been perfectly audible to everybody in the room, the most astounding details.', 'I simply fled.', 'I like to find out people for myself.', 'But Lady Brandon treats her guests exactly as an auctioneer treats his goods.', 'She either explains them entirely away, or tells one everything about them except what one wants to know.”\\n\\n“Poor Lady Brandon!', 'You are hard on her, Harry!” said Hallward listlessly.', '“My dear fellow, she tried to found a salon, and only succeeded in opening a restaurant.', 'How could I admire her?', 'But tell me, what did she say about Mr. Dorian Gray?”\\n\\n“Oh, something like, ‘Charming boy—poor dear mother and I absolutely inseparable.', 'Quite forget what he does—afraid he—doesn’t do anything—oh, yes, plays the piano—or is it the violin, dear Mr. Gray?’ Neither of us could help laughing, and we became friends at once.”\\n\\n“Laughter is not at all a bad beginning for a friendship, and it is far the best ending for one,” said the young lord, plucking another daisy.', 'Hallward shook his head.', '“You don’t understand what friendship is, Harry,” he murmured—“or what enmity is, for that matter.', 'You like every one; that is to say, you are indifferent to every one.”\\n\\n“How horribly unjust of you!” cried Lord Henry, tilting his hat back and looking up at the little clouds that, like ravelled skeins of glossy white silk, were drifting across the hollowed turquoise of the summer sky.', '“Yes; horribly unjust of you.', 'I make a great difference between people.', 'I choose my friends for their good looks, my acquaintances for their good characters, and my enemies for their good intellects.', 'A man cannot be too careful in the choice of his enemies.', 'I have not got one who is a fool.', 'They are all men of some intellectual power, and consequently they all appreciate me.', 'Is that very vain of me?', 'I think it is rather vain.”\\n\\n“I should think it was, Harry.', 'But according to your category I must be merely an acquaintance.”\\n\\n“My dear old Basil, you are much more than an acquaintance.”\\n\\n“And much less than a friend.', 'A sort of brother, I suppose?”\\n\\n“Oh, brothers!', 'I don’t care for brothers.', 'My elder brother won’t die, and my younger brothers seem never to do anything else.”\\n\\n“Harry!” exclaimed Hallward, frowning.', '“My dear fellow, I am not quite serious.', 'But I can’t help detesting my relations.', 'I suppose it comes from the fact that none of us can stand other people having the same faults as ourselves.', 'I quite sympathize with the rage of the English democracy against what they call the vices of the upper orders.', 'The masses feel that drunkenness, stupidity, and immorality should be their own special property, and that if any one of us makes an ass of himself, he is poaching on their preserves.', 'When poor Southwark got into the divorce court, their indignation was quite magnificent.', 'And yet I don’t suppose that ten per cent of the proletariat live correctly.”\\n\\n“I don’t agree with a single word that you have said, and, what is more, Harry, I feel sure you don’t either.”\\n\\nLord Henry stroked his pointed brown beard and tapped the toe of his patent-leather boot with a tasselled ebony cane.', '“How English you are Basil!', 'That is the second time you have made that observation.', 'If one puts forward an idea to a true Englishman—always a rash thing to do—he never dreams of considering whether the idea is right or wrong.', 'The only thing he considers of any importance is whether one believes it oneself.', 'Now, the value of an idea has nothing whatsoever to do with the sincerity of the man who expresses it.', 'Indeed, the probabilities are that the more insincere the man is, the more purely intellectual will the idea be, as in that case it will not be coloured by either his wants, his desires, or his prejudices.', 'However, I don’t propose to discuss politics, sociology, or metaphysics with you.', 'I like persons better than principles, and I like persons with no principles better than anything else in the world.', 'Tell me more about Mr. Dorian Gray.', 'How often do you see him?”\\n\\n“Every day.', 'I couldn’t be happy if I didn’t see him every day.', 'He is absolutely necessary to me.”\\n\\n“How extraordinary!', 'I thought you would never care for anything but your art.”\\n\\n“He is all my art to me now,” said the painter gravely.', '“I sometimes think, Harry, that there are only two eras of any importance in the world’s history.', 'The first is the appearance of a new medium for art, and the second is the appearance of a new personality for art also.', 'What the invention of oil-painting was to the Venetians, the face of Antinous was to late Greek sculpture, and the face of Dorian Gray will some day be to me.', 'It is not merely that I paint from him, draw from him, sketch from him.', 'Of course, I have done all that.', 'But he is much more to me than a model or a sitter.', 'I won’t tell you that I am dissatisfied with what I have done of him, or that his beauty is such that art cannot express it.', 'There is nothing that art cannot express, and I know that the work I have done, since I met Dorian Gray, is good work, is the best work of my life.', 'But in some curious way—I wonder will you understand me?—his personality has suggested to me an entirely new manner in art, an entirely new mode of style.', 'I see things differently, I think of them differently.', 'I can now recreate life in a way that was hidden from me before.', '‘A dream of form in days of thought’—who is it who says that?', 'I forget; but it is what Dorian Gray has been to me.', 'The merely visible presence of this lad—for he seems to me little more than a lad, though he is really over twenty—his merely visible presence—ah!', 'I wonder can you realize all that that means?', 'Unconsciously he defines for me the lines of a fresh school, a school that is to have in it all the passion of the romantic spirit, all the perfection of the spirit that is Greek.', 'The harmony of soul and body—how much that is!', 'We in our madness have separated the two, and have invented a realism that is vulgar, an ideality that is void.', 'Harry!', 'if you only knew what Dorian Gray is to me!', 'You remember that landscape of mine, for which Agnew offered me such a huge price but which I would not part with?', 'It is one of the best things I have ever done.', 'And why is it so?', 'Because, while I was painting it, Dorian Gray sat beside me.', 'Some subtle influence passed from him to me, and for the first time in my life I saw in the plain woodland the wonder I had always looked for and always missed.”\\n\\n“Basil, this is extraordinary!', 'I must see Dorian Gray.”\\n\\nHallward got up from the seat and walked up and down the garden.', 'After some time he came back.', '“Harry,” he said, “Dorian Gray is to me simply a motive in art.', 'You might see nothing in him.', 'I see everything in him.', 'He is never more present in my work than when no image of him is there.', 'He is a suggestion, as I have said, of a new manner.', 'I find him in the curves of certain lines, in the loveliness and subtleties of certain colours.', 'That is all.”\\n\\n“Then why won’t you exhibit his portrait?” asked Lord Henry.', '“Because, without intending it, I have put into it some expression of all this curious artistic idolatry, of which, of course, I have never cared to speak to him.', 'He knows nothing about it.', 'He shall never know anything about it.', 'But the world might guess it, and I will not bare my soul to their shallow prying eyes.', 'My heart shall never be put under their microscope.', 'There is too much of myself in the thing, Harry—too much of myself!”\\n\\n“Poets are not so scrupulous as you are.', 'They know how useful passion is for publication.', 'Nowadays a broken heart will run to many editions.”\\n\\n“I hate them for it,” cried Hallward.', '“An artist should create beautiful things, but should put nothing of his own life into them.', 'We live in an age when men treat art as if it were meant to be a form of autobiography.', 'We have lost the abstract sense of beauty.', 'Some day I will show the world what it is; and for that reason the world shall never see my portrait of Dorian Gray.”\\n\\n“I think you are wrong, Basil, but I won’t argue with you.', 'It is only the intellectually lost who ever argue.', 'Tell me, is Dorian Gray very fond of you?”\\n\\nThe painter considered for a few moments.', '“He likes me,” he answered after a pause; “I know he likes me.', 'Of course I flatter him dreadfully.', 'I find a strange pleasure in saying things to him that I know I shall be sorry for having said.', 'As a rule, he is charming to me, and we sit in the studio and talk of a thousand things.', 'Now and then, however, he is horribly thoughtless, and seems to take a real delight in giving me pain.', 'Then I feel, Harry, that I have given away my whole soul to some one who treats it as if it were a flower to put in his coat, a bit of decoration to charm his vanity, an ornament for a summer’s day.”\\n\\n“Days in summer, Basil, are apt to linger,” murmured Lord Henry.', '“Perhaps you will tire sooner than he will.', 'It is a sad thing to think of, but there is no doubt that genius lasts longer than beauty.', 'That accounts for the fact that we all take such pains to over-educate ourselves.', 'In the wild struggle for existence, we want to have something that endures, and so we fill our minds with rubbish and facts, in the silly hope of keeping our place.', 'The thoroughly well-informed man—that is the modern ideal.', 'And the mind of the thoroughly well-informed man is a dreadful thing.', 'It is like a bric-à-brac shop, all monsters and dust, with everything priced above its proper value.', 'I think you will tire first, all the same.', 'Some day you will look at your friend, and he will seem to you to be a little out of drawing, or you won’t like his tone of colour, or something.', 'You will bitterly reproach him in your own heart, and seriously think that he has behaved very badly to you.', 'The next time he calls, you will be perfectly cold and indifferent.', 'It will be a great pity, for it will alter you.', 'What you have told me is quite a romance, a romance of art one might call it, and the worst of having a romance of any kind is that it leaves one so unromantic.”\\n\\n“Harry, don’t talk like that.', 'As long as I live, the personality of Dorian Gray will dominate me.', 'You can’t feel what I feel.', 'You change too often.”\\n\\n“Ah, my dear Basil, that is exactly why I can feel it.', 'Those who are faithful know only the trivial side of love: it is the faithless who know love’s tragedies.” And Lord Henry struck a light on a dainty silver case and began to smoke a cigarette with a self-conscious and satisfied air, as if he had summed up the world in a phrase.', 'There was a rustle of chirruping sparrows in the green lacquer leaves of the ivy, and the blue cloud-shadows chased themselves across the grass like swallows.', 'How pleasant it was in the garden!', 'And how delightful other people’s emotions were!—much more delightful than their ideas, it seemed to him.', 'One’s own soul, and the passions of one’s friends—those were the fascinating things in life.', 'He pictured to himself with silent amusement the tedious luncheon that he had missed by staying so long with Basil Hallward.', 'Had he gone to his aunt’s, he would have been sure to have met Lord Goodbody there, and the whole conversation would have been about the feeding of the poor and the necessity for model lodging-houses.', 'Each class would have preached the importance of those virtues, for whose exercise there was no necessity in their own lives.', 'The rich would have spoken on the value of thrift, and the idle grown eloquent over the dignity of labour.', 'It was charming to have escaped all that!', 'As he thought of his aunt, an idea seemed to strike him.', 'He turned to Hallward and said, “My dear fellow, I have just remembered.”\\n\\n“Remembered what, Harry?”\\n\\n“Where I heard the name of Dorian Gray.”\\n\\n“Where was it?” asked Hallward, with a slight frown.', '“Don’t look so angry, Basil.', 'It was at my aunt, Lady Agatha’s.', 'She told me she had discovered a wonderful young man who was going to help her in the East End, and that his name was Dorian Gray.', 'I am bound to state that she never told me he was good-looking.', 'Women have no appreciation of good looks; at least, good women have not.', 'She said that he was very earnest and had a beautiful nature.', 'I at once pictured to myself a creature with spectacles and lank hair, horribly freckled, and tramping about on huge feet.', 'I wish I had known it was your friend.”\\n\\n“I am very glad you didn’t, Harry.”\\n\\n“Why?”\\n\\n“I don’t want you to meet him.”\\n\\n“You don’t want me to meet him?”\\n\\n“No.”\\n\\n“Mr.', 'Dorian Gray is in the studio, sir,” said the butler, coming into the garden.', '“You must introduce me now,” cried Lord Henry, laughing.', 'The painter turned to his servant, who stood blinking in the sunlight.', '“Ask Mr. Gray to wait, Parker: I shall be in in a few moments.” The man bowed and went up the walk.', 'Then he looked at Lord Henry.', '“Dorian Gray is my dearest friend,” he said.', '“He has a simple and a beautiful nature.', 'Your aunt was quite right in what she said of him.', 'Don’t spoil him.', 'Don’t try to influence him.', 'Your influence would be bad.', 'The world is wide, and has many marvellous people in it.', 'Don’t take away from me the one person who gives to my art whatever charm it possesses: my life as an artist depends on him.', 'Mind, Harry, I trust you.” He spoke very slowly, and the words seemed wrung out of him almost against his will.', '“What nonsense you talk!” said Lord Henry, smiling, and taking Hallward by the arm, he almost led him into the house.']\n",
      "['CHAPTER', 'I.', 'The', 'studio', 'was', 'filled', 'with', 'the', 'rich', 'odour', 'of', 'roses,', 'and', 'when', 'the', 'light', 'summer', 'wind', 'stirred', 'amidst', 'the', 'trees', 'of', 'the', 'garden,', 'there', 'came', 'through', 'the', 'open', 'door', 'the', 'heavy', 'scent', 'of', 'the', 'lilac,', 'or', 'the', 'more', 'delicate', 'perfume', 'of', 'the', 'pink-flowering', 'thorn.', 'From', 'the', 'corner', 'of', 'the', 'divan', 'of', 'Persian', 'saddle-bags', 'on', 'which', 'he', 'was', 'lying,', 'smoking,', 'as', 'was', 'his', 'custom,', 'innumerable', 'cigarettes,', 'Lord', 'Henry', 'Wotton', 'could', 'just', 'catch', 'the', 'gleam', 'of', 'the', 'honey-sweet', 'and', 'honey-coloured', 'blossoms', 'of', 'a', 'laburnum,', 'whose', 'tremulous', 'branches', 'seemed', 'hardly', 'able', 'to', 'bear', 'the', 'burden', 'of', 'a', 'beauty', 'so', 'flamelike', 'as', 'theirs;', 'and', 'now', 'and', 'then', 'the', 'fantastic', 'shadows', 'of', 'birds', 'in', 'flight', 'flitted', 'across', 'the', 'long', 'tussore-silk', 'curtains', 'that', 'were', 'stretched', 'in', 'front', 'of', 'the', 'huge', 'window,', 'producing', 'a', 'kind', 'of', 'momentary', 'Japanese', 'effect,', 'and', 'making', 'him', 'think', 'of', 'those', 'pallid,', 'jade-faced', 'painters', 'of', 'Tokyo', 'who,', 'through', 'the', 'medium', 'of', 'an', 'art', 'that', 'is', 'necessarily', 'immobile,', 'seek', 'to', 'convey', 'the', 'sense', 'of', 'swiftness', 'and', 'motion.', 'The', 'sullen', 'murmur', 'of', 'the', 'bees', 'shouldering', 'their', 'way', 'through', 'the', 'long', 'unmown', 'grass,', 'or', 'circling', 'with', 'monotonous', 'insistence', 'round', 'the', 'dusty', 'gilt', 'horns', 'of', 'the', 'straggling', 'woodbine,', 'seemed', 'to', 'make', 'the', 'stillness', 'more', 'oppressive.', 'The', 'dim', 'roar', 'of', 'London', 'was', 'like', 'the', 'bourdon', 'note', 'of', 'a', 'distant', 'organ.', 'In', 'the', 'centre', 'of', 'the', 'room,', 'clamped', 'to', 'an', 'upright', 'easel,', 'stood', 'the', 'full-length', 'portrait', 'of', 'a', 'young', 'man', 'of', 'extraordinary', 'personal', 'beauty,', 'and', 'in', 'front', 'of', 'it,', 'some', 'little', 'distance', 'away,', 'was', 'sitting', 'the', 'artist', 'himself,', 'Basil', 'Hallward,', 'whose', 'sudden', 'disappearance', 'some', 'years', 'ago', 'caused,', 'at', 'the', 'time,', 'such', 'public', 'excitement', 'and', 'gave', 'rise', 'to', 'so', 'many', 'strange', 'conjectures.', 'As', 'the', 'painter', 'looked', 'at', 'the', 'gracious', 'and', 'comely', 'form', 'he', 'had', 'so', 'skilfully', 'mirrored', 'in', 'his', 'art,', 'a', 'smile', 'of', 'pleasure', 'passed', 'across', 'his', 'face,', 'and', 'seemed', 'about', 'to', 'linger', 'there.', 'But', 'he', 'suddenly', 'started', 'up,', 'and', 'closing', 'his', 'eyes,', 'placed', 'his', 'fingers', 'upon', 'the', 'lids,', 'as', 'though', 'he', 'sought', 'to', 'imprison', 'within', 'his', 'brain', 'some', 'curious', 'dream', 'from', 'which', 'he', 'feared', 'he', 'might', 'awake.', '“It', 'is', 'your', 'best', 'work,', 'Basil,', 'the', 'best', 'thing', 'you', 'have', 'ever', 'done,”', 'said', 'Lord', 'Henry', 'languidly.', '“You', 'must', 'certainly', 'send', 'it', 'next', 'year', 'to', 'the', 'Grosvenor.', 'The', 'Academy', 'is', 'too', 'large', 'and', 'too', 'vulgar.', 'Whenever', 'I', 'have', 'gone', 'there,', 'there', 'have', 'been', 'either', 'so', 'many', 'people', 'that', 'I', 'have', 'not', 'been', 'able', 'to', 'see', 'the', 'pictures,', 'which', 'was', 'dreadful,', 'or', 'so', 'many', 'pictures', 'that', 'I', 'have', 'not', 'been', 'able', 'to', 'see', 'the', 'people,', 'which', 'was', 'worse.', 'The', 'Grosvenor', 'is', 'really', 'the', 'only', 'place.”', '“I', 'don’t', 'think', 'I', 'shall', 'send', 'it', 'anywhere,”', 'he', 'answered,', 'tossing', 'his', 'head', 'back', 'in', 'that', 'odd', 'way', 'that', 'used', 'to', 'make', 'his', 'friends', 'laugh', 'at', 'him', 'at', 'Oxford.', '“No,', 'I', 'won’t', 'send', 'it', 'anywhere.”', 'Lord', 'Henry', 'elevated', 'his', 'eyebrows', 'and', 'looked', 'at', 'him', 'in', 'amazement', 'through', 'the', 'thin', 'blue', 'wreaths', 'of', 'smoke', 'that', 'curled', 'up', 'in', 'such', 'fanciful', 'whorls', 'from', 'his', 'heavy,', 'opium-tainted', 'cigarette.', '“Not', 'send', 'it', 'anywhere?', 'My', 'dear', 'fellow,', 'why?', 'Have', 'you', 'any', 'reason?', 'What', 'odd', 'chaps', 'you', 'painters', 'are!', 'You', 'do', 'anything', 'in', 'the', 'world', 'to', 'gain', 'a', 'reputation.', 'As', 'soon', 'as', 'you', 'have', 'one,', 'you', 'seem', 'to', 'want', 'to', 'throw', 'it', 'away.', 'It', 'is', 'silly', 'of', 'you,', 'for', 'there', 'is', 'only', 'one', 'thing', 'in', 'the', 'world', 'worse', 'than', 'being', 'talked', 'about,', 'and', 'that', 'is', 'not', 'being', 'talked', 'about.', 'A', 'portrait', 'like', 'this', 'would', 'set', 'you', 'far', 'above', 'all', 'the', 'young', 'men', 'in', 'England,', 'and', 'make', 'the', 'old', 'men', 'quite', 'jealous,', 'if', 'old', 'men', 'are', 'ever', 'capable', 'of', 'any', 'emotion.”', '“I', 'know', 'you', 'will', 'laugh', 'at', 'me,”', 'he', 'replied,', '“but', 'I', 'really', 'can’t', 'exhibit', 'it.', 'I', 'have', 'put', 'too', 'much', 'of', 'myself', 'into', 'it.”', 'Lord', 'Henry', 'stretched', 'himself', 'out', 'on', 'the', 'divan', 'and', 'laughed.', '“Yes,', 'I', 'knew', 'you', 'would;', 'but', 'it', 'is', 'quite', 'true,', 'all', 'the', 'same.”', '“Too', 'much', 'of', 'yourself', 'in', 'it!', 'Upon', 'my', 'word,', 'Basil,', 'I', 'didn’t', 'know', 'you', 'were', 'so', 'vain;', 'and', 'I', 'really', 'can’t', 'see', 'any', 'resemblance', 'between', 'you,', 'with', 'your', 'rugged', 'strong', 'face', 'and', 'your', 'coal-black', 'hair,', 'and', 'this', 'young', 'Adonis,', 'who', 'looks', 'as', 'if', 'he', 'was', 'made', 'out', 'of', 'ivory', 'and', 'rose-leaves.', 'Why,', 'my', 'dear', 'Basil,', 'he', 'is', 'a', 'Narcissus,', 'and', 'you—well,', 'of', 'course', 'you', 'have', 'an', 'intellectual', 'expression', 'and', 'all', 'that.', 'But', 'beauty,', 'real', 'beauty,', 'ends', 'where', 'an', 'intellectual', 'expression', 'begins.', 'Intellect', 'is', 'in', 'itself', 'a', 'mode', 'of', 'exaggeration,', 'and', 'destroys', 'the', 'harmony', 'of', 'any', 'face.', 'The', 'moment', 'one', 'sits', 'down', 'to', 'think,', 'one', 'becomes', 'all', 'nose,', 'or', 'all', 'forehead,', 'or', 'something', 'horrid.', 'Look', 'at', 'the', 'successful', 'men', 'in', 'any', 'of', 'the', 'learned', 'professions.', 'How', 'perfectly', 'hideous', 'they', 'are!', 'Except,', 'of', 'course,', 'in', 'the', 'Church.', 'But', 'then', 'in', 'the', 'Church', 'they', 'don’t', 'think.', 'A', 'bishop', 'keeps', 'on', 'saying', 'at', 'the', 'age', 'of', 'eighty', 'what', 'he', 'was', 'told', 'to', 'say', 'when', 'he', 'was', 'a', 'boy', 'of', 'eighteen,', 'and', 'as', 'a', 'natural', 'consequence', 'he', 'always', 'looks', 'absolutely', 'delightful.', 'Your', 'mysterious', 'young', 'friend,', 'whose', 'name', 'you', 'have', 'never', 'told', 'me,', 'but', 'whose', 'picture', 'really', 'fascinates', 'me,', 'never', 'thinks.', 'I', 'feel', 'quite', 'sure', 'of', 'that.', 'He', 'is', 'some', 'brainless', 'beautiful', 'creature', 'who', 'should', 'be', 'always', 'here', 'in', 'winter', 'when', 'we', 'have', 'no', 'flowers', 'to', 'look', 'at,', 'and', 'always', 'here', 'in', 'summer', 'when', 'we', 'want', 'something', 'to', 'chill', 'our', 'intelligence.', 'Don’t', 'flatter', 'yourself,', 'Basil:', 'you', 'are', 'not', 'in', 'the', 'least', 'like', 'him.”', '“You', 'don’t', 'understand', 'me,', 'Harry,”', 'answered', 'the', 'artist.', '“Of', 'course', 'I', 'am', 'not', 'like', 'him.', 'I', 'know', 'that', 'perfectly', 'well.', 'Indeed,', 'I', 'should', 'be', 'sorry', 'to', 'look', 'like', 'him.', 'You', 'shrug', 'your', 'shoulders?', 'I', 'am', 'telling', 'you', 'the', 'truth.', 'There', 'is', 'a', 'fatality', 'about', 'all', 'physical', 'and', 'intellectual', 'distinction,', 'the', 'sort', 'of', 'fatality', 'that', 'seems', 'to', 'dog', 'through', 'history', 'the', 'faltering', 'steps', 'of', 'kings.', 'It', 'is', 'better', 'not', 'to', 'be', 'different', 'from', 'one’s', 'fellows.', 'The', 'ugly', 'and', 'the', 'stupid', 'have', 'the', 'best', 'of', 'it', 'in', 'this', 'world.', 'They', 'can', 'sit', 'at', 'their', 'ease', 'and', 'gape', 'at', 'the', 'play.', 'If', 'they', 'know', 'nothing', 'of', 'victory,', 'they', 'are', 'at', 'least', 'spared', 'the', 'knowledge', 'of', 'defeat.', 'They', 'live', 'as', 'we', 'all', 'should', 'live—undisturbed,', 'indifferent,', 'and', 'without', 'disquiet.', 'They', 'neither', 'bring', 'ruin', 'upon', 'others,', 'nor', 'ever', 'receive', 'it', 'from', 'alien', 'hands.', 'Your', 'rank', 'and', 'wealth,', 'Harry;', 'my', 'brains,', 'such', 'as', 'they', 'are—my', 'art,', 'whatever', 'it', 'may', 'be', 'worth;', 'Dorian', 'Gray’s', 'good', 'looks—we', 'shall', 'all', 'suffer', 'for', 'what', 'the', 'gods', 'have', 'given', 'us,', 'suffer', 'terribly.”', '“Dorian', 'Gray?', 'Is', 'that', 'his', 'name?”', 'asked', 'Lord', 'Henry,', 'walking', 'across', 'the', 'studio', 'towards', 'Basil', 'Hallward.', '“Yes,', 'that', 'is', 'his', 'name.', 'I', 'didn’t', 'intend', 'to', 'tell', 'it', 'to', 'you.”', '“But', 'why', 'not?”', '“Oh,', 'I', 'can’t', 'explain.', 'When', 'I', 'like', 'people', 'immensely,', 'I', 'never', 'tell', 'their', 'names', 'to', 'any', 'one.', 'It', 'is', 'like', 'surrendering', 'a', 'part', 'of', 'them.', 'I', 'have', 'grown', 'to', 'love', 'secrecy.', 'It', 'seems', 'to', 'be', 'the', 'one', 'thing', 'that', 'can', 'make', 'modern', 'life', 'mysterious', 'or', 'marvellous', 'to', 'us.', 'The', 'commonest', 'thing', 'is', 'delightful', 'if', 'one', 'only', 'hides', 'it.', 'When', 'I', 'leave', 'town', 'now', 'I', 'never', 'tell', 'my', 'people', 'where', 'I', 'am', 'going.', 'If', 'I', 'did,', 'I', 'would', 'lose', 'all', 'my', 'pleasure.', 'It', 'is', 'a', 'silly', 'habit,', 'I', 'dare', 'say,', 'but', 'somehow', 'it', 'seems', 'to', 'bring', 'a', 'great', 'deal', 'of', 'romance', 'into', 'one’s', 'life.', 'I', 'suppose', 'you', 'think', 'me', 'awfully', 'foolish', 'about', 'it?”', '“Not', 'at', 'all,”', 'answered', 'Lord', 'Henry,', '“not', 'at', 'all,', 'my', 'dear', 'Basil.', 'You', 'seem', 'to', 'forget', 'that', 'I', 'am', 'married,', 'and', 'the', 'one', 'charm', 'of', 'marriage', 'is', 'that', 'it', 'makes', 'a', 'life', 'of', 'deception', 'absolutely', 'necessary', 'for', 'both', 'parties.', 'I', 'never', 'know', 'where', 'my', 'wife', 'is,', 'and', 'my', 'wife', 'never', 'knows', 'what', 'I', 'am', 'doing.', 'When', 'we', 'meet—we', 'do', 'meet', 'occasionally,', 'when', 'we', 'dine', 'out', 'together,', 'or', 'go', 'down', 'to', 'the', 'Duke’s—we', 'tell', 'each', 'other', 'the', 'most', 'absurd', 'stories', 'with', 'the', 'most', 'serious', 'faces.', 'My', 'wife', 'is', 'very', 'good', 'at', 'it—much', 'better,', 'in', 'fact,', 'than', 'I', 'am.', 'She', 'never', 'gets', 'confused', 'over', 'her', 'dates,', 'and', 'I', 'always', 'do.', 'But', 'when', 'she', 'does', 'find', 'me', 'out,', 'she', 'makes', 'no', 'row', 'at', 'all.', 'I', 'sometimes', 'wish', 'she', 'would;', 'but', 'she', 'merely', 'laughs', 'at', 'me.”', '“I', 'hate', 'the', 'way', 'you', 'talk', 'about', 'your', 'married', 'life,', 'Harry,”', 'said', 'Basil', 'Hallward,', 'strolling', 'towards', 'the', 'door', 'that', 'led', 'into', 'the', 'garden.', '“I', 'believe', 'that', 'you', 'are', 'really', 'a', 'very', 'good', 'husband,', 'but', 'that', 'you', 'are', 'thoroughly', 'ashamed', 'of', 'your', 'own', 'virtues.', 'You', 'are', 'an', 'extraordinary', 'fellow.', 'You', 'never', 'say', 'a', 'moral', 'thing,', 'and', 'you', 'never', 'do', 'a', 'wrong', 'thing.', 'Your', 'cynicism', 'is', 'simply', 'a', 'pose.”', '“Being', 'natural', 'is', 'simply', 'a', 'pose,', 'and', 'the', 'most', 'irritating', 'pose', 'I', 'know,”', 'cried', 'Lord', 'Henry,', 'laughing;', 'and', 'the', 'two', 'young', 'men', 'went', 'out', 'into', 'the', 'garden', 'together', 'and', 'ensconced', 'themselves', 'on', 'a', 'long', 'bamboo', 'seat', 'that', 'stood', 'in', 'the', 'shade', 'of', 'a', 'tall', 'laurel', 'bush.', 'The', 'sunlight', 'slipped', 'over', 'the', 'polished', 'leaves.', 'In', 'the', 'grass,', 'white', 'daisies', 'were', 'tremulous.', 'After', 'a', 'pause,', 'Lord', 'Henry', 'pulled', 'out', 'his', 'watch.', '“I', 'am', 'afraid', 'I', 'must', 'be', 'going,', 'Basil,”', 'he', 'murmured,', '“and', 'before', 'I', 'go,', 'I', 'insist', 'on', 'your', 'answering', 'a', 'question', 'I', 'put', 'to', 'you', 'some', 'time', 'ago.”', '“What', 'is', 'that?”', 'said', 'the', 'painter,', 'keeping', 'his', 'eyes', 'fixed', 'on', 'the', 'ground.', '“You', 'know', 'quite', 'well.”', '“I', 'do', 'not,', 'Harry.”', '“Well,', 'I', 'will', 'tell', 'you', 'what', 'it', 'is.', 'I', 'want', 'you', 'to', 'explain', 'to', 'me', 'why', 'you', 'won’t', 'exhibit', 'Dorian', 'Gray’s', 'picture.', 'I', 'want', 'the', 'real', 'reason.”', '“I', 'told', 'you', 'the', 'real', 'reason.”', '“No,', 'you', 'did', 'not.', 'You', 'said', 'it', 'was', 'because', 'there', 'was', 'too', 'much', 'of', 'yourself', 'in', 'it.', 'Now,', 'that', 'is', 'childish.”', '“Harry,”', 'said', 'Basil', 'Hallward,', 'looking', 'him', 'straight', 'in', 'the', 'face,', '“every', 'portrait', 'that', 'is', 'painted', 'with', 'feeling', 'is', 'a', 'portrait', 'of', 'the', 'artist,', 'not', 'of', 'the', 'sitter.', 'The', 'sitter', 'is', 'merely', 'the', 'accident,', 'the', 'occasion.', 'It', 'is', 'not', 'he', 'who', 'is', 'revealed', 'by', 'the', 'painter;', 'it', 'is', 'rather', 'the', 'painter', 'who,', 'on', 'the', 'coloured', 'canvas,', 'reveals', 'himself.', 'The', 'reason', 'I', 'will', 'not', 'exhibit', 'this', 'picture', 'is', 'that', 'I', 'am', 'afraid', 'that', 'I', 'have', 'shown', 'in', 'it', 'the', 'secret', 'of', 'my', 'own', 'soul.”', 'Lord', 'Henry', 'laughed.', '“And', 'what', 'is', 'that?”', 'he', 'asked.', '“I', 'will', 'tell', 'you,”', 'said', 'Hallward;', 'but', 'an', 'expression', 'of', 'perplexity', 'came', 'over', 'his', 'face.', '“I', 'am', 'all', 'expectation,', 'Basil,”', 'continued', 'his', 'companion,', 'glancing', 'at', 'him.', '“Oh,', 'there', 'is', 'really', 'very', 'little', 'to', 'tell,', 'Harry,”', 'answered', 'the', 'painter;', '“and', 'I', 'am', 'afraid', 'you', 'will', 'hardly', 'understand', 'it.', 'Perhaps', 'you', 'will', 'hardly', 'believe', 'it.”', 'Lord', 'Henry', 'smiled,', 'and', 'leaning', 'down,', 'plucked', 'a', 'pink-petalled', 'daisy', 'from', 'the', 'grass', 'and', 'examined', 'it.', '“I', 'am', 'quite', 'sure', 'I', 'shall', 'understand', 'it,”', 'he', 'replied,', 'gazing', 'intently', 'at', 'the', 'little', 'golden,', 'white-feathered', 'disk,', '“and', 'as', 'for', 'believing', 'things,', 'I', 'can', 'believe', 'anything,', 'provided', 'that', 'it', 'is', 'quite', 'incredible.”', 'The', 'wind', 'shook', 'some', 'blossoms', 'from', 'the', 'trees,', 'and', 'the', 'heavy', 'lilac-blooms,', 'with', 'their', 'clustering', 'stars,', 'moved', 'to', 'and', 'fro', 'in', 'the', 'languid', 'air.', 'A', 'grasshopper', 'began', 'to', 'chirrup', 'by', 'the', 'wall,', 'and', 'like', 'a', 'blue', 'thread', 'a', 'long', 'thin', 'dragon-fly', 'floated', 'past', 'on', 'its', 'brown', 'gauze', 'wings.', 'Lord', 'Henry', 'felt', 'as', 'if', 'he', 'could', 'hear', 'Basil', 'Hallward’s', 'heart', 'beating,', 'and', 'wondered', 'what', 'was', 'coming.', '“The', 'story', 'is', 'simply', 'this,”', 'said', 'the', 'painter', 'after', 'some', 'time.', '“Two', 'months', 'ago', 'I', 'went', 'to', 'a', 'crush', 'at', 'Lady', 'Brandon’s.', 'You', 'know', 'we', 'poor', 'artists', 'have', 'to', 'show', 'ourselves', 'in', 'society', 'from', 'time', 'to', 'time,', 'just', 'to', 'remind', 'the', 'public', 'that', 'we', 'are', 'not', 'savages.', 'With', 'an', 'evening', 'coat', 'and', 'a', 'white', 'tie,', 'as', 'you', 'told', 'me', 'once,', 'anybody,', 'even', 'a', 'stock-broker,', 'can', 'gain', 'a', 'reputation', 'for', 'being', 'civilized.', 'Well,', 'after', 'I', 'had', 'been', 'in', 'the', 'room', 'about', 'ten', 'minutes,', 'talking', 'to', 'huge', 'overdressed', 'dowagers', 'and', 'tedious', 'academicians,', 'I', 'suddenly', 'became', 'conscious', 'that', 'some', 'one', 'was', 'looking', 'at', 'me.', 'I', 'turned', 'half-way', 'round', 'and', 'saw', 'Dorian', 'Gray', 'for', 'the', 'first', 'time.', 'When', 'our', 'eyes', 'met,', 'I', 'felt', 'that', 'I', 'was', 'growing', 'pale.', 'A', 'curious', 'sensation', 'of', 'terror', 'came', 'over', 'me.', 'I', 'knew', 'that', 'I', 'had', 'come', 'face', 'to', 'face', 'with', 'some', 'one', 'whose', 'mere', 'personality', 'was', 'so', 'fascinating', 'that,', 'if', 'I', 'allowed', 'it', 'to', 'do', 'so,', 'it', 'would', 'absorb', 'my', 'whole', 'nature,', 'my', 'whole', 'soul,', 'my', 'very', 'art', 'itself.', 'I', 'did', 'not', 'want', 'any', 'external', 'influence', 'in', 'my', 'life.', 'You', 'know', 'yourself,', 'Harry,', 'how', 'independent', 'I', 'am', 'by', 'nature.', 'I', 'have', 'always', 'been', 'my', 'own', 'master;', 'had', 'at', 'least', 'always', 'been', 'so,', 'till', 'I', 'met', 'Dorian', 'Gray.', 'Then—but', 'I', 'don’t', 'know', 'how', 'to', 'explain', 'it', 'to', 'you.', 'Something', 'seemed', 'to', 'tell', 'me', 'that', 'I', 'was', 'on', 'the', 'verge', 'of', 'a', 'terrible', 'crisis', 'in', 'my', 'life.', 'I', 'had', 'a', 'strange', 'feeling', 'that', 'fate', 'had', 'in', 'store', 'for', 'me', 'exquisite', 'joys', 'and', 'exquisite', 'sorrows.', 'I', 'grew', 'afraid', 'and', 'turned', 'to', 'quit', 'the', 'room.', 'It', 'was', 'not', 'conscience', 'that', 'made', 'me', 'do', 'so:', 'it', 'was', 'a', 'sort', 'of', 'cowardice.', 'I', 'take', 'no', 'credit', 'to', 'myself', 'for', 'trying', 'to', 'escape.”', '“Conscience', 'and', 'cowardice', 'are', 'really', 'the', 'same', 'things,', 'Basil.', 'Conscience', 'is', 'the', 'trade-name', 'of', 'the', 'firm.', 'That', 'is', 'all.”', '“I', 'don’t', 'believe', 'that,', 'Harry,', 'and', 'I', 'don’t', 'believe', 'you', 'do', 'either.', 'However,', 'whatever', 'was', 'my', 'motive—and', 'it', 'may', 'have', 'been', 'pride,', 'for', 'I', 'used', 'to', 'be', 'very', 'proud—I', 'certainly', 'struggled', 'to', 'the', 'door.', 'There,', 'of', 'course,', 'I', 'stumbled', 'against', 'Lady', 'Brandon.', '‘You', 'are', 'not', 'going', 'to', 'run', 'away', 'so', 'soon,', 'Mr.', 'Hallward?’', 'she', 'screamed', 'out.', 'You', 'know', 'her', 'curiously', 'shrill', 'voice?”', '“Yes;', 'she', 'is', 'a', 'peacock', 'in', 'everything', 'but', 'beauty,”', 'said', 'Lord', 'Henry,', 'pulling', 'the', 'daisy', 'to', 'bits', 'with', 'his', 'long', 'nervous', 'fingers.', '“I', 'could', 'not', 'get', 'rid', 'of', 'her.', 'She', 'brought', 'me', 'up', 'to', 'royalties,', 'and', 'people', 'with', 'stars', 'and', 'garters,', 'and', 'elderly', 'ladies', 'with', 'gigantic', 'tiaras', 'and', 'parrot', 'noses.', 'She', 'spoke', 'of', 'me', 'as', 'her', 'dearest', 'friend.', 'I', 'had', 'only', 'met', 'her', 'once', 'before,', 'but', 'she', 'took', 'it', 'into', 'her', 'head', 'to', 'lionize', 'me.', 'I', 'believe', 'some', 'picture', 'of', 'mine', 'had', 'made', 'a', 'great', 'success', 'at', 'the', 'time,', 'at', 'least', 'had', 'been', 'chattered', 'about', 'in', 'the', 'penny', 'newspapers,', 'which', 'is', 'the', 'nineteenth-century', 'standard', 'of', 'immortality.', 'Suddenly', 'I', 'found', 'myself', 'face', 'to', 'face', 'with', 'the', 'young', 'man', 'whose', 'personality', 'had', 'so', 'strangely', 'stirred', 'me.', 'We', 'were', 'quite', 'close,', 'almost', 'touching.', 'Our', 'eyes', 'met', 'again.', 'It', 'was', 'reckless', 'of', 'me,', 'but', 'I', 'asked', 'Lady', 'Brandon', 'to', 'introduce', 'me', 'to', 'him.', 'Perhaps', 'it', 'was', 'not', 'so', 'reckless,', 'after', 'all.', 'It', 'was', 'simply', 'inevitable.', 'We', 'would', 'have', 'spoken', 'to', 'each', 'other', 'without', 'any', 'introduction.', 'I', 'am', 'sure', 'of', 'that.', 'Dorian', 'told', 'me', 'so', 'afterwards.', 'He,', 'too,', 'felt', 'that', 'we', 'were', 'destined', 'to', 'know', 'each', 'other.”', '“And', 'how', 'did', 'Lady', 'Brandon', 'describe', 'this', 'wonderful', 'young', 'man?”', 'asked', 'his', 'companion.', '“I', 'know', 'she', 'goes', 'in', 'for', 'giving', 'a', 'rapid', 'précis', 'of', 'all', 'her', 'guests.', 'I', 'remember', 'her', 'bringing', 'me', 'up', 'to', 'a', 'truculent', 'and', 'red-faced', 'old', 'gentleman', 'covered', 'all', 'over', 'with', 'orders', 'and', 'ribbons,', 'and', 'hissing', 'into', 'my', 'ear,', 'in', 'a', 'tragic', 'whisper', 'which', 'must', 'have', 'been', 'perfectly', 'audible', 'to', 'everybody', 'in', 'the', 'room,', 'the', 'most', 'astounding', 'details.', 'I', 'simply', 'fled.', 'I', 'like', 'to', 'find', 'out', 'people', 'for', 'myself.', 'But', 'Lady', 'Brandon', 'treats', 'her', 'guests', 'exactly', 'as', 'an', 'auctioneer', 'treats', 'his', 'goods.', 'She', 'either', 'explains', 'them', 'entirely', 'away,', 'or', 'tells', 'one', 'everything', 'about', 'them', 'except', 'what', 'one', 'wants', 'to', 'know.”', '“Poor', 'Lady', 'Brandon!', 'You', 'are', 'hard', 'on', 'her,', 'Harry!”', 'said', 'Hallward', 'listlessly.', '“My', 'dear', 'fellow,', 'she', 'tried', 'to', 'found', 'a', 'salon,', 'and', 'only', 'succeeded', 'in', 'opening', 'a', 'restaurant.', 'How', 'could', 'I', 'admire', 'her?', 'But', 'tell', 'me,', 'what', 'did', 'she', 'say', 'about', 'Mr.', 'Dorian', 'Gray?”', '“Oh,', 'something', 'like,', '‘Charming', 'boy—poor', 'dear', 'mother', 'and', 'I', 'absolutely', 'inseparable.', 'Quite', 'forget', 'what', 'he', 'does—afraid', 'he—doesn’t', 'do', 'anything—oh,', 'yes,', 'plays', 'the', 'piano—or', 'is', 'it', 'the', 'violin,', 'dear', 'Mr.', 'Gray?’', 'Neither', 'of', 'us', 'could', 'help', 'laughing,', 'and', 'we', 'became', 'friends', 'at', 'once.”', '“Laughter', 'is', 'not', 'at', 'all', 'a', 'bad', 'beginning', 'for', 'a', 'friendship,', 'and', 'it', 'is', 'far', 'the', 'best', 'ending', 'for', 'one,”', 'said', 'the', 'young', 'lord,', 'plucking', 'another', 'daisy.', 'Hallward', 'shook', 'his', 'head.', '“You', 'don’t', 'understand', 'what', 'friendship', 'is,', 'Harry,”', 'he', 'murmured—“or', 'what', 'enmity', 'is,', 'for', 'that', 'matter.', 'You', 'like', 'every', 'one;', 'that', 'is', 'to', 'say,', 'you', 'are', 'indifferent', 'to', 'every', 'one.”', '“How', 'horribly', 'unjust', 'of', 'you!”', 'cried', 'Lord', 'Henry,', 'tilting', 'his', 'hat', 'back', 'and', 'looking', 'up', 'at', 'the', 'little', 'clouds', 'that,', 'like', 'ravelled', 'skeins', 'of', 'glossy', 'white', 'silk,', 'were', 'drifting', 'across', 'the', 'hollowed', 'turquoise', 'of', 'the', 'summer', 'sky.', '“Yes;', 'horribly', 'unjust', 'of', 'you.', 'I', 'make', 'a', 'great', 'difference', 'between', 'people.', 'I', 'choose', 'my', 'friends', 'for', 'their', 'good', 'looks,', 'my', 'acquaintances', 'for', 'their', 'good', 'characters,', 'and', 'my', 'enemies', 'for', 'their', 'good', 'intellects.', 'A', 'man', 'cannot', 'be', 'too', 'careful', 'in', 'the', 'choice', 'of', 'his', 'enemies.', 'I', 'have', 'not', 'got', 'one', 'who', 'is', 'a', 'fool.', 'They', 'are', 'all', 'men', 'of', 'some', 'intellectual', 'power,', 'and', 'consequently', 'they', 'all', 'appreciate', 'me.', 'Is', 'that', 'very', 'vain', 'of', 'me?', 'I', 'think', 'it', 'is', 'rather', 'vain.”', '“I', 'should', 'think', 'it', 'was,', 'Harry.', 'But', 'according', 'to', 'your', 'category', 'I', 'must', 'be', 'merely', 'an', 'acquaintance.”', '“My', 'dear', 'old', 'Basil,', 'you', 'are', 'much', 'more', 'than', 'an', 'acquaintance.”', '“And', 'much', 'less', 'than', 'a', 'friend.', 'A', 'sort', 'of', 'brother,', 'I', 'suppose?”', '“Oh,', 'brothers!', 'I', 'don’t', 'care', 'for', 'brothers.', 'My', 'elder', 'brother', 'won’t', 'die,', 'and', 'my', 'younger', 'brothers', 'seem', 'never', 'to', 'do', 'anything', 'else.”', '“Harry!”', 'exclaimed', 'Hallward,', 'frowning.', '“My', 'dear', 'fellow,', 'I', 'am', 'not', 'quite', 'serious.', 'But', 'I', 'can’t', 'help', 'detesting', 'my', 'relations.', 'I', 'suppose', 'it', 'comes', 'from', 'the', 'fact', 'that', 'none', 'of', 'us', 'can', 'stand', 'other', 'people', 'having', 'the', 'same', 'faults', 'as', 'ourselves.', 'I', 'quite', 'sympathize', 'with', 'the', 'rage', 'of', 'the', 'English', 'democracy', 'against', 'what', 'they', 'call', 'the', 'vices', 'of', 'the', 'upper', 'orders.', 'The', 'masses', 'feel', 'that', 'drunkenness,', 'stupidity,', 'and', 'immorality', 'should', 'be', 'their', 'own', 'special', 'property,', 'and', 'that', 'if', 'any', 'one', 'of', 'us', 'makes', 'an', 'ass', 'of', 'himself,', 'he', 'is', 'poaching', 'on', 'their', 'preserves.', 'When', 'poor', 'Southwark', 'got', 'into', 'the', 'divorce', 'court,', 'their', 'indignation', 'was', 'quite', 'magnificent.', 'And', 'yet', 'I', 'don’t', 'suppose', 'that', 'ten', 'per', 'cent', 'of', 'the', 'proletariat', 'live', 'correctly.”', '“I', 'don’t', 'agree', 'with', 'a', 'single', 'word', 'that', 'you', 'have', 'said,', 'and,', 'what', 'is', 'more,', 'Harry,', 'I', 'feel', 'sure', 'you', 'don’t', 'either.”', 'Lord', 'Henry', 'stroked', 'his', 'pointed', 'brown', 'beard', 'and', 'tapped', 'the', 'toe', 'of', 'his', 'patent-leather', 'boot', 'with', 'a', 'tasselled', 'ebony', 'cane.', '“How', 'English', 'you', 'are', 'Basil!', 'That', 'is', 'the', 'second', 'time', 'you', 'have', 'made', 'that', 'observation.', 'If', 'one', 'puts', 'forward', 'an', 'idea', 'to', 'a', 'true', 'Englishman—always', 'a', 'rash', 'thing', 'to', 'do—he', 'never', 'dreams', 'of', 'considering', 'whether', 'the', 'idea', 'is', 'right', 'or', 'wrong.', 'The', 'only', 'thing', 'he', 'considers', 'of', 'any', 'importance', 'is', 'whether', 'one', 'believes', 'it', 'oneself.', 'Now,', 'the', 'value', 'of', 'an', 'idea', 'has', 'nothing', 'whatsoever', 'to', 'do', 'with', 'the', 'sincerity', 'of', 'the', 'man', 'who', 'expresses', 'it.', 'Indeed,', 'the', 'probabilities', 'are', 'that', 'the', 'more', 'insincere', 'the', 'man', 'is,', 'the', 'more', 'purely', 'intellectual', 'will', 'the', 'idea', 'be,', 'as', 'in', 'that', 'case', 'it', 'will', 'not', 'be', 'coloured', 'by', 'either', 'his', 'wants,', 'his', 'desires,', 'or', 'his', 'prejudices.', 'However,', 'I', 'don’t', 'propose', 'to', 'discuss', 'politics,', 'sociology,', 'or', 'metaphysics', 'with', 'you.', 'I', 'like', 'persons', 'better', 'than', 'principles,', 'and', 'I', 'like', 'persons', 'with', 'no', 'principles', 'better', 'than', 'anything', 'else', 'in', 'the', 'world.', 'Tell', 'me', 'more', 'about', 'Mr.', 'Dorian', 'Gray.', 'How', 'often', 'do', 'you', 'see', 'him?”', '“Every', 'day.', 'I', 'couldn’t', 'be', 'happy', 'if', 'I', 'didn’t', 'see', 'him', 'every', 'day.', 'He', 'is', 'absolutely', 'necessary', 'to', 'me.”', '“How', 'extraordinary!', 'I', 'thought', 'you', 'would', 'never', 'care', 'for', 'anything', 'but', 'your', 'art.”', '“He', 'is', 'all', 'my', 'art', 'to', 'me', 'now,”', 'said', 'the', 'painter', 'gravely.', '“I', 'sometimes', 'think,', 'Harry,', 'that', 'there', 'are', 'only', 'two', 'eras', 'of', 'any', 'importance', 'in', 'the', 'world’s', 'history.', 'The', 'first', 'is', 'the', 'appearance', 'of', 'a', 'new', 'medium', 'for', 'art,', 'and', 'the', 'second', 'is', 'the', 'appearance', 'of', 'a', 'new', 'personality', 'for', 'art', 'also.', 'What', 'the', 'invention', 'of', 'oil-painting', 'was', 'to', 'the', 'Venetians,', 'the', 'face', 'of', 'Antinous', 'was', 'to', 'late', 'Greek', 'sculpture,', 'and', 'the', 'face', 'of', 'Dorian', 'Gray', 'will', 'some', 'day', 'be', 'to', 'me.', 'It', 'is', 'not', 'merely', 'that', 'I', 'paint', 'from', 'him,', 'draw', 'from', 'him,', 'sketch', 'from', 'him.', 'Of', 'course,', 'I', 'have', 'done', 'all', 'that.', 'But', 'he', 'is', 'much', 'more', 'to', 'me', 'than', 'a', 'model', 'or', 'a', 'sitter.', 'I', 'won’t', 'tell', 'you', 'that', 'I', 'am', 'dissatisfied', 'with', 'what', 'I', 'have', 'done', 'of', 'him,', 'or', 'that', 'his', 'beauty', 'is', 'such', 'that', 'art', 'cannot', 'express', 'it.', 'There', 'is', 'nothing', 'that', 'art', 'cannot', 'express,', 'and', 'I', 'know', 'that', 'the', 'work', 'I', 'have', 'done,', 'since', 'I', 'met', 'Dorian', 'Gray,', 'is', 'good', 'work,', 'is', 'the', 'best', 'work', 'of', 'my', 'life.', 'But', 'in', 'some', 'curious', 'way—I', 'wonder', 'will', 'you', 'understand', 'me?—his', 'personality', 'has', 'suggested', 'to', 'me', 'an', 'entirely', 'new', 'manner', 'in', 'art,', 'an', 'entirely', 'new', 'mode', 'of', 'style.', 'I', 'see', 'things', 'differently,', 'I', 'think', 'of', 'them', 'differently.', 'I', 'can', 'now', 'recreate', 'life', 'in', 'a', 'way', 'that', 'was', 'hidden', 'from', 'me', 'before.', '‘A', 'dream', 'of', 'form', 'in', 'days', 'of', 'thought’—who', 'is', 'it', 'who', 'says', 'that?', 'I', 'forget;', 'but', 'it', 'is', 'what', 'Dorian', 'Gray', 'has', 'been', 'to', 'me.', 'The', 'merely', 'visible', 'presence', 'of', 'this', 'lad—for', 'he', 'seems', 'to', 'me', 'little', 'more', 'than', 'a', 'lad,', 'though', 'he', 'is', 'really', 'over', 'twenty—his', 'merely', 'visible', 'presence—ah!', 'I', 'wonder', 'can', 'you', 'realize', 'all', 'that', 'that', 'means?', 'Unconsciously', 'he', 'defines', 'for', 'me', 'the', 'lines', 'of', 'a', 'fresh', 'school,', 'a', 'school', 'that', 'is', 'to', 'have', 'in', 'it', 'all', 'the', 'passion', 'of', 'the', 'romantic', 'spirit,', 'all', 'the', 'perfection', 'of', 'the', 'spirit', 'that', 'is', 'Greek.', 'The', 'harmony', 'of', 'soul', 'and', 'body—how', 'much', 'that', 'is!', 'We', 'in', 'our', 'madness', 'have', 'separated', 'the', 'two,', 'and', 'have', 'invented', 'a', 'realism', 'that', 'is', 'vulgar,', 'an', 'ideality', 'that', 'is', 'void.', 'Harry!', 'if', 'you', 'only', 'knew', 'what', 'Dorian', 'Gray', 'is', 'to', 'me!', 'You', 'remember', 'that', 'landscape', 'of', 'mine,', 'for', 'which', 'Agnew', 'offered', 'me', 'such', 'a', 'huge', 'price', 'but', 'which', 'I', 'would', 'not', 'part', 'with?', 'It', 'is', 'one', 'of', 'the', 'best', 'things', 'I', 'have', 'ever', 'done.', 'And', 'why', 'is', 'it', 'so?', 'Because,', 'while', 'I', 'was', 'painting', 'it,', 'Dorian', 'Gray', 'sat', 'beside', 'me.', 'Some', 'subtle', 'influence', 'passed', 'from', 'him', 'to', 'me,', 'and', 'for', 'the', 'first', 'time', 'in', 'my', 'life', 'I', 'saw', 'in', 'the', 'plain', 'woodland', 'the', 'wonder', 'I', 'had', 'always', 'looked', 'for', 'and', 'always', 'missed.”', '“Basil,', 'this', 'is', 'extraordinary!', 'I', 'must', 'see', 'Dorian', 'Gray.”', 'Hallward', 'got', 'up', 'from', 'the', 'seat', 'and', 'walked', 'up', 'and', 'down', 'the', 'garden.', 'After', 'some', 'time', 'he', 'came', 'back.', '“Harry,”', 'he', 'said,', '“Dorian', 'Gray', 'is', 'to', 'me', 'simply', 'a', 'motive', 'in', 'art.', 'You', 'might', 'see', 'nothing', 'in', 'him.', 'I', 'see', 'everything', 'in', 'him.', 'He', 'is', 'never', 'more', 'present', 'in', 'my', 'work', 'than', 'when', 'no', 'image', 'of', 'him', 'is', 'there.', 'He', 'is', 'a', 'suggestion,', 'as', 'I', 'have', 'said,', 'of', 'a', 'new', 'manner.', 'I', 'find', 'him', 'in', 'the', 'curves', 'of', 'certain', 'lines,', 'in', 'the', 'loveliness', 'and', 'subtleties', 'of', 'certain', 'colours.', 'That', 'is', 'all.”', '“Then', 'why', 'won’t', 'you', 'exhibit', 'his', 'portrait?”', 'asked', 'Lord', 'Henry.', '“Because,', 'without', 'intending', 'it,', 'I', 'have', 'put', 'into', 'it', 'some', 'expression', 'of', 'all', 'this', 'curious', 'artistic', 'idolatry,', 'of', 'which,', 'of', 'course,', 'I', 'have', 'never', 'cared', 'to', 'speak', 'to', 'him.', 'He', 'knows', 'nothing', 'about', 'it.', 'He', 'shall', 'never', 'know', 'anything', 'about', 'it.', 'But', 'the', 'world', 'might', 'guess', 'it,', 'and', 'I', 'will', 'not', 'bare', 'my', 'soul', 'to', 'their', 'shallow', 'prying', 'eyes.', 'My', 'heart', 'shall', 'never', 'be', 'put', 'under', 'their', 'microscope.', 'There', 'is', 'too', 'much', 'of', 'myself', 'in', 'the', 'thing,', 'Harry—too', 'much', 'of', 'myself!”', '“Poets', 'are', 'not', 'so', 'scrupulous', 'as', 'you', 'are.', 'They', 'know', 'how', 'useful', 'passion', 'is', 'for', 'publication.', 'Nowadays', 'a', 'broken', 'heart', 'will', 'run', 'to', 'many', 'editions.”', '“I', 'hate', 'them', 'for', 'it,”', 'cried', 'Hallward.', '“An', 'artist', 'should', 'create', 'beautiful', 'things,', 'but', 'should', 'put', 'nothing', 'of', 'his', 'own', 'life', 'into', 'them.', 'We', 'live', 'in', 'an', 'age', 'when', 'men', 'treat', 'art', 'as', 'if', 'it', 'were', 'meant', 'to', 'be', 'a', 'form', 'of', 'autobiography.', 'We', 'have', 'lost', 'the', 'abstract', 'sense', 'of', 'beauty.', 'Some', 'day', 'I', 'will', 'show', 'the', 'world', 'what', 'it', 'is;', 'and', 'for', 'that', 'reason', 'the', 'world', 'shall', 'never', 'see', 'my', 'portrait', 'of', 'Dorian', 'Gray.”', '“I', 'think', 'you', 'are', 'wrong,', 'Basil,', 'but', 'I', 'won’t', 'argue', 'with', 'you.', 'It', 'is', 'only', 'the', 'intellectually', 'lost', 'who', 'ever', 'argue.', 'Tell', 'me,', 'is', 'Dorian', 'Gray', 'very', 'fond', 'of', 'you?”', 'The', 'painter', 'considered', 'for', 'a', 'few', 'moments.', '“He', 'likes', 'me,”', 'he', 'answered', 'after', 'a', 'pause;', '“I', 'know', 'he', 'likes', 'me.', 'Of', 'course', 'I', 'flatter', 'him', 'dreadfully.', 'I', 'find', 'a', 'strange', 'pleasure', 'in', 'saying', 'things', 'to', 'him', 'that', 'I', 'know', 'I', 'shall', 'be', 'sorry', 'for', 'having', 'said.', 'As', 'a', 'rule,', 'he', 'is', 'charming', 'to', 'me,', 'and', 'we', 'sit', 'in', 'the', 'studio', 'and', 'talk', 'of', 'a', 'thousand', 'things.', 'Now', 'and', 'then,', 'however,', 'he', 'is', 'horribly', 'thoughtless,', 'and', 'seems', 'to', 'take', 'a', 'real', 'delight', 'in', 'giving', 'me', 'pain.', 'Then', 'I', 'feel,', 'Harry,', 'that', 'I', 'have', 'given', 'away', 'my', 'whole', 'soul', 'to', 'some', 'one', 'who', 'treats', 'it', 'as', 'if', 'it', 'were', 'a', 'flower', 'to', 'put', 'in', 'his', 'coat,', 'a', 'bit', 'of', 'decoration', 'to', 'charm', 'his', 'vanity,', 'an', 'ornament', 'for', 'a', 'summer’s', 'day.”', '“Days', 'in', 'summer,', 'Basil,', 'are', 'apt', 'to', 'linger,”', 'murmured', 'Lord', 'Henry.', '“Perhaps', 'you', 'will', 'tire', 'sooner', 'than', 'he', 'will.', 'It', 'is', 'a', 'sad', 'thing', 'to', 'think', 'of,', 'but', 'there', 'is', 'no', 'doubt', 'that', 'genius', 'lasts', 'longer', 'than', 'beauty.', 'That', 'accounts', 'for', 'the', 'fact', 'that', 'we', 'all', 'take', 'such', 'pains', 'to', 'over-educate', 'ourselves.', 'In', 'the', 'wild', 'struggle', 'for', 'existence,', 'we', 'want', 'to', 'have', 'something', 'that', 'endures,', 'and', 'so', 'we', 'fill', 'our', 'minds', 'with', 'rubbish', 'and', 'facts,', 'in', 'the', 'silly', 'hope', 'of', 'keeping', 'our', 'place.', 'The', 'thoroughly', 'well-informed', 'man—that', 'is', 'the', 'modern', 'ideal.', 'And', 'the', 'mind', 'of', 'the', 'thoroughly', 'well-informed', 'man', 'is', 'a', 'dreadful', 'thing.', 'It', 'is', 'like', 'a', 'bric-à-brac', 'shop,', 'all', 'monsters', 'and', 'dust,', 'with', 'everything', 'priced', 'above', 'its', 'proper', 'value.', 'I', 'think', 'you', 'will', 'tire', 'first,', 'all', 'the', 'same.', 'Some', 'day', 'you', 'will', 'look', 'at', 'your', 'friend,', 'and', 'he', 'will', 'seem', 'to', 'you', 'to', 'be', 'a', 'little', 'out', 'of', 'drawing,', 'or', 'you', 'won’t', 'like', 'his', 'tone', 'of', 'colour,', 'or', 'something.', 'You', 'will', 'bitterly', 'reproach', 'him', 'in', 'your', 'own', 'heart,', 'and', 'seriously', 'think', 'that', 'he', 'has', 'behaved', 'very', 'badly', 'to', 'you.', 'The', 'next', 'time', 'he', 'calls,', 'you', 'will', 'be', 'perfectly', 'cold', 'and', 'indifferent.', 'It', 'will', 'be', 'a', 'great', 'pity,', 'for', 'it', 'will', 'alter', 'you.', 'What', 'you', 'have', 'told', 'me', 'is', 'quite', 'a', 'romance,', 'a', 'romance', 'of', 'art', 'one', 'might', 'call', 'it,', 'and', 'the', 'worst', 'of', 'having', 'a', 'romance', 'of', 'any', 'kind', 'is', 'that', 'it', 'leaves', 'one', 'so', 'unromantic.”', '“Harry,', 'don’t', 'talk', 'like', 'that.', 'As', 'long', 'as', 'I', 'live,', 'the', 'personality', 'of', 'Dorian', 'Gray', 'will', 'dominate', 'me.', 'You', 'can’t', 'feel', 'what', 'I', 'feel.', 'You', 'change', 'too', 'often.”', '“Ah,', 'my', 'dear', 'Basil,', 'that', 'is', 'exactly', 'why', 'I', 'can', 'feel', 'it.', 'Those', 'who', 'are', 'faithful', 'know', 'only', 'the', 'trivial', 'side', 'of', 'love:', 'it', 'is', 'the', 'faithless', 'who', 'know', 'love’s', 'tragedies.”', 'And', 'Lord', 'Henry', 'struck', 'a', 'light', 'on', 'a', 'dainty', 'silver', 'case', 'and', 'began', 'to', 'smoke', 'a', 'cigarette', 'with', 'a', 'self-conscious', 'and', 'satisfied', 'air,', 'as', 'if', 'he', 'had', 'summed', 'up', 'the', 'world', 'in', 'a', 'phrase.', 'There', 'was', 'a', 'rustle', 'of', 'chirruping', 'sparrows', 'in', 'the', 'green', 'lacquer', 'leaves', 'of', 'the', 'ivy,', 'and', 'the', 'blue', 'cloud-shadows', 'chased', 'themselves', 'across', 'the', 'grass', 'like', 'swallows.', 'How', 'pleasant', 'it', 'was', 'in', 'the', 'garden!', 'And', 'how', 'delightful', 'other', 'people’s', 'emotions', 'were!—much', 'more', 'delightful', 'than', 'their', 'ideas,', 'it', 'seemed', 'to', 'him.', 'One’s', 'own', 'soul,', 'and', 'the', 'passions', 'of', 'one’s', 'friends—those', 'were', 'the', 'fascinating', 'things', 'in', 'life.', 'He', 'pictured', 'to', 'himself', 'with', 'silent', 'amusement', 'the', 'tedious', 'luncheon', 'that', 'he', 'had', 'missed', 'by', 'staying', 'so', 'long', 'with', 'Basil', 'Hallward.', 'Had', 'he', 'gone', 'to', 'his', 'aunt’s,', 'he', 'would', 'have', 'been', 'sure', 'to', 'have', 'met', 'Lord', 'Goodbody', 'there,', 'and', 'the', 'whole', 'conversation', 'would', 'have', 'been', 'about', 'the', 'feeding', 'of', 'the', 'poor', 'and', 'the', 'necessity', 'for', 'model', 'lodging-houses.', 'Each', 'class', 'would', 'have', 'preached', 'the', 'importance', 'of', 'those', 'virtues,', 'for', 'whose', 'exercise', 'there', 'was', 'no', 'necessity', 'in', 'their', 'own', 'lives.', 'The', 'rich', 'would', 'have', 'spoken', 'on', 'the', 'value', 'of', 'thrift,', 'and', 'the', 'idle', 'grown', 'eloquent', 'over', 'the', 'dignity', 'of', 'labour.', 'It', 'was', 'charming', 'to', 'have', 'escaped', 'all', 'that!', 'As', 'he', 'thought', 'of', 'his', 'aunt,', 'an', 'idea', 'seemed', 'to', 'strike', 'him.', 'He', 'turned', 'to', 'Hallward', 'and', 'said,', '“My', 'dear', 'fellow,', 'I', 'have', 'just', 'remembered.”', '“Remembered', 'what,', 'Harry?”', '“Where', 'I', 'heard', 'the', 'name', 'of', 'Dorian', 'Gray.”', '“Where', 'was', 'it?”', 'asked', 'Hallward,', 'with', 'a', 'slight', 'frown.', '“Don’t', 'look', 'so', 'angry,', 'Basil.', 'It', 'was', 'at', 'my', 'aunt,', 'Lady', 'Agatha’s.', 'She', 'told', 'me', 'she', 'had', 'discovered', 'a', 'wonderful', 'young', 'man', 'who', 'was', 'going', 'to', 'help', 'her', 'in', 'the', 'East', 'End,', 'and', 'that', 'his', 'name', 'was', 'Dorian', 'Gray.', 'I', 'am', 'bound', 'to', 'state', 'that', 'she', 'never', 'told', 'me', 'he', 'was', 'good-looking.', 'Women', 'have', 'no', 'appreciation', 'of', 'good', 'looks;', 'at', 'least,', 'good', 'women', 'have', 'not.', 'She', 'said', 'that', 'he', 'was', 'very', 'earnest', 'and', 'had', 'a', 'beautiful', 'nature.', 'I', 'at', 'once', 'pictured', 'to', 'myself', 'a', 'creature', 'with', 'spectacles', 'and', 'lank', 'hair,', 'horribly', 'freckled,', 'and', 'tramping', 'about', 'on', 'huge', 'feet.', 'I', 'wish', 'I', 'had', 'known', 'it', 'was', 'your', 'friend.”', '“I', 'am', 'very', 'glad', 'you', 'didn’t,', 'Harry.”', '“Why?”', '“I', 'don’t', 'want', 'you', 'to', 'meet', 'him.”', '“You', 'don’t', 'want', 'me', 'to', 'meet', 'him?”', '“No.”', '“Mr.', 'Dorian', 'Gray', 'is', 'in', 'the', 'studio,', 'sir,”', 'said', 'the', 'butler,', 'coming', 'into', 'the', 'garden.', '“You', 'must', 'introduce', 'me', 'now,”', 'cried', 'Lord', 'Henry,', 'laughing.', 'The', 'painter', 'turned', 'to', 'his', 'servant,', 'who', 'stood', 'blinking', 'in', 'the', 'sunlight.', '“Ask', 'Mr.', 'Gray', 'to', 'wait,', 'Parker:', 'I', 'shall', 'be', 'in', 'in', 'a', 'few', 'moments.”', 'The', 'man', 'bowed', 'and', 'went', 'up', 'the', 'walk.', 'Then', 'he', 'looked', 'at', 'Lord', 'Henry.', '“Dorian', 'Gray', 'is', 'my', 'dearest', 'friend,”', 'he', 'said.', '“He', 'has', 'a', 'simple', 'and', 'a', 'beautiful', 'nature.', 'Your', 'aunt', 'was', 'quite', 'right', 'in', 'what', 'she', 'said', 'of', 'him.', 'Don’t', 'spoil', 'him.', 'Don’t', 'try', 'to', 'influence', 'him.', 'Your', 'influence', 'would', 'be', 'bad.', 'The', 'world', 'is', 'wide,', 'and', 'has', 'many', 'marvellous', 'people', 'in', 'it.', 'Don’t', 'take', 'away', 'from', 'me', 'the', 'one', 'person', 'who', 'gives', 'to', 'my', 'art', 'whatever', 'charm', 'it', 'possesses:', 'my', 'life', 'as', 'an', 'artist', 'depends', 'on', 'him.', 'Mind,', 'Harry,', 'I', 'trust', 'you.”', 'He', 'spoke', 'very', 'slowly,', 'and', 'the', 'words', 'seemed', 'wrung', 'out', 'of', 'him', 'almost', 'against', 'his', 'will.', '“What', 'nonsense', 'you', 'talk!”', 'said', 'Lord', 'Henry,', 'smiling,', 'and', 'taking', 'Hallward', 'by', 'the', 'arm,', 'he', 'almost', 'led', 'him', 'into', 'the', 'house.']\n"
     ]
    }
   ],
   "source": [
    "DG_vector, DG_dict = style_score(DG_text)"
   ]
  },
  {
   "cell_type": "markdown",
   "metadata": {
    "id": "_dXMQfvwRsE5"
   },
   "source": [
    "## Data creation"
   ]
  },
  {
   "cell_type": "code",
   "execution_count": null,
   "metadata": {
    "colab": {
     "base_uri": "https://localhost:8080/"
    },
    "executionInfo": {
     "elapsed": 357,
     "status": "ok",
     "timestamp": 1689716924248,
     "user": {
      "displayName": "Urmi Dedhia",
      "userId": "04029137391343867476"
     },
     "user_tz": -330
    },
    "id": "SBbGHL3xRuev",
    "outputId": "046503a4-0d0e-48e5-a9ed-b631b7730419"
   },
   "outputs": [
    {
     "data": {
      "text/plain": [
       "6"
      ]
     },
     "execution_count": 143,
     "metadata": {},
     "output_type": "execute_result"
    }
   ],
   "source": [
    "vectors = []\n",
    "vectors.extend([colleen_vector, charles_vector, charles2_vector, news_vector, DC_vector,DG_vector])\n",
    "len(vectors)"
   ]
  },
  {
   "cell_type": "code",
   "execution_count": null,
   "metadata": {
    "colab": {
     "base_uri": "https://localhost:8080/"
    },
    "executionInfo": {
     "elapsed": 4,
     "status": "ok",
     "timestamp": 1689716925883,
     "user": {
      "displayName": "Urmi Dedhia",
      "userId": "04029137391343867476"
     },
     "user_tz": -330
    },
    "id": "3iUN3zcbU7MZ",
    "outputId": "2f76aaad-b79f-45b3-d50f-51d1e91ce040"
   },
   "outputs": [
    {
     "data": {
      "text/plain": [
       "6"
      ]
     },
     "execution_count": 144,
     "metadata": {},
     "output_type": "execute_result"
    }
   ],
   "source": [
    "texts = []\n",
    "texts.extend([colleen, charles, charles2, news, DC_text, DG_text])\n",
    "len(texts)"
   ]
  },
  {
   "cell_type": "code",
   "execution_count": null,
   "metadata": {
    "id": "0yK72NlzVYNc"
   },
   "outputs": [],
   "source": [
    "writers = []\n",
    "writers.extend(['Colleen Hoover', 'Charles Dickens', 'Charles Dickens', 'Reporter XYZ', 'Charles Dickens', 'Oscar Wilde'])"
   ]
  },
  {
   "cell_type": "code",
   "execution_count": null,
   "metadata": {
    "id": "jbo8_FNe947y"
   },
   "outputs": [],
   "source": [
    "titles = []\n",
    "titles.extend(['It Starts With Us', 'A Tale Of Two Cities', 'A Tale Of Two Cities', 'News article (Hindustan Times)', 'David Copperfield', 'The Picture of Dorian Gray'])"
   ]
  },
  {
   "cell_type": "code",
   "execution_count": null,
   "metadata": {
    "id": "01EFFY1mSpGG"
   },
   "outputs": [],
   "source": [
    "dict2df = {}\n",
    "columns = colleen_dict.keys()"
   ]
  },
  {
   "cell_type": "code",
   "execution_count": null,
   "metadata": {
    "id": "4OyjrItyU3ar"
   },
   "outputs": [],
   "source": [
    "dict2df['Writer']=writers\n",
    "dict2df['Titles']=titles\n",
    "dict2df['Text']=texts"
   ]
  },
  {
   "cell_type": "code",
   "execution_count": null,
   "metadata": {
    "id": "Nc05iXK1TUu2"
   },
   "outputs": [],
   "source": [
    "count=-1\n",
    "for column in columns:\n",
    "  count+=1\n",
    "  temp = []\n",
    "  for vector in vectors:\n",
    "    temp.append(vector[count])\n",
    "  dict2df[column]=temp"
   ]
  },
  {
   "cell_type": "code",
   "execution_count": null,
   "metadata": {
    "colab": {
     "base_uri": "https://localhost:8080/"
    },
    "executionInfo": {
     "elapsed": 5,
     "status": "ok",
     "timestamp": 1689716965611,
     "user": {
      "displayName": "Urmi Dedhia",
      "userId": "04029137391343867476"
     },
     "user_tz": -330
    },
    "id": "J8yyHjKjTvcS",
    "outputId": "6a1274b8-6f1e-4452-d0be-6f191a6bef55"
   },
   "outputs": [
    {
     "name": "stdout",
     "output_type": "stream",
     "text": [
      "20\n"
     ]
    }
   ],
   "source": [
    "pprint(len(dict2df))"
   ]
  },
  {
   "cell_type": "code",
   "execution_count": null,
   "metadata": {
    "id": "2dwCGQunTvi6"
   },
   "outputs": [],
   "source": [
    "style_df = pd.DataFrame(dict2df)"
   ]
  },
  {
   "cell_type": "code",
   "execution_count": null,
   "metadata": {
    "colab": {
     "base_uri": "https://localhost:8080/",
     "height": 666
    },
    "executionInfo": {
     "elapsed": 6,
     "status": "ok",
     "timestamp": 1689716973130,
     "user": {
      "displayName": "Urmi Dedhia",
      "userId": "04029137391343867476"
     },
     "user_tz": -330
    },
    "id": "RCh2ee7EV86s",
    "outputId": "b4009dda-a494-4377-a98e-e546bcdf60a0"
   },
   "outputs": [
    {
     "data": {
      "text/html": [
       "\n",
       "\n",
       "  <div id=\"df-b167cbaf-f1ea-4693-af59-a71c6a9de169\">\n",
       "    <div class=\"colab-df-container\">\n",
       "      <div>\n",
       "<style scoped>\n",
       "    .dataframe tbody tr th:only-of-type {\n",
       "        vertical-align: middle;\n",
       "    }\n",
       "\n",
       "    .dataframe tbody tr th {\n",
       "        vertical-align: top;\n",
       "    }\n",
       "\n",
       "    .dataframe thead th {\n",
       "        text-align: right;\n",
       "    }\n",
       "</style>\n",
       "<table border=\"1\" class=\"dataframe\">\n",
       "  <thead>\n",
       "    <tr style=\"text-align: right;\">\n",
       "      <th></th>\n",
       "      <th>Writer</th>\n",
       "      <th>Titles</th>\n",
       "      <th>Text</th>\n",
       "      <th>avg_syllable_count</th>\n",
       "      <th>avg_wordlength</th>\n",
       "      <th>avg_sentlengthbyword</th>\n",
       "      <th>count_functionalwords</th>\n",
       "      <th>punctuation_count_ratio</th>\n",
       "      <th>fleschreadingease</th>\n",
       "      <th>kincaid</th>\n",
       "      <th>gunningfogindex</th>\n",
       "      <th>dalechallindex</th>\n",
       "      <th>yulek</th>\n",
       "      <th>herdan</th>\n",
       "      <th>maas</th>\n",
       "      <th>msttr</th>\n",
       "      <th>mattr</th>\n",
       "      <th>simpsond</th>\n",
       "      <th>sem_spread</th>\n",
       "      <th>pos_sem_spread</th>\n",
       "    </tr>\n",
       "  </thead>\n",
       "  <tbody>\n",
       "    <tr>\n",
       "      <th>0</th>\n",
       "      <td>Colleen Hoover</td>\n",
       "      <td>It Starts With Us</td>\n",
       "      <td>\\nI wanted the day to go by faster, so I decid...</td>\n",
       "      <td>1.152685</td>\n",
       "      <td>4.656085</td>\n",
       "      <td>12.680851</td>\n",
       "      <td>0.409396</td>\n",
       "      <td>0.041584</td>\n",
       "      <td>65.581199</td>\n",
       "      <td>16.017496</td>\n",
       "      <td>21.288011</td>\n",
       "      <td>9.663180</td>\n",
       "      <td>92.417559</td>\n",
       "      <td>0.881066</td>\n",
       "      <td>0.018493</td>\n",
       "      <td>0.841667</td>\n",
       "      <td>0.830664</td>\n",
       "      <td>0.009257</td>\n",
       "      <td>0.166902</td>\n",
       "      <td>0.101330</td>\n",
       "    </tr>\n",
       "    <tr>\n",
       "      <th>1</th>\n",
       "      <td>Charles Dickens</td>\n",
       "      <td>A Tale Of Two Cities</td>\n",
       "      <td>\\nIt was the best of times, it was the worst o...</td>\n",
       "      <td>1.237201</td>\n",
       "      <td>6.398551</td>\n",
       "      <td>45.076923</td>\n",
       "      <td>0.455631</td>\n",
       "      <td>0.027553</td>\n",
       "      <td>-58.134989</td>\n",
       "      <td>57.824783</td>\n",
       "      <td>62.788586</td>\n",
       "      <td>14.869525</td>\n",
       "      <td>136.809980</td>\n",
       "      <td>0.895989</td>\n",
       "      <td>0.016320</td>\n",
       "      <td>0.745455</td>\n",
       "      <td>0.774860</td>\n",
       "      <td>0.013704</td>\n",
       "      <td>0.192086</td>\n",
       "      <td>0.102178</td>\n",
       "    </tr>\n",
       "    <tr>\n",
       "      <th>2</th>\n",
       "      <td>Charles Dickens</td>\n",
       "      <td>A Tale Of Two Cities</td>\n",
       "      <td>\\nA large cask of wine had been dropped and br...</td>\n",
       "      <td>1.172945</td>\n",
       "      <td>5.983165</td>\n",
       "      <td>38.933333</td>\n",
       "      <td>0.443493</td>\n",
       "      <td>0.034406</td>\n",
       "      <td>-54.531923</td>\n",
       "      <td>57.322227</td>\n",
       "      <td>62.516014</td>\n",
       "      <td>14.896424</td>\n",
       "      <td>133.771641</td>\n",
       "      <td>0.892549</td>\n",
       "      <td>0.016864</td>\n",
       "      <td>0.796364</td>\n",
       "      <td>0.803507</td>\n",
       "      <td>0.013400</td>\n",
       "      <td>0.187983</td>\n",
       "      <td>0.121880</td>\n",
       "    </tr>\n",
       "    <tr>\n",
       "      <th>3</th>\n",
       "      <td>Reporter XYZ</td>\n",
       "      <td>News article (Hindustan Times)</td>\n",
       "      <td>\\nAfter receding for two days, the Yamuna wate...</td>\n",
       "      <td>1.284404</td>\n",
       "      <td>6.132212</td>\n",
       "      <td>21.800000</td>\n",
       "      <td>0.318043</td>\n",
       "      <td>0.023356</td>\n",
       "      <td>56.973360</td>\n",
       "      <td>12.867154</td>\n",
       "      <td>15.571708</td>\n",
       "      <td>11.281413</td>\n",
       "      <td>116.079760</td>\n",
       "      <td>0.873510</td>\n",
       "      <td>0.019634</td>\n",
       "      <td>0.761667</td>\n",
       "      <td>0.778826</td>\n",
       "      <td>0.011626</td>\n",
       "      <td>0.168130</td>\n",
       "      <td>0.103134</td>\n",
       "    </tr>\n",
       "    <tr>\n",
       "      <th>4</th>\n",
       "      <td>Charles Dickens</td>\n",
       "      <td>David Copperfield</td>\n",
       "      <td>\\nTHE PERSONAL HISTORY AND EXPERIENCE OF DAVID...</td>\n",
       "      <td>1.250000</td>\n",
       "      <td>5.650000</td>\n",
       "      <td>34.000000</td>\n",
       "      <td>0.452206</td>\n",
       "      <td>0.025941</td>\n",
       "      <td>46.053363</td>\n",
       "      <td>20.399971</td>\n",
       "      <td>26.382125</td>\n",
       "      <td>9.236601</td>\n",
       "      <td>123.364333</td>\n",
       "      <td>0.897953</td>\n",
       "      <td>0.018216</td>\n",
       "      <td>0.800000</td>\n",
       "      <td>0.799009</td>\n",
       "      <td>0.012382</td>\n",
       "      <td>0.209186</td>\n",
       "      <td>0.092626</td>\n",
       "    </tr>\n",
       "    <tr>\n",
       "      <th>5</th>\n",
       "      <td>Oscar Wilde</td>\n",
       "      <td>The Picture of Dorian Gray</td>\n",
       "      <td>\\nCHAPTER I.\\nThe studio was filled with the r...</td>\n",
       "      <td>1.208697</td>\n",
       "      <td>4.976570</td>\n",
       "      <td>17.327465</td>\n",
       "      <td>0.426336</td>\n",
       "      <td>0.033660</td>\n",
       "      <td>39.254854</td>\n",
       "      <td>22.941194</td>\n",
       "      <td>27.794844</td>\n",
       "      <td>9.951368</td>\n",
       "      <td>87.777124</td>\n",
       "      <td>0.840156</td>\n",
       "      <td>0.018758</td>\n",
       "      <td>0.798400</td>\n",
       "      <td>0.800809</td>\n",
       "      <td>0.008779</td>\n",
       "      <td>0.175586</td>\n",
       "      <td>0.102582</td>\n",
       "    </tr>\n",
       "  </tbody>\n",
       "</table>\n",
       "</div>\n",
       "      <button class=\"colab-df-convert\" onclick=\"convertToInteractive('df-b167cbaf-f1ea-4693-af59-a71c6a9de169')\"\n",
       "              title=\"Convert this dataframe to an interactive table.\"\n",
       "              style=\"display:none;\">\n",
       "\n",
       "  <svg xmlns=\"http://www.w3.org/2000/svg\" height=\"24px\"viewBox=\"0 0 24 24\"\n",
       "       width=\"24px\">\n",
       "    <path d=\"M0 0h24v24H0V0z\" fill=\"none\"/>\n",
       "    <path d=\"M18.56 5.44l.94 2.06.94-2.06 2.06-.94-2.06-.94-.94-2.06-.94 2.06-2.06.94zm-11 1L8.5 8.5l.94-2.06 2.06-.94-2.06-.94L8.5 2.5l-.94 2.06-2.06.94zm10 10l.94 2.06.94-2.06 2.06-.94-2.06-.94-.94-2.06-.94 2.06-2.06.94z\"/><path d=\"M17.41 7.96l-1.37-1.37c-.4-.4-.92-.59-1.43-.59-.52 0-1.04.2-1.43.59L10.3 9.45l-7.72 7.72c-.78.78-.78 2.05 0 2.83L4 21.41c.39.39.9.59 1.41.59.51 0 1.02-.2 1.41-.59l7.78-7.78 2.81-2.81c.8-.78.8-2.07 0-2.86zM5.41 20L4 18.59l7.72-7.72 1.47 1.35L5.41 20z\"/>\n",
       "  </svg>\n",
       "      </button>\n",
       "\n",
       "\n",
       "\n",
       "    <div id=\"df-1a380b38-1593-495e-938f-c86b2c6ef6bd\">\n",
       "      <button class=\"colab-df-quickchart\" onclick=\"quickchart('df-1a380b38-1593-495e-938f-c86b2c6ef6bd')\"\n",
       "              title=\"Suggest charts.\"\n",
       "              style=\"display:none;\">\n",
       "\n",
       "<svg xmlns=\"http://www.w3.org/2000/svg\" height=\"24px\"viewBox=\"0 0 24 24\"\n",
       "     width=\"24px\">\n",
       "    <g>\n",
       "        <path d=\"M19 3H5c-1.1 0-2 .9-2 2v14c0 1.1.9 2 2 2h14c1.1 0 2-.9 2-2V5c0-1.1-.9-2-2-2zM9 17H7v-7h2v7zm4 0h-2V7h2v10zm4 0h-2v-4h2v4z\"/>\n",
       "    </g>\n",
       "</svg>\n",
       "      </button>\n",
       "    </div>\n",
       "\n",
       "<style>\n",
       "  .colab-df-quickchart {\n",
       "    background-color: #E8F0FE;\n",
       "    border: none;\n",
       "    border-radius: 50%;\n",
       "    cursor: pointer;\n",
       "    display: none;\n",
       "    fill: #1967D2;\n",
       "    height: 32px;\n",
       "    padding: 0 0 0 0;\n",
       "    width: 32px;\n",
       "  }\n",
       "\n",
       "  .colab-df-quickchart:hover {\n",
       "    background-color: #E2EBFA;\n",
       "    box-shadow: 0px 1px 2px rgba(60, 64, 67, 0.3), 0px 1px 3px 1px rgba(60, 64, 67, 0.15);\n",
       "    fill: #174EA6;\n",
       "  }\n",
       "\n",
       "  [theme=dark] .colab-df-quickchart {\n",
       "    background-color: #3B4455;\n",
       "    fill: #D2E3FC;\n",
       "  }\n",
       "\n",
       "  [theme=dark] .colab-df-quickchart:hover {\n",
       "    background-color: #434B5C;\n",
       "    box-shadow: 0px 1px 3px 1px rgba(0, 0, 0, 0.15);\n",
       "    filter: drop-shadow(0px 1px 2px rgba(0, 0, 0, 0.3));\n",
       "    fill: #FFFFFF;\n",
       "  }\n",
       "</style>\n",
       "\n",
       "    <script>\n",
       "      async function quickchart(key) {\n",
       "        const containerElement = document.querySelector('#' + key);\n",
       "        const charts = await google.colab.kernel.invokeFunction(\n",
       "            'suggestCharts', [key], {});\n",
       "      }\n",
       "    </script>\n",
       "\n",
       "      <script>\n",
       "\n",
       "function displayQuickchartButton(domScope) {\n",
       "  let quickchartButtonEl =\n",
       "    domScope.querySelector('#df-1a380b38-1593-495e-938f-c86b2c6ef6bd button.colab-df-quickchart');\n",
       "  quickchartButtonEl.style.display =\n",
       "    google.colab.kernel.accessAllowed ? 'block' : 'none';\n",
       "}\n",
       "\n",
       "        displayQuickchartButton(document);\n",
       "      </script>\n",
       "      <style>\n",
       "    .colab-df-container {\n",
       "      display:flex;\n",
       "      flex-wrap:wrap;\n",
       "      gap: 12px;\n",
       "    }\n",
       "\n",
       "    .colab-df-convert {\n",
       "      background-color: #E8F0FE;\n",
       "      border: none;\n",
       "      border-radius: 50%;\n",
       "      cursor: pointer;\n",
       "      display: none;\n",
       "      fill: #1967D2;\n",
       "      height: 32px;\n",
       "      padding: 0 0 0 0;\n",
       "      width: 32px;\n",
       "    }\n",
       "\n",
       "    .colab-df-convert:hover {\n",
       "      background-color: #E2EBFA;\n",
       "      box-shadow: 0px 1px 2px rgba(60, 64, 67, 0.3), 0px 1px 3px 1px rgba(60, 64, 67, 0.15);\n",
       "      fill: #174EA6;\n",
       "    }\n",
       "\n",
       "    [theme=dark] .colab-df-convert {\n",
       "      background-color: #3B4455;\n",
       "      fill: #D2E3FC;\n",
       "    }\n",
       "\n",
       "    [theme=dark] .colab-df-convert:hover {\n",
       "      background-color: #434B5C;\n",
       "      box-shadow: 0px 1px 3px 1px rgba(0, 0, 0, 0.15);\n",
       "      filter: drop-shadow(0px 1px 2px rgba(0, 0, 0, 0.3));\n",
       "      fill: #FFFFFF;\n",
       "    }\n",
       "  </style>\n",
       "\n",
       "      <script>\n",
       "        const buttonEl =\n",
       "          document.querySelector('#df-b167cbaf-f1ea-4693-af59-a71c6a9de169 button.colab-df-convert');\n",
       "        buttonEl.style.display =\n",
       "          google.colab.kernel.accessAllowed ? 'block' : 'none';\n",
       "\n",
       "        async function convertToInteractive(key) {\n",
       "          const element = document.querySelector('#df-b167cbaf-f1ea-4693-af59-a71c6a9de169');\n",
       "          const dataTable =\n",
       "            await google.colab.kernel.invokeFunction('convertToInteractive',\n",
       "                                                     [key], {});\n",
       "          if (!dataTable) return;\n",
       "\n",
       "          const docLinkHtml = 'Like what you see? Visit the ' +\n",
       "            '<a target=\"_blank\" href=https://colab.research.google.com/notebooks/data_table.ipynb>data table notebook</a>'\n",
       "            + ' to learn more about interactive tables.';\n",
       "          element.innerHTML = '';\n",
       "          dataTable['output_type'] = 'display_data';\n",
       "          await google.colab.output.renderOutput(dataTable, element);\n",
       "          const docLink = document.createElement('div');\n",
       "          docLink.innerHTML = docLinkHtml;\n",
       "          element.appendChild(docLink);\n",
       "        }\n",
       "      </script>\n",
       "    </div>\n",
       "  </div>\n"
      ],
      "text/plain": [
       "            Writer                          Titles  \\\n",
       "0   Colleen Hoover               It Starts With Us   \n",
       "1  Charles Dickens            A Tale Of Two Cities   \n",
       "2  Charles Dickens            A Tale Of Two Cities   \n",
       "3     Reporter XYZ  News article (Hindustan Times)   \n",
       "4  Charles Dickens               David Copperfield   \n",
       "5      Oscar Wilde      The Picture of Dorian Gray   \n",
       "\n",
       "                                                Text  avg_syllable_count  \\\n",
       "0  \\nI wanted the day to go by faster, so I decid...            1.152685   \n",
       "1  \\nIt was the best of times, it was the worst o...            1.237201   \n",
       "2  \\nA large cask of wine had been dropped and br...            1.172945   \n",
       "3  \\nAfter receding for two days, the Yamuna wate...            1.284404   \n",
       "4  \\nTHE PERSONAL HISTORY AND EXPERIENCE OF DAVID...            1.250000   \n",
       "5  \\nCHAPTER I.\\nThe studio was filled with the r...            1.208697   \n",
       "\n",
       "   avg_wordlength  avg_sentlengthbyword  count_functionalwords  \\\n",
       "0        4.656085             12.680851               0.409396   \n",
       "1        6.398551             45.076923               0.455631   \n",
       "2        5.983165             38.933333               0.443493   \n",
       "3        6.132212             21.800000               0.318043   \n",
       "4        5.650000             34.000000               0.452206   \n",
       "5        4.976570             17.327465               0.426336   \n",
       "\n",
       "   punctuation_count_ratio  fleschreadingease    kincaid  gunningfogindex  \\\n",
       "0                 0.041584          65.581199  16.017496        21.288011   \n",
       "1                 0.027553         -58.134989  57.824783        62.788586   \n",
       "2                 0.034406         -54.531923  57.322227        62.516014   \n",
       "3                 0.023356          56.973360  12.867154        15.571708   \n",
       "4                 0.025941          46.053363  20.399971        26.382125   \n",
       "5                 0.033660          39.254854  22.941194        27.794844   \n",
       "\n",
       "   dalechallindex       yulek    herdan      maas     msttr     mattr  \\\n",
       "0        9.663180   92.417559  0.881066  0.018493  0.841667  0.830664   \n",
       "1       14.869525  136.809980  0.895989  0.016320  0.745455  0.774860   \n",
       "2       14.896424  133.771641  0.892549  0.016864  0.796364  0.803507   \n",
       "3       11.281413  116.079760  0.873510  0.019634  0.761667  0.778826   \n",
       "4        9.236601  123.364333  0.897953  0.018216  0.800000  0.799009   \n",
       "5        9.951368   87.777124  0.840156  0.018758  0.798400  0.800809   \n",
       "\n",
       "   simpsond  sem_spread  pos_sem_spread  \n",
       "0  0.009257    0.166902        0.101330  \n",
       "1  0.013704    0.192086        0.102178  \n",
       "2  0.013400    0.187983        0.121880  \n",
       "3  0.011626    0.168130        0.103134  \n",
       "4  0.012382    0.209186        0.092626  \n",
       "5  0.008779    0.175586        0.102582  "
      ]
     },
     "execution_count": 155,
     "metadata": {},
     "output_type": "execute_result"
    }
   ],
   "source": [
    "style_df"
   ]
  },
  {
   "cell_type": "code",
   "execution_count": null,
   "metadata": {
    "id": "LpLVJJgGWOOc"
   },
   "outputs": [],
   "source": [
    "style_df.to_csv('stylometric_features6.csv')"
   ]
  },
  {
   "cell_type": "markdown",
   "metadata": {
    "id": "s5iDV0IaXiRC"
   },
   "source": [
    "##LDA"
   ]
  },
  {
   "cell_type": "code",
   "execution_count": 16,
   "metadata": {
    "colab": {
     "base_uri": "https://localhost:8080/"
    },
    "executionInfo": {
     "elapsed": 11300,
     "status": "ok",
     "timestamp": 1689791428979,
     "user": {
      "displayName": "Urmi Dedhia",
      "userId": "04029137391343867476"
     },
     "user_tz": -330
    },
    "id": "4HOfFmtncvgp",
    "outputId": "07128d0e-0197-48af-b53d-b1530de771af"
   },
   "outputs": [
    {
     "name": "stdout",
     "output_type": "stream",
     "text": [
      "Requirement already satisfied: gensim in /usr/local/lib/python3.10/dist-packages (4.3.1)\n",
      "Requirement already satisfied: numpy>=1.18.5 in /usr/local/lib/python3.10/dist-packages (from gensim) (1.22.4)\n",
      "Requirement already satisfied: scipy>=1.7.0 in /usr/local/lib/python3.10/dist-packages (from gensim) (1.10.1)\n",
      "Requirement already satisfied: smart-open>=1.8.1 in /usr/local/lib/python3.10/dist-packages (from gensim) (6.3.0)\n"
     ]
    }
   ],
   "source": [
    "!pip install gensim"
   ]
  },
  {
   "cell_type": "code",
   "execution_count": 17,
   "metadata": {
    "executionInfo": {
     "elapsed": 1233,
     "status": "ok",
     "timestamp": 1689791463175,
     "user": {
      "displayName": "Urmi Dedhia",
      "userId": "04029137391343867476"
     },
     "user_tz": -330
    },
    "id": "9Ooh2gheXk8o"
   },
   "outputs": [],
   "source": [
    "import pandas as pd\n",
    "import matplotlib.pyplot as plt\n",
    "import gensim\n",
    "from gensim.utils import simple_preprocess\n",
    "from gensim.parsing.preprocessing import STOPWORDS\n",
    "from nltk.stem import WordNetLemmatizer\n",
    "from nltk.stem.porter import *\n",
    "\n",
    "df_sf = pd.read_csv('/content/drive/MyDrive/stylometric_features6.csv')\n"
   ]
  },
  {
   "cell_type": "code",
   "execution_count": 18,
   "metadata": {
    "executionInfo": {
     "elapsed": 2,
     "status": "ok",
     "timestamp": 1689791463551,
     "user": {
      "displayName": "Urmi Dedhia",
      "userId": "04029137391343867476"
     },
     "user_tz": -330
    },
    "id": "AF9ZmM0VX-J5"
   },
   "outputs": [],
   "source": [
    "def lemmatize_stemming(text):\n",
    "    wnl = WordNetLemmatizer()\n",
    "    lem_word = wnl.lemmatize(text)\n",
    "    ps = PorterStemmer()\n",
    "    lem_stemmed_word = ps.stem(lem_word)\n",
    "    return lem_word\n",
    "\n",
    "def preprocess(text):\n",
    "    result=[]\n",
    "    for token in gensim.utils.simple_preprocess(text) :\n",
    "        if token not in gensim.parsing.preprocessing.STOPWORDS:\n",
    "            result.append(lemmatize_stemming(token))\n",
    "    return result"
   ]
  },
  {
   "cell_type": "code",
   "execution_count": 66,
   "metadata": {
    "colab": {
     "base_uri": "https://localhost:8080/"
    },
    "executionInfo": {
     "elapsed": 4,
     "status": "ok",
     "timestamp": 1689793772388,
     "user": {
      "displayName": "Urmi Dedhia",
      "userId": "04029137391343867476"
     },
     "user_tz": -330
    },
    "id": "hW9ug-N0a92w",
    "outputId": "71604276-55fd-4cb1-8203-f86b967a321e"
   },
   "outputs": [
    {
     "name": "stdout",
     "output_type": "stream",
     "text": [
      "5913\n",
      "5577\n"
     ]
    }
   ],
   "source": [
    "print(len(word_tokenize(DG_text)))\n",
    "print(len(word_tokenize(DG_nl_en_text)))"
   ]
  },
  {
   "cell_type": "code",
   "execution_count": 72,
   "metadata": {
    "executionInfo": {
     "elapsed": 419,
     "status": "ok",
     "timestamp": 1689794082869,
     "user": {
      "displayName": "Urmi Dedhia",
      "userId": "04029137391343867476"
     },
     "user_tz": -330
    },
    "id": "Oa5XfX-Fk20K"
   },
   "outputs": [],
   "source": [
    "import re\n",
    "def remove_newlines(text):\n",
    "    cleaned_text = re.sub(r'\\n', '', text)\n",
    "    return cleaned_text"
   ]
  },
  {
   "cell_type": "code",
   "execution_count": 81,
   "metadata": {
    "executionInfo": {
     "elapsed": 416,
     "status": "ok",
     "timestamp": 1689794294424,
     "user": {
      "displayName": "Urmi Dedhia",
      "userId": "04029137391343867476"
     },
     "user_tz": -330
    },
    "id": "RWIg7gtKk3oJ"
   },
   "outputs": [],
   "source": [
    "text2 = remove_newlines(DG_nl_en_text)"
   ]
  },
  {
   "cell_type": "code",
   "execution_count": 82,
   "metadata": {
    "executionInfo": {
     "elapsed": 461,
     "status": "ok",
     "timestamp": 1689794302672,
     "user": {
      "displayName": "Urmi Dedhia",
      "userId": "04029137391343867476"
     },
     "user_tz": -330
    },
    "id": "1sNUNa7TceLb"
   },
   "outputs": [],
   "source": [
    "sents = sent_tokenize(DG_text)\n",
    "sents2 = sent_tokenize(text2)"
   ]
  },
  {
   "cell_type": "code",
   "execution_count": 83,
   "metadata": {
    "colab": {
     "base_uri": "https://localhost:8080/"
    },
    "executionInfo": {
     "elapsed": 3,
     "status": "ok",
     "timestamp": 1689794304338,
     "user": {
      "displayName": "Urmi Dedhia",
      "userId": "04029137391343867476"
     },
     "user_tz": -330
    },
    "id": "EU1DRbvUcehx",
    "outputId": "acd6c2a3-12d5-48c9-b8e9-a62454dc3a45"
   },
   "outputs": [
    {
     "name": "stdout",
     "output_type": "stream",
     "text": [
      "284\n",
      "95\n"
     ]
    }
   ],
   "source": [
    "print(len(sents))\n",
    "print(len(sents2))"
   ]
  },
  {
   "cell_type": "code",
   "execution_count": 88,
   "metadata": {
    "colab": {
     "base_uri": "https://localhost:8080/",
     "height": 35
    },
    "executionInfo": {
     "elapsed": 719,
     "status": "ok",
     "timestamp": 1689794362413,
     "user": {
      "displayName": "Urmi Dedhia",
      "userId": "04029137391343867476"
     },
     "user_tz": -330
    },
    "id": "NnJo0Sftjwi4",
    "outputId": "1b92cce4-ed36-4f27-e267-a57f01a4831d"
   },
   "outputs": [
    {
     "data": {
      "application/vnd.google.colaboratory.intrinsic+json": {
       "type": "string"
      },
      "text/plain": [
       "\"'I.'\""
      ]
     },
     "execution_count": 88,
     "metadata": {},
     "output_type": "execute_result"
    }
   ],
   "source": [
    "sents2[0]"
   ]
  },
  {
   "cell_type": "code",
   "execution_count": null,
   "metadata": {
    "id": "8NbEwUJBlhbN"
   },
   "outputs": [],
   "source": []
  },
  {
   "cell_type": "markdown",
   "metadata": {
    "id": "l8k3mMj2dTrb"
   },
   "source": [
    "###For first text"
   ]
  },
  {
   "cell_type": "code",
   "execution_count": 102,
   "metadata": {
    "executionInfo": {
     "elapsed": 637,
     "status": "ok",
     "timestamp": 1689794439644,
     "user": {
      "displayName": "Urmi Dedhia",
      "userId": "04029137391343867476"
     },
     "user_tz": -330
    },
    "id": "Rngh9sT6X-Mf"
   },
   "outputs": [],
   "source": [
    "# Preprocess the text data\n",
    "texts = [preprocess(text) for text in sents]\n",
    "\n",
    "combined_data = pd.DataFrame({'Text': texts})"
   ]
  },
  {
   "cell_type": "code",
   "execution_count": 103,
   "metadata": {
    "colab": {
     "base_uri": "https://localhost:8080/"
    },
    "executionInfo": {
     "elapsed": 3,
     "status": "ok",
     "timestamp": 1689794441261,
     "user": {
      "displayName": "Urmi Dedhia",
      "userId": "04029137391343867476"
     },
     "user_tz": -330
    },
    "id": "gaBjkcbia8-y",
    "outputId": "02e9b8dc-4838-493e-8ac9-0c196ecb8e8d"
   },
   "outputs": [
    {
     "data": {
      "text/plain": [
       "0                                              [chapter]\n",
       "1      [studio, filled, rich, odour, rose, light, sum...\n",
       "2      [corner, divan, persian, saddle, bag, lying, s...\n",
       "3      [sullen, murmur, bee, shouldering, way, long, ...\n",
       "4      [dim, roar, london, like, bourdon, note, dista...\n",
       "                             ...                        \n",
       "279                                     [influence, bad]\n",
       "280                    [world, wide, marvellous, people]\n",
       "281    [away, person, give, art, charm, posse, life, ...\n",
       "282     [mind, harry, trust, spoke, slowly, word, wrung]\n",
       "283    [nonsense, talk, said, lord, henry, smiling, t...\n",
       "Name: Text, Length: 284, dtype: object"
      ]
     },
     "execution_count": 103,
     "metadata": {},
     "output_type": "execute_result"
    }
   ],
   "source": [
    "combined_data['Text']"
   ]
  },
  {
   "cell_type": "code",
   "execution_count": 104,
   "metadata": {
    "executionInfo": {
     "elapsed": 3,
     "status": "ok",
     "timestamp": 1689794442652,
     "user": {
      "displayName": "Urmi Dedhia",
      "userId": "04029137391343867476"
     },
     "user_tz": -330
    },
    "id": "Zfh_G-WmcTus"
   },
   "outputs": [],
   "source": [
    "dictionary = gensim.corpora.Dictionary(combined_data['Text'])"
   ]
  },
  {
   "cell_type": "code",
   "execution_count": 105,
   "metadata": {
    "colab": {
     "base_uri": "https://localhost:8080/"
    },
    "executionInfo": {
     "elapsed": 4,
     "status": "ok",
     "timestamp": 1689794444245,
     "user": {
      "displayName": "Urmi Dedhia",
      "userId": "04029137391343867476"
     },
     "user_tz": -330
    },
    "id": "hF3b-_zAcT1L",
    "outputId": "e2040ce5-4707-409c-fbd5-cefc643717c7"
   },
   "outputs": [
    {
     "name": "stdout",
     "output_type": "stream",
     "text": [
      "Dictionary<975 unique tokens: ['chapter', 'amidst', 'came', 'delicate', 'door']...>\n",
      "0 chapter\n",
      "1 amidst\n",
      "2 came\n",
      "3 delicate\n",
      "4 door\n",
      "5 filled\n",
      "6 flowering\n",
      "7 garden\n",
      "8 heavy\n",
      "9 light\n",
      "10 lilac\n"
     ]
    }
   ],
   "source": [
    "print(dictionary)\n",
    "count = 0\n",
    "for k, v in dictionary.iteritems():\n",
    "    print(k, v)\n",
    "    count += 1\n",
    "    if count > 10:\n",
    "        break"
   ]
  },
  {
   "cell_type": "code",
   "execution_count": 106,
   "metadata": {
    "executionInfo": {
     "elapsed": 446,
     "status": "ok",
     "timestamp": 1689794447204,
     "user": {
      "displayName": "Urmi Dedhia",
      "userId": "04029137391343867476"
     },
     "user_tz": -330
    },
    "id": "vEYmKBbvfaB6"
   },
   "outputs": [],
   "source": [
    "bow_corpus = [dictionary.doc2bow(doc) for doc in combined_data['Text']]"
   ]
  },
  {
   "cell_type": "code",
   "execution_count": 107,
   "metadata": {
    "colab": {
     "base_uri": "https://localhost:8080/"
    },
    "executionInfo": {
     "elapsed": 2,
     "status": "ok",
     "timestamp": 1689794447598,
     "user": {
      "displayName": "Urmi Dedhia",
      "userId": "04029137391343867476"
     },
     "user_tz": -330
    },
    "id": "jc9bIOZUfbbC",
    "outputId": "490db6c7-e609-4aae-9493-9deed7672bea"
   },
   "outputs": [
    {
     "name": "stdout",
     "output_type": "stream",
     "text": [
      "Word 1 (\"amidst\") appears 1 time.\n",
      "Word 2 (\"came\") appears 1 time.\n",
      "Word 3 (\"delicate\") appears 1 time.\n",
      "Word 4 (\"door\") appears 1 time.\n",
      "Word 5 (\"filled\") appears 1 time.\n",
      "Word 6 (\"flowering\") appears 1 time.\n",
      "Word 7 (\"garden\") appears 1 time.\n",
      "Word 8 (\"heavy\") appears 1 time.\n",
      "Word 9 (\"light\") appears 1 time.\n",
      "Word 10 (\"lilac\") appears 1 time.\n",
      "Word 11 (\"odour\") appears 1 time.\n",
      "Word 12 (\"open\") appears 1 time.\n",
      "Word 13 (\"perfume\") appears 1 time.\n",
      "Word 14 (\"pink\") appears 1 time.\n",
      "Word 15 (\"rich\") appears 1 time.\n",
      "Word 16 (\"rose\") appears 1 time.\n",
      "Word 17 (\"scent\") appears 1 time.\n",
      "Word 18 (\"stirred\") appears 1 time.\n",
      "Word 19 (\"studio\") appears 1 time.\n",
      "Word 20 (\"summer\") appears 1 time.\n",
      "Word 21 (\"thorn\") appears 1 time.\n",
      "Word 22 (\"tree\") appears 1 time.\n",
      "Word 23 (\"wind\") appears 1 time.\n"
     ]
    }
   ],
   "source": [
    "bow_doc = bow_corpus[1]\n",
    "\n",
    "for i in range(len(bow_doc)):\n",
    "    print(\"Word {} (\\\"{}\\\") appears {} time.\".format(bow_doc[i][0],\n",
    "                                                     dictionary[bow_doc[i][0]],\n",
    "                                                     bow_doc[i][1]))"
   ]
  },
  {
   "cell_type": "code",
   "execution_count": 108,
   "metadata": {
    "colab": {
     "base_uri": "https://localhost:8080/"
    },
    "executionInfo": {
     "elapsed": 1233,
     "status": "ok",
     "timestamp": 1689794451503,
     "user": {
      "displayName": "Urmi Dedhia",
      "userId": "04029137391343867476"
     },
     "user_tz": -330
    },
    "id": "YCoXZtI5fbda",
    "outputId": "df51780b-2403-43f2-bcd1-783f2d6188c7"
   },
   "outputs": [
    {
     "name": "stderr",
     "output_type": "stream",
     "text": [
      "WARNING:gensim.models.ldamulticore:too few updates, training might not converge; consider increasing the number of passes or iterations to improve accuracy\n"
     ]
    }
   ],
   "source": [
    "lda_model = gensim.models.LdaMulticore(corpus=bow_corpus, num_topics=10, id2word = dictionary, chunksize=20000, passes=2, workers = 2)"
   ]
  },
  {
   "cell_type": "code",
   "execution_count": 109,
   "metadata": {
    "colab": {
     "base_uri": "https://localhost:8080/"
    },
    "executionInfo": {
     "elapsed": 3,
     "status": "ok",
     "timestamp": 1689794452010,
     "user": {
      "displayName": "Urmi Dedhia",
      "userId": "04029137391343867476"
     },
     "user_tz": -330
    },
    "id": "LhZWzAMOfbix",
    "outputId": "0449224a-b449-4177-f311-ce667a6d9838"
   },
   "outputs": [
    {
     "name": "stdout",
     "output_type": "stream",
     "text": [
      "Topic: 0 \n",
      "Words: 0.028*\"painter\" + 0.014*\"art\" + 0.009*\"life\" + 0.009*\"dorian\" + 0.009*\"tell\" + 0.009*\"wonder\" + 0.009*\"exquisite\" + 0.009*\"spirit\" + 0.009*\"school\" + 0.009*\"influence\"\n",
      "\n",
      "\n",
      "Topic: 1 \n",
      "Words: 0.022*\"thing\" + 0.014*\"lord\" + 0.013*\"said\" + 0.013*\"basil\" + 0.011*\"henry\" + 0.011*\"think\" + 0.010*\"best\" + 0.009*\"delightful\" + 0.009*\"yes\" + 0.007*\"world\"\n",
      "\n",
      "\n",
      "Topic: 2 \n",
      "Words: 0.013*\"art\" + 0.013*\"lord\" + 0.013*\"henry\" + 0.013*\"new\" + 0.012*\"day\" + 0.010*\"harry\" + 0.009*\"like\" + 0.008*\"thing\" + 0.008*\"dorian\" + 0.008*\"gray\"\n",
      "\n",
      "\n",
      "Topic: 3 \n",
      "Words: 0.019*\"face\" + 0.019*\"feel\" + 0.015*\"idea\" + 0.010*\"soul\" + 0.010*\"know\" + 0.010*\"time\" + 0.010*\"tell\" + 0.010*\"fatality\" + 0.010*\"intellectual\" + 0.010*\"art\"\n",
      "\n",
      "\n",
      "Topic: 4 \n",
      "Words: 0.023*\"know\" + 0.021*\"people\" + 0.015*\"harry\" + 0.013*\"look\" + 0.012*\"friend\" + 0.010*\"basil\" + 0.010*\"think\" + 0.010*\"life\" + 0.010*\"want\" + 0.010*\"thing\"\n",
      "\n",
      "\n",
      "Topic: 5 \n",
      "Words: 0.024*\"like\" + 0.015*\"gray\" + 0.013*\"dorian\" + 0.011*\"men\" + 0.011*\"harry\" + 0.011*\"romance\" + 0.010*\"shall\" + 0.010*\"told\" + 0.009*\"basil\" + 0.008*\"room\"\n",
      "\n",
      "\n",
      "Topic: 6 \n",
      "Words: 0.023*\"hallward\" + 0.020*\"face\" + 0.020*\"said\" + 0.016*\"good\" + 0.012*\"harry\" + 0.012*\"treat\" + 0.012*\"tell\" + 0.012*\"live\" + 0.011*\"know\" + 0.008*\"henry\"\n",
      "\n",
      "\n",
      "Topic: 7 \n",
      "Words: 0.017*\"like\" + 0.014*\"course\" + 0.011*\"won\" + 0.011*\"believe\" + 0.011*\"exhibit\" + 0.011*\"lord\" + 0.011*\"henry\" + 0.011*\"picture\" + 0.008*\"blue\" + 0.008*\"life\"\n",
      "\n",
      "\n",
      "Topic: 8 \n",
      "Words: 0.022*\"basil\" + 0.019*\"dear\" + 0.017*\"henry\" + 0.017*\"lord\" + 0.015*\"hallward\" + 0.013*\"fellow\" + 0.012*\"harry\" + 0.012*\"simply\" + 0.012*\"dorian\" + 0.012*\"gray\"\n",
      "\n",
      "\n",
      "Topic: 9 \n",
      "Words: 0.020*\"know\" + 0.014*\"real\" + 0.013*\"beauty\" + 0.010*\"brandon\" + 0.010*\"good\" + 0.010*\"lady\" + 0.010*\"asked\" + 0.010*\"time\" + 0.009*\"reason\" + 0.009*\"perfectly\"\n",
      "\n",
      "\n"
     ]
    }
   ],
   "source": [
    "for idx, topic in lda_model.print_topics(-1):\n",
    "    print(\"Topic: {} \\nWords: {}\".format(idx, topic))\n",
    "    print(\"\\n\")"
   ]
  },
  {
   "cell_type": "code",
   "execution_count": null,
   "metadata": {
    "id": "aJk0O2_EfblZ"
   },
   "outputs": [],
   "source": []
  },
  {
   "cell_type": "markdown",
   "metadata": {
    "id": "fcralSdDe0pb"
   },
   "source": [
    "###For second text"
   ]
  },
  {
   "cell_type": "code",
   "execution_count": 110,
   "metadata": {
    "executionInfo": {
     "elapsed": 410,
     "status": "ok",
     "timestamp": 1689794456107,
     "user": {
      "displayName": "Urmi Dedhia",
      "userId": "04029137391343867476"
     },
     "user_tz": -330
    },
    "id": "Fzhg661ze0pj"
   },
   "outputs": [],
   "source": [
    "# Preprocess the text data\n",
    "texts = [preprocess(text) for text in sents2]\n",
    "\n",
    "combined_data = pd.DataFrame({'Text': texts})"
   ]
  },
  {
   "cell_type": "code",
   "execution_count": 111,
   "metadata": {
    "colab": {
     "base_uri": "https://localhost:8080/"
    },
    "executionInfo": {
     "elapsed": 3,
     "status": "ok",
     "timestamp": 1689794457692,
     "user": {
      "displayName": "Urmi Dedhia",
      "userId": "04029137391343867476"
     },
     "user_tz": -330
    },
    "id": "orSjG5u1e0pk",
    "outputId": "47596ecb-5308-4cf9-f764-3c3f375406dc"
   },
   "outputs": [
    {
     "data": {
      "text/plain": [
       "0                                                    []\n",
       "1     [studio, rich, scent, rose, soon, light, summe...\n",
       "2     [corner, persischen, divan, smoke, usual, ciga...\n",
       "3     [middle, room, clamped, donkey, stood, portrai...\n",
       "4     [suddenly, raised, eye, closed, pressed, finge...\n",
       "                            ...                        \n",
       "90    [painter, turned, servant, winking, sun, quest...\n",
       "91                         [servant, bowed, went, path]\n",
       "92                         [basil, looked, lord, henry]\n",
       "93    [dorian, gray, best, friend, resumed, simple, ...\n",
       "94    [nonsense, said, lord, henry, smiling, hallwar...\n",
       "Name: Text, Length: 95, dtype: object"
      ]
     },
     "execution_count": 111,
     "metadata": {},
     "output_type": "execute_result"
    }
   ],
   "source": [
    "combined_data['Text']"
   ]
  },
  {
   "cell_type": "code",
   "execution_count": 112,
   "metadata": {
    "executionInfo": {
     "elapsed": 4,
     "status": "ok",
     "timestamp": 1689794461743,
     "user": {
      "displayName": "Urmi Dedhia",
      "userId": "04029137391343867476"
     },
     "user_tz": -330
    },
    "id": "VgT42ERue0pk"
   },
   "outputs": [],
   "source": [
    "dictionary = gensim.corpora.Dictionary(combined_data['Text'])"
   ]
  },
  {
   "cell_type": "code",
   "execution_count": 113,
   "metadata": {
    "colab": {
     "base_uri": "https://localhost:8080/"
    },
    "executionInfo": {
     "elapsed": 2,
     "status": "ok",
     "timestamp": 1689794463385,
     "user": {
      "displayName": "Urmi Dedhia",
      "userId": "04029137391343867476"
     },
     "user_tz": -330
    },
    "id": "ie69zGife0pk",
    "outputId": "62925a60-8f1b-4ddb-acc4-ca6c72684454"
   },
   "outputs": [
    {
     "name": "stdout",
     "output_type": "stream",
     "text": [
      "Dictionary<867 unique tokens: ['aroma', 'breath', 'came', 'door', 'finer']...>\n",
      "0 aroma\n",
      "1 breath\n",
      "2 came\n",
      "3 door\n",
      "4 finer\n",
      "5 flowering\n",
      "6 garden\n",
      "7 hawthorn\n",
      "8 heavy\n",
      "9 light\n",
      "10 lilac\n"
     ]
    }
   ],
   "source": [
    "print(dictionary)\n",
    "count = 0\n",
    "for k, v in dictionary.iteritems():\n",
    "    print(k, v)\n",
    "    count += 1\n",
    "    if count > 10:\n",
    "        break"
   ]
  },
  {
   "cell_type": "code",
   "execution_count": 114,
   "metadata": {
    "executionInfo": {
     "elapsed": 2,
     "status": "ok",
     "timestamp": 1689794465560,
     "user": {
      "displayName": "Urmi Dedhia",
      "userId": "04029137391343867476"
     },
     "user_tz": -330
    },
    "id": "eHe0mySSe0pk"
   },
   "outputs": [],
   "source": [
    "bow_corpus = [dictionary.doc2bow(doc) for doc in combined_data['Text']]"
   ]
  },
  {
   "cell_type": "code",
   "execution_count": 115,
   "metadata": {
    "colab": {
     "base_uri": "https://localhost:8080/"
    },
    "executionInfo": {
     "elapsed": 2,
     "status": "ok",
     "timestamp": 1689794466844,
     "user": {
      "displayName": "Urmi Dedhia",
      "userId": "04029137391343867476"
     },
     "user_tz": -330
    },
    "id": "brbxoRude0pk",
    "outputId": "99bed78d-0264-43a9-abc5-026f06f0715b"
   },
   "outputs": [
    {
     "name": "stdout",
     "output_type": "stream",
     "text": [
      "Word 0 (\"aroma\") appears 1 time.\n",
      "Word 1 (\"breath\") appears 1 time.\n",
      "Word 2 (\"came\") appears 1 time.\n",
      "Word 3 (\"door\") appears 1 time.\n",
      "Word 4 (\"finer\") appears 1 time.\n",
      "Word 5 (\"flowering\") appears 1 time.\n",
      "Word 6 (\"garden\") appears 1 time.\n",
      "Word 7 (\"hawthorn\") appears 1 time.\n",
      "Word 8 (\"heavy\") appears 1 time.\n",
      "Word 9 (\"light\") appears 1 time.\n",
      "Word 10 (\"lilac\") appears 1 time.\n",
      "Word 11 (\"open\") appears 1 time.\n",
      "Word 12 (\"pink\") appears 1 time.\n",
      "Word 13 (\"rich\") appears 1 time.\n",
      "Word 14 (\"rose\") appears 1 time.\n",
      "Word 15 (\"scent\") appears 1 time.\n",
      "Word 16 (\"soon\") appears 1 time.\n",
      "Word 17 (\"studio\") appears 1 time.\n",
      "Word 18 (\"summer\") appears 1 time.\n",
      "Word 19 (\"tree\") appears 1 time.\n",
      "Word 20 (\"vibrated\") appears 1 time.\n",
      "Word 21 (\"wind\") appears 1 time.\n"
     ]
    }
   ],
   "source": [
    "bow_doc = bow_corpus[1]\n",
    "\n",
    "for i in range(len(bow_doc)):\n",
    "    print(\"Word {} (\\\"{}\\\") appears {} time.\".format(bow_doc[i][0],\n",
    "                                                     dictionary[bow_doc[i][0]],\n",
    "                                                     bow_doc[i][1]))"
   ]
  },
  {
   "cell_type": "code",
   "execution_count": 116,
   "metadata": {
    "colab": {
     "base_uri": "https://localhost:8080/"
    },
    "executionInfo": {
     "elapsed": 412,
     "status": "ok",
     "timestamp": 1689794469317,
     "user": {
      "displayName": "Urmi Dedhia",
      "userId": "04029137391343867476"
     },
     "user_tz": -330
    },
    "id": "JQL8m29je0pk",
    "outputId": "b611c367-3fff-41f5-e468-efa966c4fbc6"
   },
   "outputs": [
    {
     "name": "stderr",
     "output_type": "stream",
     "text": [
      "WARNING:gensim.models.ldamulticore:too few updates, training might not converge; consider increasing the number of passes or iterations to improve accuracy\n"
     ]
    }
   ],
   "source": [
    "lda_model2 = gensim.models.LdaMulticore(corpus=bow_corpus, num_topics=10, id2word = dictionary, chunksize=20000, passes=2, workers = 2)"
   ]
  },
  {
   "cell_type": "code",
   "execution_count": 117,
   "metadata": {
    "colab": {
     "base_uri": "https://localhost:8080/"
    },
    "executionInfo": {
     "elapsed": 5,
     "status": "ok",
     "timestamp": 1689794470858,
     "user": {
      "displayName": "Urmi Dedhia",
      "userId": "04029137391343867476"
     },
     "user_tz": -330
    },
    "id": "GS8_aa-Ce0pl",
    "outputId": "108f64c7-6365-40c4-d785-a608b0db1bf3"
   },
   "outputs": [
    {
     "name": "stdout",
     "output_type": "stream",
     "text": [
      "Topic: 0 \n",
      "Words: 0.018*\"art\" + 0.013*\"know\" + 0.012*\"thing\" + 0.011*\"new\" + 0.010*\"dorian\" + 0.009*\"said\" + 0.009*\"gray\" + 0.009*\"pleasure\" + 0.009*\"nicely\" + 0.009*\"love\"\n",
      "\n",
      "\n",
      "Topic: 1 \n",
      "Words: 0.030*\"know\" + 0.018*\"basil\" + 0.017*\"good\" + 0.016*\"gray\" + 0.016*\"dorian\" + 0.014*\"said\" + 0.014*\"harry\" + 0.012*\"best\" + 0.011*\"lord\" + 0.010*\"believe\"\n",
      "\n",
      "\n",
      "Topic: 2 \n",
      "Words: 0.018*\"like\" + 0.013*\"know\" + 0.012*\"look\" + 0.012*\"wife\" + 0.011*\"novel\" + 0.011*\"world\" + 0.010*\"art\" + 0.010*\"live\" + 0.010*\"life\" + 0.009*\"brain\"\n",
      "\n",
      "\n",
      "Topic: 3 \n",
      "Words: 0.018*\"believe\" + 0.014*\"said\" + 0.014*\"harry\" + 0.013*\"lord\" + 0.013*\"people\" + 0.013*\"hallward\" + 0.013*\"henry\" + 0.010*\"came\" + 0.009*\"basil\" + 0.007*\"day\"\n",
      "\n",
      "\n",
      "Topic: 4 \n",
      "Words: 0.015*\"dorian\" + 0.015*\"gray\" + 0.015*\"think\" + 0.014*\"like\" + 0.014*\"look\" + 0.012*\"basil\" + 0.010*\"friend\" + 0.010*\"came\" + 0.010*\"feel\" + 0.010*\"know\"\n",
      "\n",
      "\n",
      "Topic: 5 \n",
      "Words: 0.015*\"gray\" + 0.015*\"painter\" + 0.011*\"face\" + 0.010*\"know\" + 0.010*\"dorian\" + 0.010*\"art\" + 0.010*\"people\" + 0.010*\"said\" + 0.010*\"room\" + 0.010*\"lady\"\n",
      "\n",
      "\n",
      "Topic: 6 \n",
      "Words: 0.029*\"painter\" + 0.022*\"harry\" + 0.022*\"said\" + 0.018*\"portrait\" + 0.016*\"want\" + 0.014*\"reason\" + 0.010*\"lord\" + 0.010*\"henry\" + 0.010*\"think\" + 0.010*\"love\"\n",
      "\n",
      "\n",
      "Topic: 7 \n",
      "Words: 0.021*\"lord\" + 0.021*\"henry\" + 0.012*\"laughed\" + 0.010*\"hallward\" + 0.010*\"garden\" + 0.009*\"went\" + 0.009*\"frown\" + 0.009*\"early\" + 0.009*\"light\" + 0.009*\"daisives\"\n",
      "\n",
      "\n",
      "Topic: 8 \n",
      "Words: 0.019*\"thought\" + 0.014*\"hallward\" + 0.014*\"lord\" + 0.010*\"life\" + 0.010*\"said\" + 0.010*\"aunt\" + 0.010*\"face\" + 0.010*\"pleasant\" + 0.010*\"henry\" + 0.006*\"told\"\n",
      "\n",
      "\n",
      "Topic: 9 \n",
      "Words: 0.020*\"broêrs\" + 0.018*\"said\" + 0.014*\"boy\" + 0.014*\"dear\" + 0.014*\"hold\" + 0.013*\"want\" + 0.012*\"time\" + 0.008*\"dorian\" + 0.008*\"gray\" + 0.007*\"looked\"\n",
      "\n",
      "\n"
     ]
    }
   ],
   "source": [
    "for idx, topic in lda_model2.print_topics(-1):\n",
    "    print(\"Topic: {} \\nWords: {}\".format(idx, topic))\n",
    "    print(\"\\n\")"
   ]
  },
  {
   "cell_type": "code",
   "execution_count": null,
   "metadata": {
    "id": "hiYirQ4kfbn-"
   },
   "outputs": [],
   "source": []
  },
  {
   "cell_type": "code",
   "execution_count": 125,
   "metadata": {
    "colab": {
     "base_uri": "https://localhost:8080/"
    },
    "executionInfo": {
     "elapsed": 4,
     "status": "ok",
     "timestamp": 1689794542842,
     "user": {
      "displayName": "Urmi Dedhia",
      "userId": "04029137391343867476"
     },
     "user_tz": -330
    },
    "id": "mG_12tHxfbra",
    "outputId": "985f13f6-b9f1-4e4c-81ca-c692b441a173"
   },
   "outputs": [
    {
     "name": "stdout",
     "output_type": "stream",
     "text": [
      "[(0, '0.028*\"painter\" + 0.014*\"art\" + 0.009*\"life\" + 0.009*\"dorian\" + 0.009*\"tell\" + 0.009*\"wonder\" + 0.009*\"exquisite\" + 0.009*\"spirit\" + 0.009*\"school\" + 0.009*\"influence\"'), (1, '0.022*\"thing\" + 0.014*\"lord\" + 0.013*\"said\" + 0.013*\"basil\" + 0.011*\"henry\" + 0.011*\"think\" + 0.010*\"best\" + 0.009*\"delightful\" + 0.009*\"yes\" + 0.007*\"world\"'), (2, '0.013*\"art\" + 0.013*\"lord\" + 0.013*\"henry\" + 0.013*\"new\" + 0.012*\"day\" + 0.010*\"harry\" + 0.009*\"like\" + 0.008*\"thing\" + 0.008*\"dorian\" + 0.008*\"gray\"'), (3, '0.019*\"face\" + 0.019*\"feel\" + 0.015*\"idea\" + 0.010*\"soul\" + 0.010*\"know\" + 0.010*\"time\" + 0.010*\"tell\" + 0.010*\"fatality\" + 0.010*\"intellectual\" + 0.010*\"art\"'), (4, '0.023*\"know\" + 0.021*\"people\" + 0.015*\"harry\" + 0.013*\"look\" + 0.012*\"friend\" + 0.010*\"basil\" + 0.010*\"think\" + 0.010*\"life\" + 0.010*\"want\" + 0.010*\"thing\"'), (5, '0.024*\"like\" + 0.015*\"gray\" + 0.013*\"dorian\" + 0.011*\"men\" + 0.011*\"harry\" + 0.011*\"romance\" + 0.010*\"shall\" + 0.010*\"told\" + 0.009*\"basil\" + 0.008*\"room\"'), (6, '0.023*\"hallward\" + 0.020*\"face\" + 0.020*\"said\" + 0.016*\"good\" + 0.012*\"harry\" + 0.012*\"treat\" + 0.012*\"tell\" + 0.012*\"live\" + 0.011*\"know\" + 0.008*\"henry\"'), (7, '0.017*\"like\" + 0.014*\"course\" + 0.011*\"won\" + 0.011*\"believe\" + 0.011*\"exhibit\" + 0.011*\"lord\" + 0.011*\"henry\" + 0.011*\"picture\" + 0.008*\"blue\" + 0.008*\"life\"'), (8, '0.022*\"basil\" + 0.019*\"dear\" + 0.017*\"henry\" + 0.017*\"lord\" + 0.015*\"hallward\" + 0.013*\"fellow\" + 0.012*\"harry\" + 0.012*\"simply\" + 0.012*\"dorian\" + 0.012*\"gray\"'), (9, '0.020*\"know\" + 0.014*\"real\" + 0.013*\"beauty\" + 0.010*\"brandon\" + 0.010*\"good\" + 0.010*\"lady\" + 0.010*\"asked\" + 0.010*\"time\" + 0.009*\"reason\" + 0.009*\"perfectly\"')]\n",
      "[(0, '0.018*\"art\" + 0.013*\"know\" + 0.012*\"thing\" + 0.011*\"new\" + 0.010*\"dorian\" + 0.009*\"said\" + 0.009*\"gray\" + 0.009*\"pleasure\" + 0.009*\"nicely\" + 0.009*\"love\"'), (1, '0.030*\"know\" + 0.018*\"basil\" + 0.017*\"good\" + 0.016*\"gray\" + 0.016*\"dorian\" + 0.014*\"said\" + 0.014*\"harry\" + 0.012*\"best\" + 0.011*\"lord\" + 0.010*\"believe\"'), (2, '0.018*\"like\" + 0.013*\"know\" + 0.012*\"look\" + 0.012*\"wife\" + 0.011*\"novel\" + 0.011*\"world\" + 0.010*\"art\" + 0.010*\"live\" + 0.010*\"life\" + 0.009*\"brain\"'), (3, '0.018*\"believe\" + 0.014*\"said\" + 0.014*\"harry\" + 0.013*\"lord\" + 0.013*\"people\" + 0.013*\"hallward\" + 0.013*\"henry\" + 0.010*\"came\" + 0.009*\"basil\" + 0.007*\"day\"'), (4, '0.015*\"dorian\" + 0.015*\"gray\" + 0.015*\"think\" + 0.014*\"like\" + 0.014*\"look\" + 0.012*\"basil\" + 0.010*\"friend\" + 0.010*\"came\" + 0.010*\"feel\" + 0.010*\"know\"'), (5, '0.015*\"gray\" + 0.015*\"painter\" + 0.011*\"face\" + 0.010*\"know\" + 0.010*\"dorian\" + 0.010*\"art\" + 0.010*\"people\" + 0.010*\"said\" + 0.010*\"room\" + 0.010*\"lady\"'), (6, '0.029*\"painter\" + 0.022*\"harry\" + 0.022*\"said\" + 0.018*\"portrait\" + 0.016*\"want\" + 0.014*\"reason\" + 0.010*\"lord\" + 0.010*\"henry\" + 0.010*\"think\" + 0.010*\"love\"'), (7, '0.021*\"lord\" + 0.021*\"henry\" + 0.012*\"laughed\" + 0.010*\"hallward\" + 0.010*\"garden\" + 0.009*\"went\" + 0.009*\"frown\" + 0.009*\"early\" + 0.009*\"light\" + 0.009*\"daisives\"'), (8, '0.019*\"thought\" + 0.014*\"hallward\" + 0.014*\"lord\" + 0.010*\"life\" + 0.010*\"said\" + 0.010*\"aunt\" + 0.010*\"face\" + 0.010*\"pleasant\" + 0.010*\"henry\" + 0.006*\"told\"'), (9, '0.020*\"broêrs\" + 0.018*\"said\" + 0.014*\"boy\" + 0.014*\"dear\" + 0.014*\"hold\" + 0.013*\"want\" + 0.012*\"time\" + 0.008*\"dorian\" + 0.008*\"gray\" + 0.007*\"looked\"')]\n"
     ]
    }
   ],
   "source": [
    "print(lda_model.print_topics(-1))\n",
    "print(lda_model2.print_topics(-1))"
   ]
  },
  {
   "cell_type": "code",
   "execution_count": null,
   "metadata": {
    "id": "efKQjxGjcT56"
   },
   "outputs": [],
   "source": [
    "pip install pyldavis"
   ]
  },
  {
   "cell_type": "code",
   "execution_count": 129,
   "metadata": {
    "colab": {
     "base_uri": "https://localhost:8080/"
    },
    "executionInfo": {
     "elapsed": 7,
     "status": "ok",
     "timestamp": 1689796647057,
     "user": {
      "displayName": "Urmi Dedhia",
      "userId": "04029137391343867476"
     },
     "user_tz": -330
    },
    "id": "FW_5tVObuoSZ",
    "outputId": "13e05ca2-7eb9-47df-89d0-b9b91a25fcf6"
   },
   "outputs": [
    {
     "name": "stderr",
     "output_type": "stream",
     "text": [
      "/usr/local/lib/python3.10/dist-packages/ipykernel/ipkernel.py:283: DeprecationWarning: `should_run_async` will not call `transform_cell` automatically in the future. Please pass the result to `transformed_cell` argument and any exception that happen during thetransform in `preprocessing_exc_tuple` in IPython 7.17 and above.\n",
      "  and should_run_async(code)\n"
     ]
    }
   ],
   "source": [
    "import os"
   ]
  },
  {
   "cell_type": "code",
   "execution_count": 132,
   "metadata": {
    "colab": {
     "base_uri": "https://localhost:8080/"
    },
    "executionInfo": {
     "elapsed": 3,
     "status": "ok",
     "timestamp": 1689796802801,
     "user": {
      "displayName": "Urmi Dedhia",
      "userId": "04029137391343867476"
     },
     "user_tz": -330
    },
    "id": "Bc9IUD-puL2q",
    "outputId": "2baf0903-0138-430f-a733-b98e6c9f7f5a"
   },
   "outputs": [
    {
     "name": "stdout",
     "output_type": "stream",
     "text": [
      "1.5.3\n"
     ]
    },
    {
     "name": "stderr",
     "output_type": "stream",
     "text": [
      "/usr/local/lib/python3.10/dist-packages/ipykernel/ipkernel.py:283: DeprecationWarning: `should_run_async` will not call `transform_cell` automatically in the future. Please pass the result to `transformed_cell` argument and any exception that happen during thetransform in `preprocessing_exc_tuple` in IPython 7.17 and above.\n",
      "  and should_run_async(code)\n"
     ]
    }
   ],
   "source": [
    "num_topics=10"
   ]
  },
  {
   "cell_type": "code",
   "execution_count": 130,
   "metadata": {
    "colab": {
     "base_uri": "https://localhost:8080/",
     "height": 696
    },
    "executionInfo": {
     "elapsed": 3286,
     "status": "error",
     "timestamp": 1689796653266,
     "user": {
      "displayName": "Urmi Dedhia",
      "userId": "04029137391343867476"
     },
     "user_tz": -330
    },
    "id": "g4Qxj5uBX-S5",
    "outputId": "935940b5-974e-427b-b594-aa4c71379a42"
   },
   "outputs": [
    {
     "name": "stderr",
     "output_type": "stream",
     "text": [
      "/usr/local/lib/python3.10/dist-packages/ipykernel/ipkernel.py:283: DeprecationWarning: `should_run_async` will not call `transform_cell` automatically in the future. Please pass the result to `transformed_cell` argument and any exception that happen during thetransform in `preprocessing_exc_tuple` in IPython 7.17 and above.\n",
      "  and should_run_async(code)\n"
     ]
    },
    {
     "ename": "BrokenProcessPool",
     "evalue": "ignored",
     "output_type": "error",
     "traceback": [
      "\u001b[0;31m---------------------------------------------------------------------------\u001b[0m",
      "\u001b[0;31m_RemoteTraceback\u001b[0m                          Traceback (most recent call last)",
      "\u001b[0;31m_RemoteTraceback\u001b[0m: \n\"\"\"\nTraceback (most recent call last):\n  File \"/usr/local/lib/python3.10/dist-packages/joblib/externals/loky/process_executor.py\", line 426, in _process_worker\n    call_item = call_queue.get(block=True, timeout=timeout)\n  File \"/usr/lib/python3.10/multiprocessing/queues.py\", line 122, in get\n    return _ForkingPickler.loads(res)\nModuleNotFoundError: No module named 'pandas.core.indexes.numeric'\n\"\"\"",
      "\nThe above exception was the direct cause of the following exception:\n",
      "\u001b[0;31mBrokenProcessPool\u001b[0m                         Traceback (most recent call last)",
      "\u001b[0;32m<ipython-input-130-347fa29c2667>\u001b[0m in \u001b[0;36m<cell line: 9>\u001b[0;34m()\u001b[0m\n\u001b[1;32m      8\u001b[0m \u001b[0;31m# # if you want to execute visualization prep yourself\u001b[0m\u001b[0;34m\u001b[0m\u001b[0;34m\u001b[0m\u001b[0m\n\u001b[1;32m      9\u001b[0m \u001b[0;32mif\u001b[0m \u001b[0;36m1\u001b[0m \u001b[0;34m==\u001b[0m \u001b[0;36m1\u001b[0m\u001b[0;34m:\u001b[0m\u001b[0;34m\u001b[0m\u001b[0;34m\u001b[0m\u001b[0m\n\u001b[0;32m---> 10\u001b[0;31m     \u001b[0mLDAvis_prepared\u001b[0m \u001b[0;34m=\u001b[0m \u001b[0mpyLDAvis\u001b[0m\u001b[0;34m.\u001b[0m\u001b[0mgensim\u001b[0m\u001b[0;34m.\u001b[0m\u001b[0mprepare\u001b[0m\u001b[0;34m(\u001b[0m\u001b[0mlda_model2\u001b[0m\u001b[0;34m,\u001b[0m \u001b[0mbow_corpus\u001b[0m\u001b[0;34m,\u001b[0m \u001b[0mdictionary\u001b[0m\u001b[0;34m)\u001b[0m\u001b[0;34m\u001b[0m\u001b[0;34m\u001b[0m\u001b[0m\n\u001b[0m\u001b[1;32m     11\u001b[0m     \u001b[0;32mwith\u001b[0m \u001b[0mopen\u001b[0m\u001b[0;34m(\u001b[0m\u001b[0mLDAvis_data_filepath\u001b[0m\u001b[0;34m,\u001b[0m \u001b[0;34m'wb'\u001b[0m\u001b[0;34m)\u001b[0m \u001b[0;32mas\u001b[0m \u001b[0mf\u001b[0m\u001b[0;34m:\u001b[0m\u001b[0;34m\u001b[0m\u001b[0;34m\u001b[0m\u001b[0m\n\u001b[1;32m     12\u001b[0m         \u001b[0mpickle\u001b[0m\u001b[0;34m.\u001b[0m\u001b[0mdump\u001b[0m\u001b[0;34m(\u001b[0m\u001b[0mLDAvis_prepared\u001b[0m\u001b[0;34m,\u001b[0m \u001b[0mf\u001b[0m\u001b[0;34m)\u001b[0m\u001b[0;34m\u001b[0m\u001b[0;34m\u001b[0m\u001b[0m\n",
      "\u001b[0;32m/usr/local/lib/python3.10/dist-packages/pyLDAvis/gensim.py\u001b[0m in \u001b[0;36mprepare\u001b[0;34m(topic_model, corpus, dictionary, doc_topic_dist, **kwargs)\u001b[0m\n\u001b[1;32m    121\u001b[0m     \"\"\"\n\u001b[1;32m    122\u001b[0m     \u001b[0mopts\u001b[0m \u001b[0;34m=\u001b[0m \u001b[0mfp\u001b[0m\u001b[0;34m.\u001b[0m\u001b[0mmerge\u001b[0m\u001b[0;34m(\u001b[0m\u001b[0m_extract_data\u001b[0m\u001b[0;34m(\u001b[0m\u001b[0mtopic_model\u001b[0m\u001b[0;34m,\u001b[0m \u001b[0mcorpus\u001b[0m\u001b[0;34m,\u001b[0m \u001b[0mdictionary\u001b[0m\u001b[0;34m,\u001b[0m \u001b[0mdoc_topic_dist\u001b[0m\u001b[0;34m)\u001b[0m\u001b[0;34m,\u001b[0m \u001b[0mkwargs\u001b[0m\u001b[0;34m)\u001b[0m\u001b[0;34m\u001b[0m\u001b[0;34m\u001b[0m\u001b[0m\n\u001b[0;32m--> 123\u001b[0;31m     \u001b[0;32mreturn\u001b[0m \u001b[0mvis_prepare\u001b[0m\u001b[0;34m(\u001b[0m\u001b[0;34m**\u001b[0m\u001b[0mopts\u001b[0m\u001b[0;34m)\u001b[0m\u001b[0;34m\u001b[0m\u001b[0;34m\u001b[0m\u001b[0m\n\u001b[0m",
      "\u001b[0;32m/usr/local/lib/python3.10/dist-packages/pyLDAvis/_prepare.py\u001b[0m in \u001b[0;36mprepare\u001b[0;34m(topic_term_dists, doc_topic_dists, doc_lengths, vocab, term_frequency, R, lambda_step, mds, n_jobs, plot_opts, sort_topics, start_index)\u001b[0m\n\u001b[1;32m    430\u001b[0m     \u001b[0mterm_frequency\u001b[0m \u001b[0;34m=\u001b[0m \u001b[0mnp\u001b[0m\u001b[0;34m.\u001b[0m\u001b[0msum\u001b[0m\u001b[0;34m(\u001b[0m\u001b[0mterm_topic_freq\u001b[0m\u001b[0;34m,\u001b[0m \u001b[0maxis\u001b[0m\u001b[0;34m=\u001b[0m\u001b[0;36m0\u001b[0m\u001b[0;34m)\u001b[0m\u001b[0;34m\u001b[0m\u001b[0;34m\u001b[0m\u001b[0m\n\u001b[1;32m    431\u001b[0m \u001b[0;34m\u001b[0m\u001b[0m\n\u001b[0;32m--> 432\u001b[0;31m     topic_info = _topic_info(topic_term_dists, topic_proportion,\n\u001b[0m\u001b[1;32m    433\u001b[0m                              \u001b[0mterm_frequency\u001b[0m\u001b[0;34m,\u001b[0m \u001b[0mterm_topic_freq\u001b[0m\u001b[0;34m,\u001b[0m \u001b[0mvocab\u001b[0m\u001b[0;34m,\u001b[0m \u001b[0mlambda_step\u001b[0m\u001b[0;34m,\u001b[0m \u001b[0mR\u001b[0m\u001b[0;34m,\u001b[0m\u001b[0;34m\u001b[0m\u001b[0;34m\u001b[0m\u001b[0m\n\u001b[1;32m    434\u001b[0m                              n_jobs, start_index)\n",
      "\u001b[0;32m/usr/local/lib/python3.10/dist-packages/pyLDAvis/_prepare.py\u001b[0m in \u001b[0;36m_topic_info\u001b[0;34m(topic_term_dists, topic_proportion, term_frequency, term_topic_freq, vocab, lambda_step, R, n_jobs, start_index)\u001b[0m\n\u001b[1;32m    271\u001b[0m         ])\n\u001b[1;32m    272\u001b[0m \u001b[0;34m\u001b[0m\u001b[0m\n\u001b[0;32m--> 273\u001b[0;31m     top_terms = pd.concat(Parallel(n_jobs=n_jobs)\n\u001b[0m\u001b[1;32m    274\u001b[0m                           (delayed(_find_relevance_chunks)(log_ttd, log_lift, R, ls)\n\u001b[1;32m    275\u001b[0m                           for ls in _job_chunks(lambda_seq, n_jobs)))\n",
      "\u001b[0;32m/usr/local/lib/python3.10/dist-packages/joblib/parallel.py\u001b[0m in \u001b[0;36m__call__\u001b[0;34m(self, iterable)\u001b[0m\n\u001b[1;32m   1942\u001b[0m         \u001b[0mnext\u001b[0m\u001b[0;34m(\u001b[0m\u001b[0moutput\u001b[0m\u001b[0;34m)\u001b[0m\u001b[0;34m\u001b[0m\u001b[0;34m\u001b[0m\u001b[0m\n\u001b[1;32m   1943\u001b[0m \u001b[0;34m\u001b[0m\u001b[0m\n\u001b[0;32m-> 1944\u001b[0;31m         \u001b[0;32mreturn\u001b[0m \u001b[0moutput\u001b[0m \u001b[0;32mif\u001b[0m \u001b[0mself\u001b[0m\u001b[0;34m.\u001b[0m\u001b[0mreturn_generator\u001b[0m \u001b[0;32melse\u001b[0m \u001b[0mlist\u001b[0m\u001b[0;34m(\u001b[0m\u001b[0moutput\u001b[0m\u001b[0;34m)\u001b[0m\u001b[0;34m\u001b[0m\u001b[0;34m\u001b[0m\u001b[0m\n\u001b[0m\u001b[1;32m   1945\u001b[0m \u001b[0;34m\u001b[0m\u001b[0m\n\u001b[1;32m   1946\u001b[0m     \u001b[0;32mdef\u001b[0m \u001b[0m__repr__\u001b[0m\u001b[0;34m(\u001b[0m\u001b[0mself\u001b[0m\u001b[0;34m)\u001b[0m\u001b[0;34m:\u001b[0m\u001b[0;34m\u001b[0m\u001b[0;34m\u001b[0m\u001b[0m\n",
      "\u001b[0;32m/usr/local/lib/python3.10/dist-packages/joblib/parallel.py\u001b[0m in \u001b[0;36m_get_outputs\u001b[0;34m(self, iterator, pre_dispatch)\u001b[0m\n\u001b[1;32m   1585\u001b[0m \u001b[0;34m\u001b[0m\u001b[0m\n\u001b[1;32m   1586\u001b[0m             \u001b[0;32mwith\u001b[0m \u001b[0mself\u001b[0m\u001b[0;34m.\u001b[0m\u001b[0m_backend\u001b[0m\u001b[0;34m.\u001b[0m\u001b[0mretrieval_context\u001b[0m\u001b[0;34m(\u001b[0m\u001b[0;34m)\u001b[0m\u001b[0;34m:\u001b[0m\u001b[0;34m\u001b[0m\u001b[0;34m\u001b[0m\u001b[0m\n\u001b[0;32m-> 1587\u001b[0;31m                 \u001b[0;32myield\u001b[0m \u001b[0;32mfrom\u001b[0m \u001b[0mself\u001b[0m\u001b[0;34m.\u001b[0m\u001b[0m_retrieve\u001b[0m\u001b[0;34m(\u001b[0m\u001b[0;34m)\u001b[0m\u001b[0;34m\u001b[0m\u001b[0;34m\u001b[0m\u001b[0m\n\u001b[0m\u001b[1;32m   1588\u001b[0m \u001b[0;34m\u001b[0m\u001b[0m\n\u001b[1;32m   1589\u001b[0m         \u001b[0;32mexcept\u001b[0m \u001b[0mGeneratorExit\u001b[0m\u001b[0;34m:\u001b[0m\u001b[0;34m\u001b[0m\u001b[0;34m\u001b[0m\u001b[0m\n",
      "\u001b[0;32m/usr/local/lib/python3.10/dist-packages/joblib/parallel.py\u001b[0m in \u001b[0;36m_retrieve\u001b[0;34m(self)\u001b[0m\n\u001b[1;32m   1689\u001b[0m             \u001b[0;31m# worker traceback.\u001b[0m\u001b[0;34m\u001b[0m\u001b[0;34m\u001b[0m\u001b[0m\n\u001b[1;32m   1690\u001b[0m             \u001b[0;32mif\u001b[0m \u001b[0mself\u001b[0m\u001b[0;34m.\u001b[0m\u001b[0m_aborting\u001b[0m\u001b[0;34m:\u001b[0m\u001b[0;34m\u001b[0m\u001b[0;34m\u001b[0m\u001b[0m\n\u001b[0;32m-> 1691\u001b[0;31m                 \u001b[0mself\u001b[0m\u001b[0;34m.\u001b[0m\u001b[0m_raise_error_fast\u001b[0m\u001b[0;34m(\u001b[0m\u001b[0;34m)\u001b[0m\u001b[0;34m\u001b[0m\u001b[0;34m\u001b[0m\u001b[0m\n\u001b[0m\u001b[1;32m   1692\u001b[0m                 \u001b[0;32mbreak\u001b[0m\u001b[0;34m\u001b[0m\u001b[0;34m\u001b[0m\u001b[0m\n\u001b[1;32m   1693\u001b[0m \u001b[0;34m\u001b[0m\u001b[0m\n",
      "\u001b[0;32m/usr/local/lib/python3.10/dist-packages/joblib/parallel.py\u001b[0m in \u001b[0;36m_raise_error_fast\u001b[0;34m(self)\u001b[0m\n\u001b[1;32m   1724\u001b[0m         \u001b[0;31m# called directly or if the generator is gc'ed.\u001b[0m\u001b[0;34m\u001b[0m\u001b[0;34m\u001b[0m\u001b[0m\n\u001b[1;32m   1725\u001b[0m         \u001b[0;32mif\u001b[0m \u001b[0merror_job\u001b[0m \u001b[0;32mis\u001b[0m \u001b[0;32mnot\u001b[0m \u001b[0;32mNone\u001b[0m\u001b[0;34m:\u001b[0m\u001b[0;34m\u001b[0m\u001b[0;34m\u001b[0m\u001b[0m\n\u001b[0;32m-> 1726\u001b[0;31m             \u001b[0merror_job\u001b[0m\u001b[0;34m.\u001b[0m\u001b[0mget_result\u001b[0m\u001b[0;34m(\u001b[0m\u001b[0mself\u001b[0m\u001b[0;34m.\u001b[0m\u001b[0mtimeout\u001b[0m\u001b[0;34m)\u001b[0m\u001b[0;34m\u001b[0m\u001b[0;34m\u001b[0m\u001b[0m\n\u001b[0m\u001b[1;32m   1727\u001b[0m \u001b[0;34m\u001b[0m\u001b[0m\n\u001b[1;32m   1728\u001b[0m     \u001b[0;32mdef\u001b[0m \u001b[0m_warn_exit_early\u001b[0m\u001b[0;34m(\u001b[0m\u001b[0mself\u001b[0m\u001b[0;34m)\u001b[0m\u001b[0;34m:\u001b[0m\u001b[0;34m\u001b[0m\u001b[0;34m\u001b[0m\u001b[0m\n",
      "\u001b[0;32m/usr/local/lib/python3.10/dist-packages/joblib/parallel.py\u001b[0m in \u001b[0;36mget_result\u001b[0;34m(self, timeout)\u001b[0m\n\u001b[1;32m    733\u001b[0m             \u001b[0;31m# callback thread, and is stored internally. It's just waiting to\u001b[0m\u001b[0;34m\u001b[0m\u001b[0;34m\u001b[0m\u001b[0m\n\u001b[1;32m    734\u001b[0m             \u001b[0;31m# be returned.\u001b[0m\u001b[0;34m\u001b[0m\u001b[0;34m\u001b[0m\u001b[0m\n\u001b[0;32m--> 735\u001b[0;31m             \u001b[0;32mreturn\u001b[0m \u001b[0mself\u001b[0m\u001b[0;34m.\u001b[0m\u001b[0m_return_or_raise\u001b[0m\u001b[0;34m(\u001b[0m\u001b[0;34m)\u001b[0m\u001b[0;34m\u001b[0m\u001b[0;34m\u001b[0m\u001b[0m\n\u001b[0m\u001b[1;32m    736\u001b[0m \u001b[0;34m\u001b[0m\u001b[0m\n\u001b[1;32m    737\u001b[0m         \u001b[0;31m# For other backends, the main thread needs to run the retrieval step.\u001b[0m\u001b[0;34m\u001b[0m\u001b[0;34m\u001b[0m\u001b[0m\n",
      "\u001b[0;32m/usr/local/lib/python3.10/dist-packages/joblib/parallel.py\u001b[0m in \u001b[0;36m_return_or_raise\u001b[0;34m(self)\u001b[0m\n\u001b[1;32m    751\u001b[0m         \u001b[0;32mtry\u001b[0m\u001b[0;34m:\u001b[0m\u001b[0;34m\u001b[0m\u001b[0;34m\u001b[0m\u001b[0m\n\u001b[1;32m    752\u001b[0m             \u001b[0;32mif\u001b[0m \u001b[0mself\u001b[0m\u001b[0;34m.\u001b[0m\u001b[0mstatus\u001b[0m \u001b[0;34m==\u001b[0m \u001b[0mTASK_ERROR\u001b[0m\u001b[0;34m:\u001b[0m\u001b[0;34m\u001b[0m\u001b[0;34m\u001b[0m\u001b[0m\n\u001b[0;32m--> 753\u001b[0;31m                 \u001b[0;32mraise\u001b[0m \u001b[0mself\u001b[0m\u001b[0;34m.\u001b[0m\u001b[0m_result\u001b[0m\u001b[0;34m\u001b[0m\u001b[0;34m\u001b[0m\u001b[0m\n\u001b[0m\u001b[1;32m    754\u001b[0m             \u001b[0;32mreturn\u001b[0m \u001b[0mself\u001b[0m\u001b[0;34m.\u001b[0m\u001b[0m_result\u001b[0m\u001b[0;34m\u001b[0m\u001b[0;34m\u001b[0m\u001b[0m\n\u001b[1;32m    755\u001b[0m         \u001b[0;32mfinally\u001b[0m\u001b[0;34m:\u001b[0m\u001b[0;34m\u001b[0m\u001b[0;34m\u001b[0m\u001b[0m\n",
      "\u001b[0;31mBrokenProcessPool\u001b[0m: A task has failed to un-serialize. Please ensure that the arguments of the function are all picklable."
     ]
    }
   ],
   "source": [
    "import pyLDAvis.gensim\n",
    "import pickle\n",
    "import pyLDAvis\n",
    "# Visualize the topics\n",
    "pyLDAvis.enable_notebook()\n",
    "LDAvis_data_filepath = os.path.join('./results/ldavis_prepared_'+str(num_topics))\n",
    "# # this is a bit time consuming - make the if statement True\n",
    "# # if you want to execute visualization prep yourself\n",
    "if 1 == 1:\n",
    "    LDAvis_prepared = pyLDAvis.gensim.prepare(lda_model2, bow_corpus, dictionary)\n",
    "    with open(LDAvis_data_filepath, 'wb') as f:\n",
    "        pickle.dump(LDAvis_prepared, f)\n",
    "# load the pre-prepared pyLDAvis data from disk\n",
    "with open(LDAvis_data_filepath, 'rb') as f:\n",
    "    LDAvis_prepared = pickle.load(f)\n",
    "pyLDAvis.save_html(LDAvis_prepared, './results/ldavis_prepared_'+ str(num_topics) +'.html')\n",
    "LDAvis_prepared"
   ]
  },
  {
   "cell_type": "markdown",
   "metadata": {
    "id": "x7mxbqdYfF4z"
   },
   "source": [
    "###Jaccard similarity"
   ]
  },
  {
   "cell_type": "code",
   "execution_count": 152,
   "metadata": {
    "colab": {
     "base_uri": "https://localhost:8080/"
    },
    "executionInfo": {
     "elapsed": 5,
     "status": "ok",
     "timestamp": 1689797520106,
     "user": {
      "displayName": "Urmi Dedhia",
      "userId": "04029137391343867476"
     },
     "user_tz": -330
    },
    "id": "Vyh_llsdx2vF",
    "outputId": "00c61360-136d-474f-eb1c-7915ac639601"
   },
   "outputs": [
    {
     "name": "stderr",
     "output_type": "stream",
     "text": [
      "/usr/local/lib/python3.10/dist-packages/ipykernel/ipkernel.py:283: DeprecationWarning: `should_run_async` will not call `transform_cell` automatically in the future. Please pass the result to `transformed_cell` argument and any exception that happen during thetransform in `preprocessing_exc_tuple` in IPython 7.17 and above.\n",
      "  and should_run_async(code)\n"
     ]
    },
    {
     "data": {
      "text/plain": [
       "[{'art',\n",
       "  'dorian',\n",
       "  'exquisite',\n",
       "  'influence',\n",
       "  'life',\n",
       "  'painter',\n",
       "  'school',\n",
       "  'spirit',\n",
       "  'tell',\n",
       "  'wonder'},\n",
       " {'basil',\n",
       "  'best',\n",
       "  'delightful',\n",
       "  'henry',\n",
       "  'lord',\n",
       "  'said',\n",
       "  'thing',\n",
       "  'think',\n",
       "  'world',\n",
       "  'yes'},\n",
       " {'art',\n",
       "  'day',\n",
       "  'dorian',\n",
       "  'gray',\n",
       "  'harry',\n",
       "  'henry',\n",
       "  'like',\n",
       "  'lord',\n",
       "  'new',\n",
       "  'thing'},\n",
       " {'art',\n",
       "  'face',\n",
       "  'fatality',\n",
       "  'feel',\n",
       "  'idea',\n",
       "  'intellectual',\n",
       "  'know',\n",
       "  'soul',\n",
       "  'tell',\n",
       "  'time'},\n",
       " {'basil',\n",
       "  'friend',\n",
       "  'harry',\n",
       "  'know',\n",
       "  'life',\n",
       "  'look',\n",
       "  'people',\n",
       "  'thing',\n",
       "  'think',\n",
       "  'want'},\n",
       " {'basil',\n",
       "  'dorian',\n",
       "  'gray',\n",
       "  'harry',\n",
       "  'like',\n",
       "  'men',\n",
       "  'romance',\n",
       "  'room',\n",
       "  'shall',\n",
       "  'told'},\n",
       " {'face',\n",
       "  'good',\n",
       "  'hallward',\n",
       "  'harry',\n",
       "  'henry',\n",
       "  'know',\n",
       "  'live',\n",
       "  'said',\n",
       "  'tell',\n",
       "  'treat'},\n",
       " {'believe',\n",
       "  'blue',\n",
       "  'course',\n",
       "  'exhibit',\n",
       "  'henry',\n",
       "  'life',\n",
       "  'like',\n",
       "  'lord',\n",
       "  'picture',\n",
       "  'won'},\n",
       " {'basil',\n",
       "  'dear',\n",
       "  'dorian',\n",
       "  'fellow',\n",
       "  'gray',\n",
       "  'hallward',\n",
       "  'harry',\n",
       "  'henry',\n",
       "  'lord',\n",
       "  'simply'},\n",
       " {'asked',\n",
       "  'beauty',\n",
       "  'brandon',\n",
       "  'good',\n",
       "  'know',\n",
       "  'lady',\n",
       "  'perfectly',\n",
       "  'real',\n",
       "  'reason',\n",
       "  'time'}]"
      ]
     },
     "execution_count": 152,
     "metadata": {},
     "output_type": "execute_result"
    }
   ],
   "source": [
    "topics_1 = []\n",
    "for idx, topic in lda_model.print_topics(-1):\n",
    "  split1 = topic.split('\\\"')\n",
    "  topics_1.append(set([split1[val] for val in range(1,21,2)]))\n",
    "topics_1"
   ]
  },
  {
   "cell_type": "code",
   "execution_count": 153,
   "metadata": {
    "colab": {
     "base_uri": "https://localhost:8080/"
    },
    "executionInfo": {
     "elapsed": 411,
     "status": "ok",
     "timestamp": 1689797528400,
     "user": {
      "displayName": "Urmi Dedhia",
      "userId": "04029137391343867476"
     },
     "user_tz": -330
    },
    "id": "dq335VHTvipp",
    "outputId": "4ebc1b9b-97db-418f-9ff0-fd76ff92bdab"
   },
   "outputs": [
    {
     "name": "stderr",
     "output_type": "stream",
     "text": [
      "/usr/local/lib/python3.10/dist-packages/ipykernel/ipkernel.py:283: DeprecationWarning: `should_run_async` will not call `transform_cell` automatically in the future. Please pass the result to `transformed_cell` argument and any exception that happen during thetransform in `preprocessing_exc_tuple` in IPython 7.17 and above.\n",
      "  and should_run_async(code)\n"
     ]
    },
    {
     "data": {
      "text/plain": [
       "[{'art',\n",
       "  'dorian',\n",
       "  'gray',\n",
       "  'know',\n",
       "  'love',\n",
       "  'new',\n",
       "  'nicely',\n",
       "  'pleasure',\n",
       "  'said',\n",
       "  'thing'},\n",
       " {'basil',\n",
       "  'believe',\n",
       "  'best',\n",
       "  'dorian',\n",
       "  'good',\n",
       "  'gray',\n",
       "  'harry',\n",
       "  'know',\n",
       "  'lord',\n",
       "  'said'},\n",
       " {'art',\n",
       "  'brain',\n",
       "  'know',\n",
       "  'life',\n",
       "  'like',\n",
       "  'live',\n",
       "  'look',\n",
       "  'novel',\n",
       "  'wife',\n",
       "  'world'},\n",
       " {'basil',\n",
       "  'believe',\n",
       "  'came',\n",
       "  'day',\n",
       "  'hallward',\n",
       "  'harry',\n",
       "  'henry',\n",
       "  'lord',\n",
       "  'people',\n",
       "  'said'},\n",
       " {'basil',\n",
       "  'came',\n",
       "  'dorian',\n",
       "  'feel',\n",
       "  'friend',\n",
       "  'gray',\n",
       "  'know',\n",
       "  'like',\n",
       "  'look',\n",
       "  'think'},\n",
       " {'art',\n",
       "  'dorian',\n",
       "  'face',\n",
       "  'gray',\n",
       "  'know',\n",
       "  'lady',\n",
       "  'painter',\n",
       "  'people',\n",
       "  'room',\n",
       "  'said'},\n",
       " {'harry',\n",
       "  'henry',\n",
       "  'lord',\n",
       "  'love',\n",
       "  'painter',\n",
       "  'portrait',\n",
       "  'reason',\n",
       "  'said',\n",
       "  'think',\n",
       "  'want'},\n",
       " {'daisives',\n",
       "  'early',\n",
       "  'frown',\n",
       "  'garden',\n",
       "  'hallward',\n",
       "  'henry',\n",
       "  'laughed',\n",
       "  'light',\n",
       "  'lord',\n",
       "  'went'},\n",
       " {'aunt',\n",
       "  'face',\n",
       "  'hallward',\n",
       "  'henry',\n",
       "  'life',\n",
       "  'lord',\n",
       "  'pleasant',\n",
       "  'said',\n",
       "  'thought',\n",
       "  'told'},\n",
       " {'boy',\n",
       "  'broêrs',\n",
       "  'dear',\n",
       "  'dorian',\n",
       "  'gray',\n",
       "  'hold',\n",
       "  'looked',\n",
       "  'said',\n",
       "  'time',\n",
       "  'want'}]"
      ]
     },
     "execution_count": 153,
     "metadata": {},
     "output_type": "execute_result"
    }
   ],
   "source": [
    "topics_2 = []\n",
    "for idx, topic in lda_model2.print_topics(-1):\n",
    "  split1 = topic.split('\\\"')\n",
    "  topics_2.append(set([split1[val] for val in range(1,21,2)]))\n",
    "topics_2"
   ]
  },
  {
   "cell_type": "code",
   "execution_count": null,
   "metadata": {
    "id": "_D02UCLvvirr"
   },
   "outputs": [],
   "source": []
  },
  {
   "cell_type": "code",
   "execution_count": 154,
   "metadata": {
    "colab": {
     "base_uri": "https://localhost:8080/"
    },
    "executionInfo": {
     "elapsed": 423,
     "status": "ok",
     "timestamp": 1689797566290,
     "user": {
      "displayName": "Urmi Dedhia",
      "userId": "04029137391343867476"
     },
     "user_tz": -330
    },
    "id": "qoDzfvBrvit9",
    "outputId": "15ab46d9-e0ef-4c1e-fcaa-8b40a230a3d9"
   },
   "outputs": [
    {
     "name": "stderr",
     "output_type": "stream",
     "text": [
      "/usr/local/lib/python3.10/dist-packages/ipykernel/ipkernel.py:283: DeprecationWarning: `should_run_async` will not call `transform_cell` automatically in the future. Please pass the result to `transformed_cell` argument and any exception that happen during thetransform in `preprocessing_exc_tuple` in IPython 7.17 and above.\n",
      "  and should_run_async(code)\n"
     ]
    }
   ],
   "source": [
    "def jaccard_similarity(vec1, vec2):\n",
    "    intersection = set(vec1) & set(vec2)\n",
    "    union = set(vec1) | set(vec2)\n",
    "    similarity = len(intersection) / len(union)\n",
    "    return similarity"
   ]
  },
  {
   "cell_type": "code",
   "execution_count": 155,
   "metadata": {
    "colab": {
     "base_uri": "https://localhost:8080/"
    },
    "executionInfo": {
     "elapsed": 515,
     "status": "ok",
     "timestamp": 1689797654452,
     "user": {
      "displayName": "Urmi Dedhia",
      "userId": "04029137391343867476"
     },
     "user_tz": -330
    },
    "id": "5DXzCv_evixT",
    "outputId": "aea09fa1-03f5-4b6d-c7db-73c5a4d3d6ed"
   },
   "outputs": [
    {
     "name": "stderr",
     "output_type": "stream",
     "text": [
      "/usr/local/lib/python3.10/dist-packages/ipykernel/ipkernel.py:283: DeprecationWarning: `should_run_async` will not call `transform_cell` automatically in the future. Please pass the result to `transformed_cell` argument and any exception that happen during thetransform in `preprocessing_exc_tuple` in IPython 7.17 and above.\n",
      "  and should_run_async(code)\n"
     ]
    },
    {
     "data": {
      "text/plain": [
       "[[0.1111111111111111,\n",
       "  0.05263157894736842,\n",
       "  0.1111111111111111,\n",
       "  0.0,\n",
       "  0.05263157894736842,\n",
       "  0.17647058823529413,\n",
       "  0.05263157894736842,\n",
       "  0.0,\n",
       "  0.05263157894736842,\n",
       "  0.05263157894736842],\n",
       " [0.1111111111111111,\n",
       "  0.25,\n",
       "  0.05263157894736842,\n",
       "  0.25,\n",
       "  0.1111111111111111,\n",
       "  0.05263157894736842,\n",
       "  0.25,\n",
       "  0.1111111111111111,\n",
       "  0.17647058823529413,\n",
       "  0.05263157894736842],\n",
       " [0.3333333333333333,\n",
       "  0.25,\n",
       "  0.1111111111111111,\n",
       "  0.25,\n",
       "  0.17647058823529413,\n",
       "  0.17647058823529413,\n",
       "  0.17647058823529413,\n",
       "  0.1111111111111111,\n",
       "  0.1111111111111111,\n",
       "  0.1111111111111111],\n",
       " [0.1111111111111111,\n",
       "  0.05263157894736842,\n",
       "  0.1111111111111111,\n",
       "  0.0,\n",
       "  0.1111111111111111,\n",
       "  0.17647058823529413,\n",
       "  0.0,\n",
       "  0.0,\n",
       "  0.05263157894736842,\n",
       "  0.05263157894736842],\n",
       " [0.1111111111111111,\n",
       "  0.17647058823529413,\n",
       "  0.17647058823529413,\n",
       "  0.17647058823529413,\n",
       "  0.3333333333333333,\n",
       "  0.1111111111111111,\n",
       "  0.17647058823529413,\n",
       "  0.0,\n",
       "  0.05263157894736842,\n",
       "  0.05263157894736842],\n",
       " [0.1111111111111111,\n",
       "  0.25,\n",
       "  0.05263157894736842,\n",
       "  0.1111111111111111,\n",
       "  0.25,\n",
       "  0.17647058823529413,\n",
       "  0.05263157894736842,\n",
       "  0.0,\n",
       "  0.05263157894736842,\n",
       "  0.1111111111111111],\n",
       " [0.1111111111111111,\n",
       "  0.25,\n",
       "  0.1111111111111111,\n",
       "  0.25,\n",
       "  0.05263157894736842,\n",
       "  0.17647058823529413,\n",
       "  0.17647058823529413,\n",
       "  0.1111111111111111,\n",
       "  0.25,\n",
       "  0.05263157894736842],\n",
       " [0.0,\n",
       "  0.1111111111111111,\n",
       "  0.1111111111111111,\n",
       "  0.17647058823529413,\n",
       "  0.05263157894736842,\n",
       "  0.0,\n",
       "  0.1111111111111111,\n",
       "  0.1111111111111111,\n",
       "  0.17647058823529413,\n",
       "  0.0],\n",
       " [0.1111111111111111,\n",
       "  0.3333333333333333,\n",
       "  0.0,\n",
       "  0.3333333333333333,\n",
       "  0.17647058823529413,\n",
       "  0.1111111111111111,\n",
       "  0.17647058823529413,\n",
       "  0.17647058823529413,\n",
       "  0.17647058823529413,\n",
       "  0.17647058823529413],\n",
       " [0.05263157894736842,\n",
       "  0.1111111111111111,\n",
       "  0.05263157894736842,\n",
       "  0.0,\n",
       "  0.05263157894736842,\n",
       "  0.1111111111111111,\n",
       "  0.05263157894736842,\n",
       "  0.0,\n",
       "  0.0,\n",
       "  0.05263157894736842]]"
      ]
     },
     "execution_count": 155,
     "metadata": {},
     "output_type": "execute_result"
    }
   ],
   "source": [
    "similarity_matrix = []\n",
    "for i in topics_1:\n",
    "  temp = []\n",
    "  for j in topics_2:\n",
    "    sim = jaccard_similarity(i,j)\n",
    "    temp.append(sim)\n",
    "  similarity_matrix.append(temp)\n",
    "similarity_matrix"
   ]
  }
 ],
 "metadata": {
  "colab": {
   "authorship_tag": "ABX9TyP1jHMmhv0JrEy25p/jelSr",
   "mount_file_id": "1nT5IdskXxzPMd8Toa2Y7tTe2bJy3s5u_",
   "provenance": [],
   "toc_visible": true
  },
  "kernelspec": {
   "display_name": "Python 3 (ipykernel)",
   "language": "python",
   "name": "python3"
  },
  "language_info": {
   "codemirror_mode": {
    "name": "ipython",
    "version": 3
   },
   "file_extension": ".py",
   "mimetype": "text/x-python",
   "name": "python",
   "nbconvert_exporter": "python",
   "pygments_lexer": "ipython3",
   "version": "3.10.11"
  }
 },
 "nbformat": 4,
 "nbformat_minor": 1
}
