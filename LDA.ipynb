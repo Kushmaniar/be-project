{
 "cells": [
  {
   "cell_type": "markdown",
   "metadata": {
    "id": "s5iDV0IaXiRC"
   },
   "source": [
    "##LDA"
   ]
  },
  {
   "cell_type": "code",
   "execution_count": 1,
   "metadata": {},
   "outputs": [],
   "source": [
    "text = '''\n",
    "Hey John, how are you doing today?\n",
    "David? Is that you? Haven't seen you in a while. Where's Mary?\n",
    "She's at the garden club meeting, John. Remember? We talked about it last week.\n",
    "Last week? Did we? Feels like ages ago. Mind you, everything feels like ages ago these days.\n",
    "I know it's tough, John. But that's why I'm here. Brought you some of your favorites – apples and that oatcake you like.\n",
    "Oatcake! Now you're talking.Mary always hides them, says I eat them all at once.\n",
    "Well, maybe I can convince her to let you have a little more freedom with the snacks today.  So, what have you been up to, champ?\n",
    "This… this thing. Can't remember what it's called. Used to play chess all the time with… with… \n",
    "Your dad? You and your dad used to have epic chess battles. Remember how you'd always try to trick him with that sneaky queen move?\n",
    "Dad? Right! Dad. Used to love playing with him. He always beat me, though. Smart man, your dad.\n",
    "He was a sharp one, that's for sure. Hey, listen, how about we set up a game? Maybe I can get schooled by the master himself?\n",
    "Master? Hardly. But… a game sounds good. Been a while since I've played. Remember the rules, though?\n",
    "Of course, John. How about we play for the oatcake? Winner takes all?\n",
    "Winner takes all? You're on! Don't underestimate the old dog, David.\n",
    "Wait… where's the knight?\n",
    "Right here, John. Next to your king. See? Remember, the knight moves in an L-shape.\n",
    "Ah, the knight. Right. Used to love using the knight for surprise attacks. Like a sneaky little soldier.\n",
    "My, look at the time! Mary will be home soon.\n",
    "Don't worry about Mary, John. We still have a few moves left in us, don't we?  Besides, who knows, maybe you can use that sneaky knight to win the oatcake after all.\n",
    "'''"
   ]
  },
  {
   "cell_type": "code",
   "execution_count": 2,
   "metadata": {
    "colab": {
     "base_uri": "https://localhost:8080/"
    },
    "executionInfo": {
     "elapsed": 11300,
     "status": "ok",
     "timestamp": 1689791428979,
     "user": {
      "displayName": "Urmi Dedhia",
      "userId": "04029137391343867476"
     },
     "user_tz": -330
    },
    "id": "4HOfFmtncvgp",
    "outputId": "07128d0e-0197-48af-b53d-b1530de771af"
   },
   "outputs": [
    {
     "name": "stdout",
     "output_type": "stream",
     "text": [
      "Requirement already satisfied: gensim in c:\\users\\urmi\\appdata\\local\\programs\\python\\python310\\lib\\site-packages (4.3.2)\n",
      "Requirement already satisfied: numpy>=1.18.5 in c:\\users\\urmi\\appdata\\local\\programs\\python\\python310\\lib\\site-packages (from gensim) (1.23.5)\n",
      "Requirement already satisfied: scipy>=1.7.0 in c:\\users\\urmi\\appdata\\local\\programs\\python\\python310\\lib\\site-packages (from gensim) (1.10.1)\n",
      "Requirement already satisfied: smart-open>=1.8.1 in c:\\users\\urmi\\appdata\\local\\programs\\python\\python310\\lib\\site-packages (from gensim) (7.0.4)\n",
      "Requirement already satisfied: wrapt in c:\\users\\urmi\\appdata\\local\\programs\\python\\python310\\lib\\site-packages (from smart-open>=1.8.1->gensim) (1.14.1)\n"
     ]
    },
    {
     "name": "stderr",
     "output_type": "stream",
     "text": [
      "\n",
      "[notice] A new release of pip is available: 23.1.2 -> 24.0\n",
      "[notice] To update, run: python.exe -m pip install --upgrade pip\n"
     ]
    }
   ],
   "source": [
    "!pip install gensim"
   ]
  },
  {
   "cell_type": "code",
   "execution_count": 3,
   "metadata": {
    "executionInfo": {
     "elapsed": 1233,
     "status": "ok",
     "timestamp": 1689791463175,
     "user": {
      "displayName": "Urmi Dedhia",
      "userId": "04029137391343867476"
     },
     "user_tz": -330
    },
    "id": "9Ooh2gheXk8o"
   },
   "outputs": [],
   "source": [
    "import pandas as pd\n",
    "import matplotlib.pyplot as plt\n",
    "import gensim\n",
    "from gensim.utils import simple_preprocess\n",
    "from gensim.parsing.preprocessing import STOPWORDS\n",
    "from nltk.stem import WordNetLemmatizer\n",
    "from nltk.stem.porter import *\n",
    "from nltk.tokenize import word_tokenize, sent_tokenize\n",
    "df_sf = pd.read_csv('stylometric_features6.csv')\n"
   ]
  },
  {
   "cell_type": "code",
   "execution_count": 4,
   "metadata": {
    "executionInfo": {
     "elapsed": 2,
     "status": "ok",
     "timestamp": 1689791463551,
     "user": {
      "displayName": "Urmi Dedhia",
      "userId": "04029137391343867476"
     },
     "user_tz": -330
    },
    "id": "AF9ZmM0VX-J5"
   },
   "outputs": [],
   "source": [
    "def lemmatize_stemming(text):\n",
    "    wnl = WordNetLemmatizer()\n",
    "    lem_word = wnl.lemmatize(text)\n",
    "    ps = PorterStemmer()\n",
    "    lem_stemmed_word = ps.stem(lem_word)\n",
    "    return lem_word\n",
    "\n",
    "def preprocess(text):\n",
    "    result=[]\n",
    "    for token in gensim.utils.simple_preprocess(text) :\n",
    "        if token not in gensim.parsing.preprocessing.STOPWORDS:\n",
    "            result.append(lemmatize_stemming(token))\n",
    "    return result"
   ]
  },
  {
   "cell_type": "code",
   "execution_count": 5,
   "metadata": {
    "colab": {
     "base_uri": "https://localhost:8080/"
    },
    "executionInfo": {
     "elapsed": 4,
     "status": "ok",
     "timestamp": 1689793772388,
     "user": {
      "displayName": "Urmi Dedhia",
      "userId": "04029137391343867476"
     },
     "user_tz": -330
    },
    "id": "hW9ug-N0a92w",
    "outputId": "71604276-55fd-4cb1-8203-f86b967a321e"
   },
   "outputs": [
    {
     "name": "stdout",
     "output_type": "stream",
     "text": [
      "418\n"
     ]
    }
   ],
   "source": [
    "print(len(word_tokenize(text)))"
   ]
  },
  {
   "cell_type": "code",
   "execution_count": 6,
   "metadata": {
    "executionInfo": {
     "elapsed": 419,
     "status": "ok",
     "timestamp": 1689794082869,
     "user": {
      "displayName": "Urmi Dedhia",
      "userId": "04029137391343867476"
     },
     "user_tz": -330
    },
    "id": "Oa5XfX-Fk20K"
   },
   "outputs": [],
   "source": [
    "import re\n",
    "def remove_newlines(text):\n",
    "    cleaned_text = re.sub(r'\\n', '', text)\n",
    "    return cleaned_text"
   ]
  },
  {
   "cell_type": "code",
   "execution_count": 7,
   "metadata": {
    "executionInfo": {
     "elapsed": 416,
     "status": "ok",
     "timestamp": 1689794294424,
     "user": {
      "displayName": "Urmi Dedhia",
      "userId": "04029137391343867476"
     },
     "user_tz": -330
    },
    "id": "RWIg7gtKk3oJ"
   },
   "outputs": [],
   "source": [
    "text = remove_newlines(text)"
   ]
  },
  {
   "cell_type": "code",
   "execution_count": 8,
   "metadata": {
    "executionInfo": {
     "elapsed": 461,
     "status": "ok",
     "timestamp": 1689794302672,
     "user": {
      "displayName": "Urmi Dedhia",
      "userId": "04029137391343867476"
     },
     "user_tz": -330
    },
    "id": "1sNUNa7TceLb"
   },
   "outputs": [],
   "source": [
    "sents = sent_tokenize(text)"
   ]
  },
  {
   "cell_type": "code",
   "execution_count": 9,
   "metadata": {
    "colab": {
     "base_uri": "https://localhost:8080/"
    },
    "executionInfo": {
     "elapsed": 3,
     "status": "ok",
     "timestamp": 1689794304338,
     "user": {
      "displayName": "Urmi Dedhia",
      "userId": "04029137391343867476"
     },
     "user_tz": -330
    },
    "id": "EU1DRbvUcehx",
    "outputId": "acd6c2a3-12d5-48c9-b8e9-a62454dc3a45"
   },
   "outputs": [
    {
     "name": "stdout",
     "output_type": "stream",
     "text": [
      "41\n"
     ]
    }
   ],
   "source": [
    "print(len(sents))\n"
   ]
  },
  {
   "cell_type": "code",
   "execution_count": 10,
   "metadata": {
    "colab": {
     "base_uri": "https://localhost:8080/",
     "height": 35
    },
    "executionInfo": {
     "elapsed": 719,
     "status": "ok",
     "timestamp": 1689794362413,
     "user": {
      "displayName": "Urmi Dedhia",
      "userId": "04029137391343867476"
     },
     "user_tz": -330
    },
    "id": "NnJo0Sftjwi4",
    "outputId": "1b92cce4-ed36-4f27-e267-a57f01a4831d"
   },
   "outputs": [
    {
     "data": {
      "text/plain": [
       "\"Haven't seen you in a while.\""
      ]
     },
     "execution_count": 10,
     "metadata": {},
     "output_type": "execute_result"
    }
   ],
   "source": [
    "sents[2]"
   ]
  },
  {
   "cell_type": "code",
   "execution_count": null,
   "metadata": {
    "id": "8NbEwUJBlhbN"
   },
   "outputs": [],
   "source": []
  },
  {
   "cell_type": "markdown",
   "metadata": {
    "id": "l8k3mMj2dTrb"
   },
   "source": [
    "###For first text"
   ]
  },
  {
   "cell_type": "code",
   "execution_count": 11,
   "metadata": {
    "executionInfo": {
     "elapsed": 637,
     "status": "ok",
     "timestamp": 1689794439644,
     "user": {
      "displayName": "Urmi Dedhia",
      "userId": "04029137391343867476"
     },
     "user_tz": -330
    },
    "id": "Rngh9sT6X-Mf"
   },
   "outputs": [],
   "source": [
    "# Preprocess the text data\n",
    "texts = [preprocess(text) for text in sents]\n",
    "\n",
    "combined_data = pd.DataFrame({'Text': texts})"
   ]
  },
  {
   "cell_type": "code",
   "execution_count": 12,
   "metadata": {
    "colab": {
     "base_uri": "https://localhost:8080/"
    },
    "executionInfo": {
     "elapsed": 3,
     "status": "ok",
     "timestamp": 1689794441261,
     "user": {
      "displayName": "Urmi Dedhia",
      "userId": "04029137391343867476"
     },
     "user_tz": -330
    },
    "id": "gaBjkcbia8-y",
    "outputId": "02e9b8dc-4838-493e-8ac9-0c196ecb8e8d"
   },
   "outputs": [
    {
     "data": {
      "text/plain": [
       "0                             [hey, john, today, david]\n",
       "1                                                    []\n",
       "2                                         [haven, seen]\n",
       "3                   [mary, garden, club, meeting, john]\n",
       "4                                            [remember]\n",
       "5                                  [talked, week, week]\n",
       "6                                                    []\n",
       "7                                [feel, like, age, ago]\n",
       "8     [mind, feel, like, age, ago, day, know, tough,...\n",
       "9                                                    []\n",
       "10    [brought, favorite, apple, oatcake, like, oatc...\n",
       "11    [talking, mary, hide, say, eat, maybe, convinc...\n",
       "12                                       [champ, thing]\n",
       "13                                   [remember, called]\n",
       "14                             [play, chess, time, dad]\n",
       "15                           [dad, epic, chess, battle]\n",
       "16           [remember, try, trick, sneaky, queen, dad]\n",
       "17                                              [right]\n",
       "18                                                [dad]\n",
       "19                                      [love, playing]\n",
       "20                                               [beat]\n",
       "21                       [smart, man, dad, sharp, sure]\n",
       "22                             [hey, listen, set, game]\n",
       "23                    [maybe, schooled, master, master]\n",
       "24                                             [hardly]\n",
       "25                                  [game, sound, good]\n",
       "26                                         [ve, played]\n",
       "27                       [remember, rule, course, john]\n",
       "28                                      [play, oatcake]\n",
       "29                         [winner, take, winner, take]\n",
       "30                                                   []\n",
       "31    [underestimate, old, dog, david, wait, knight,...\n",
       "32                                               [king]\n",
       "33                                                   []\n",
       "34          [remember, knight, move, shape, ah, knight]\n",
       "35                                              [right]\n",
       "36                     [love, knight, surprise, attack]\n",
       "37          [like, sneaky, little, soldier, look, time]\n",
       "38                [mary, home, soon, worry, mary, john]\n",
       "39                                         [move, left]\n",
       "40     [know, maybe, use, sneaky, knight, win, oatcake]\n",
       "Name: Text, dtype: object"
      ]
     },
     "execution_count": 12,
     "metadata": {},
     "output_type": "execute_result"
    }
   ],
   "source": [
    "combined_data['Text']"
   ]
  },
  {
   "cell_type": "code",
   "execution_count": 13,
   "metadata": {
    "executionInfo": {
     "elapsed": 3,
     "status": "ok",
     "timestamp": 1689794442652,
     "user": {
      "displayName": "Urmi Dedhia",
      "userId": "04029137391343867476"
     },
     "user_tz": -330
    },
    "id": "Zfh_G-WmcTus"
   },
   "outputs": [],
   "source": [
    "dictionary = gensim.corpora.Dictionary(combined_data['Text'])"
   ]
  },
  {
   "cell_type": "code",
   "execution_count": 14,
   "metadata": {
    "colab": {
     "base_uri": "https://localhost:8080/"
    },
    "executionInfo": {
     "elapsed": 4,
     "status": "ok",
     "timestamp": 1689794444245,
     "user": {
      "displayName": "Urmi Dedhia",
      "userId": "04029137391343867476"
     },
     "user_tz": -330
    },
    "id": "hF3b-_zAcT1L",
    "outputId": "e2040ce5-4707-409c-fbd5-cefc643717c7",
    "scrolled": true
   },
   "outputs": [
    {
     "name": "stdout",
     "output_type": "stream",
     "text": [
      "Dictionary<89 unique tokens: ['david', 'hey', 'john', 'today', 'haven']...>\n",
      "0 david\n",
      "1 hey\n",
      "2 john\n",
      "3 today\n",
      "4 haven\n",
      "5 seen\n",
      "6 club\n",
      "7 garden\n",
      "8 mary\n",
      "9 meeting\n",
      "10 remember\n"
     ]
    }
   ],
   "source": [
    "print(dictionary)\n",
    "count = 0\n",
    "for k, v in dictionary.iteritems():\n",
    "    print(k, v)\n",
    "    count += 1\n",
    "    if count > 10:\n",
    "        break"
   ]
  },
  {
   "cell_type": "code",
   "execution_count": 15,
   "metadata": {
    "executionInfo": {
     "elapsed": 446,
     "status": "ok",
     "timestamp": 1689794447204,
     "user": {
      "displayName": "Urmi Dedhia",
      "userId": "04029137391343867476"
     },
     "user_tz": -330
    },
    "id": "vEYmKBbvfaB6"
   },
   "outputs": [],
   "source": [
    "bow_corpus = [dictionary.doc2bow(doc) for doc in combined_data['Text']]"
   ]
  },
  {
   "cell_type": "code",
   "execution_count": 16,
   "metadata": {
    "colab": {
     "base_uri": "https://localhost:8080/"
    },
    "executionInfo": {
     "elapsed": 2,
     "status": "ok",
     "timestamp": 1689794447598,
     "user": {
      "displayName": "Urmi Dedhia",
      "userId": "04029137391343867476"
     },
     "user_tz": -330
    },
    "id": "jc9bIOZUfbbC",
    "outputId": "490db6c7-e609-4aae-9493-9deed7672bea"
   },
   "outputs": [],
   "source": [
    "bow_doc = bow_corpus[1]\n",
    "\n",
    "for i in range(len(bow_doc)):\n",
    "    print(\"Word {} (\\\"{}\\\") appears {} time.\".format(bow_doc[i][0],\n",
    "                                                     dictionary[bow_doc[i][0]],\n",
    "                                                     bow_doc[i][1]))"
   ]
  },
  {
   "cell_type": "code",
   "execution_count": 17,
   "metadata": {
    "colab": {
     "base_uri": "https://localhost:8080/"
    },
    "executionInfo": {
     "elapsed": 1233,
     "status": "ok",
     "timestamp": 1689794451503,
     "user": {
      "displayName": "Urmi Dedhia",
      "userId": "04029137391343867476"
     },
     "user_tz": -330
    },
    "id": "YCoXZtI5fbda",
    "outputId": "df51780b-2403-43f2-bcd1-783f2d6188c7"
   },
   "outputs": [],
   "source": [
    "lda_model = gensim.models.LdaMulticore(corpus=bow_corpus, num_topics=10, id2word = dictionary, chunksize=20000, passes=2, workers = 2)"
   ]
  },
  {
   "cell_type": "code",
   "execution_count": 18,
   "metadata": {
    "colab": {
     "base_uri": "https://localhost:8080/"
    },
    "executionInfo": {
     "elapsed": 3,
     "status": "ok",
     "timestamp": 1689794452010,
     "user": {
      "displayName": "Urmi Dedhia",
      "userId": "04029137391343867476"
     },
     "user_tz": -330
    },
    "id": "LhZWzAMOfbix",
    "outputId": "0449224a-b449-4177-f311-ce667a6d9838"
   },
   "outputs": [
    {
     "name": "stdout",
     "output_type": "stream",
     "text": [
      "Topic: 0 \n",
      "Words: 0.155*\"dad\" + 0.045*\"remember\" + 0.045*\"play\" + 0.045*\"try\" + 0.045*\"sneaky\" + 0.045*\"smart\" + 0.045*\"queen\" + 0.045*\"trick\" + 0.045*\"sure\" + 0.045*\"chess\"\n",
      "\n",
      "\n",
      "Topic: 1 \n",
      "Words: 0.141*\"right\" + 0.074*\"left\" + 0.074*\"seen\" + 0.074*\"move\" + 0.074*\"haven\" + 0.007*\"remember\" + 0.007*\"dad\" + 0.007*\"king\" + 0.007*\"john\" + 0.007*\"beat\"\n",
      "\n",
      "\n",
      "Topic: 2 \n",
      "Words: 0.070*\"week\" + 0.037*\"mary\" + 0.037*\"little\" + 0.037*\"today\" + 0.037*\"maybe\" + 0.037*\"hide\" + 0.037*\"convince\" + 0.037*\"talking\" + 0.037*\"let\" + 0.037*\"eat\"\n",
      "\n",
      "\n",
      "Topic: 3 \n",
      "Words: 0.088*\"played\" + 0.085*\"ve\" + 0.036*\"dad\" + 0.009*\"right\" + 0.009*\"remember\" + 0.009*\"king\" + 0.009*\"beat\" + 0.009*\"john\" + 0.009*\"love\" + 0.009*\"oatcake\"\n",
      "\n",
      "\n",
      "Topic: 4 \n",
      "Words: 0.105*\"take\" + 0.105*\"winner\" + 0.055*\"john\" + 0.055*\"hey\" + 0.055*\"today\" + 0.055*\"david\" + 0.055*\"playing\" + 0.055*\"love\" + 0.020*\"like\" + 0.020*\"ago\"\n",
      "\n",
      "\n",
      "Topic: 5 \n",
      "Words: 0.107*\"knight\" + 0.073*\"mary\" + 0.038*\"move\" + 0.038*\"remember\" + 0.038*\"john\" + 0.038*\"love\" + 0.038*\"worry\" + 0.038*\"soon\" + 0.038*\"ah\" + 0.038*\"shape\"\n",
      "\n",
      "\n",
      "Topic: 6 \n",
      "Words: 0.046*\"right\" + 0.046*\"john\" + 0.046*\"like\" + 0.046*\"david\" + 0.046*\"sneaky\" + 0.046*\"underestimate\" + 0.046*\"old\" + 0.046*\"time\" + 0.046*\"dog\" + 0.046*\"look\"\n",
      "\n",
      "\n",
      "Topic: 7 \n",
      "Words: 0.079*\"age\" + 0.079*\"like\" + 0.079*\"feel\" + 0.079*\"ago\" + 0.048*\"john\" + 0.048*\"mind\" + 0.048*\"know\" + 0.048*\"tough\" + 0.048*\"day\" + 0.048*\"thing\"\n",
      "\n",
      "\n",
      "Topic: 8 \n",
      "Words: 0.123*\"remember\" + 0.083*\"oatcake\" + 0.044*\"like\" + 0.044*\"brought\" + 0.044*\"favorite\" + 0.044*\"apple\" + 0.044*\"rule\" + 0.044*\"good\" + 0.044*\"sound\" + 0.044*\"game\"\n",
      "\n",
      "\n",
      "Topic: 9 \n",
      "Words: 0.078*\"maybe\" + 0.078*\"master\" + 0.078*\"oatcake\" + 0.041*\"sneaky\" + 0.041*\"use\" + 0.041*\"know\" + 0.041*\"win\" + 0.041*\"garden\" + 0.041*\"club\" + 0.041*\"mary\"\n",
      "\n",
      "\n"
     ]
    }
   ],
   "source": [
    "for idx, topic in lda_model.print_topics(-1):\n",
    "    print(\"Topic: {} \\nWords: {}\".format(idx, topic))\n",
    "    print(\"\\n\")"
   ]
  },
  {
   "cell_type": "code",
   "execution_count": null,
   "metadata": {
    "id": "aJk0O2_EfblZ"
   },
   "outputs": [],
   "source": []
  },
  {
   "cell_type": "markdown",
   "metadata": {
    "id": "fcralSdDe0pb"
   },
   "source": [
    "###For second text"
   ]
  },
  {
   "cell_type": "code",
   "execution_count": 19,
   "metadata": {
    "executionInfo": {
     "elapsed": 410,
     "status": "ok",
     "timestamp": 1689794456107,
     "user": {
      "displayName": "Urmi Dedhia",
      "userId": "04029137391343867476"
     },
     "user_tz": -330
    },
    "id": "Fzhg661ze0pj"
   },
   "outputs": [
    {
     "ename": "NameError",
     "evalue": "name 'sents2' is not defined",
     "output_type": "error",
     "traceback": [
      "\u001b[1;31m---------------------------------------------------------------------------\u001b[0m",
      "\u001b[1;31mNameError\u001b[0m                                 Traceback (most recent call last)",
      "Cell \u001b[1;32mIn[19], line 2\u001b[0m\n\u001b[0;32m      1\u001b[0m \u001b[38;5;66;03m# Preprocess the text data\u001b[39;00m\n\u001b[1;32m----> 2\u001b[0m texts \u001b[38;5;241m=\u001b[39m [preprocess(text) \u001b[38;5;28;01mfor\u001b[39;00m text \u001b[38;5;129;01min\u001b[39;00m \u001b[43msents2\u001b[49m]\n\u001b[0;32m      4\u001b[0m combined_data \u001b[38;5;241m=\u001b[39m pd\u001b[38;5;241m.\u001b[39mDataFrame({\u001b[38;5;124m'\u001b[39m\u001b[38;5;124mText\u001b[39m\u001b[38;5;124m'\u001b[39m: texts})\n",
      "\u001b[1;31mNameError\u001b[0m: name 'sents2' is not defined"
     ]
    }
   ],
   "source": [
    "# Preprocess the text data\n",
    "texts = [preprocess(text) for text in sents2]\n",
    "\n",
    "combined_data = pd.DataFrame({'Text': texts})"
   ]
  },
  {
   "cell_type": "code",
   "execution_count": null,
   "metadata": {
    "colab": {
     "base_uri": "https://localhost:8080/"
    },
    "executionInfo": {
     "elapsed": 3,
     "status": "ok",
     "timestamp": 1689794457692,
     "user": {
      "displayName": "Urmi Dedhia",
      "userId": "04029137391343867476"
     },
     "user_tz": -330
    },
    "id": "orSjG5u1e0pk",
    "outputId": "47596ecb-5308-4cf9-f764-3c3f375406dc"
   },
   "outputs": [],
   "source": [
    "combined_data['Text']"
   ]
  },
  {
   "cell_type": "code",
   "execution_count": null,
   "metadata": {
    "executionInfo": {
     "elapsed": 4,
     "status": "ok",
     "timestamp": 1689794461743,
     "user": {
      "displayName": "Urmi Dedhia",
      "userId": "04029137391343867476"
     },
     "user_tz": -330
    },
    "id": "VgT42ERue0pk"
   },
   "outputs": [
    {
     "ename": "",
     "evalue": "",
     "output_type": "error",
     "traceback": [
      "\u001b[1;31mRunning cells with 'myenv' requires the ipykernel package.\n",
      "\u001b[1;31mRun the following command to install 'ipykernel' into the Python environment. \n",
      "\u001b[1;31mCommand: '\"d:/Coding/Final Year Project/myenv/Scripts/python.exe\" -m pip install ipykernel -U --force-reinstall'"
     ]
    }
   ],
   "source": [
    "dictionary = gensim.corpora.Dictionary(combined_data['Text'])"
   ]
  },
  {
   "cell_type": "code",
   "execution_count": null,
   "metadata": {
    "colab": {
     "base_uri": "https://localhost:8080/"
    },
    "executionInfo": {
     "elapsed": 2,
     "status": "ok",
     "timestamp": 1689794463385,
     "user": {
      "displayName": "Urmi Dedhia",
      "userId": "04029137391343867476"
     },
     "user_tz": -330
    },
    "id": "ie69zGife0pk",
    "outputId": "62925a60-8f1b-4ddb-acc4-ca6c72684454"
   },
   "outputs": [
    {
     "ename": "",
     "evalue": "",
     "output_type": "error",
     "traceback": [
      "\u001b[1;31mRunning cells with 'myenv' requires the ipykernel package.\n",
      "\u001b[1;31mRun the following command to install 'ipykernel' into the Python environment. \n",
      "\u001b[1;31mCommand: '\"d:/Coding/Final Year Project/myenv/Scripts/python.exe\" -m pip install ipykernel -U --force-reinstall'"
     ]
    }
   ],
   "source": [
    "print(dictionary)\n",
    "count = 0\n",
    "for k, v in dictionary.iteritems():\n",
    "    print(k, v)\n",
    "    count += 1\n",
    "    if count > 10:\n",
    "        break"
   ]
  },
  {
   "cell_type": "code",
   "execution_count": null,
   "metadata": {
    "executionInfo": {
     "elapsed": 2,
     "status": "ok",
     "timestamp": 1689794465560,
     "user": {
      "displayName": "Urmi Dedhia",
      "userId": "04029137391343867476"
     },
     "user_tz": -330
    },
    "id": "eHe0mySSe0pk"
   },
   "outputs": [
    {
     "ename": "",
     "evalue": "",
     "output_type": "error",
     "traceback": [
      "\u001b[1;31mRunning cells with 'myenv' requires the ipykernel package.\n",
      "\u001b[1;31mRun the following command to install 'ipykernel' into the Python environment. \n",
      "\u001b[1;31mCommand: '\"d:/Coding/Final Year Project/myenv/Scripts/python.exe\" -m pip install ipykernel -U --force-reinstall'"
     ]
    }
   ],
   "source": [
    "bow_corpus = [dictionary.doc2bow(doc) for doc in combined_data['Text']]"
   ]
  },
  {
   "cell_type": "code",
   "execution_count": null,
   "metadata": {
    "colab": {
     "base_uri": "https://localhost:8080/"
    },
    "executionInfo": {
     "elapsed": 2,
     "status": "ok",
     "timestamp": 1689794466844,
     "user": {
      "displayName": "Urmi Dedhia",
      "userId": "04029137391343867476"
     },
     "user_tz": -330
    },
    "id": "brbxoRude0pk",
    "outputId": "99bed78d-0264-43a9-abc5-026f06f0715b"
   },
   "outputs": [
    {
     "ename": "",
     "evalue": "",
     "output_type": "error",
     "traceback": [
      "\u001b[1;31mRunning cells with 'myenv' requires the ipykernel package.\n",
      "\u001b[1;31mRun the following command to install 'ipykernel' into the Python environment. \n",
      "\u001b[1;31mCommand: '\"d:/Coding/Final Year Project/myenv/Scripts/python.exe\" -m pip install ipykernel -U --force-reinstall'"
     ]
    }
   ],
   "source": [
    "bow_doc = bow_corpus[1]\n",
    "\n",
    "for i in range(len(bow_doc)):\n",
    "    print(\"Word {} (\\\"{}\\\") appears {} time.\".format(bow_doc[i][0],\n",
    "                                                     dictionary[bow_doc[i][0]],\n",
    "                                                     bow_doc[i][1]))"
   ]
  },
  {
   "cell_type": "code",
   "execution_count": null,
   "metadata": {
    "colab": {
     "base_uri": "https://localhost:8080/"
    },
    "executionInfo": {
     "elapsed": 412,
     "status": "ok",
     "timestamp": 1689794469317,
     "user": {
      "displayName": "Urmi Dedhia",
      "userId": "04029137391343867476"
     },
     "user_tz": -330
    },
    "id": "JQL8m29je0pk",
    "outputId": "b611c367-3fff-41f5-e468-efa966c4fbc6"
   },
   "outputs": [
    {
     "ename": "",
     "evalue": "",
     "output_type": "error",
     "traceback": [
      "\u001b[1;31mRunning cells with 'myenv' requires the ipykernel package.\n",
      "\u001b[1;31mRun the following command to install 'ipykernel' into the Python environment. \n",
      "\u001b[1;31mCommand: '\"d:/Coding/Final Year Project/myenv/Scripts/python.exe\" -m pip install ipykernel -U --force-reinstall'"
     ]
    }
   ],
   "source": [
    "lda_model2 = gensim.models.LdaMulticore(corpus=bow_corpus, num_topics=10, id2word = dictionary, chunksize=20000, passes=2, workers = 2)"
   ]
  },
  {
   "cell_type": "code",
   "execution_count": null,
   "metadata": {
    "colab": {
     "base_uri": "https://localhost:8080/"
    },
    "executionInfo": {
     "elapsed": 5,
     "status": "ok",
     "timestamp": 1689794470858,
     "user": {
      "displayName": "Urmi Dedhia",
      "userId": "04029137391343867476"
     },
     "user_tz": -330
    },
    "id": "GS8_aa-Ce0pl",
    "outputId": "108f64c7-6365-40c4-d785-a608b0db1bf3"
   },
   "outputs": [
    {
     "ename": "",
     "evalue": "",
     "output_type": "error",
     "traceback": [
      "\u001b[1;31mRunning cells with 'myenv' requires the ipykernel package.\n",
      "\u001b[1;31mRun the following command to install 'ipykernel' into the Python environment. \n",
      "\u001b[1;31mCommand: '\"d:/Coding/Final Year Project/myenv/Scripts/python.exe\" -m pip install ipykernel -U --force-reinstall'"
     ]
    }
   ],
   "source": [
    "for idx, topic in lda_model2.print_topics(-1):\n",
    "    print(\"Topic: {} \\nWords: {}\".format(idx, topic))\n",
    "    print(\"\\n\")"
   ]
  },
  {
   "cell_type": "code",
   "execution_count": null,
   "metadata": {
    "id": "hiYirQ4kfbn-"
   },
   "outputs": [
    {
     "ename": "",
     "evalue": "",
     "output_type": "error",
     "traceback": [
      "\u001b[1;31mRunning cells with 'myenv' requires the ipykernel package.\n",
      "\u001b[1;31mRun the following command to install 'ipykernel' into the Python environment. \n",
      "\u001b[1;31mCommand: '\"d:/Coding/Final Year Project/myenv/Scripts/python.exe\" -m pip install ipykernel -U --force-reinstall'"
     ]
    }
   ],
   "source": []
  },
  {
   "cell_type": "code",
   "execution_count": null,
   "metadata": {
    "colab": {
     "base_uri": "https://localhost:8080/"
    },
    "executionInfo": {
     "elapsed": 4,
     "status": "ok",
     "timestamp": 1689794542842,
     "user": {
      "displayName": "Urmi Dedhia",
      "userId": "04029137391343867476"
     },
     "user_tz": -330
    },
    "id": "mG_12tHxfbra",
    "outputId": "985f13f6-b9f1-4e4c-81ca-c692b441a173"
   },
   "outputs": [
    {
     "ename": "",
     "evalue": "",
     "output_type": "error",
     "traceback": [
      "\u001b[1;31mRunning cells with 'myenv' requires the ipykernel package.\n",
      "\u001b[1;31mRun the following command to install 'ipykernel' into the Python environment. \n",
      "\u001b[1;31mCommand: '\"d:/Coding/Final Year Project/myenv/Scripts/python.exe\" -m pip install ipykernel -U --force-reinstall'"
     ]
    }
   ],
   "source": [
    "print(lda_model.print_topics(-1))\n",
    "print(lda_model2.print_topics(-1))"
   ]
  },
  {
   "cell_type": "code",
   "execution_count": 20,
   "metadata": {
    "id": "efKQjxGjcT56"
   },
   "outputs": [
    {
     "name": "stdout",
     "output_type": "stream",
     "text": [
      "Collecting pyldavis\n",
      "  Downloading pyLDAvis-3.4.1-py3-none-any.whl (2.6 MB)\n",
      "                                              0.0/2.6 MB ? eta -:--:--\n",
      "     ----                                     0.3/2.6 MB 5.9 MB/s eta 0:00:01\n",
      "     ---------                                0.6/2.6 MB 6.4 MB/s eta 0:00:01\n",
      "     ----------------                         1.1/2.6 MB 7.6 MB/s eta 0:00:01\n",
      "     ----------------------                   1.5/2.6 MB 8.5 MB/s eta 0:00:01\n",
      "     ---------------------------              1.8/2.6 MB 7.7 MB/s eta 0:00:01\n",
      "     --------------------------------         2.1/2.6 MB 7.5 MB/s eta 0:00:01\n",
      "     -------------------------------------    2.4/2.6 MB 7.3 MB/s eta 0:00:01\n",
      "     ---------------------------------------- 2.6/2.6 MB 7.2 MB/s eta 0:00:00\n",
      "Collecting numpy>=1.24.2 (from pyldavis)\n",
      "  Using cached numpy-1.26.4-cp310-cp310-win_amd64.whl (15.8 MB)\n",
      "Requirement already satisfied: scipy in c:\\users\\urmi\\appdata\\local\\programs\\python\\python310\\lib\\site-packages (from pyldavis) (1.10.1)\n",
      "Requirement already satisfied: pandas>=2.0.0 in c:\\users\\urmi\\appdata\\local\\programs\\python\\python310\\lib\\site-packages (from pyldavis) (2.0.3)\n",
      "Requirement already satisfied: joblib>=1.2.0 in c:\\users\\urmi\\appdata\\local\\programs\\python\\python310\\lib\\site-packages (from pyldavis) (1.2.0)\n",
      "Requirement already satisfied: jinja2 in c:\\users\\urmi\\appdata\\local\\programs\\python\\python310\\lib\\site-packages (from pyldavis) (3.1.2)\n",
      "Collecting numexpr (from pyldavis)\n",
      "  Downloading numexpr-2.10.0-cp310-cp310-win_amd64.whl (97 kB)\n",
      "                                              0.0/97.0 kB ? eta -:--:--\n",
      "     ---------------------------------------- 97.0/97.0 kB 5.4 MB/s eta 0:00:00\n",
      "Collecting funcy (from pyldavis)\n",
      "  Downloading funcy-2.0-py2.py3-none-any.whl (30 kB)\n",
      "Requirement already satisfied: scikit-learn>=1.0.0 in c:\\users\\urmi\\appdata\\local\\programs\\python\\python310\\lib\\site-packages (from pyldavis) (1.2.2)\n",
      "Requirement already satisfied: gensim in c:\\users\\urmi\\appdata\\local\\programs\\python\\python310\\lib\\site-packages (from pyldavis) (4.3.2)\n",
      "Requirement already satisfied: setuptools in c:\\users\\urmi\\appdata\\local\\programs\\python\\python310\\lib\\site-packages (from pyldavis) (65.5.0)\n",
      "Requirement already satisfied: python-dateutil>=2.8.2 in c:\\users\\urmi\\appdata\\local\\programs\\python\\python310\\lib\\site-packages (from pandas>=2.0.0->pyldavis) (2.8.2)\n",
      "Requirement already satisfied: pytz>=2020.1 in c:\\users\\urmi\\appdata\\local\\programs\\python\\python310\\lib\\site-packages (from pandas>=2.0.0->pyldavis) (2023.3)\n",
      "Requirement already satisfied: tzdata>=2022.1 in c:\\users\\urmi\\appdata\\local\\programs\\python\\python310\\lib\\site-packages (from pandas>=2.0.0->pyldavis) (2023.3)\n",
      "Requirement already satisfied: threadpoolctl>=2.0.0 in c:\\users\\urmi\\appdata\\local\\programs\\python\\python310\\lib\\site-packages (from scikit-learn>=1.0.0->pyldavis) (3.1.0)\n",
      "Requirement already satisfied: smart-open>=1.8.1 in c:\\users\\urmi\\appdata\\local\\programs\\python\\python310\\lib\\site-packages (from gensim->pyldavis) (7.0.4)\n",
      "Requirement already satisfied: MarkupSafe>=2.0 in c:\\users\\urmi\\appdata\\local\\programs\\python\\python310\\lib\\site-packages (from jinja2->pyldavis) (2.1.2)\n",
      "Requirement already satisfied: six>=1.5 in c:\\users\\urmi\\appdata\\local\\programs\\python\\python310\\lib\\site-packages (from python-dateutil>=2.8.2->pandas>=2.0.0->pyldavis) (1.16.0)\n",
      "Requirement already satisfied: wrapt in c:\\users\\urmi\\appdata\\local\\programs\\python\\python310\\lib\\site-packages (from smart-open>=1.8.1->gensim->pyldavis) (1.14.1)\n",
      "Installing collected packages: funcy, numpy, numexpr, pyldavis\n",
      "  Attempting uninstall: numpy\n",
      "    Found existing installation: numpy 1.23.5\n",
      "    Uninstalling numpy-1.23.5:\n",
      "      Successfully uninstalled numpy-1.23.5\n",
      "Note: you may need to restart the kernel to use updated packages.\n"
     ]
    },
    {
     "name": "stderr",
     "output_type": "stream",
     "text": [
      "ERROR: Could not install packages due to an OSError: [WinError 5] Access is denied: 'C:\\\\Users\\\\Urmi\\\\AppData\\\\Local\\\\Programs\\\\Python\\\\Python310\\\\Lib\\\\site-packages\\\\~-mpy\\\\.libs\\\\libopenblas.FB5AE2TYXYH2IJRDKGDGQ3XBKLKTF43H.gfortran-win_amd64.dll'\n",
      "Consider using the `--user` option or check the permissions.\n",
      "\n",
      "\n",
      "[notice] A new release of pip is available: 23.1.2 -> 24.0\n",
      "[notice] To update, run: python.exe -m pip install --upgrade pip\n"
     ]
    }
   ],
   "source": [
    "pip install pyldavis"
   ]
  },
  {
   "cell_type": "code",
   "execution_count": 21,
   "metadata": {
    "colab": {
     "base_uri": "https://localhost:8080/"
    },
    "executionInfo": {
     "elapsed": 7,
     "status": "ok",
     "timestamp": 1689796647057,
     "user": {
      "displayName": "Urmi Dedhia",
      "userId": "04029137391343867476"
     },
     "user_tz": -330
    },
    "id": "FW_5tVObuoSZ",
    "outputId": "13e05ca2-7eb9-47df-89d0-b9b91a25fcf6"
   },
   "outputs": [],
   "source": [
    "import os"
   ]
  },
  {
   "cell_type": "code",
   "execution_count": 22,
   "metadata": {
    "colab": {
     "base_uri": "https://localhost:8080/"
    },
    "executionInfo": {
     "elapsed": 3,
     "status": "ok",
     "timestamp": 1689796802801,
     "user": {
      "displayName": "Urmi Dedhia",
      "userId": "04029137391343867476"
     },
     "user_tz": -330
    },
    "id": "Bc9IUD-puL2q",
    "outputId": "2baf0903-0138-430f-a733-b98e6c9f7f5a"
   },
   "outputs": [],
   "source": [
    "num_topics=10"
   ]
  },
  {
   "cell_type": "code",
   "execution_count": 23,
   "metadata": {
    "colab": {
     "base_uri": "https://localhost:8080/",
     "height": 696
    },
    "executionInfo": {
     "elapsed": 3286,
     "status": "error",
     "timestamp": 1689796653266,
     "user": {
      "displayName": "Urmi Dedhia",
      "userId": "04029137391343867476"
     },
     "user_tz": -330
    },
    "id": "g4Qxj5uBX-S5",
    "outputId": "935940b5-974e-427b-b594-aa4c71379a42"
   },
   "outputs": [
    {
     "ename": "ModuleNotFoundError",
     "evalue": "No module named 'pyLDAvis'",
     "output_type": "error",
     "traceback": [
      "\u001b[1;31m---------------------------------------------------------------------------\u001b[0m",
      "\u001b[1;31mModuleNotFoundError\u001b[0m                       Traceback (most recent call last)",
      "Cell \u001b[1;32mIn[23], line 1\u001b[0m\n\u001b[1;32m----> 1\u001b[0m \u001b[38;5;28;01mimport\u001b[39;00m \u001b[38;5;21;01mpyLDAvis\u001b[39;00m\u001b[38;5;21;01m.\u001b[39;00m\u001b[38;5;21;01mgensim\u001b[39;00m\n\u001b[0;32m      2\u001b[0m \u001b[38;5;28;01mimport\u001b[39;00m \u001b[38;5;21;01mpickle\u001b[39;00m\n\u001b[0;32m      3\u001b[0m \u001b[38;5;28;01mimport\u001b[39;00m \u001b[38;5;21;01mpyLDAvis\u001b[39;00m\n",
      "\u001b[1;31mModuleNotFoundError\u001b[0m: No module named 'pyLDAvis'"
     ]
    }
   ],
   "source": [
    "import pyLDAvis.gensim\n",
    "import pickle\n",
    "import pyLDAvis\n",
    "# Visualize the topics\n",
    "pyLDAvis.enable_notebook()\n",
    "LDAvis_data_filepath = os.path.join('./results/ldavis_prepared_'+str(num_topics))\n",
    "# # this is a bit time consuming - make the if statement True\n",
    "# # if you want to execute visualization prep yourself\n",
    "if 1 == 1:\n",
    "    LDAvis_prepared = pyLDAvis.gensim.prepare(lda_model2, bow_corpus, dictionary)\n",
    "    with open(LDAvis_data_filepath, 'wb') as f:\n",
    "        pickle.dump(LDAvis_prepared, f)\n",
    "# load the pre-prepared pyLDAvis data from disk\n",
    "with open(LDAvis_data_filepath, 'rb') as f:\n",
    "    LDAvis_prepared = pickle.load(f)\n",
    "pyLDAvis.save_html(LDAvis_prepared, './results/ldavis_prepared_'+ str(num_topics) +'.html')\n",
    "LDAvis_prepared"
   ]
  },
  {
   "cell_type": "markdown",
   "metadata": {
    "id": "x7mxbqdYfF4z"
   },
   "source": [
    "###Jaccard similarity"
   ]
  },
  {
   "cell_type": "code",
   "execution_count": null,
   "metadata": {
    "colab": {
     "base_uri": "https://localhost:8080/"
    },
    "executionInfo": {
     "elapsed": 5,
     "status": "ok",
     "timestamp": 1689797520106,
     "user": {
      "displayName": "Urmi Dedhia",
      "userId": "04029137391343867476"
     },
     "user_tz": -330
    },
    "id": "Vyh_llsdx2vF",
    "outputId": "00c61360-136d-474f-eb1c-7915ac639601"
   },
   "outputs": [
    {
     "ename": "",
     "evalue": "",
     "output_type": "error",
     "traceback": [
      "\u001b[1;31mRunning cells with 'myenv' requires the ipykernel package.\n",
      "\u001b[1;31mRun the following command to install 'ipykernel' into the Python environment. \n",
      "\u001b[1;31mCommand: '\"d:/Coding/Final Year Project/myenv/Scripts/python.exe\" -m pip install ipykernel -U --force-reinstall'"
     ]
    }
   ],
   "source": [
    "topics_1 = []\n",
    "for idx, topic in lda_model.print_topics(-1):\n",
    "  split1 = topic.split('\\\"')\n",
    "  topics_1.append(set([split1[val] for val in range(1,21,2)]))\n",
    "topics_1"
   ]
  },
  {
   "cell_type": "code",
   "execution_count": null,
   "metadata": {
    "colab": {
     "base_uri": "https://localhost:8080/"
    },
    "executionInfo": {
     "elapsed": 411,
     "status": "ok",
     "timestamp": 1689797528400,
     "user": {
      "displayName": "Urmi Dedhia",
      "userId": "04029137391343867476"
     },
     "user_tz": -330
    },
    "id": "dq335VHTvipp",
    "outputId": "4ebc1b9b-97db-418f-9ff0-fd76ff92bdab"
   },
   "outputs": [
    {
     "ename": "",
     "evalue": "",
     "output_type": "error",
     "traceback": [
      "\u001b[1;31mRunning cells with 'myenv' requires the ipykernel package.\n",
      "\u001b[1;31mRun the following command to install 'ipykernel' into the Python environment. \n",
      "\u001b[1;31mCommand: '\"d:/Coding/Final Year Project/myenv/Scripts/python.exe\" -m pip install ipykernel -U --force-reinstall'"
     ]
    }
   ],
   "source": [
    "topics_2 = []\n",
    "for idx, topic in lda_model2.print_topics(-1):\n",
    "  split1 = topic.split('\\\"')\n",
    "  topics_2.append(set([split1[val] for val in range(1,21,2)]))\n",
    "topics_2"
   ]
  },
  {
   "cell_type": "code",
   "execution_count": null,
   "metadata": {
    "id": "_D02UCLvvirr"
   },
   "outputs": [
    {
     "ename": "",
     "evalue": "",
     "output_type": "error",
     "traceback": [
      "\u001b[1;31mRunning cells with 'myenv' requires the ipykernel package.\n",
      "\u001b[1;31mRun the following command to install 'ipykernel' into the Python environment. \n",
      "\u001b[1;31mCommand: '\"d:/Coding/Final Year Project/myenv/Scripts/python.exe\" -m pip install ipykernel -U --force-reinstall'"
     ]
    }
   ],
   "source": []
  },
  {
   "cell_type": "code",
   "execution_count": null,
   "metadata": {
    "colab": {
     "base_uri": "https://localhost:8080/"
    },
    "executionInfo": {
     "elapsed": 423,
     "status": "ok",
     "timestamp": 1689797566290,
     "user": {
      "displayName": "Urmi Dedhia",
      "userId": "04029137391343867476"
     },
     "user_tz": -330
    },
    "id": "qoDzfvBrvit9",
    "outputId": "15ab46d9-e0ef-4c1e-fcaa-8b40a230a3d9"
   },
   "outputs": [
    {
     "ename": "",
     "evalue": "",
     "output_type": "error",
     "traceback": [
      "\u001b[1;31mRunning cells with 'myenv' requires the ipykernel package.\n",
      "\u001b[1;31mRun the following command to install 'ipykernel' into the Python environment. \n",
      "\u001b[1;31mCommand: '\"d:/Coding/Final Year Project/myenv/Scripts/python.exe\" -m pip install ipykernel -U --force-reinstall'"
     ]
    }
   ],
   "source": [
    "def jaccard_similarity(vec1, vec2):\n",
    "    intersection = set(vec1) & set(vec2)\n",
    "    union = set(vec1) | set(vec2)\n",
    "    similarity = len(intersection) / len(union)\n",
    "    return similarity"
   ]
  },
  {
   "cell_type": "code",
   "execution_count": null,
   "metadata": {
    "colab": {
     "base_uri": "https://localhost:8080/"
    },
    "executionInfo": {
     "elapsed": 515,
     "status": "ok",
     "timestamp": 1689797654452,
     "user": {
      "displayName": "Urmi Dedhia",
      "userId": "04029137391343867476"
     },
     "user_tz": -330
    },
    "id": "5DXzCv_evixT",
    "outputId": "aea09fa1-03f5-4b6d-c7db-73c5a4d3d6ed"
   },
   "outputs": [
    {
     "ename": "",
     "evalue": "",
     "output_type": "error",
     "traceback": [
      "\u001b[1;31mRunning cells with 'myenv' requires the ipykernel package.\n",
      "\u001b[1;31mRun the following command to install 'ipykernel' into the Python environment. \n",
      "\u001b[1;31mCommand: '\"d:/Coding/Final Year Project/myenv/Scripts/python.exe\" -m pip install ipykernel -U --force-reinstall'"
     ]
    }
   ],
   "source": [
    "similarity_matrix = []\n",
    "for i in topics_1:\n",
    "  temp = []\n",
    "  for j in topics_2:\n",
    "    sim = jaccard_similarity(i,j)\n",
    "    temp.append(sim)\n",
    "  similarity_matrix.append(temp)\n",
    "similarity_matrix"
   ]
  }
 ],
 "metadata": {
  "colab": {
   "authorship_tag": "ABX9TyP1jHMmhv0JrEy25p/jelSr",
   "mount_file_id": "1nT5IdskXxzPMd8Toa2Y7tTe2bJy3s5u_",
   "provenance": [],
   "toc_visible": true
  },
  "kernelspec": {
   "display_name": "Python 3 (ipykernel)",
   "language": "python",
   "name": "python3"
  },
  "language_info": {
   "codemirror_mode": {
    "name": "ipython",
    "version": 3
   },
   "file_extension": ".py",
   "mimetype": "text/x-python",
   "name": "python",
   "nbconvert_exporter": "python",
   "pygments_lexer": "ipython3",
   "version": "3.10.11"
  }
 },
 "nbformat": 4,
 "nbformat_minor": 1
}
